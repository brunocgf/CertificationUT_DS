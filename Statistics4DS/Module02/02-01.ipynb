{
 "cells": [
  {
   "cell_type": "markdown",
   "metadata": {},
   "source": [
    "# Module 2 Part 1: Introduction to Probability"
   ]
  },
  {
   "cell_type": "markdown",
   "metadata": {},
   "source": [
    "# Introduction"
   ]
  },
  {
   "cell_type": "markdown",
   "metadata": {},
   "source": [
    "This module covers the basic theory of probability and introduces Bayes' Theorem, which is the foundation of Bayesian inference. You may need to review this topic again before you move on to the module on Bayesian inference.\n",
    "\n",
    "This module consists of 3 parts:\n",
    "\n",
    "- **Part 1** - Introduction to Probability\n",
    "\n",
    "- **Part 2** - Probability Distributions\n",
    "\n",
    "- **Part 3** - The Bayesian Framework and Random Variables\n",
    "\n",
    "Each part is provided in a separate notebook file. It is recommended that you follow the order of the notebooks."
   ]
  },
  {
   "cell_type": "markdown",
   "metadata": {},
   "source": [
    "# Learning Outcomes"
   ]
  },
  {
   "cell_type": "markdown",
   "metadata": {},
   "source": [
    "This module introduces the concepts of probability that will be used in the modules on hypothesis testing.  At the end of this module you should be able to:\n",
    " \n",
    " * Perform a basic probability determination\n",
    " * Recognize the characteristics of random variables\n",
    " * Work with conditional probabilities\n",
    " * Describe the difference between frequentist and Bayesian definitions of probability"
   ]
  },
  {
   "cell_type": "markdown",
   "metadata": {},
   "source": [
    "# Readings and Resources\n",
    "\n",
    "We invite you to further supplement this notebook with the following recommended texts:\n",
    "\n",
    "Downey, A. 2012, Chapter 1. Bayes' Theorem, pp. 6 to 10 in *Think Bayes: Bayesian Statistics Made Simple, Version 1.0.9,* Green Tea Press. http://www.greenteapress.com/thinkbayes/html/index.html\n",
    "\n",
    "Diez, D., Çetinkaya-Rundel, M., &  Barr, C.D. (2019). Chapter 3: Probability. *OpenIntro Statistics (4th Ed.).* https://www.openintro.org/stat/textbook.php?stat_book=os \n"
   ]
  },
  {
   "cell_type": "markdown",
   "metadata": {},
   "source": [
    "<h1>Table of Contents<span class=\"tocSkip\"></span></h1>\n",
    "<br>\n",
    "<div class=\"toc\">\n",
    "<ul class=\"toc-item\">\n",
    "<li><span><a href=\"#Module-2-Part-1:-Introduction-to-Probability\" data-toc-modified-id=\"Module-2-Part-1:-Introduction-to-Probability\">Module 2 Part 1: Introduction to Probability</a></span>\n",
    "</li>\n",
    "<li><span><a href=\"#Introduction\" data-toc-modified-id=\"Introduction\">Introduction</a></span>\n",
    "</li>\n",
    "<li><span><a href=\"#Learning-Outcomes\" data-toc-modified-id=\"Learning-Outcomes\">Learning Outcomes</a></span>\n",
    "</li>\n",
    "<li><span><a href=\"#Readings-and-Resources\" data-toc-modified-id=\"Readings-and-Resources\">Readings and Resources</a></span>\n",
    "</li>\n",
    "<li><span><a href=\"#Table-of-Contents\" data-toc-modified-id=\"Table-of-Contents\">Table of Contents</a></span>\n",
    "</li>\n",
    "<li><span><a href=\"#History-of-Probability\" data-toc-modified-id=\"History-of-Probability\">History of Probability</a></span>\n",
    "<ul class=\"toc-item\">\n",
    "<li><span><a href=\"#Early-work\" data-toc-modified-id=\"Early-work\">Early work</a></span>\n",
    "</li>\n",
    "<li><span><a href=\"#Gambling-schemes\" data-toc-modified-id=\"Gambling-schemes\">Gambling schemes</a></span>\n",
    "</li>\n",
    "</ul>\n",
    "</li>\n",
    "<li><span><a href=\"#Preliminary-Definitions\" data-toc-modified-id=\"Preliminary-Definitions\">Preliminary Definitions</a></span>\n",
    "</li>\n",
    "<li><span><a href=\"#Probability\" data-toc-modified-id=\"Probability\">Probability</a></span>\n",
    "<ul class=\"toc-item\">\n",
    "<li><span><a href=\"#Definition-of-probability\" data-toc-modified-id=\"Definition-of-probability\">Definition of probability</a></span>\n",
    "</li>\n",
    "<li><span><a href=\"#Approaches-to-assigning-probabilities\" data-toc-modified-id=\"Approaches-to-assigning-probabilities\">Approaches to assigning probabilities</a></span>\n",
    "</li>\n",
    "<li><span><a href=\"#Law-of-Large-Numbers\" data-toc-modified-id=\"Law-of-Large-Numbers\">Law of Large Numbers</a></span>\n",
    "</li>\n",
    "<li><span><a href=\"#Disjoint-or-mutually-exclusive-outcomes\" data-toc-modified-id=\"Disjoint-or-mutually-exclusive-outcomes\">Disjoint or mutually exclusive outcomes</a></span>\n",
    "<ul class=\"toc-item\">\n",
    "<li><span><a href=\"#The-addition-rule-for-disjoint-or-mutually-exclusive-outcomes\" data-toc-modified-id=\"The-addition-rule-for-disjoint-or-mutually-exclusive-outcomes\">The addition rule for disjoint or mutually exclusive outcomes</a></span>\n",
    "</li>\n",
    "<li><span><a href=\"#Mutually-exclusive,-collectively-exhaustive-(MECE)\" data-toc-modified-id=\"Mutually-exclusive,-collectively-exhaustive-(MECE)\">Mutually exclusive, collectively exhaustive (MECE)</a></span>\n",
    "</li>\n",
    "</ul>\n",
    "</li>\n",
    "<li><span><a href=\"#Joint-Outcomes\" data-toc-modified-id=\"Joint-Outcomes\">Joint Outcomes</a></span>\n",
    "<ul class=\"toc-item\">\n",
    "<li><span><a href=\"#Probabilities-when-events-are-not-disjoint-(joint)\" data-toc-modified-id=\"Probabilities-when-events-are-not-disjoint-(joint)\">Probabilities when events are not disjoint (joint)</a></span>\n",
    "</li>\n",
    "</ul>\n",
    "</li>\n",
    "<li><span><a href=\"#Complement-Rule\" data-toc-modified-id=\"Complement-Rule\">Complement Rule</a></span>\n",
    "</li>\n",
    "</ul>\n",
    "</li>\n",
    "<li><span><a href=\"#References\" data-toc-modified-id=\"References\">References</a></span>\n",
    "</li>\n",
    "</ul>\n",
    "</div>"
   ]
  },
  {
   "cell_type": "markdown",
   "metadata": {},
   "source": [
    "# History of Probability"
   ]
  },
  {
   "cell_type": "markdown",
   "metadata": {},
   "source": [
    "## Early work"
   ]
  },
  {
   "cell_type": "markdown",
   "metadata": {},
   "source": [
    "The earliest work on the subject of probability was performed by Italian mathematician and physicist Gerolamo Cardano (1501–1576). In his manual *Liber de Ludo Aleae*, Cardano discusses many of the basic concepts of probability along with a systematic analysis of gambling problems (Science Clarified, 2018). Unfortunately, Cardano's work had little effect on the development of probability because his manual did not appear in print until 1663, and even then it received little attention. Cardano was a gambler himself and was always out of money. He used the game of throwing dice to explore the basic concepts of probability."
   ]
  },
  {
   "cell_type": "markdown",
   "metadata": {},
   "source": [
    "## Gambling schemes"
   ]
  },
  {
   "cell_type": "markdown",
   "metadata": {},
   "source": [
    "\"A gambler's dispute in 1654 led to the creation of a mathematical theory of probability by two famous French mathematicians, Blaise Pascal and Pierre de Fermat. Antoine Gombaud, Chevalier de Méré, a French nobleman with an interest in gaming and gambling questions, called Pascal's attention to an apparent contradiction concerning a popular dice game. The game consisted in throwing a pair of dice 24 times; the problem was to decide whether or not to bet even money on the occurrence of at least one \"double six\" during the 24 throws. A seemingly well-established gambling rule led de Méré to believe that betting on a double six in 24 throws would be profitable, but his own calculations indicated just the opposite.\" (Apostol, 1969)\n",
    "\n",
    "This problem and others posed by de Méré led to an exchange of letters between Pascal and Fermat in which the fundamental principles of probability theory were formulated for the first time. Although a few special problems on games of chance had been solved by Italian mathematicians in the 15th and 16th centuries, no general theory was developed before this famous correspondence (Apostol, 1969)."
   ]
  },
  {
   "cell_type": "markdown",
   "metadata": {},
   "source": [
    "# Preliminary Definitions"
   ]
  },
  {
   "cell_type": "markdown",
   "metadata": {},
   "source": [
    "There are many situations in life where the outcome of an event or experiment is unknown. Sometimes the outcome can only be one of a limited set of known values but exactly which one is not possible to predict. This is where probability comes into play. You may not know the exact value ahead of time, but you are able to predict the likelihood of a certain outcome."
   ]
  },
  {
   "cell_type": "markdown",
   "metadata": {},
   "source": [
    "What is the chance of getting 1 when rolling a die?\n",
    "\n",
    "$$ P(1) = \\frac{1}{6} $$\n",
    "\n",
    "What is the chance of getting 1 or 6?\n",
    "\n",
    "$$ P(1 \\ or \\ 6)= \\frac{1}{3} $$\n",
    "\n",
    "You probably made many assumptions in your mind that we will explore later."
   ]
  },
  {
   "cell_type": "markdown",
   "metadata": {},
   "source": [
    "We need to define some common terms before defining probability:\n",
    "\n",
    "| ***Concept*** | ***Definition*** |\n",
    "| :---: | :--- |\n",
    "| **Random Variable** | A variable or process with a random outcome (unknown) is called a random variable. Usually a random variable is represented with a capital letter such as X, Y or Z. |\n",
    "| **Random Experiment** | A random experiment is one that leads to one of several possible outcomes.  The output of a random experiment is a random variable. |\n",
    "| **Sample Space** | The sample space of a random experiment is a list of all possible outcomes of the experiment. |\n",
    "| **Event** | An individual outcome of an experiment is called a simple event. An event is a collection / set of one or more simple events in a sample space. For example, the event \"obtain an even number\" when rolling a die is composed of the simple events \"2, 4, and 6.\" The probability of an event is the sum of the probabilities of the simple events that constitute the event. |"
   ]
  },
  {
   "cell_type": "markdown",
   "metadata": {},
   "source": [
    "# Probability"
   ]
  },
  {
   "cell_type": "markdown",
   "metadata": {},
   "source": [
    "## Definition of probability"
   ]
  },
  {
   "cell_type": "markdown",
   "metadata": {},
   "source": [
    "In general, the **probability of an event** is the sum of the probabilities of the simple events that constitute the event.\n",
    "\n",
    "The probability of an outcome is the proportion of times the outcome would occur if we observed the random process an infinite number of times.  Even though the interpretation is always the same, we can assign a probability to an event using different approaches.\n",
    "\n",
    "For example, the probability of obtaining an even number when rolling a die is the sum of the probabilities of obtaining a 2, 4, or 6."
   ]
  },
  {
   "cell_type": "markdown",
   "metadata": {},
   "source": [
    "##  Approaches to assigning probabilities"
   ]
  },
  {
   "cell_type": "markdown",
   "metadata": {},
   "source": [
    "1. **Classical Approach:** All possible outcomes are equally probable. For example, if a die can yield 6 possible values, then we assign each outcome {1, 2, 3, 4, 5, 6} the same probability of $\\frac{1}{6}$.<br><br>\n",
    "\n",
    "2. **Relative Frequentist or Objective Approach:** Defines probability as the long-run relative frequency with which an outcome occurs.<br><br>$$\\displaystyle P(k)=\\lim_{n\\to \\infty} \\frac{k}{n}$$<br>The probability of an event is defined as the proportion of times the event $k$ occurs after a very large number ($n$) of trials are performed. In mathematical jargon, we say that as $n$ goes to infinity, practically, we can consider the number of trials $n$ to be very large. To determine when $n$ is \"big enough,\" we use convergence criteria. <br><br> In simple terms, when the proportion does not change significantly from one trial to the next, we say that it has converged. For example, if you can repeat flipping a coin indefinitely, count how many heads you get, and divide that number by the number of flips, the value you obtain should be 0.5.<br><br>\n",
    "\n",
    "3. **Subjective Approach:** This is based on our degree of belief that we hold in the occurrence of an event. "
   ]
  },
  {
   "cell_type": "markdown",
   "metadata": {},
   "source": [
    "However, the **interpretation** of probability is always frequentist. For example, if we say that the probability of flipping a coin and getting heads is $\\frac{1}{2}$, we understand that if we throw the coin an infinite number of times the coin will yield heads $\\frac{1}{2}$ of the time. This is a very important point that is usually misunderstood. For example, consider a patient that takes a test for a specific disease that has a precision of 90%. It the test is positive, it means that out of a large number of patients who tested positive, only 90% of them will carry the illness while the remaining 10% will not. It is **not** that the patient's \"degree of sickness\" is 90% or that the probability of being sick is 90%. Whether they are sick or not is not a random variable &mdash; the patient is either sick or isn't. However, you don't know, and thus you are making a probabilistic prediction."
   ]
  },
  {
   "cell_type": "markdown",
   "metadata": {},
   "source": [
    "## Law of Large Numbers\n",
    "\n",
    "As more observations are collected, the observed proportion $\\widehat{p}_n$ of occurrences with a particular outcome converges to the probability $p$ of that outcome as $n$ becomes bigger and bigger.  The observed proportion in our sample is the best estimation we can make about the true proportion.  Estimations are usually denoted by placing a little hat on top of the parameter (e.g. $\\widehat{p}_n$).\n",
    "\n",
    "The relative frequentist approach is defined as the long-run relative frequency &mdash; mathematically this is defined as $n \\to \\infty$ &mdash; however, what is \"long enough\" in practical terms depends on the distribution of the events.\n",
    "\n",
    "Let's perform a simulation where we roll a die and take the average of the numbers obtained. If all the numbers have the same probability, we should expect an average of 3.5.  However, it takes around 200 rolls to get close to that number. There is a lot of variability in the results of the initial iterations of each experiment.\n",
    "\n",
    "In this case, once we get beyond 200, the number of observations is large enough that the proportion should almost always give us a good estimate of the actual probability."
   ]
  },
  {
   "cell_type": "code",
   "execution_count": 1,
   "metadata": {
    "collapsed": true
   },
   "outputs": [],
   "source": [
    "import numpy as np\n",
    "%matplotlib inline\n",
    "import matplotlib.pyplot as plt\n",
    "\n",
    "population = np.arange(1,7)\n",
    "#population = np.random.uniform(1,7,1000000)\n",
    "nbr_samples = 500 #rows\n",
    "sample_size = 1 #columns\n",
    "samples = np.random.choice(population,(nbr_samples,sample_size),replace = True)\n",
    "\n",
    "sample_size_array=np.arange(1,nbr_samples+1)"
   ]
  },
  {
   "cell_type": "code",
   "execution_count": 2,
   "metadata": {},
   "outputs": [
    {
     "data": {
      "text/plain": [
       "array([1, 2, 3, 4, 5, 6])"
      ]
     },
     "execution_count": 2,
     "metadata": {},
     "output_type": "execute_result"
    }
   ],
   "source": [
    "population"
   ]
  },
  {
   "cell_type": "code",
   "execution_count": 3,
   "metadata": {},
   "outputs": [
    {
     "data": {
      "image/png": "[encoded data removed]",
      "text/plain": [
       "<Figure size 432x288 with 1 Axes>"
      ]
     },
     "metadata": {
      "needs_background": "light"
     },
     "output_type": "display_data"
    },
    {
     "data": {
      "image/png": "[encoded data removed]",
      "text/plain": [
       "<Figure size 432x288 with 1 Axes>"
      ]
     },
     "metadata": {
      "needs_background": "light"
     },
     "output_type": "display_data"
    },
    {
     "data": {
      "image/png": "[encoded data removed]",
      "text/plain": [
       "<Figure size 432x288 with 1 Axes>"
      ]
     },
     "metadata": {
      "needs_background": "light"
     },
     "output_type": "display_data"
    },
    {
     "data": {
      "image/png": "[encoded data removed]",
      "text/plain": [
       "<Figure size 432x288 with 1 Axes>"
      ]
     },
     "metadata": {
      "needs_background": "light"
     },
     "output_type": "display_data"
    },
    {
     "data": {
      "image/png": "[encoded data removed]",
      "text/plain": [
       "<Figure size 432x288 with 1 Axes>"
      ]
     },
     "metadata": {
      "needs_background": "light"
     },
     "output_type": "display_data"
    }
   ],
   "source": [
    "def method():\n",
    "    samples = np.random.choice(population,(nbr_samples,sample_size),replace = True)\n",
    "    rolling_average = samples.mean(1).cumsum()/sample_size_array\n",
    "    plt.scatter(sample_size_array,rolling_average,alpha=0.5,marker=None,linewidths=1)\n",
    "    plt.xlabel('Number of trials')\n",
    "    plt.ylabel('Rolling average')\n",
    "    plt.show()\n",
    "\n",
    "for i in range(5):\n",
    "    method()"
   ]
  },
  {
   "cell_type": "markdown",
   "metadata": {},
   "source": [
    "## Disjoint or mutually exclusive outcomes"
   ]
  },
  {
   "cell_type": "markdown",
   "metadata": {},
   "source": [
    "So far we have considered a single outcome. However, in many situations we need to consider multiple outcomes. Multiple outcomes can be produced by repeating the same experiment multiple times (e.g. rolling a die multiple times), or by observing more than one characteristic of an outcome (e.g. checking if a student and one of their parents attended college).\n",
    "\n",
    "Two outcomes are called **disjoint** or **mutually exclusive** if both cannot happen at the same time.\n",
    "\n",
    "For instance, if we roll a die one time, the outcomes 1 and 2 are disjoint since they cannot both occur. On the other hand, the outcomes \"1\" and “rolling an odd number” are not disjoint since both occur if the outcome of the roll is a 1. The terms disjoint and mutually exclusive are equivalent and interchangeable.\n",
    "\n",
    "Calculating the probability of disjoint outcomes is easier than calculating the probability of non-disjoint outcomes. When rolling a die, the outcomes 1 and 2 are disjoint, and we compute the probability that we roll either a 1 or 2 by adding their separate probabilities."
   ]
  },
  {
   "cell_type": "markdown",
   "metadata": {},
   "source": [
    "### The addition rule for disjoint or mutually exclusive outcomes\n",
    "\n",
    "Let's review the example we gave at the beginning of this module.  When we roll a die, each possible outcome is disjoint &mdash; a die can produce only one outcome at a time.  A regular die has six possible outcomes and the probability of each outcome is $\\frac {1}{6}$.  We can intuitively accept that the probability of getting a 1 or a 3 is the probability of getting a 1 plus the probability of getting a 3.\n",
    "\n",
    "If $A_1$ and $A_2$ represent two disjoint outcomes, then the probability that one or the other occurs is given by:\n",
    "\n",
    "$$ P(A_1 \\ or \\ A_2)=P(A_1\\cup A_2) = P(A_1) +P (A_2) $$\n",
    "\n",
    "If there are many disjoint outcomes $A_1$, ..., $A_k$, then the probability is:\n",
    "\n",
    "$$ P(A_1 \\ or \\ A_2 \\ ... \\ or \\ A_k) = P(A_1) + P(A_2) \\ + \\ ... \\ + P(A_k) $$"
   ]
  },
  {
   "cell_type": "markdown",
   "metadata": {},
   "source": [
    "### Mutually exclusive, collectively exhaustive (MECE)\n",
    "\n",
    "For the calculation of probabilities, it is important that the outcomes (sample space) are collectively exhaustive, which means that all possible outcomes must be accounted for. Mathematically this is accounted for when we say that $\\sum p_n = 1$ (the sum of all probabilities is exactly 1). It is also important to determine if the outcomes are mutually exclusive, which means that no two outcomes can occur at the same time.\n",
    "\n",
    "When both conditions happen at the same time it is usually referred as MECE: **mutually exclusive and collectively exhaustive**.  \n",
    "\n",
    "The MECE condition will be important when we define probability distributions in the next module."
   ]
  },
  {
   "cell_type": "markdown",
   "metadata": {},
   "source": [
    "##   Joint Outcomes"
   ]
  },
  {
   "cell_type": "markdown",
   "metadata": {},
   "source": [
    "Often, we are interested in studying which simple events occur at the same time. In the case of rolling two dice, the output of one event has no influence on the effect of the other event, and both can happen at the same time. There are other situations where both events can happen at the same time but the output of one event has an influence on the outcome of the second event. In this case, we are referring to conditional probabilities, which we will cover later in this module.\n",
    "\n",
    "The **intersection** of two events A and B is the event that occurs when both A and B occur. It is denoted as:\n",
    "\n",
    "$$P(A \\ and \\ B)=P(A \\cap B)$$\n",
    "\n",
    "\n",
    "The probability of the intersection is called the **joint probability**. In general, the probability for two or more events is referred as a **joint probability**."
   ]
  },
  {
   "cell_type": "markdown",
   "metadata": {},
   "source": [
    "To elaborate on these concepts, we will use the textbook's `family_college` dataset (Diez et al, 2019). This dataset contains a sample of 792 cases with two variables, `teen` and `parents`, and is summarized in the table below. The `teen` variable is either \"college\" or \"not\", where the \"college\" label means the teen went to college immediately after high school. The `parents` variable takes the value \"degree\" if at least one parent of the teenager completed a college degree.\n",
    "\n",
    "We will apply the frequentist approach to assign a probability, defining probability as the count of the event we are considering as a proportion of the total number of events:\n",
    "\n",
    "| Teen/Parent      | Parent Degree          |Parent No Degree          |Total Teen Probability|\n",
    "| :-----------:    | :--------------------: |:-----------------------: |:-------------------: |\n",
    "| **Teen College** |$\\frac{231}{792}=0.29$  |$\\frac{214}{792}=0.27$    |$\\frac{445}{792}=0.56$|     \n",
    "| **Teen Not**     |$\\frac{49}{792}=0.06$  |$\\frac{298}{792}=0.38$     |$\\frac{347}{792}=0.44$|\n",
    "| **Parent Total** |$\\frac{280}{792}=0.35$ |$\\frac{512}{792}=0.65$     |$\\frac{792}{792}=1.00$|"
   ]
  },
  {
   "cell_type": "markdown",
   "metadata": {},
   "source": [
    "The events that a teen went to college or not are disjoint. It is not possible that a teen both attended and did not attend college at the same time. However, the events that a teen went to college (or not) **is not** disjoint with the event that a parent went to college (or not) and both may happen at the same time.\n",
    "\n",
    "In the table above, inner cells show these intersection events, such as the teen went to college and the parent has a degree:\n",
    "\n",
    "$$P(Teen \\ College \\cap Parent \\ Degree) = \\frac{231}{792}$$\n",
    "\n",
    "\n",
    "The disjoint events are shown in the last row and last column. The last row shows the total number (and corresponding probability) of parents with a degree and parents without a degree. The probability of the event \"parent has a degree\" can be found by summing the probabilities of the events:\n",
    "\n",
    "\n",
    "1. Teen went to college AND parent has a degree<br><br>\n",
    "\n",
    "2. Teen did not go to college AND parent has a degree\n",
    " \n",
    " \n",
    "The last column shows the sum or total number of teens who went to college or not."
   ]
  },
  {
   "cell_type": "markdown",
   "metadata": {},
   "source": [
    "### Probabilities when events are not disjoint (joint)\n",
    "\n",
    "Given 2 events, we may be interested in calculating the probability that just one occurs or both occur simultaneously. An event that is the combination of other events is denoted as the union of the events.\n",
    "\n",
    "If we simply attempt to add the probabilities of the events, and the events are not mutually exclusive, we may be double counting them.\n",
    "\n",
    "Let's consider the probability that a teen attends college and/or their parent has a degree (from the textbook).\n",
    "\n",
    "\n",
    "| Teen/Parent         |Parent Degree                |Parent No Degree                    |Total                  |\n",
    "| :-----------: | :--------------------: |:--------------------: |:--------------------: |\n",
    "| **Teen College**       |0.29                  |0.27            |0.56                   |       \n",
    "| **Teen Not**           |0.06                   |0.38           |0.44                   |\n",
    "| **Teen Total**         |0.35                   |0.65           |1.00                   |\n",
    "\n",
    "\n",
    "$$P(Teen\\ College \\cup Parent\\ Degree)$$\n",
    "\n",
    "\n",
    "$$= P(Teen\\ College) + P(Parent\\ Degree)$$\n",
    "\n",
    "\n",
    "$$= P(Teen\\ College\\cap \\ Parent Degree) + P(Teen\\ College\\cap\\ Parent No Degree) + P(Teen\\ College\\cap \\ Parent Degree) + P(Teen\\ Not\\cap \\ Parent Degree)$$\n",
    "\n",
    "\n",
    "$$= 0.29 + 0.27 + 0.29 + 0.06$$\n",
    "\n",
    "\n",
    "However, notice that we are counting $P(Teen\\ College \\cap Parent\\ Degree)$ twice. To avoid this in the general formula, we need to subtract it once:\n",
    "\n",
    "\n",
    "$$ P(Teen\\ College \\cup Parent\\ Degree) $$\n",
    "\n",
    "$$= P(Teen\\ College) + P(Parent\\ Degree) - P(Teen\\ College \\cap Parent\\ Degree)$$\n",
    "\n",
    "\n",
    "$$= 0.29 + 0.27 + 0.29 + 0.06 - 0.29 = 0.62$$\n",
    "\n",
    "\n",
    "In general,\n",
    "\n",
    "$$P(A\\cup B)=P(A)+P(B)-P(A\\cap B)$$\n",
    "\n",
    "\n",
    "If the events are mutually exclusive, then $P(A\\cap B)=0$. In this case, the **addition rule for mutually exclusive events** becomes what we have seen before:\n",
    "\n",
    "$$ P(A\\cup B)=P(A)+P(B)$$"
   ]
  },
  {
   "cell_type": "markdown",
   "metadata": {},
   "source": [
    "## Complement Rule\n",
    "\n",
    "The complement of an event A is the event that A does not happen.\n",
    "\n",
    "$$A + Complement\\ of\\ A = A+A^c=Sample\\ Space$$\n",
    "\n",
    "\n",
    "$A \\ and \\ A^c$ are disjoint by definition &mdash; they must abide by rule 2 of probability distributions (more on this in the next part of this module). Thus, by rule 3 of probability distributions, if an event has a probability $P(A)$, then the complement has probability $1-P(A)$.\n",
    "\n",
    "$$P(A^c)=1-P(A)$$"
   ]
  },
  {
   "cell_type": "markdown",
   "metadata": {},
   "source": [
    "**End of Part 1**\n",
    "\n",
    "This notebook makes up one part of this module. Now that you have completed this part, please proceed to the next notebook in this module.\n",
    "\n",
    "If you have any questions, please reach out to your peers using the discussion boards. If you and your peers are unable to come to a suitable conclusion, do not hesitate to reach out to your instructor on the designated discussion board."
   ]
  },
  {
   "cell_type": "markdown",
   "metadata": {},
   "source": [
    "# References\n",
    "\n",
    "\n",
    "Apostol, Tom M., 1969, A Short History of Probability http://homepages.wmich.edu/~mackey/Teaching/145/probHist.html, extract from Calculus, Volume II, 2nd edition, John Wiley & Sons, 1969\n",
    "\n",
    "Science Clarified (2018). Probability Theory. Retrieved Dec 5, 2018 from http://www.scienceclarified.com/Ph-Py/Probability-Theory.html"
   ]
  }
 ],
 "metadata": {
  "kernelspec": {
   "display_name": "Python 3",
   "language": "python",
   "name": "python3"
  },
  "language_info": {
   "codemirror_mode": {
    "name": "ipython",
    "version": 3
   },
   "file_extension": ".py",
   "mimetype": "text/x-python",
   "name": "python",
   "nbconvert_exporter": "python",
   "pygments_lexer": "ipython3",
   "version": "3.8.3"
  }
 },
 "nbformat": 4,
 "nbformat_minor": 4
}
