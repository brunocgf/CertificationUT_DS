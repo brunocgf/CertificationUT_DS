{
 "nbformat": 4,
 "nbformat_minor": 0,
 "metadata": {
  "colab": {
   "name": "CreditCardApprovalPrediction.ipynb",
   "provenance": [],
   "collapsed_sections": [],
   "toc_visible": true
  },
  "kernelspec": {
   "display_name": "Python 3",
   "name": "python3"
  },
  "language_info": {
   "name": "python"
  }
 },
 "cells": [
  {
   "cell_type": "code",
   "source": [
    "!pip install opendatasets"
   ],
   "metadata": {
    "colab": {
     "base_uri": "https://localhost:8080/"
    },
    "id": "9OrGpFw7_jzA",
    "outputId": "7f814f22-bc89-4962-b3e3-b60650e40bce"
   },
   "execution_count": 2,
   "outputs": [
    {
     "output_type": "stream",
     "name": "stdout",
     "text": [
      "Collecting opendatasets\n",
      "  Downloading opendatasets-0.1.22-py3-none-any.whl (15 kB)\n",
      "Requirement already satisfied: kaggle in /usr/local/lib/python3.7/dist-packages (from opendatasets) (1.5.12)\n",
      "Requirement already satisfied: tqdm in /usr/local/lib/python3.7/dist-packages (from opendatasets) (4.64.0)\n",
      "Requirement already satisfied: click in /usr/local/lib/python3.7/dist-packages (from opendatasets) (7.1.2)\n",
      "Requirement already satisfied: urllib3 in /usr/local/lib/python3.7/dist-packages (from kaggle->opendatasets) (1.24.3)\n",
      "Requirement already satisfied: python-dateutil in /usr/local/lib/python3.7/dist-packages (from kaggle->opendatasets) (2.8.2)\n",
      "Requirement already satisfied: requests in /usr/local/lib/python3.7/dist-packages (from kaggle->opendatasets) (2.23.0)\n",
      "Requirement already satisfied: certifi in /usr/local/lib/python3.7/dist-packages (from kaggle->opendatasets) (2021.10.8)\n",
      "Requirement already satisfied: six>=1.10 in /usr/local/lib/python3.7/dist-packages (from kaggle->opendatasets) (1.15.0)\n",
      "Requirement already satisfied: python-slugify in /usr/local/lib/python3.7/dist-packages (from kaggle->opendatasets) (6.1.1)\n",
      "Requirement already satisfied: text-unidecode>=1.3 in /usr/local/lib/python3.7/dist-packages (from python-slugify->kaggle->opendatasets) (1.3)\n",
      "Requirement already satisfied: chardet<4,>=3.0.2 in /usr/local/lib/python3.7/dist-packages (from requests->kaggle->opendatasets) (3.0.4)\n",
      "Requirement already satisfied: idna<3,>=2.5 in /usr/local/lib/python3.7/dist-packages (from requests->kaggle->opendatasets) (2.10)\n",
      "Installing collected packages: opendatasets\n",
      "Successfully installed opendatasets-0.1.22\n"
     ]
    }
   ]
  },
  {
   "cell_type": "code",
   "metadata": {
    "id": "t4sDGHnHpqbe"
   },
   "source": [
    "import numpy as np\n",
    "import pandas as pd\n",
    "#import opendatasets as od\n",
    "import matplotlib.pyplot as plt\n",
    "import seaborn as sns\n",
    "%matplotlib inline"
   ],
   "execution_count": 1,
   "outputs": []
  },
  {
   "cell_type": "markdown",
   "metadata": {
    "id": "v4Ii1dWCp7Zs"
   },
   "source": [
    "# 1. Loading Data"
   ]
  },
  {
   "cell_type": "code",
   "metadata": {
    "colab": {
     "base_uri": "https://localhost:8080/"
    },
    "id": "YP8QvRchwzMB",
    "outputId": "c4578b7c-3067-46ba-b7da-6bfec2d5b644"
   },
   "source": [
    "# I use this library to download the data in the working instance, \n",
    "# but you need the kaggle api token\n",
    "# Don't forget to run the first line to install the library\n",
    "# {\"username\":\"brvnocgf\",\"key\":\"acfc3a5fef0431af9200fa9335f9bbc6\"}\n",
    "od.download('https://www.kaggle.com/rikdifos/credit-card-approval-prediction')"
   ],
   "execution_count": 4,
   "outputs": [
    {
     "output_type": "stream",
     "name": "stdout",
     "text": [
      "Please provide your Kaggle credentials to download this dataset. Learn more: http://bit.ly/kaggle-creds\n",
      "Your Kaggle username: brvnocgf\n",
      "Your Kaggle Key: ··········\n",
      "Downloading credit-card-approval-prediction.zip to ./credit-card-approval-prediction\n"
     ]
    },
    {
     "output_type": "stream",
     "name": "stderr",
     "text": [
      "100%|██████████| 5.32M/5.32M [00:00<00:00, 170MB/s]"
     ]
    },
    {
     "output_type": "stream",
     "name": "stdout",
     "text": [
      "\n"
     ]
    },
    {
     "output_type": "stream",
     "name": "stderr",
     "text": [
      "\n"
     ]
    }
   ]
  },
  {
   "cell_type": "markdown",
   "source": [
    "## Application Record"
   ],
   "metadata": {
    "id": "hyNxqaFekLmm"
   }
  },
  {
   "cell_type": "code",
   "metadata": {
    "cellView": "form",
    "id": "7xS-DVhkxJF1"
   },
   "source": [
    "data_path = \"./credit-card-approval-prediction/application_record.csv\""
   ],
   "execution_count": 2,
   "outputs": []
  },
  {
   "cell_type": "code",
   "metadata": {
    "colab": {
     "base_uri": "https://localhost:8080/",
     "height": 354
    },
    "id": "75DbA0PL5VFn",
    "outputId": "dd9779e3-e6ce-435b-97f7-71dae352750c"
   },
   "source": [
    "df_application = pd.read_csv(data_path, header = 0, sep = ',', index_col = 0)\n",
    "df_application.head()"
   ],
   "execution_count": 3,
   "outputs": [
    {
     "data": {
      "text/plain": "        CODE_GENDER FLAG_OWN_CAR FLAG_OWN_REALTY  CNT_CHILDREN  \\\nID                                                               \n5008804           M            Y               Y             0   \n5008805           M            Y               Y             0   \n5008806           M            Y               Y             0   \n5008808           F            N               Y             0   \n5008809           F            N               Y             0   \n\n         AMT_INCOME_TOTAL      NAME_INCOME_TYPE  \\\nID                                                \n5008804          427500.0               Working   \n5008805          427500.0               Working   \n5008806          112500.0               Working   \n5008808          270000.0  Commercial associate   \n5008809          270000.0  Commercial associate   \n\n                   NAME_EDUCATION_TYPE    NAME_FAMILY_STATUS  \\\nID                                                             \n5008804               Higher education        Civil marriage   \n5008805               Higher education        Civil marriage   \n5008806  Secondary / secondary special               Married   \n5008808  Secondary / secondary special  Single / not married   \n5008809  Secondary / secondary special  Single / not married   \n\n         NAME_HOUSING_TYPE  DAYS_BIRTH  DAYS_EMPLOYED  FLAG_MOBIL  \\\nID                                                                  \n5008804   Rented apartment      -12005          -4542           1   \n5008805   Rented apartment      -12005          -4542           1   \n5008806  House / apartment      -21474          -1134           1   \n5008808  House / apartment      -19110          -3051           1   \n5008809  House / apartment      -19110          -3051           1   \n\n         FLAG_WORK_PHONE  FLAG_PHONE  FLAG_EMAIL OCCUPATION_TYPE  \\\nID                                                                 \n5008804                1           0           0             NaN   \n5008805                1           0           0             NaN   \n5008806                0           0           0  Security staff   \n5008808                0           1           1     Sales staff   \n5008809                0           1           1     Sales staff   \n\n         CNT_FAM_MEMBERS  \nID                        \n5008804              2.0  \n5008805              2.0  \n5008806              2.0  \n5008808              1.0  \n5008809              1.0  ",
      "text/html": "<div>\n<style scoped>\n    .dataframe tbody tr th:only-of-type {\n        vertical-align: middle;\n    }\n\n    .dataframe tbody tr th {\n        vertical-align: top;\n    }\n\n    .dataframe thead th {\n        text-align: right;\n    }\n</style>\n<table border=\"1\" class=\"dataframe\">\n  <thead>\n    <tr style=\"text-align: right;\">\n      <th></th>\n      <th>CODE_GENDER</th>\n      <th>FLAG_OWN_CAR</th>\n      <th>FLAG_OWN_REALTY</th>\n      <th>CNT_CHILDREN</th>\n      <th>AMT_INCOME_TOTAL</th>\n      <th>NAME_INCOME_TYPE</th>\n      <th>NAME_EDUCATION_TYPE</th>\n      <th>NAME_FAMILY_STATUS</th>\n      <th>NAME_HOUSING_TYPE</th>\n      <th>DAYS_BIRTH</th>\n      <th>DAYS_EMPLOYED</th>\n      <th>FLAG_MOBIL</th>\n      <th>FLAG_WORK_PHONE</th>\n      <th>FLAG_PHONE</th>\n      <th>FLAG_EMAIL</th>\n      <th>OCCUPATION_TYPE</th>\n      <th>CNT_FAM_MEMBERS</th>\n    </tr>\n    <tr>\n      <th>ID</th>\n      <th></th>\n      <th></th>\n      <th></th>\n      <th></th>\n      <th></th>\n      <th></th>\n      <th></th>\n      <th></th>\n      <th></th>\n      <th></th>\n      <th></th>\n      <th></th>\n      <th></th>\n      <th></th>\n      <th></th>\n      <th></th>\n      <th></th>\n    </tr>\n  </thead>\n  <tbody>\n    <tr>\n      <th>5008804</th>\n      <td>M</td>\n      <td>Y</td>\n      <td>Y</td>\n      <td>0</td>\n      <td>427500.0</td>\n      <td>Working</td>\n      <td>Higher education</td>\n      <td>Civil marriage</td>\n      <td>Rented apartment</td>\n      <td>-12005</td>\n      <td>-4542</td>\n      <td>1</td>\n      <td>1</td>\n      <td>0</td>\n      <td>0</td>\n      <td>NaN</td>\n      <td>2.0</td>\n    </tr>\n    <tr>\n      <th>5008805</th>\n      <td>M</td>\n      <td>Y</td>\n      <td>Y</td>\n      <td>0</td>\n      <td>427500.0</td>\n      <td>Working</td>\n      <td>Higher education</td>\n      <td>Civil marriage</td>\n      <td>Rented apartment</td>\n      <td>-12005</td>\n      <td>-4542</td>\n      <td>1</td>\n      <td>1</td>\n      <td>0</td>\n      <td>0</td>\n      <td>NaN</td>\n      <td>2.0</td>\n    </tr>\n    <tr>\n      <th>5008806</th>\n      <td>M</td>\n      <td>Y</td>\n      <td>Y</td>\n      <td>0</td>\n      <td>112500.0</td>\n      <td>Working</td>\n      <td>Secondary / secondary special</td>\n      <td>Married</td>\n      <td>House / apartment</td>\n      <td>-21474</td>\n      <td>-1134</td>\n      <td>1</td>\n      <td>0</td>\n      <td>0</td>\n      <td>0</td>\n      <td>Security staff</td>\n      <td>2.0</td>\n    </tr>\n    <tr>\n      <th>5008808</th>\n      <td>F</td>\n      <td>N</td>\n      <td>Y</td>\n      <td>0</td>\n      <td>270000.0</td>\n      <td>Commercial associate</td>\n      <td>Secondary / secondary special</td>\n      <td>Single / not married</td>\n      <td>House / apartment</td>\n      <td>-19110</td>\n      <td>-3051</td>\n      <td>1</td>\n      <td>0</td>\n      <td>1</td>\n      <td>1</td>\n      <td>Sales staff</td>\n      <td>1.0</td>\n    </tr>\n    <tr>\n      <th>5008809</th>\n      <td>F</td>\n      <td>N</td>\n      <td>Y</td>\n      <td>0</td>\n      <td>270000.0</td>\n      <td>Commercial associate</td>\n      <td>Secondary / secondary special</td>\n      <td>Single / not married</td>\n      <td>House / apartment</td>\n      <td>-19110</td>\n      <td>-3051</td>\n      <td>1</td>\n      <td>0</td>\n      <td>1</td>\n      <td>1</td>\n      <td>Sales staff</td>\n      <td>1.0</td>\n    </tr>\n  </tbody>\n</table>\n</div>"
     },
     "execution_count": 3,
     "metadata": {},
     "output_type": "execute_result"
    }
   ]
  },
  {
   "cell_type": "code",
   "metadata": {
    "colab": {
     "base_uri": "https://localhost:8080/"
    },
    "id": "1SHdlS1G6HHI",
    "outputId": "88b3c8ba-b7a5-435f-a81b-3285bc7d2f5f"
   },
   "source": [
    "df_application.info()"
   ],
   "execution_count": 4,
   "outputs": [
    {
     "name": "stdout",
     "output_type": "stream",
     "text": [
      "<class 'pandas.core.frame.DataFrame'>\n",
      "Int64Index: 438557 entries, 5008804 to 6842885\n",
      "Data columns (total 17 columns):\n",
      " #   Column               Non-Null Count   Dtype  \n",
      "---  ------               --------------   -----  \n",
      " 0   CODE_GENDER          438557 non-null  object \n",
      " 1   FLAG_OWN_CAR         438557 non-null  object \n",
      " 2   FLAG_OWN_REALTY      438557 non-null  object \n",
      " 3   CNT_CHILDREN         438557 non-null  int64  \n",
      " 4   AMT_INCOME_TOTAL     438557 non-null  float64\n",
      " 5   NAME_INCOME_TYPE     438557 non-null  object \n",
      " 6   NAME_EDUCATION_TYPE  438557 non-null  object \n",
      " 7   NAME_FAMILY_STATUS   438557 non-null  object \n",
      " 8   NAME_HOUSING_TYPE    438557 non-null  object \n",
      " 9   DAYS_BIRTH           438557 non-null  int64  \n",
      " 10  DAYS_EMPLOYED        438557 non-null  int64  \n",
      " 11  FLAG_MOBIL           438557 non-null  int64  \n",
      " 12  FLAG_WORK_PHONE      438557 non-null  int64  \n",
      " 13  FLAG_PHONE           438557 non-null  int64  \n",
      " 14  FLAG_EMAIL           438557 non-null  int64  \n",
      " 15  OCCUPATION_TYPE      304354 non-null  object \n",
      " 16  CNT_FAM_MEMBERS      438557 non-null  float64\n",
      "dtypes: float64(2), int64(7), object(8)\n",
      "memory usage: 60.2+ MB\n"
     ]
    }
   ]
  },
  {
   "cell_type": "markdown",
   "metadata": {
    "id": "bVMBYlWdy_1A"
   },
   "source": [
    "There's are only null values on the variable OCCUPATION TYPE. I'll look into that"
   ]
  },
  {
   "cell_type": "code",
   "source": [
    "df_application['OCCUPATION_TYPE'].value_counts()"
   ],
   "metadata": {
    "colab": {
     "base_uri": "https://localhost:8080/"
    },
    "id": "uJOXcpvA3kBe",
    "outputId": "9981a23e-417f-43bd-e80e-87fd936cd561"
   },
   "execution_count": 5,
   "outputs": [
    {
     "data": {
      "text/plain": "Laborers                 78240\nCore staff               43007\nSales staff              41098\nManagers                 35487\nDrivers                  26090\nHigh skill tech staff    17289\nAccountants              15985\nMedicine staff           13520\nCooking staff             8076\nSecurity staff            7993\nCleaning staff            5845\nPrivate service staff     3456\nLow-skill Laborers        2140\nSecretaries               2044\nWaiters/barmen staff      1665\nRealty agents             1041\nHR staff                   774\nIT staff                   604\nName: OCCUPATION_TYPE, dtype: int64"
     },
     "execution_count": 5,
     "metadata": {},
     "output_type": "execute_result"
    }
   ]
  },
  {
   "cell_type": "code",
   "source": [
    "df_application[df_application['OCCUPATION_TYPE'].isnull()]"
   ],
   "metadata": {
    "colab": {
     "base_uri": "https://localhost:8080/",
     "height": 606
    },
    "id": "tTjgx3ed3O_6",
    "outputId": "95d2183f-138a-4ee6-e00b-02c77b0c800f"
   },
   "execution_count": 6,
   "outputs": [
    {
     "data": {
      "text/plain": "        CODE_GENDER FLAG_OWN_CAR FLAG_OWN_REALTY  CNT_CHILDREN  \\\nID                                                               \n5008804           M            Y               Y             0   \n5008805           M            Y               Y             0   \n5008812           F            N               Y             0   \n5008813           F            N               Y             0   \n5008814           F            N               Y             0   \n...             ...          ...             ...           ...   \n6840098           F            N               Y             0   \n6840100           F            N               Y             0   \n6840102           F            N               Y             0   \n6840104           M            N               Y             0   \n6842765           F            N               Y             0   \n\n         AMT_INCOME_TOTAL NAME_INCOME_TYPE            NAME_EDUCATION_TYPE  \\\nID                                                                          \n5008804          427500.0          Working               Higher education   \n5008805          427500.0          Working               Higher education   \n5008812          283500.0        Pensioner               Higher education   \n5008813          283500.0        Pensioner               Higher education   \n5008814          283500.0        Pensioner               Higher education   \n...                   ...              ...                            ...   \n6840098          135000.0        Pensioner  Secondary / secondary special   \n6840100          135000.0        Pensioner  Secondary / secondary special   \n6840102          135000.0        Pensioner  Secondary / secondary special   \n6840104          135000.0        Pensioner  Secondary / secondary special   \n6842765           72000.0        Pensioner  Secondary / secondary special   \n\n        NAME_FAMILY_STATUS  NAME_HOUSING_TYPE  DAYS_BIRTH  DAYS_EMPLOYED  \\\nID                                                                         \n5008804     Civil marriage   Rented apartment      -12005          -4542   \n5008805     Civil marriage   Rented apartment      -12005          -4542   \n5008812          Separated  House / apartment      -22464         365243   \n5008813          Separated  House / apartment      -22464         365243   \n5008814          Separated  House / apartment      -22464         365243   \n...                    ...                ...         ...            ...   \n6840098          Separated  House / apartment      -22717         365243   \n6840100          Separated  House / apartment      -22717         365243   \n6840102          Separated  House / apartment      -22717         365243   \n6840104          Separated  House / apartment      -22717         365243   \n6842765            Married  House / apartment      -21673         365243   \n\n         FLAG_MOBIL  FLAG_WORK_PHONE  FLAG_PHONE  FLAG_EMAIL OCCUPATION_TYPE  \\\nID                                                                             \n5008804           1                1           0           0             NaN   \n5008805           1                1           0           0             NaN   \n5008812           1                0           0           0             NaN   \n5008813           1                0           0           0             NaN   \n5008814           1                0           0           0             NaN   \n...             ...              ...         ...         ...             ...   \n6840098           1                0           0           0             NaN   \n6840100           1                0           0           0             NaN   \n6840102           1                0           0           0             NaN   \n6840104           1                0           0           0             NaN   \n6842765           1                0           0           0             NaN   \n\n         CNT_FAM_MEMBERS  \nID                        \n5008804              2.0  \n5008805              2.0  \n5008812              1.0  \n5008813              1.0  \n5008814              1.0  \n...                  ...  \n6840098              1.0  \n6840100              1.0  \n6840102              1.0  \n6840104              1.0  \n6842765              2.0  \n\n[134203 rows x 17 columns]",
      "text/html": "<div>\n<style scoped>\n    .dataframe tbody tr th:only-of-type {\n        vertical-align: middle;\n    }\n\n    .dataframe tbody tr th {\n        vertical-align: top;\n    }\n\n    .dataframe thead th {\n        text-align: right;\n    }\n</style>\n<table border=\"1\" class=\"dataframe\">\n  <thead>\n    <tr style=\"text-align: right;\">\n      <th></th>\n      <th>CODE_GENDER</th>\n      <th>FLAG_OWN_CAR</th>\n      <th>FLAG_OWN_REALTY</th>\n      <th>CNT_CHILDREN</th>\n      <th>AMT_INCOME_TOTAL</th>\n      <th>NAME_INCOME_TYPE</th>\n      <th>NAME_EDUCATION_TYPE</th>\n      <th>NAME_FAMILY_STATUS</th>\n      <th>NAME_HOUSING_TYPE</th>\n      <th>DAYS_BIRTH</th>\n      <th>DAYS_EMPLOYED</th>\n      <th>FLAG_MOBIL</th>\n      <th>FLAG_WORK_PHONE</th>\n      <th>FLAG_PHONE</th>\n      <th>FLAG_EMAIL</th>\n      <th>OCCUPATION_TYPE</th>\n      <th>CNT_FAM_MEMBERS</th>\n    </tr>\n    <tr>\n      <th>ID</th>\n      <th></th>\n      <th></th>\n      <th></th>\n      <th></th>\n      <th></th>\n      <th></th>\n      <th></th>\n      <th></th>\n      <th></th>\n      <th></th>\n      <th></th>\n      <th></th>\n      <th></th>\n      <th></th>\n      <th></th>\n      <th></th>\n      <th></th>\n    </tr>\n  </thead>\n  <tbody>\n    <tr>\n      <th>5008804</th>\n      <td>M</td>\n      <td>Y</td>\n      <td>Y</td>\n      <td>0</td>\n      <td>427500.0</td>\n      <td>Working</td>\n      <td>Higher education</td>\n      <td>Civil marriage</td>\n      <td>Rented apartment</td>\n      <td>-12005</td>\n      <td>-4542</td>\n      <td>1</td>\n      <td>1</td>\n      <td>0</td>\n      <td>0</td>\n      <td>NaN</td>\n      <td>2.0</td>\n    </tr>\n    <tr>\n      <th>5008805</th>\n      <td>M</td>\n      <td>Y</td>\n      <td>Y</td>\n      <td>0</td>\n      <td>427500.0</td>\n      <td>Working</td>\n      <td>Higher education</td>\n      <td>Civil marriage</td>\n      <td>Rented apartment</td>\n      <td>-12005</td>\n      <td>-4542</td>\n      <td>1</td>\n      <td>1</td>\n      <td>0</td>\n      <td>0</td>\n      <td>NaN</td>\n      <td>2.0</td>\n    </tr>\n    <tr>\n      <th>5008812</th>\n      <td>F</td>\n      <td>N</td>\n      <td>Y</td>\n      <td>0</td>\n      <td>283500.0</td>\n      <td>Pensioner</td>\n      <td>Higher education</td>\n      <td>Separated</td>\n      <td>House / apartment</td>\n      <td>-22464</td>\n      <td>365243</td>\n      <td>1</td>\n      <td>0</td>\n      <td>0</td>\n      <td>0</td>\n      <td>NaN</td>\n      <td>1.0</td>\n    </tr>\n    <tr>\n      <th>5008813</th>\n      <td>F</td>\n      <td>N</td>\n      <td>Y</td>\n      <td>0</td>\n      <td>283500.0</td>\n      <td>Pensioner</td>\n      <td>Higher education</td>\n      <td>Separated</td>\n      <td>House / apartment</td>\n      <td>-22464</td>\n      <td>365243</td>\n      <td>1</td>\n      <td>0</td>\n      <td>0</td>\n      <td>0</td>\n      <td>NaN</td>\n      <td>1.0</td>\n    </tr>\n    <tr>\n      <th>5008814</th>\n      <td>F</td>\n      <td>N</td>\n      <td>Y</td>\n      <td>0</td>\n      <td>283500.0</td>\n      <td>Pensioner</td>\n      <td>Higher education</td>\n      <td>Separated</td>\n      <td>House / apartment</td>\n      <td>-22464</td>\n      <td>365243</td>\n      <td>1</td>\n      <td>0</td>\n      <td>0</td>\n      <td>0</td>\n      <td>NaN</td>\n      <td>1.0</td>\n    </tr>\n    <tr>\n      <th>...</th>\n      <td>...</td>\n      <td>...</td>\n      <td>...</td>\n      <td>...</td>\n      <td>...</td>\n      <td>...</td>\n      <td>...</td>\n      <td>...</td>\n      <td>...</td>\n      <td>...</td>\n      <td>...</td>\n      <td>...</td>\n      <td>...</td>\n      <td>...</td>\n      <td>...</td>\n      <td>...</td>\n      <td>...</td>\n    </tr>\n    <tr>\n      <th>6840098</th>\n      <td>F</td>\n      <td>N</td>\n      <td>Y</td>\n      <td>0</td>\n      <td>135000.0</td>\n      <td>Pensioner</td>\n      <td>Secondary / secondary special</td>\n      <td>Separated</td>\n      <td>House / apartment</td>\n      <td>-22717</td>\n      <td>365243</td>\n      <td>1</td>\n      <td>0</td>\n      <td>0</td>\n      <td>0</td>\n      <td>NaN</td>\n      <td>1.0</td>\n    </tr>\n    <tr>\n      <th>6840100</th>\n      <td>F</td>\n      <td>N</td>\n      <td>Y</td>\n      <td>0</td>\n      <td>135000.0</td>\n      <td>Pensioner</td>\n      <td>Secondary / secondary special</td>\n      <td>Separated</td>\n      <td>House / apartment</td>\n      <td>-22717</td>\n      <td>365243</td>\n      <td>1</td>\n      <td>0</td>\n      <td>0</td>\n      <td>0</td>\n      <td>NaN</td>\n      <td>1.0</td>\n    </tr>\n    <tr>\n      <th>6840102</th>\n      <td>F</td>\n      <td>N</td>\n      <td>Y</td>\n      <td>0</td>\n      <td>135000.0</td>\n      <td>Pensioner</td>\n      <td>Secondary / secondary special</td>\n      <td>Separated</td>\n      <td>House / apartment</td>\n      <td>-22717</td>\n      <td>365243</td>\n      <td>1</td>\n      <td>0</td>\n      <td>0</td>\n      <td>0</td>\n      <td>NaN</td>\n      <td>1.0</td>\n    </tr>\n    <tr>\n      <th>6840104</th>\n      <td>M</td>\n      <td>N</td>\n      <td>Y</td>\n      <td>0</td>\n      <td>135000.0</td>\n      <td>Pensioner</td>\n      <td>Secondary / secondary special</td>\n      <td>Separated</td>\n      <td>House / apartment</td>\n      <td>-22717</td>\n      <td>365243</td>\n      <td>1</td>\n      <td>0</td>\n      <td>0</td>\n      <td>0</td>\n      <td>NaN</td>\n      <td>1.0</td>\n    </tr>\n    <tr>\n      <th>6842765</th>\n      <td>F</td>\n      <td>N</td>\n      <td>Y</td>\n      <td>0</td>\n      <td>72000.0</td>\n      <td>Pensioner</td>\n      <td>Secondary / secondary special</td>\n      <td>Married</td>\n      <td>House / apartment</td>\n      <td>-21673</td>\n      <td>365243</td>\n      <td>1</td>\n      <td>0</td>\n      <td>0</td>\n      <td>0</td>\n      <td>NaN</td>\n      <td>2.0</td>\n    </tr>\n  </tbody>\n</table>\n<p>134203 rows × 17 columns</p>\n</div>"
     },
     "execution_count": 6,
     "metadata": {},
     "output_type": "execute_result"
    }
   ]
  },
  {
   "cell_type": "markdown",
   "source": [
    "As is a categorical variable and it will requiere dummy variables, I'll change that value to 'unknown'."
   ],
   "metadata": {
    "id": "Xdd-Yavz31kN"
   }
  },
  {
   "cell_type": "code",
   "source": [
    "df_application['OCCUPATION_TYPE'] = df_application['OCCUPATION_TYPE'].fillna('Unknown')"
   ],
   "metadata": {
    "id": "2_Da62R13O0M"
   },
   "execution_count": 7,
   "outputs": []
  },
  {
   "cell_type": "code",
   "source": [
    "df_application.info()"
   ],
   "metadata": {
    "colab": {
     "base_uri": "https://localhost:8080/"
    },
    "id": "NW5NQDdS4Sg4",
    "outputId": "a7818653-3d2f-48a5-9c35-ea9274654520"
   },
   "execution_count": 8,
   "outputs": [
    {
     "name": "stdout",
     "output_type": "stream",
     "text": [
      "<class 'pandas.core.frame.DataFrame'>\n",
      "Int64Index: 438557 entries, 5008804 to 6842885\n",
      "Data columns (total 17 columns):\n",
      " #   Column               Non-Null Count   Dtype  \n",
      "---  ------               --------------   -----  \n",
      " 0   CODE_GENDER          438557 non-null  object \n",
      " 1   FLAG_OWN_CAR         438557 non-null  object \n",
      " 2   FLAG_OWN_REALTY      438557 non-null  object \n",
      " 3   CNT_CHILDREN         438557 non-null  int64  \n",
      " 4   AMT_INCOME_TOTAL     438557 non-null  float64\n",
      " 5   NAME_INCOME_TYPE     438557 non-null  object \n",
      " 6   NAME_EDUCATION_TYPE  438557 non-null  object \n",
      " 7   NAME_FAMILY_STATUS   438557 non-null  object \n",
      " 8   NAME_HOUSING_TYPE    438557 non-null  object \n",
      " 9   DAYS_BIRTH           438557 non-null  int64  \n",
      " 10  DAYS_EMPLOYED        438557 non-null  int64  \n",
      " 11  FLAG_MOBIL           438557 non-null  int64  \n",
      " 12  FLAG_WORK_PHONE      438557 non-null  int64  \n",
      " 13  FLAG_PHONE           438557 non-null  int64  \n",
      " 14  FLAG_EMAIL           438557 non-null  int64  \n",
      " 15  OCCUPATION_TYPE      438557 non-null  object \n",
      " 16  CNT_FAM_MEMBERS      438557 non-null  float64\n",
      "dtypes: float64(2), int64(7), object(8)\n",
      "memory usage: 60.2+ MB\n"
     ]
    }
   ]
  },
  {
   "cell_type": "code",
   "source": [
    "df_application.groupby(level=0).size().value_counts()"
   ],
   "metadata": {
    "colab": {
     "base_uri": "https://localhost:8080/"
    },
    "id": "bSsig3owlzXl",
    "outputId": "70fb61ed-2675-467f-e1eb-1e7d97eec16c"
   },
   "execution_count": 9,
   "outputs": [
    {
     "data": {
      "text/plain": "1    438463\n2        47\ndtype: int64"
     },
     "execution_count": 9,
     "metadata": {},
     "output_type": "execute_result"
    }
   ]
  },
  {
   "cell_type": "markdown",
   "source": [
    "There are 47 duplicated ID. Let see how they look."
   ],
   "metadata": {
    "id": "rYLMFyegl8ZJ"
   }
  },
  {
   "cell_type": "code",
   "source": [
    "df_application[df_application.index.duplicated(keep=False)].sort_index()"
   ],
   "metadata": {
    "colab": {
     "base_uri": "https://localhost:8080/",
     "height": 675
    },
    "id": "_L-kzDsNmIy0",
    "outputId": "75062ef3-b4d5-424e-d5a6-887d430b1dd6"
   },
   "execution_count": 10,
   "outputs": [
    {
     "data": {
      "text/plain": "        CODE_GENDER FLAG_OWN_CAR FLAG_OWN_REALTY  CNT_CHILDREN  \\\nID                                                               \n7022197           M            Y               Y             3   \n7022197           F            N               Y             0   \n7022327           F            N               Y             0   \n7022327           M            Y               Y             0   \n7023108           M            Y               Y             1   \n...             ...          ...             ...           ...   \n7836711           F            N               Y             2   \n7836971           M            Y               N             1   \n7836971           F            N               Y             0   \n7838075           M            N               Y             0   \n7838075           F            Y               Y             0   \n\n         AMT_INCOME_TOTAL      NAME_INCOME_TYPE  \\\nID                                                \n7022197          135000.0               Working   \n7022197          450000.0  Commercial associate   \n7022327          135000.0  Commercial associate   \n7022327          256500.0  Commercial associate   \n7023108           67500.0               Working   \n...                   ...                   ...   \n7836711          292500.0               Working   \n7836971          157500.0               Working   \n7836971          103500.0               Working   \n7838075          337500.0  Commercial associate   \n7838075          315000.0  Commercial associate   \n\n                   NAME_EDUCATION_TYPE    NAME_FAMILY_STATUS  \\\nID                                                             \n7022197  Secondary / secondary special               Married   \n7022197               Higher education             Separated   \n7022327  Secondary / secondary special  Single / not married   \n7022327               Higher education               Married   \n7023108  Secondary / secondary special               Married   \n...                                ...                   ...   \n7836711               Higher education               Married   \n7836971  Secondary / secondary special               Married   \n7836971  Secondary / secondary special        Civil marriage   \n7838075  Secondary / secondary special               Married   \n7838075               Higher education  Single / not married   \n\n         NAME_HOUSING_TYPE  DAYS_BIRTH  DAYS_EMPLOYED  FLAG_MOBIL  \\\nID                                                                  \n7022197  House / apartment      -11945           -735           1   \n7022197  House / apartment      -19813          -1799           1   \n7022327  House / apartment      -14771          -5298           1   \n7022327  House / apartment      -21503          -1674           1   \n7023108  House / apartment      -15156          -1696           1   \n...                    ...         ...            ...         ...   \n7836711  House / apartment      -13747          -4386           1   \n7836971  House / apartment      -13771          -5520           1   \n7836971  House / apartment      -13383          -2798           1   \n7838075  House / apartment      -18198          -1275           1   \n7838075  House / apartment      -10698          -1659           1   \n\n         FLAG_WORK_PHONE  FLAG_PHONE  FLAG_EMAIL        OCCUPATION_TYPE  \\\nID                                                                        \n7022197                0           0           1               Laborers   \n7022197                0           0           1                Unknown   \n7022327                0           0           0  High skill tech staff   \n7022327                0           0           1             Core staff   \n7023108                1           0           0             Core staff   \n...                  ...         ...         ...                    ...   \n7836711                0           1           0            Accountants   \n7836971                0           0           0                Unknown   \n7836971                0           1           0            Sales staff   \n7838075                0           0           1                Drivers   \n7838075                0           0           1                Unknown   \n\n         CNT_FAM_MEMBERS  \nID                        \n7022197              5.0  \n7022197              1.0  \n7022327              1.0  \n7022327              2.0  \n7023108              3.0  \n...                  ...  \n7836711              4.0  \n7836971              3.0  \n7836971              2.0  \n7838075              2.0  \n7838075              1.0  \n\n[94 rows x 17 columns]",
      "text/html": "<div>\n<style scoped>\n    .dataframe tbody tr th:only-of-type {\n        vertical-align: middle;\n    }\n\n    .dataframe tbody tr th {\n        vertical-align: top;\n    }\n\n    .dataframe thead th {\n        text-align: right;\n    }\n</style>\n<table border=\"1\" class=\"dataframe\">\n  <thead>\n    <tr style=\"text-align: right;\">\n      <th></th>\n      <th>CODE_GENDER</th>\n      <th>FLAG_OWN_CAR</th>\n      <th>FLAG_OWN_REALTY</th>\n      <th>CNT_CHILDREN</th>\n      <th>AMT_INCOME_TOTAL</th>\n      <th>NAME_INCOME_TYPE</th>\n      <th>NAME_EDUCATION_TYPE</th>\n      <th>NAME_FAMILY_STATUS</th>\n      <th>NAME_HOUSING_TYPE</th>\n      <th>DAYS_BIRTH</th>\n      <th>DAYS_EMPLOYED</th>\n      <th>FLAG_MOBIL</th>\n      <th>FLAG_WORK_PHONE</th>\n      <th>FLAG_PHONE</th>\n      <th>FLAG_EMAIL</th>\n      <th>OCCUPATION_TYPE</th>\n      <th>CNT_FAM_MEMBERS</th>\n    </tr>\n    <tr>\n      <th>ID</th>\n      <th></th>\n      <th></th>\n      <th></th>\n      <th></th>\n      <th></th>\n      <th></th>\n      <th></th>\n      <th></th>\n      <th></th>\n      <th></th>\n      <th></th>\n      <th></th>\n      <th></th>\n      <th></th>\n      <th></th>\n      <th></th>\n      <th></th>\n    </tr>\n  </thead>\n  <tbody>\n    <tr>\n      <th>7022197</th>\n      <td>M</td>\n      <td>Y</td>\n      <td>Y</td>\n      <td>3</td>\n      <td>135000.0</td>\n      <td>Working</td>\n      <td>Secondary / secondary special</td>\n      <td>Married</td>\n      <td>House / apartment</td>\n      <td>-11945</td>\n      <td>-735</td>\n      <td>1</td>\n      <td>0</td>\n      <td>0</td>\n      <td>1</td>\n      <td>Laborers</td>\n      <td>5.0</td>\n    </tr>\n    <tr>\n      <th>7022197</th>\n      <td>F</td>\n      <td>N</td>\n      <td>Y</td>\n      <td>0</td>\n      <td>450000.0</td>\n      <td>Commercial associate</td>\n      <td>Higher education</td>\n      <td>Separated</td>\n      <td>House / apartment</td>\n      <td>-19813</td>\n      <td>-1799</td>\n      <td>1</td>\n      <td>0</td>\n      <td>0</td>\n      <td>1</td>\n      <td>Unknown</td>\n      <td>1.0</td>\n    </tr>\n    <tr>\n      <th>7022327</th>\n      <td>F</td>\n      <td>N</td>\n      <td>Y</td>\n      <td>0</td>\n      <td>135000.0</td>\n      <td>Commercial associate</td>\n      <td>Secondary / secondary special</td>\n      <td>Single / not married</td>\n      <td>House / apartment</td>\n      <td>-14771</td>\n      <td>-5298</td>\n      <td>1</td>\n      <td>0</td>\n      <td>0</td>\n      <td>0</td>\n      <td>High skill tech staff</td>\n      <td>1.0</td>\n    </tr>\n    <tr>\n      <th>7022327</th>\n      <td>M</td>\n      <td>Y</td>\n      <td>Y</td>\n      <td>0</td>\n      <td>256500.0</td>\n      <td>Commercial associate</td>\n      <td>Higher education</td>\n      <td>Married</td>\n      <td>House / apartment</td>\n      <td>-21503</td>\n      <td>-1674</td>\n      <td>1</td>\n      <td>0</td>\n      <td>0</td>\n      <td>1</td>\n      <td>Core staff</td>\n      <td>2.0</td>\n    </tr>\n    <tr>\n      <th>7023108</th>\n      <td>M</td>\n      <td>Y</td>\n      <td>Y</td>\n      <td>1</td>\n      <td>67500.0</td>\n      <td>Working</td>\n      <td>Secondary / secondary special</td>\n      <td>Married</td>\n      <td>House / apartment</td>\n      <td>-15156</td>\n      <td>-1696</td>\n      <td>1</td>\n      <td>1</td>\n      <td>0</td>\n      <td>0</td>\n      <td>Core staff</td>\n      <td>3.0</td>\n    </tr>\n    <tr>\n      <th>...</th>\n      <td>...</td>\n      <td>...</td>\n      <td>...</td>\n      <td>...</td>\n      <td>...</td>\n      <td>...</td>\n      <td>...</td>\n      <td>...</td>\n      <td>...</td>\n      <td>...</td>\n      <td>...</td>\n      <td>...</td>\n      <td>...</td>\n      <td>...</td>\n      <td>...</td>\n      <td>...</td>\n      <td>...</td>\n    </tr>\n    <tr>\n      <th>7836711</th>\n      <td>F</td>\n      <td>N</td>\n      <td>Y</td>\n      <td>2</td>\n      <td>292500.0</td>\n      <td>Working</td>\n      <td>Higher education</td>\n      <td>Married</td>\n      <td>House / apartment</td>\n      <td>-13747</td>\n      <td>-4386</td>\n      <td>1</td>\n      <td>0</td>\n      <td>1</td>\n      <td>0</td>\n      <td>Accountants</td>\n      <td>4.0</td>\n    </tr>\n    <tr>\n      <th>7836971</th>\n      <td>M</td>\n      <td>Y</td>\n      <td>N</td>\n      <td>1</td>\n      <td>157500.0</td>\n      <td>Working</td>\n      <td>Secondary / secondary special</td>\n      <td>Married</td>\n      <td>House / apartment</td>\n      <td>-13771</td>\n      <td>-5520</td>\n      <td>1</td>\n      <td>0</td>\n      <td>0</td>\n      <td>0</td>\n      <td>Unknown</td>\n      <td>3.0</td>\n    </tr>\n    <tr>\n      <th>7836971</th>\n      <td>F</td>\n      <td>N</td>\n      <td>Y</td>\n      <td>0</td>\n      <td>103500.0</td>\n      <td>Working</td>\n      <td>Secondary / secondary special</td>\n      <td>Civil marriage</td>\n      <td>House / apartment</td>\n      <td>-13383</td>\n      <td>-2798</td>\n      <td>1</td>\n      <td>0</td>\n      <td>1</td>\n      <td>0</td>\n      <td>Sales staff</td>\n      <td>2.0</td>\n    </tr>\n    <tr>\n      <th>7838075</th>\n      <td>M</td>\n      <td>N</td>\n      <td>Y</td>\n      <td>0</td>\n      <td>337500.0</td>\n      <td>Commercial associate</td>\n      <td>Secondary / secondary special</td>\n      <td>Married</td>\n      <td>House / apartment</td>\n      <td>-18198</td>\n      <td>-1275</td>\n      <td>1</td>\n      <td>0</td>\n      <td>0</td>\n      <td>1</td>\n      <td>Drivers</td>\n      <td>2.0</td>\n    </tr>\n    <tr>\n      <th>7838075</th>\n      <td>F</td>\n      <td>Y</td>\n      <td>Y</td>\n      <td>0</td>\n      <td>315000.0</td>\n      <td>Commercial associate</td>\n      <td>Higher education</td>\n      <td>Single / not married</td>\n      <td>House / apartment</td>\n      <td>-10698</td>\n      <td>-1659</td>\n      <td>1</td>\n      <td>0</td>\n      <td>0</td>\n      <td>1</td>\n      <td>Unknown</td>\n      <td>1.0</td>\n    </tr>\n  </tbody>\n</table>\n<p>94 rows × 17 columns</p>\n</div>"
     },
     "execution_count": 10,
     "metadata": {},
     "output_type": "execute_result"
    }
   ]
  },
  {
   "cell_type": "markdown",
   "source": [
    "Duplicated values seems to be from different persons. Also they are only $94$ of $438,577$, so I'll eliminate them"
   ],
   "metadata": {
    "id": "DsFUNJkxmslK"
   }
  },
  {
   "cell_type": "code",
   "source": [
    "df_application = df_application[~df_application.index.duplicated(keep=False)]"
   ],
   "metadata": {
    "id": "UJLBb6ovmxqD"
   },
   "execution_count": 11,
   "outputs": []
  },
  {
   "cell_type": "code",
   "source": [
    "df_application.groupby(level=0).size().value_counts()"
   ],
   "metadata": {
    "colab": {
     "base_uri": "https://localhost:8080/"
    },
    "id": "DeCeJKw7nMv-",
    "outputId": "49aef5da-5fe6-4126-c36b-a30e203d2ae6"
   },
   "execution_count": 12,
   "outputs": [
    {
     "data": {
      "text/plain": "1    438463\ndtype: int64"
     },
     "execution_count": 12,
     "metadata": {},
     "output_type": "execute_result"
    }
   ]
  },
  {
   "cell_type": "markdown",
   "source": [
    "## Credit Record"
   ],
   "metadata": {
    "id": "7t6UiTd7if03"
   }
  },
  {
   "cell_type": "code",
   "source": [
    "data_path = \"./credit-card-approval-prediction/credit_record.csv\"\n",
    "df_credit = pd.read_csv(data_path, header = 0, sep = ',')\n",
    "df_credit.head()"
   ],
   "metadata": {
    "colab": {
     "base_uri": "https://localhost:8080/",
     "height": 206
    },
    "id": "vURR1XGXIPdU",
    "outputId": "81a32e2b-846c-4c74-e174-a191972728be"
   },
   "execution_count": 13,
   "outputs": [
    {
     "data": {
      "text/plain": "        ID  MONTHS_BALANCE STATUS\n0  5001711               0      X\n1  5001711              -1      0\n2  5001711              -2      0\n3  5001711              -3      0\n4  5001712               0      C",
      "text/html": "<div>\n<style scoped>\n    .dataframe tbody tr th:only-of-type {\n        vertical-align: middle;\n    }\n\n    .dataframe tbody tr th {\n        vertical-align: top;\n    }\n\n    .dataframe thead th {\n        text-align: right;\n    }\n</style>\n<table border=\"1\" class=\"dataframe\">\n  <thead>\n    <tr style=\"text-align: right;\">\n      <th></th>\n      <th>ID</th>\n      <th>MONTHS_BALANCE</th>\n      <th>STATUS</th>\n    </tr>\n  </thead>\n  <tbody>\n    <tr>\n      <th>0</th>\n      <td>5001711</td>\n      <td>0</td>\n      <td>X</td>\n    </tr>\n    <tr>\n      <th>1</th>\n      <td>5001711</td>\n      <td>-1</td>\n      <td>0</td>\n    </tr>\n    <tr>\n      <th>2</th>\n      <td>5001711</td>\n      <td>-2</td>\n      <td>0</td>\n    </tr>\n    <tr>\n      <th>3</th>\n      <td>5001711</td>\n      <td>-3</td>\n      <td>0</td>\n    </tr>\n    <tr>\n      <th>4</th>\n      <td>5001712</td>\n      <td>0</td>\n      <td>C</td>\n    </tr>\n  </tbody>\n</table>\n</div>"
     },
     "execution_count": 13,
     "metadata": {},
     "output_type": "execute_result"
    }
   ]
  },
  {
   "cell_type": "code",
   "source": [
    "df_credit.info()"
   ],
   "metadata": {
    "colab": {
     "base_uri": "https://localhost:8080/"
    },
    "id": "g9xq8wTTIj3W",
    "outputId": "ca3c28a6-c199-41c1-eb76-3db2461c5a20"
   },
   "execution_count": 14,
   "outputs": [
    {
     "name": "stdout",
     "output_type": "stream",
     "text": [
      "<class 'pandas.core.frame.DataFrame'>\n",
      "RangeIndex: 1048575 entries, 0 to 1048574\n",
      "Data columns (total 3 columns):\n",
      " #   Column          Non-Null Count    Dtype \n",
      "---  ------          --------------    ----- \n",
      " 0   ID              1048575 non-null  int64 \n",
      " 1   MONTHS_BALANCE  1048575 non-null  int64 \n",
      " 2   STATUS          1048575 non-null  object\n",
      "dtypes: int64(2), object(1)\n",
      "memory usage: 24.0+ MB\n"
     ]
    }
   ]
  },
  {
   "cell_type": "code",
   "source": [
    "df_credit['ID'].nunique()"
   ],
   "metadata": {
    "colab": {
     "base_uri": "https://localhost:8080/"
    },
    "id": "xPntmh84ivLZ",
    "outputId": "74ee5d38-ecb2-415e-d4c5-ffd147d7b781"
   },
   "execution_count": 15,
   "outputs": [
    {
     "data": {
      "text/plain": "45985"
     },
     "execution_count": 15,
     "metadata": {},
     "output_type": "execute_result"
    }
   ]
  },
  {
   "cell_type": "markdown",
   "source": [
    "There are only $45,985$ ID´s with a credit record."
   ],
   "metadata": {
    "id": "b8rpK5pD1zXn"
   }
  },
  {
   "cell_type": "code",
   "source": [
    "df_credit['STATUS'].value_counts()"
   ],
   "metadata": {
    "colab": {
     "base_uri": "https://localhost:8080/"
    },
    "id": "ARcGYjvHZKNK",
    "outputId": "d4d7dbef-948f-4485-9838-69443b729366"
   },
   "execution_count": 16,
   "outputs": [
    {
     "data": {
      "text/plain": "C    442031\n0    383120\nX    209230\n1     11090\n5      1693\n2       868\n3       320\n4       223\nName: STATUS, dtype: int64"
     },
     "execution_count": 16,
     "metadata": {},
     "output_type": "execute_result"
    }
   ]
  },
  {
   "cell_type": "markdown",
   "source": [
    "Most of the records have a paid off that month record, 0-29 days past due or Non loan on the month status."
   ],
   "metadata": {
    "id": "m189Z51m2CQr"
   }
  },
  {
   "cell_type": "code",
   "source": [
    "id_count = df_credit.groupby('ID')['STATUS'].count()\n",
    "id_count.hist()"
   ],
   "metadata": {
    "colab": {
     "base_uri": "https://localhost:8080/",
     "height": 282
    },
    "id": "uroZR5ukZ3bG",
    "outputId": "c4496129-89cc-4164-ec9b-5cf06c971843"
   },
   "execution_count": 17,
   "outputs": [
    {
     "data": {
      "text/plain": "<AxesSubplot:>"
     },
     "execution_count": 17,
     "metadata": {},
     "output_type": "execute_result"
    },
    {
     "data": {
      "text/plain": "<Figure size 432x288 with 1 Axes>",
      "image/png": "[encoded data removed]"
     },
     "metadata": {
      "needs_background": "light"
     },
     "output_type": "display_data"
    }
   ]
  },
  {
   "cell_type": "code",
   "source": [
    "id_count.mean()"
   ],
   "metadata": {
    "colab": {
     "base_uri": "https://localhost:8080/"
    },
    "id": "fnIElqqkghHQ",
    "outputId": "38d486b1-eda4-4e53-b478-ee2052698479"
   },
   "execution_count": 18,
   "outputs": [
    {
     "data": {
      "text/plain": "22.802544307926496"
     },
     "execution_count": 18,
     "metadata": {},
     "output_type": "execute_result"
    }
   ]
  },
  {
   "cell_type": "markdown",
   "source": [
    "Each id has in average 22 credit records. I would like to summarize these 22 records in one line for each id, so i can join to the application records."
   ],
   "metadata": {
    "id": "U9leZmX1gXPb"
   }
  },
  {
   "cell_type": "code",
   "source": [
    "df_credit.groupby('ID')['STATUS'].nunique().value_counts().plot.bar()#.groupby(1).count()#.hist()"
   ],
   "metadata": {
    "colab": {
     "base_uri": "https://localhost:8080/",
     "height": 279
    },
    "id": "xPCGl_dxZuLX",
    "outputId": "5f6c9b53-7fd8-48b9-9873-dd39ab31e138"
   },
   "execution_count": 19,
   "outputs": [
    {
     "data": {
      "text/plain": "<AxesSubplot:>"
     },
     "execution_count": 19,
     "metadata": {},
     "output_type": "execute_result"
    },
    {
     "data": {
      "text/plain": "<Figure size 432x288 with 1 Axes>",
      "image/png": "[encoded data removed]"
     },
     "metadata": {
      "needs_background": "light"
     },
     "output_type": "display_data"
    }
   ]
  },
  {
   "cell_type": "markdown",
   "source": [
    "Most of the ID's have only two different credit records."
   ],
   "metadata": {
    "id": "w5qsFKYAfuH4"
   }
  },
  {
   "cell_type": "markdown",
   "source": [
    "From the credit record i will take the last record (MONTHS_BALANCE=0) and the number of records for each status"
   ],
   "metadata": {
    "id": "LFSjMB6LhanY"
   }
  },
  {
   "cell_type": "code",
   "source": [
    "df_lstatus = df_credit[df_credit['MONTHS_BALANCE']==0][[\"ID\", \"STATUS\"]].set_index('ID')\n",
    "df_lstatus.head()"
   ],
   "metadata": {
    "colab": {
     "base_uri": "https://localhost:8080/",
     "height": 238
    },
    "id": "AulLs2UBiEvC",
    "outputId": "0e2bd739-df72-4dfd-b797-d94fb2bf2396"
   },
   "execution_count": 20,
   "outputs": [
    {
     "data": {
      "text/plain": "        STATUS\nID            \n5001711      X\n5001712      C\n5001713      X\n5001714      X\n5001715      X",
      "text/html": "<div>\n<style scoped>\n    .dataframe tbody tr th:only-of-type {\n        vertical-align: middle;\n    }\n\n    .dataframe tbody tr th {\n        vertical-align: top;\n    }\n\n    .dataframe thead th {\n        text-align: right;\n    }\n</style>\n<table border=\"1\" class=\"dataframe\">\n  <thead>\n    <tr style=\"text-align: right;\">\n      <th></th>\n      <th>STATUS</th>\n    </tr>\n    <tr>\n      <th>ID</th>\n      <th></th>\n    </tr>\n  </thead>\n  <tbody>\n    <tr>\n      <th>5001711</th>\n      <td>X</td>\n    </tr>\n    <tr>\n      <th>5001712</th>\n      <td>C</td>\n    </tr>\n    <tr>\n      <th>5001713</th>\n      <td>X</td>\n    </tr>\n    <tr>\n      <th>5001714</th>\n      <td>X</td>\n    </tr>\n    <tr>\n      <th>5001715</th>\n      <td>X</td>\n    </tr>\n  </tbody>\n</table>\n</div>"
     },
     "execution_count": 20,
     "metadata": {},
     "output_type": "execute_result"
    }
   ]
  },
  {
   "cell_type": "code",
   "source": [
    "df_lstatus.groupby('ID').size().value_counts()"
   ],
   "metadata": {
    "colab": {
     "base_uri": "https://localhost:8080/"
    },
    "id": "nDDS1ZS6iRun",
    "outputId": "c97e3324-64d5-42a3-a983-12bfa7206ffa"
   },
   "execution_count": 21,
   "outputs": [
    {
     "data": {
      "text/plain": "1    33856\ndtype: int64"
     },
     "execution_count": 21,
     "metadata": {},
     "output_type": "execute_result"
    }
   ]
  },
  {
   "cell_type": "markdown",
   "source": [
    "Just one observation per ID"
   ],
   "metadata": {
    "id": "ULE5mCZNlfIk"
   }
  },
  {
   "cell_type": "code",
   "source": [
    "df_nstatus = df_credit.groupby(['ID', 'STATUS']).size().unstack(1).fillna(0)\n",
    "df_nstatus.head()"
   ],
   "metadata": {
    "colab": {
     "base_uri": "https://localhost:8080/",
     "height": 238
    },
    "id": "rYq3Xf8XfoDv",
    "outputId": "5c3eb604-fc32-4fda-fcd4-bacf9d478422"
   },
   "execution_count": 22,
   "outputs": [
    {
     "data": {
      "text/plain": "STATUS      0    1    2    3    4    5    C     X\nID                                               \n5001711   3.0  0.0  0.0  0.0  0.0  0.0  0.0   1.0\n5001712  10.0  0.0  0.0  0.0  0.0  0.0  9.0   0.0\n5001713   0.0  0.0  0.0  0.0  0.0  0.0  0.0  22.0\n5001714   0.0  0.0  0.0  0.0  0.0  0.0  0.0  15.0\n5001715   0.0  0.0  0.0  0.0  0.0  0.0  0.0  60.0",
      "text/html": "<div>\n<style scoped>\n    .dataframe tbody tr th:only-of-type {\n        vertical-align: middle;\n    }\n\n    .dataframe tbody tr th {\n        vertical-align: top;\n    }\n\n    .dataframe thead th {\n        text-align: right;\n    }\n</style>\n<table border=\"1\" class=\"dataframe\">\n  <thead>\n    <tr style=\"text-align: right;\">\n      <th>STATUS</th>\n      <th>0</th>\n      <th>1</th>\n      <th>2</th>\n      <th>3</th>\n      <th>4</th>\n      <th>5</th>\n      <th>C</th>\n      <th>X</th>\n    </tr>\n    <tr>\n      <th>ID</th>\n      <th></th>\n      <th></th>\n      <th></th>\n      <th></th>\n      <th></th>\n      <th></th>\n      <th></th>\n      <th></th>\n    </tr>\n  </thead>\n  <tbody>\n    <tr>\n      <th>5001711</th>\n      <td>3.0</td>\n      <td>0.0</td>\n      <td>0.0</td>\n      <td>0.0</td>\n      <td>0.0</td>\n      <td>0.0</td>\n      <td>0.0</td>\n      <td>1.0</td>\n    </tr>\n    <tr>\n      <th>5001712</th>\n      <td>10.0</td>\n      <td>0.0</td>\n      <td>0.0</td>\n      <td>0.0</td>\n      <td>0.0</td>\n      <td>0.0</td>\n      <td>9.0</td>\n      <td>0.0</td>\n    </tr>\n    <tr>\n      <th>5001713</th>\n      <td>0.0</td>\n      <td>0.0</td>\n      <td>0.0</td>\n      <td>0.0</td>\n      <td>0.0</td>\n      <td>0.0</td>\n      <td>0.0</td>\n      <td>22.0</td>\n    </tr>\n    <tr>\n      <th>5001714</th>\n      <td>0.0</td>\n      <td>0.0</td>\n      <td>0.0</td>\n      <td>0.0</td>\n      <td>0.0</td>\n      <td>0.0</td>\n      <td>0.0</td>\n      <td>15.0</td>\n    </tr>\n    <tr>\n      <th>5001715</th>\n      <td>0.0</td>\n      <td>0.0</td>\n      <td>0.0</td>\n      <td>0.0</td>\n      <td>0.0</td>\n      <td>0.0</td>\n      <td>0.0</td>\n      <td>60.0</td>\n    </tr>\n  </tbody>\n</table>\n</div>"
     },
     "execution_count": 22,
     "metadata": {},
     "output_type": "execute_result"
    }
   ]
  },
  {
   "cell_type": "code",
   "source": [
    "df_nstatus.groupby(level=0).size().value_counts()"
   ],
   "metadata": {
    "colab": {
     "base_uri": "https://localhost:8080/"
    },
    "id": "_aPoX0AmloOQ",
    "outputId": "ac3bcc28-0769-4e1e-b772-c83501ba30d7"
   },
   "execution_count": 23,
   "outputs": [
    {
     "data": {
      "text/plain": "1    45985\ndtype: int64"
     },
     "execution_count": 23,
     "metadata": {},
     "output_type": "execute_result"
    }
   ]
  },
  {
   "cell_type": "markdown",
   "source": [
    "Because the credit records are incomplete (the ID ranges in both dfs don't match) we have to create our own target. We do this by identifying 'low risk' and 'high risk' credit users. We say a user is 'high risk' if during any month they are late on payments by 30 days or more, and 'low risk' otherwise. This is the target we will try to predict later."
   ],
   "metadata": {
    "id": "ZWaNVpJyBeCc"
   }
  },
  {
   "cell_type": "code",
   "source": [
    "df_nstatus['RISK'] = (df_nstatus.loc[:, ['1', '2', '3', '4', '5']].sum(1)>0)*1"
   ],
   "metadata": {
    "id": "HcLwQDUaAAdY"
   },
   "execution_count": 24,
   "outputs": []
  },
  {
   "cell_type": "code",
   "source": [
    "df_nstatus.head()"
   ],
   "metadata": {
    "colab": {
     "base_uri": "https://localhost:8080/",
     "height": 238
    },
    "id": "u5kizcm7AAZr",
    "outputId": "5c3a271c-6cde-4e91-e0eb-5d93f740ccc2"
   },
   "execution_count": 25,
   "outputs": [
    {
     "data": {
      "text/plain": "STATUS      0    1    2    3    4    5    C     X  RISK\nID                                                     \n5001711   3.0  0.0  0.0  0.0  0.0  0.0  0.0   1.0     0\n5001712  10.0  0.0  0.0  0.0  0.0  0.0  9.0   0.0     0\n5001713   0.0  0.0  0.0  0.0  0.0  0.0  0.0  22.0     0\n5001714   0.0  0.0  0.0  0.0  0.0  0.0  0.0  15.0     0\n5001715   0.0  0.0  0.0  0.0  0.0  0.0  0.0  60.0     0",
      "text/html": "<div>\n<style scoped>\n    .dataframe tbody tr th:only-of-type {\n        vertical-align: middle;\n    }\n\n    .dataframe tbody tr th {\n        vertical-align: top;\n    }\n\n    .dataframe thead th {\n        text-align: right;\n    }\n</style>\n<table border=\"1\" class=\"dataframe\">\n  <thead>\n    <tr style=\"text-align: right;\">\n      <th>STATUS</th>\n      <th>0</th>\n      <th>1</th>\n      <th>2</th>\n      <th>3</th>\n      <th>4</th>\n      <th>5</th>\n      <th>C</th>\n      <th>X</th>\n      <th>RISK</th>\n    </tr>\n    <tr>\n      <th>ID</th>\n      <th></th>\n      <th></th>\n      <th></th>\n      <th></th>\n      <th></th>\n      <th></th>\n      <th></th>\n      <th></th>\n      <th></th>\n    </tr>\n  </thead>\n  <tbody>\n    <tr>\n      <th>5001711</th>\n      <td>3.0</td>\n      <td>0.0</td>\n      <td>0.0</td>\n      <td>0.0</td>\n      <td>0.0</td>\n      <td>0.0</td>\n      <td>0.0</td>\n      <td>1.0</td>\n      <td>0</td>\n    </tr>\n    <tr>\n      <th>5001712</th>\n      <td>10.0</td>\n      <td>0.0</td>\n      <td>0.0</td>\n      <td>0.0</td>\n      <td>0.0</td>\n      <td>0.0</td>\n      <td>9.0</td>\n      <td>0.0</td>\n      <td>0</td>\n    </tr>\n    <tr>\n      <th>5001713</th>\n      <td>0.0</td>\n      <td>0.0</td>\n      <td>0.0</td>\n      <td>0.0</td>\n      <td>0.0</td>\n      <td>0.0</td>\n      <td>0.0</td>\n      <td>22.0</td>\n      <td>0</td>\n    </tr>\n    <tr>\n      <th>5001714</th>\n      <td>0.0</td>\n      <td>0.0</td>\n      <td>0.0</td>\n      <td>0.0</td>\n      <td>0.0</td>\n      <td>0.0</td>\n      <td>0.0</td>\n      <td>15.0</td>\n      <td>0</td>\n    </tr>\n    <tr>\n      <th>5001715</th>\n      <td>0.0</td>\n      <td>0.0</td>\n      <td>0.0</td>\n      <td>0.0</td>\n      <td>0.0</td>\n      <td>0.0</td>\n      <td>0.0</td>\n      <td>60.0</td>\n      <td>0</td>\n    </tr>\n  </tbody>\n</table>\n</div>"
     },
     "execution_count": 25,
     "metadata": {},
     "output_type": "execute_result"
    }
   ]
  },
  {
   "cell_type": "code",
   "source": [],
   "metadata": {
    "id": "cYwgybDOAASt"
   },
   "execution_count": 25,
   "outputs": []
  },
  {
   "cell_type": "markdown",
   "source": [
    "## Join data"
   ],
   "metadata": {
    "id": "jMpvLdNEk7Oa"
   }
  },
  {
   "cell_type": "code",
   "source": [
    "#df = pd.concat([df_application, df_lstatus, df_nstatus], axis=1)"
   ],
   "metadata": {
    "id": "W4xZWLmEk6av"
   },
   "execution_count": 26,
   "outputs": []
  },
  {
   "cell_type": "markdown",
   "source": [
    "I join the credit records (labeled dataset) to the application, so we can train a model."
   ],
   "metadata": {
    "id": "2MKqU8ZG2xnu"
   }
  },
  {
   "cell_type": "code",
   "source": [
    "#df = df_application.join(df_lstatus, how='left').join(df_nstatus, how='left')"
   ],
   "metadata": {
    "id": "fGf0iS5An7Gd"
   },
   "execution_count": 27,
   "outputs": []
  },
  {
   "cell_type": "code",
   "source": [
    "df = df_application.join(df_nstatus['RISK'], how='inner')"
   ],
   "metadata": {
    "id": "YeNxcac0AaLy"
   },
   "execution_count": 28,
   "outputs": []
  },
  {
   "cell_type": "code",
   "source": [
    "df.head()"
   ],
   "metadata": {
    "id": "wGoC9NWdIG81",
    "colab": {
     "base_uri": "https://localhost:8080/",
     "height": 354
    },
    "outputId": "48ae6281-243a-49a9-b2b7-71832a4530e7"
   },
   "execution_count": 29,
   "outputs": [
    {
     "data": {
      "text/plain": "        CODE_GENDER FLAG_OWN_CAR FLAG_OWN_REALTY  CNT_CHILDREN  \\\nID                                                               \n5008804           M            Y               Y             0   \n5008805           M            Y               Y             0   \n5008806           M            Y               Y             0   \n5008808           F            N               Y             0   \n5008809           F            N               Y             0   \n\n         AMT_INCOME_TOTAL      NAME_INCOME_TYPE  \\\nID                                                \n5008804          427500.0               Working   \n5008805          427500.0               Working   \n5008806          112500.0               Working   \n5008808          270000.0  Commercial associate   \n5008809          270000.0  Commercial associate   \n\n                   NAME_EDUCATION_TYPE    NAME_FAMILY_STATUS  \\\nID                                                             \n5008804               Higher education        Civil marriage   \n5008805               Higher education        Civil marriage   \n5008806  Secondary / secondary special               Married   \n5008808  Secondary / secondary special  Single / not married   \n5008809  Secondary / secondary special  Single / not married   \n\n         NAME_HOUSING_TYPE  DAYS_BIRTH  DAYS_EMPLOYED  FLAG_MOBIL  \\\nID                                                                  \n5008804   Rented apartment      -12005          -4542           1   \n5008805   Rented apartment      -12005          -4542           1   \n5008806  House / apartment      -21474          -1134           1   \n5008808  House / apartment      -19110          -3051           1   \n5008809  House / apartment      -19110          -3051           1   \n\n         FLAG_WORK_PHONE  FLAG_PHONE  FLAG_EMAIL OCCUPATION_TYPE  \\\nID                                                                 \n5008804                1           0           0         Unknown   \n5008805                1           0           0         Unknown   \n5008806                0           0           0  Security staff   \n5008808                0           1           1     Sales staff   \n5008809                0           1           1     Sales staff   \n\n         CNT_FAM_MEMBERS  RISK  \nID                              \n5008804              2.0     1  \n5008805              2.0     1  \n5008806              2.0     0  \n5008808              1.0     0  \n5008809              1.0     0  ",
      "text/html": "<div>\n<style scoped>\n    .dataframe tbody tr th:only-of-type {\n        vertical-align: middle;\n    }\n\n    .dataframe tbody tr th {\n        vertical-align: top;\n    }\n\n    .dataframe thead th {\n        text-align: right;\n    }\n</style>\n<table border=\"1\" class=\"dataframe\">\n  <thead>\n    <tr style=\"text-align: right;\">\n      <th></th>\n      <th>CODE_GENDER</th>\n      <th>FLAG_OWN_CAR</th>\n      <th>FLAG_OWN_REALTY</th>\n      <th>CNT_CHILDREN</th>\n      <th>AMT_INCOME_TOTAL</th>\n      <th>NAME_INCOME_TYPE</th>\n      <th>NAME_EDUCATION_TYPE</th>\n      <th>NAME_FAMILY_STATUS</th>\n      <th>NAME_HOUSING_TYPE</th>\n      <th>DAYS_BIRTH</th>\n      <th>DAYS_EMPLOYED</th>\n      <th>FLAG_MOBIL</th>\n      <th>FLAG_WORK_PHONE</th>\n      <th>FLAG_PHONE</th>\n      <th>FLAG_EMAIL</th>\n      <th>OCCUPATION_TYPE</th>\n      <th>CNT_FAM_MEMBERS</th>\n      <th>RISK</th>\n    </tr>\n    <tr>\n      <th>ID</th>\n      <th></th>\n      <th></th>\n      <th></th>\n      <th></th>\n      <th></th>\n      <th></th>\n      <th></th>\n      <th></th>\n      <th></th>\n      <th></th>\n      <th></th>\n      <th></th>\n      <th></th>\n      <th></th>\n      <th></th>\n      <th></th>\n      <th></th>\n      <th></th>\n    </tr>\n  </thead>\n  <tbody>\n    <tr>\n      <th>5008804</th>\n      <td>M</td>\n      <td>Y</td>\n      <td>Y</td>\n      <td>0</td>\n      <td>427500.0</td>\n      <td>Working</td>\n      <td>Higher education</td>\n      <td>Civil marriage</td>\n      <td>Rented apartment</td>\n      <td>-12005</td>\n      <td>-4542</td>\n      <td>1</td>\n      <td>1</td>\n      <td>0</td>\n      <td>0</td>\n      <td>Unknown</td>\n      <td>2.0</td>\n      <td>1</td>\n    </tr>\n    <tr>\n      <th>5008805</th>\n      <td>M</td>\n      <td>Y</td>\n      <td>Y</td>\n      <td>0</td>\n      <td>427500.0</td>\n      <td>Working</td>\n      <td>Higher education</td>\n      <td>Civil marriage</td>\n      <td>Rented apartment</td>\n      <td>-12005</td>\n      <td>-4542</td>\n      <td>1</td>\n      <td>1</td>\n      <td>0</td>\n      <td>0</td>\n      <td>Unknown</td>\n      <td>2.0</td>\n      <td>1</td>\n    </tr>\n    <tr>\n      <th>5008806</th>\n      <td>M</td>\n      <td>Y</td>\n      <td>Y</td>\n      <td>0</td>\n      <td>112500.0</td>\n      <td>Working</td>\n      <td>Secondary / secondary special</td>\n      <td>Married</td>\n      <td>House / apartment</td>\n      <td>-21474</td>\n      <td>-1134</td>\n      <td>1</td>\n      <td>0</td>\n      <td>0</td>\n      <td>0</td>\n      <td>Security staff</td>\n      <td>2.0</td>\n      <td>0</td>\n    </tr>\n    <tr>\n      <th>5008808</th>\n      <td>F</td>\n      <td>N</td>\n      <td>Y</td>\n      <td>0</td>\n      <td>270000.0</td>\n      <td>Commercial associate</td>\n      <td>Secondary / secondary special</td>\n      <td>Single / not married</td>\n      <td>House / apartment</td>\n      <td>-19110</td>\n      <td>-3051</td>\n      <td>1</td>\n      <td>0</td>\n      <td>1</td>\n      <td>1</td>\n      <td>Sales staff</td>\n      <td>1.0</td>\n      <td>0</td>\n    </tr>\n    <tr>\n      <th>5008809</th>\n      <td>F</td>\n      <td>N</td>\n      <td>Y</td>\n      <td>0</td>\n      <td>270000.0</td>\n      <td>Commercial associate</td>\n      <td>Secondary / secondary special</td>\n      <td>Single / not married</td>\n      <td>House / apartment</td>\n      <td>-19110</td>\n      <td>-3051</td>\n      <td>1</td>\n      <td>0</td>\n      <td>1</td>\n      <td>1</td>\n      <td>Sales staff</td>\n      <td>1.0</td>\n      <td>0</td>\n    </tr>\n  </tbody>\n</table>\n</div>"
     },
     "execution_count": 29,
     "metadata": {},
     "output_type": "execute_result"
    }
   ]
  },
  {
   "cell_type": "code",
   "source": [
    "df.tail()"
   ],
   "metadata": {
    "id": "V8lQ4DnJIG6g",
    "colab": {
     "base_uri": "https://localhost:8080/",
     "height": 371
    },
    "outputId": "7c8f8d5f-295e-48c2-df86-6ffb599ee29d"
   },
   "execution_count": 30,
   "outputs": [
    {
     "data": {
      "text/plain": "        CODE_GENDER FLAG_OWN_CAR FLAG_OWN_REALTY  CNT_CHILDREN  \\\nID                                                               \n5149828           M            Y               Y             0   \n5149834           F            N               Y             0   \n5149838           F            N               Y             0   \n5150049           F            N               Y             0   \n5150337           M            N               Y             0   \n\n         AMT_INCOME_TOTAL      NAME_INCOME_TYPE  \\\nID                                                \n5149828          315000.0               Working   \n5149834          157500.0  Commercial associate   \n5149838          157500.0             Pensioner   \n5150049          283500.0               Working   \n5150337          112500.0               Working   \n\n                   NAME_EDUCATION_TYPE    NAME_FAMILY_STATUS  \\\nID                                                             \n5149828  Secondary / secondary special               Married   \n5149834               Higher education               Married   \n5149838               Higher education               Married   \n5150049  Secondary / secondary special               Married   \n5150337  Secondary / secondary special  Single / not married   \n\n         NAME_HOUSING_TYPE  DAYS_BIRTH  DAYS_EMPLOYED  FLAG_MOBIL  \\\nID                                                                  \n5149828  House / apartment      -17348          -2420           1   \n5149834  House / apartment      -12387          -1325           1   \n5149838  House / apartment      -12387          -1325           1   \n5150049  House / apartment      -17958           -655           1   \n5150337   Rented apartment       -9188          -1193           1   \n\n         FLAG_WORK_PHONE  FLAG_PHONE  FLAG_EMAIL OCCUPATION_TYPE  \\\nID                                                                 \n5149828                0           0           0        Managers   \n5149834                0           1           1  Medicine staff   \n5149838                0           1           1  Medicine staff   \n5150049                0           0           0     Sales staff   \n5150337                0           0           0        Laborers   \n\n         CNT_FAM_MEMBERS  RISK  \nID                              \n5149828              2.0     1  \n5149834              2.0     1  \n5149838              2.0     1  \n5150049              2.0     1  \n5150337              1.0     1  ",
      "text/html": "<div>\n<style scoped>\n    .dataframe tbody tr th:only-of-type {\n        vertical-align: middle;\n    }\n\n    .dataframe tbody tr th {\n        vertical-align: top;\n    }\n\n    .dataframe thead th {\n        text-align: right;\n    }\n</style>\n<table border=\"1\" class=\"dataframe\">\n  <thead>\n    <tr style=\"text-align: right;\">\n      <th></th>\n      <th>CODE_GENDER</th>\n      <th>FLAG_OWN_CAR</th>\n      <th>FLAG_OWN_REALTY</th>\n      <th>CNT_CHILDREN</th>\n      <th>AMT_INCOME_TOTAL</th>\n      <th>NAME_INCOME_TYPE</th>\n      <th>NAME_EDUCATION_TYPE</th>\n      <th>NAME_FAMILY_STATUS</th>\n      <th>NAME_HOUSING_TYPE</th>\n      <th>DAYS_BIRTH</th>\n      <th>DAYS_EMPLOYED</th>\n      <th>FLAG_MOBIL</th>\n      <th>FLAG_WORK_PHONE</th>\n      <th>FLAG_PHONE</th>\n      <th>FLAG_EMAIL</th>\n      <th>OCCUPATION_TYPE</th>\n      <th>CNT_FAM_MEMBERS</th>\n      <th>RISK</th>\n    </tr>\n    <tr>\n      <th>ID</th>\n      <th></th>\n      <th></th>\n      <th></th>\n      <th></th>\n      <th></th>\n      <th></th>\n      <th></th>\n      <th></th>\n      <th></th>\n      <th></th>\n      <th></th>\n      <th></th>\n      <th></th>\n      <th></th>\n      <th></th>\n      <th></th>\n      <th></th>\n      <th></th>\n    </tr>\n  </thead>\n  <tbody>\n    <tr>\n      <th>5149828</th>\n      <td>M</td>\n      <td>Y</td>\n      <td>Y</td>\n      <td>0</td>\n      <td>315000.0</td>\n      <td>Working</td>\n      <td>Secondary / secondary special</td>\n      <td>Married</td>\n      <td>House / apartment</td>\n      <td>-17348</td>\n      <td>-2420</td>\n      <td>1</td>\n      <td>0</td>\n      <td>0</td>\n      <td>0</td>\n      <td>Managers</td>\n      <td>2.0</td>\n      <td>1</td>\n    </tr>\n    <tr>\n      <th>5149834</th>\n      <td>F</td>\n      <td>N</td>\n      <td>Y</td>\n      <td>0</td>\n      <td>157500.0</td>\n      <td>Commercial associate</td>\n      <td>Higher education</td>\n      <td>Married</td>\n      <td>House / apartment</td>\n      <td>-12387</td>\n      <td>-1325</td>\n      <td>1</td>\n      <td>0</td>\n      <td>1</td>\n      <td>1</td>\n      <td>Medicine staff</td>\n      <td>2.0</td>\n      <td>1</td>\n    </tr>\n    <tr>\n      <th>5149838</th>\n      <td>F</td>\n      <td>N</td>\n      <td>Y</td>\n      <td>0</td>\n      <td>157500.0</td>\n      <td>Pensioner</td>\n      <td>Higher education</td>\n      <td>Married</td>\n      <td>House / apartment</td>\n      <td>-12387</td>\n      <td>-1325</td>\n      <td>1</td>\n      <td>0</td>\n      <td>1</td>\n      <td>1</td>\n      <td>Medicine staff</td>\n      <td>2.0</td>\n      <td>1</td>\n    </tr>\n    <tr>\n      <th>5150049</th>\n      <td>F</td>\n      <td>N</td>\n      <td>Y</td>\n      <td>0</td>\n      <td>283500.0</td>\n      <td>Working</td>\n      <td>Secondary / secondary special</td>\n      <td>Married</td>\n      <td>House / apartment</td>\n      <td>-17958</td>\n      <td>-655</td>\n      <td>1</td>\n      <td>0</td>\n      <td>0</td>\n      <td>0</td>\n      <td>Sales staff</td>\n      <td>2.0</td>\n      <td>1</td>\n    </tr>\n    <tr>\n      <th>5150337</th>\n      <td>M</td>\n      <td>N</td>\n      <td>Y</td>\n      <td>0</td>\n      <td>112500.0</td>\n      <td>Working</td>\n      <td>Secondary / secondary special</td>\n      <td>Single / not married</td>\n      <td>Rented apartment</td>\n      <td>-9188</td>\n      <td>-1193</td>\n      <td>1</td>\n      <td>0</td>\n      <td>0</td>\n      <td>0</td>\n      <td>Laborers</td>\n      <td>1.0</td>\n      <td>1</td>\n    </tr>\n  </tbody>\n</table>\n</div>"
     },
     "execution_count": 30,
     "metadata": {},
     "output_type": "execute_result"
    }
   ]
  },
  {
   "cell_type": "code",
   "source": [
    "df.info()"
   ],
   "metadata": {
    "id": "WJ3hNs00IG3D",
    "colab": {
     "base_uri": "https://localhost:8080/"
    },
    "outputId": "0ee332af-fb80-4016-c7ff-f9849720f29b"
   },
   "execution_count": 31,
   "outputs": [
    {
     "name": "stdout",
     "output_type": "stream",
     "text": [
      "<class 'pandas.core.frame.DataFrame'>\n",
      "Int64Index: 36457 entries, 5008804 to 5150337\n",
      "Data columns (total 18 columns):\n",
      " #   Column               Non-Null Count  Dtype  \n",
      "---  ------               --------------  -----  \n",
      " 0   CODE_GENDER          36457 non-null  object \n",
      " 1   FLAG_OWN_CAR         36457 non-null  object \n",
      " 2   FLAG_OWN_REALTY      36457 non-null  object \n",
      " 3   CNT_CHILDREN         36457 non-null  int64  \n",
      " 4   AMT_INCOME_TOTAL     36457 non-null  float64\n",
      " 5   NAME_INCOME_TYPE     36457 non-null  object \n",
      " 6   NAME_EDUCATION_TYPE  36457 non-null  object \n",
      " 7   NAME_FAMILY_STATUS   36457 non-null  object \n",
      " 8   NAME_HOUSING_TYPE    36457 non-null  object \n",
      " 9   DAYS_BIRTH           36457 non-null  int64  \n",
      " 10  DAYS_EMPLOYED        36457 non-null  int64  \n",
      " 11  FLAG_MOBIL           36457 non-null  int64  \n",
      " 12  FLAG_WORK_PHONE      36457 non-null  int64  \n",
      " 13  FLAG_PHONE           36457 non-null  int64  \n",
      " 14  FLAG_EMAIL           36457 non-null  int64  \n",
      " 15  OCCUPATION_TYPE      36457 non-null  object \n",
      " 16  CNT_FAM_MEMBERS      36457 non-null  float64\n",
      " 17  RISK                 36457 non-null  int32  \n",
      "dtypes: float64(2), int32(1), int64(7), object(8)\n",
      "memory usage: 5.1+ MB\n"
     ]
    }
   ]
  },
  {
   "cell_type": "code",
   "source": [
    "df['RISK'].value_counts()"
   ],
   "metadata": {
    "colab": {
     "base_uri": "https://localhost:8080/"
    },
    "id": "Ut9TBOUOBodR",
    "outputId": "43c57147-a893-43cd-ad2e-e6cd38847a1d"
   },
   "execution_count": 32,
   "outputs": [
    {
     "data": {
      "text/plain": "0    32166\n1     4291\nName: RISK, dtype: int64"
     },
     "execution_count": 32,
     "metadata": {},
     "output_type": "execute_result"
    }
   ]
  },
  {
   "cell_type": "markdown",
   "source": [
    "Maybe traing dataset should be only N=0 observations, and testing N=1."
   ],
   "metadata": {
    "id": "LikZKh7MOz5Y"
   }
  },
  {
   "cell_type": "code",
   "source": [
    "df = df.reset_index()"
   ],
   "metadata": {
    "id": "jaiWQW8Fbi5_"
   },
   "execution_count": 33,
   "outputs": []
  },
  {
   "cell_type": "markdown",
   "source": [
    "## One Hot Enconding"
   ],
   "metadata": {
    "id": "G3fnj_Ud9STB"
   }
  },
  {
   "cell_type": "code",
   "source": [
    "  df.tail(4).T"
   ],
   "metadata": {
    "colab": {
     "base_uri": "https://localhost:8080/",
     "height": 645
    },
    "id": "oxMcTyEF9n2u",
    "outputId": "4ff3fce5-e719-4081-b6c6-8ba3923c799f"
   },
   "execution_count": 34,
   "outputs": [
    {
     "data": {
      "text/plain": "                                    36453              36454  \\\nID                                5149834            5149838   \nCODE_GENDER                             F                  F   \nFLAG_OWN_CAR                            N                  N   \nFLAG_OWN_REALTY                         Y                  Y   \nCNT_CHILDREN                            0                  0   \nAMT_INCOME_TOTAL                 157500.0           157500.0   \nNAME_INCOME_TYPE     Commercial associate          Pensioner   \nNAME_EDUCATION_TYPE      Higher education   Higher education   \nNAME_FAMILY_STATUS                Married            Married   \nNAME_HOUSING_TYPE       House / apartment  House / apartment   \nDAYS_BIRTH                         -12387             -12387   \nDAYS_EMPLOYED                       -1325              -1325   \nFLAG_MOBIL                              1                  1   \nFLAG_WORK_PHONE                         0                  0   \nFLAG_PHONE                              1                  1   \nFLAG_EMAIL                              1                  1   \nOCCUPATION_TYPE            Medicine staff     Medicine staff   \nCNT_FAM_MEMBERS                       2.0                2.0   \nRISK                                    1                  1   \n\n                                             36455  \\\nID                                         5150049   \nCODE_GENDER                                      F   \nFLAG_OWN_CAR                                     N   \nFLAG_OWN_REALTY                                  Y   \nCNT_CHILDREN                                     0   \nAMT_INCOME_TOTAL                          283500.0   \nNAME_INCOME_TYPE                           Working   \nNAME_EDUCATION_TYPE  Secondary / secondary special   \nNAME_FAMILY_STATUS                         Married   \nNAME_HOUSING_TYPE                House / apartment   \nDAYS_BIRTH                                  -17958   \nDAYS_EMPLOYED                                 -655   \nFLAG_MOBIL                                       1   \nFLAG_WORK_PHONE                                  0   \nFLAG_PHONE                                       0   \nFLAG_EMAIL                                       0   \nOCCUPATION_TYPE                        Sales staff   \nCNT_FAM_MEMBERS                                2.0   \nRISK                                             1   \n\n                                             36456  \nID                                         5150337  \nCODE_GENDER                                      M  \nFLAG_OWN_CAR                                     N  \nFLAG_OWN_REALTY                                  Y  \nCNT_CHILDREN                                     0  \nAMT_INCOME_TOTAL                          112500.0  \nNAME_INCOME_TYPE                           Working  \nNAME_EDUCATION_TYPE  Secondary / secondary special  \nNAME_FAMILY_STATUS            Single / not married  \nNAME_HOUSING_TYPE                 Rented apartment  \nDAYS_BIRTH                                   -9188  \nDAYS_EMPLOYED                                -1193  \nFLAG_MOBIL                                       1  \nFLAG_WORK_PHONE                                  0  \nFLAG_PHONE                                       0  \nFLAG_EMAIL                                       0  \nOCCUPATION_TYPE                           Laborers  \nCNT_FAM_MEMBERS                                1.0  \nRISK                                             1  ",
      "text/html": "<div>\n<style scoped>\n    .dataframe tbody tr th:only-of-type {\n        vertical-align: middle;\n    }\n\n    .dataframe tbody tr th {\n        vertical-align: top;\n    }\n\n    .dataframe thead th {\n        text-align: right;\n    }\n</style>\n<table border=\"1\" class=\"dataframe\">\n  <thead>\n    <tr style=\"text-align: right;\">\n      <th></th>\n      <th>36453</th>\n      <th>36454</th>\n      <th>36455</th>\n      <th>36456</th>\n    </tr>\n  </thead>\n  <tbody>\n    <tr>\n      <th>ID</th>\n      <td>5149834</td>\n      <td>5149838</td>\n      <td>5150049</td>\n      <td>5150337</td>\n    </tr>\n    <tr>\n      <th>CODE_GENDER</th>\n      <td>F</td>\n      <td>F</td>\n      <td>F</td>\n      <td>M</td>\n    </tr>\n    <tr>\n      <th>FLAG_OWN_CAR</th>\n      <td>N</td>\n      <td>N</td>\n      <td>N</td>\n      <td>N</td>\n    </tr>\n    <tr>\n      <th>FLAG_OWN_REALTY</th>\n      <td>Y</td>\n      <td>Y</td>\n      <td>Y</td>\n      <td>Y</td>\n    </tr>\n    <tr>\n      <th>CNT_CHILDREN</th>\n      <td>0</td>\n      <td>0</td>\n      <td>0</td>\n      <td>0</td>\n    </tr>\n    <tr>\n      <th>AMT_INCOME_TOTAL</th>\n      <td>157500.0</td>\n      <td>157500.0</td>\n      <td>283500.0</td>\n      <td>112500.0</td>\n    </tr>\n    <tr>\n      <th>NAME_INCOME_TYPE</th>\n      <td>Commercial associate</td>\n      <td>Pensioner</td>\n      <td>Working</td>\n      <td>Working</td>\n    </tr>\n    <tr>\n      <th>NAME_EDUCATION_TYPE</th>\n      <td>Higher education</td>\n      <td>Higher education</td>\n      <td>Secondary / secondary special</td>\n      <td>Secondary / secondary special</td>\n    </tr>\n    <tr>\n      <th>NAME_FAMILY_STATUS</th>\n      <td>Married</td>\n      <td>Married</td>\n      <td>Married</td>\n      <td>Single / not married</td>\n    </tr>\n    <tr>\n      <th>NAME_HOUSING_TYPE</th>\n      <td>House / apartment</td>\n      <td>House / apartment</td>\n      <td>House / apartment</td>\n      <td>Rented apartment</td>\n    </tr>\n    <tr>\n      <th>DAYS_BIRTH</th>\n      <td>-12387</td>\n      <td>-12387</td>\n      <td>-17958</td>\n      <td>-9188</td>\n    </tr>\n    <tr>\n      <th>DAYS_EMPLOYED</th>\n      <td>-1325</td>\n      <td>-1325</td>\n      <td>-655</td>\n      <td>-1193</td>\n    </tr>\n    <tr>\n      <th>FLAG_MOBIL</th>\n      <td>1</td>\n      <td>1</td>\n      <td>1</td>\n      <td>1</td>\n    </tr>\n    <tr>\n      <th>FLAG_WORK_PHONE</th>\n      <td>0</td>\n      <td>0</td>\n      <td>0</td>\n      <td>0</td>\n    </tr>\n    <tr>\n      <th>FLAG_PHONE</th>\n      <td>1</td>\n      <td>1</td>\n      <td>0</td>\n      <td>0</td>\n    </tr>\n    <tr>\n      <th>FLAG_EMAIL</th>\n      <td>1</td>\n      <td>1</td>\n      <td>0</td>\n      <td>0</td>\n    </tr>\n    <tr>\n      <th>OCCUPATION_TYPE</th>\n      <td>Medicine staff</td>\n      <td>Medicine staff</td>\n      <td>Sales staff</td>\n      <td>Laborers</td>\n    </tr>\n    <tr>\n      <th>CNT_FAM_MEMBERS</th>\n      <td>2.0</td>\n      <td>2.0</td>\n      <td>2.0</td>\n      <td>1.0</td>\n    </tr>\n    <tr>\n      <th>RISK</th>\n      <td>1</td>\n      <td>1</td>\n      <td>1</td>\n      <td>1</td>\n    </tr>\n  </tbody>\n</table>\n</div>"
     },
     "execution_count": 34,
     "metadata": {},
     "output_type": "execute_result"
    }
   ]
  },
  {
   "cell_type": "markdown",
   "source": [
    "First I'll create a dicctionary for the type of variable."
   ],
   "metadata": {
    "id": "hUg2m1pC9Vwx"
   }
  },
  {
   "cell_type": "code",
   "source": [
    "dic_variables = {\n",
    "    'Categorical': ['CODE_GENDER', 'NAME_INCOME_TYPE', 'NAME_EDUCATION_TYPE', 'NAME_FAMILY_STATUS', 'NAME_HOUSING_TYPE', 'OCCUPATION_TYPE'], \n",
    "    'Binary': ['FLAG_OWN_CAR', 'FLAG_OWN_REALTY', 'FLAG_MOBIL', 'FLAG_WORK_PHONE', 'FLAG_PHONE','FLAG_EMAIL'], \n",
    "    'Numerical': ['CNT_CHILDREN', 'AMT_INCOME_TOTAL',  'DAYS_BIRTH', 'DAYS_EMPLOYED', 'CNT_FAM_MEMBERS']\n",
    "    \n",
    "}"
   ],
   "metadata": {
    "id": "cQaPemj7IGaO"
   },
   "execution_count": 35,
   "outputs": []
  },
  {
   "cell_type": "markdown",
   "source": [
    "Let see how many categories exists for each variable"
   ],
   "metadata": {
    "id": "cgSx248oHmBv"
   }
  },
  {
   "cell_type": "code",
   "source": [
    "df[dic_variables['Categorical']].nunique()"
   ],
   "metadata": {
    "colab": {
     "base_uri": "https://localhost:8080/"
    },
    "id": "_lGGGGvhC5Wa",
    "outputId": "38920e4d-0c23-46c0-bdf4-5a6bb408f847"
   },
   "execution_count": 36,
   "outputs": [
    {
     "data": {
      "text/plain": "CODE_GENDER             2\nNAME_INCOME_TYPE        5\nNAME_EDUCATION_TYPE     5\nNAME_FAMILY_STATUS      5\nNAME_HOUSING_TYPE       6\nOCCUPATION_TYPE        19\ndtype: int64"
     },
     "execution_count": 36,
     "metadata": {},
     "output_type": "execute_result"
    }
   ]
  },
  {
   "cell_type": "code",
   "source": [
    "df[dic_variables['Categorical']].nunique().sum()"
   ],
   "metadata": {
    "colab": {
     "base_uri": "https://localhost:8080/"
    },
    "id": "zqclf3UoHzaz",
    "outputId": "8709b2cb-996d-45fd-ac58-5a44dae8f44d"
   },
   "execution_count": 37,
   "outputs": [
    {
     "data": {
      "text/plain": "42"
     },
     "execution_count": 37,
     "metadata": {},
     "output_type": "execute_result"
    }
   ]
  },
  {
   "cell_type": "markdown",
   "source": [
    "That will add 42 new variables to the dataset"
   ],
   "metadata": {
    "id": "370NfoCNIal6"
   }
  },
  {
   "cell_type": "code",
   "source": [
    "from sklearn.compose import ColumnTransformer\n",
    "from sklearn.preprocessing import StandardScaler, OneHotEncoder"
   ],
   "metadata": {
    "id": "ePaF4O7uIPZ0"
   },
   "execution_count": 38,
   "outputs": []
  },
  {
   "cell_type": "code",
   "source": [
    "categorical_transformer = OneHotEncoder(sparse=False, handle_unknown=\"ignore\")\n",
    "\n",
    "preprocessor = ColumnTransformer(\n",
    "    transformers=[(\"cat\", categorical_transformer, dic_variables['Categorical'])],\n",
    "    remainder='passthrough'\n",
    ")"
   ],
   "metadata": {
    "id": "Ppu1ml1UJPU7"
   },
   "execution_count": 39,
   "outputs": []
  },
  {
   "cell_type": "code",
   "source": [
    "df_ohe = categorical_transformer.fit_transform(df[dic_variables['Categorical']])"
   ],
   "metadata": {
    "id": "kmLf1MbgbtRp"
   },
   "execution_count": 40,
   "outputs": []
  },
  {
   "cell_type": "code",
   "source": [
    "ohe_names = categorical_transformer.get_feature_names() #get_feature_names_out()"
   ],
   "metadata": {
    "id": "2s1Pra1CcIXE"
   },
   "execution_count": 41,
   "outputs": [
    {
     "name": "stderr",
     "output_type": "stream",
     "text": [
      "C:\\Users\\bruno.gonzalez\\Miniconda3\\envs\\pdsh\\lib\\site-packages\\sklearn\\utils\\deprecation.py:87: FutureWarning: Function get_feature_names is deprecated; get_feature_names is deprecated in 1.0 and will be removed in 1.2. Please use get_feature_names_out instead.\n",
      "  warnings.warn(msg, category=FutureWarning)\n"
     ]
    }
   ]
  },
  {
   "cell_type": "code",
   "source": [
    "df_ohe = pd.DataFrame(df_ohe)\n",
    "df_ohe.columns = ohe_names"
   ],
   "metadata": {
    "id": "PLmhQg-4dCyY"
   },
   "execution_count": 42,
   "outputs": []
  },
  {
   "cell_type": "code",
   "source": [
    "df_ohe.shape"
   ],
   "metadata": {
    "colab": {
     "base_uri": "https://localhost:8080/"
    },
    "id": "I39zxIt_hxSx",
    "outputId": "473d995b-8ef2-44f1-8a71-dab4979f54c9"
   },
   "execution_count": 43,
   "outputs": [
    {
     "data": {
      "text/plain": "(36457, 42)"
     },
     "execution_count": 43,
     "metadata": {},
     "output_type": "execute_result"
    }
   ]
  },
  {
   "cell_type": "code",
   "execution_count": 48,
   "outputs": [
    {
     "data": {
      "text/plain": "       x0_F  x0_M  x1_Commercial associate  x1_Pensioner  x1_State servant  \\\n0       0.0   1.0                      0.0           0.0               0.0   \n1       0.0   1.0                      0.0           0.0               0.0   \n2       0.0   1.0                      0.0           0.0               0.0   \n3       1.0   0.0                      1.0           0.0               0.0   \n4       1.0   0.0                      1.0           0.0               0.0   \n...     ...   ...                      ...           ...               ...   \n36452   0.0   1.0                      0.0           0.0               0.0   \n36453   1.0   0.0                      1.0           0.0               0.0   \n36454   1.0   0.0                      0.0           1.0               0.0   \n36455   1.0   0.0                      0.0           0.0               0.0   \n36456   0.0   1.0                      0.0           0.0               0.0   \n\n       x1_Student  x1_Working  x2_Academic degree  x2_Higher education  \\\n0             0.0         1.0                 0.0                  1.0   \n1             0.0         1.0                 0.0                  1.0   \n2             0.0         1.0                 0.0                  0.0   \n3             0.0         0.0                 0.0                  0.0   \n4             0.0         0.0                 0.0                  0.0   \n...           ...         ...                 ...                  ...   \n36452         0.0         1.0                 0.0                  0.0   \n36453         0.0         0.0                 0.0                  1.0   \n36454         0.0         0.0                 0.0                  1.0   \n36455         0.0         1.0                 0.0                  0.0   \n36456         0.0         1.0                 0.0                  0.0   \n\n       x2_Incomplete higher  ...  x5_Low-skill Laborers  x5_Managers  \\\n0                       0.0  ...                    0.0          0.0   \n1                       0.0  ...                    0.0          0.0   \n2                       0.0  ...                    0.0          0.0   \n3                       0.0  ...                    0.0          0.0   \n4                       0.0  ...                    0.0          0.0   \n...                     ...  ...                    ...          ...   \n36452                   0.0  ...                    0.0          1.0   \n36453                   0.0  ...                    0.0          0.0   \n36454                   0.0  ...                    0.0          0.0   \n36455                   0.0  ...                    0.0          0.0   \n36456                   0.0  ...                    0.0          0.0   \n\n       x5_Medicine staff  x5_Private service staff  x5_Realty agents  \\\n0                    0.0                       0.0               0.0   \n1                    0.0                       0.0               0.0   \n2                    0.0                       0.0               0.0   \n3                    0.0                       0.0               0.0   \n4                    0.0                       0.0               0.0   \n...                  ...                       ...               ...   \n36452                0.0                       0.0               0.0   \n36453                1.0                       0.0               0.0   \n36454                1.0                       0.0               0.0   \n36455                0.0                       0.0               0.0   \n36456                0.0                       0.0               0.0   \n\n       x5_Sales staff  x5_Secretaries  x5_Security staff  x5_Unknown  \\\n0                 0.0             0.0                0.0         1.0   \n1                 0.0             0.0                0.0         1.0   \n2                 0.0             0.0                1.0         0.0   \n3                 1.0             0.0                0.0         0.0   \n4                 1.0             0.0                0.0         0.0   \n...               ...             ...                ...         ...   \n36452             0.0             0.0                0.0         0.0   \n36453             0.0             0.0                0.0         0.0   \n36454             0.0             0.0                0.0         0.0   \n36455             1.0             0.0                0.0         0.0   \n36456             0.0             0.0                0.0         0.0   \n\n       x5_Waiters/barmen staff  \n0                          0.0  \n1                          0.0  \n2                          0.0  \n3                          0.0  \n4                          0.0  \n...                        ...  \n36452                      0.0  \n36453                      0.0  \n36454                      0.0  \n36455                      0.0  \n36456                      0.0  \n\n[36457 rows x 42 columns]",
      "text/html": "<div>\n<style scoped>\n    .dataframe tbody tr th:only-of-type {\n        vertical-align: middle;\n    }\n\n    .dataframe tbody tr th {\n        vertical-align: top;\n    }\n\n    .dataframe thead th {\n        text-align: right;\n    }\n</style>\n<table border=\"1\" class=\"dataframe\">\n  <thead>\n    <tr style=\"text-align: right;\">\n      <th></th>\n      <th>x0_F</th>\n      <th>x0_M</th>\n      <th>x1_Commercial associate</th>\n      <th>x1_Pensioner</th>\n      <th>x1_State servant</th>\n      <th>x1_Student</th>\n      <th>x1_Working</th>\n      <th>x2_Academic degree</th>\n      <th>x2_Higher education</th>\n      <th>x2_Incomplete higher</th>\n      <th>...</th>\n      <th>x5_Low-skill Laborers</th>\n      <th>x5_Managers</th>\n      <th>x5_Medicine staff</th>\n      <th>x5_Private service staff</th>\n      <th>x5_Realty agents</th>\n      <th>x5_Sales staff</th>\n      <th>x5_Secretaries</th>\n      <th>x5_Security staff</th>\n      <th>x5_Unknown</th>\n      <th>x5_Waiters/barmen staff</th>\n    </tr>\n  </thead>\n  <tbody>\n    <tr>\n      <th>0</th>\n      <td>0.0</td>\n      <td>1.0</td>\n      <td>0.0</td>\n      <td>0.0</td>\n      <td>0.0</td>\n      <td>0.0</td>\n      <td>1.0</td>\n      <td>0.0</td>\n      <td>1.0</td>\n      <td>0.0</td>\n      <td>...</td>\n      <td>0.0</td>\n      <td>0.0</td>\n      <td>0.0</td>\n      <td>0.0</td>\n      <td>0.0</td>\n      <td>0.0</td>\n      <td>0.0</td>\n      <td>0.0</td>\n      <td>1.0</td>\n      <td>0.0</td>\n    </tr>\n    <tr>\n      <th>1</th>\n      <td>0.0</td>\n      <td>1.0</td>\n      <td>0.0</td>\n      <td>0.0</td>\n      <td>0.0</td>\n      <td>0.0</td>\n      <td>1.0</td>\n      <td>0.0</td>\n      <td>1.0</td>\n      <td>0.0</td>\n      <td>...</td>\n      <td>0.0</td>\n      <td>0.0</td>\n      <td>0.0</td>\n      <td>0.0</td>\n      <td>0.0</td>\n      <td>0.0</td>\n      <td>0.0</td>\n      <td>0.0</td>\n      <td>1.0</td>\n      <td>0.0</td>\n    </tr>\n    <tr>\n      <th>2</th>\n      <td>0.0</td>\n      <td>1.0</td>\n      <td>0.0</td>\n      <td>0.0</td>\n      <td>0.0</td>\n      <td>0.0</td>\n      <td>1.0</td>\n      <td>0.0</td>\n      <td>0.0</td>\n      <td>0.0</td>\n      <td>...</td>\n      <td>0.0</td>\n      <td>0.0</td>\n      <td>0.0</td>\n      <td>0.0</td>\n      <td>0.0</td>\n      <td>0.0</td>\n      <td>0.0</td>\n      <td>1.0</td>\n      <td>0.0</td>\n      <td>0.0</td>\n    </tr>\n    <tr>\n      <th>3</th>\n      <td>1.0</td>\n      <td>0.0</td>\n      <td>1.0</td>\n      <td>0.0</td>\n      <td>0.0</td>\n      <td>0.0</td>\n      <td>0.0</td>\n      <td>0.0</td>\n      <td>0.0</td>\n      <td>0.0</td>\n      <td>...</td>\n      <td>0.0</td>\n      <td>0.0</td>\n      <td>0.0</td>\n      <td>0.0</td>\n      <td>0.0</td>\n      <td>1.0</td>\n      <td>0.0</td>\n      <td>0.0</td>\n      <td>0.0</td>\n      <td>0.0</td>\n    </tr>\n    <tr>\n      <th>4</th>\n      <td>1.0</td>\n      <td>0.0</td>\n      <td>1.0</td>\n      <td>0.0</td>\n      <td>0.0</td>\n      <td>0.0</td>\n      <td>0.0</td>\n      <td>0.0</td>\n      <td>0.0</td>\n      <td>0.0</td>\n      <td>...</td>\n      <td>0.0</td>\n      <td>0.0</td>\n      <td>0.0</td>\n      <td>0.0</td>\n      <td>0.0</td>\n      <td>1.0</td>\n      <td>0.0</td>\n      <td>0.0</td>\n      <td>0.0</td>\n      <td>0.0</td>\n    </tr>\n    <tr>\n      <th>...</th>\n      <td>...</td>\n      <td>...</td>\n      <td>...</td>\n      <td>...</td>\n      <td>...</td>\n      <td>...</td>\n      <td>...</td>\n      <td>...</td>\n      <td>...</td>\n      <td>...</td>\n      <td>...</td>\n      <td>...</td>\n      <td>...</td>\n      <td>...</td>\n      <td>...</td>\n      <td>...</td>\n      <td>...</td>\n      <td>...</td>\n      <td>...</td>\n      <td>...</td>\n      <td>...</td>\n    </tr>\n    <tr>\n      <th>36452</th>\n      <td>0.0</td>\n      <td>1.0</td>\n      <td>0.0</td>\n      <td>0.0</td>\n      <td>0.0</td>\n      <td>0.0</td>\n      <td>1.0</td>\n      <td>0.0</td>\n      <td>0.0</td>\n      <td>0.0</td>\n      <td>...</td>\n      <td>0.0</td>\n      <td>1.0</td>\n      <td>0.0</td>\n      <td>0.0</td>\n      <td>0.0</td>\n      <td>0.0</td>\n      <td>0.0</td>\n      <td>0.0</td>\n      <td>0.0</td>\n      <td>0.0</td>\n    </tr>\n    <tr>\n      <th>36453</th>\n      <td>1.0</td>\n      <td>0.0</td>\n      <td>1.0</td>\n      <td>0.0</td>\n      <td>0.0</td>\n      <td>0.0</td>\n      <td>0.0</td>\n      <td>0.0</td>\n      <td>1.0</td>\n      <td>0.0</td>\n      <td>...</td>\n      <td>0.0</td>\n      <td>0.0</td>\n      <td>1.0</td>\n      <td>0.0</td>\n      <td>0.0</td>\n      <td>0.0</td>\n      <td>0.0</td>\n      <td>0.0</td>\n      <td>0.0</td>\n      <td>0.0</td>\n    </tr>\n    <tr>\n      <th>36454</th>\n      <td>1.0</td>\n      <td>0.0</td>\n      <td>0.0</td>\n      <td>1.0</td>\n      <td>0.0</td>\n      <td>0.0</td>\n      <td>0.0</td>\n      <td>0.0</td>\n      <td>1.0</td>\n      <td>0.0</td>\n      <td>...</td>\n      <td>0.0</td>\n      <td>0.0</td>\n      <td>1.0</td>\n      <td>0.0</td>\n      <td>0.0</td>\n      <td>0.0</td>\n      <td>0.0</td>\n      <td>0.0</td>\n      <td>0.0</td>\n      <td>0.0</td>\n    </tr>\n    <tr>\n      <th>36455</th>\n      <td>1.0</td>\n      <td>0.0</td>\n      <td>0.0</td>\n      <td>0.0</td>\n      <td>0.0</td>\n      <td>0.0</td>\n      <td>1.0</td>\n      <td>0.0</td>\n      <td>0.0</td>\n      <td>0.0</td>\n      <td>...</td>\n      <td>0.0</td>\n      <td>0.0</td>\n      <td>0.0</td>\n      <td>0.0</td>\n      <td>0.0</td>\n      <td>1.0</td>\n      <td>0.0</td>\n      <td>0.0</td>\n      <td>0.0</td>\n      <td>0.0</td>\n    </tr>\n    <tr>\n      <th>36456</th>\n      <td>0.0</td>\n      <td>1.0</td>\n      <td>0.0</td>\n      <td>0.0</td>\n      <td>0.0</td>\n      <td>0.0</td>\n      <td>1.0</td>\n      <td>0.0</td>\n      <td>0.0</td>\n      <td>0.0</td>\n      <td>...</td>\n      <td>0.0</td>\n      <td>0.0</td>\n      <td>0.0</td>\n      <td>0.0</td>\n      <td>0.0</td>\n      <td>0.0</td>\n      <td>0.0</td>\n      <td>0.0</td>\n      <td>0.0</td>\n      <td>0.0</td>\n    </tr>\n  </tbody>\n</table>\n<p>36457 rows × 42 columns</p>\n</div>"
     },
     "execution_count": 48,
     "metadata": {},
     "output_type": "execute_result"
    }
   ],
   "source": [
    "df_ohe"
   ],
   "metadata": {
    "collapsed": false,
    "pycharm": {
     "name": "#%%\n"
    }
   }
  },
  {
   "cell_type": "code",
   "source": [
    "df.shape"
   ],
   "metadata": {
    "colab": {
     "base_uri": "https://localhost:8080/"
    },
    "id": "vg5RZPkVhzfG",
    "outputId": "10a2b0ad-3fcb-406b-8f5d-dece05813a82"
   },
   "execution_count": 49,
   "outputs": [
    {
     "data": {
      "text/plain": "(36457, 19)"
     },
     "execution_count": 49,
     "metadata": {},
     "output_type": "execute_result"
    }
   ]
  },
  {
   "cell_type": "markdown",
   "source": [
    "Put the dataset together"
   ],
   "metadata": {
    "id": "tH5zjbqIEUMi"
   }
  },
  {
   "cell_type": "code",
   "source": [
    "df_proc = pd.concat([\n",
    "  df['ID'],\n",
    "  df[dic_variables['Binary']].replace('Y',1).replace('N',0),\n",
    "  df[dic_variables['Numerical']],\n",
    "  df_ohe\n",
    "  ],\n",
    "axis=1)"
   ],
   "metadata": {
    "id": "JobLnNu4hSRH"
   },
   "execution_count": 50,
   "outputs": []
  },
  {
   "cell_type": "code",
   "source": [
    "df_proc.shape"
   ],
   "metadata": {
    "colab": {
     "base_uri": "https://localhost:8080/"
    },
    "id": "mzir8ChXhmXE",
    "outputId": "1d331194-1b71-459d-9721-344659f00bc7"
   },
   "execution_count": 51,
   "outputs": [
    {
     "data": {
      "text/plain": "(36457, 54)"
     },
     "execution_count": 51,
     "metadata": {},
     "output_type": "execute_result"
    }
   ]
  },
  {
   "cell_type": "code",
   "source": [
    "df_proc.head()"
   ],
   "metadata": {
    "colab": {
     "base_uri": "https://localhost:8080/",
     "height": 317
    },
    "id": "nYMgB9FvhoJM",
    "outputId": "ee17afa5-2f33-47e4-d039-262c7976539f"
   },
   "execution_count": 52,
   "outputs": [
    {
     "data": {
      "text/plain": "        ID  FLAG_OWN_CAR  FLAG_OWN_REALTY  FLAG_MOBIL  FLAG_WORK_PHONE  \\\n0  5008804             1                1           1                1   \n1  5008805             1                1           1                1   \n2  5008806             1                1           1                0   \n3  5008808             0                1           1                0   \n4  5008809             0                1           1                0   \n\n   FLAG_PHONE  FLAG_EMAIL  CNT_CHILDREN  AMT_INCOME_TOTAL  DAYS_BIRTH  ...  \\\n0           0           0             0          427500.0      -12005  ...   \n1           0           0             0          427500.0      -12005  ...   \n2           0           0             0          112500.0      -21474  ...   \n3           1           1             0          270000.0      -19110  ...   \n4           1           1             0          270000.0      -19110  ...   \n\n   x5_Low-skill Laborers  x5_Managers  x5_Medicine staff  \\\n0                    0.0          0.0                0.0   \n1                    0.0          0.0                0.0   \n2                    0.0          0.0                0.0   \n3                    0.0          0.0                0.0   \n4                    0.0          0.0                0.0   \n\n   x5_Private service staff  x5_Realty agents  x5_Sales staff  x5_Secretaries  \\\n0                       0.0               0.0             0.0             0.0   \n1                       0.0               0.0             0.0             0.0   \n2                       0.0               0.0             0.0             0.0   \n3                       0.0               0.0             1.0             0.0   \n4                       0.0               0.0             1.0             0.0   \n\n   x5_Security staff  x5_Unknown  x5_Waiters/barmen staff  \n0                0.0         1.0                      0.0  \n1                0.0         1.0                      0.0  \n2                1.0         0.0                      0.0  \n3                0.0         0.0                      0.0  \n4                0.0         0.0                      0.0  \n\n[5 rows x 54 columns]",
      "text/html": "<div>\n<style scoped>\n    .dataframe tbody tr th:only-of-type {\n        vertical-align: middle;\n    }\n\n    .dataframe tbody tr th {\n        vertical-align: top;\n    }\n\n    .dataframe thead th {\n        text-align: right;\n    }\n</style>\n<table border=\"1\" class=\"dataframe\">\n  <thead>\n    <tr style=\"text-align: right;\">\n      <th></th>\n      <th>ID</th>\n      <th>FLAG_OWN_CAR</th>\n      <th>FLAG_OWN_REALTY</th>\n      <th>FLAG_MOBIL</th>\n      <th>FLAG_WORK_PHONE</th>\n      <th>FLAG_PHONE</th>\n      <th>FLAG_EMAIL</th>\n      <th>CNT_CHILDREN</th>\n      <th>AMT_INCOME_TOTAL</th>\n      <th>DAYS_BIRTH</th>\n      <th>...</th>\n      <th>x5_Low-skill Laborers</th>\n      <th>x5_Managers</th>\n      <th>x5_Medicine staff</th>\n      <th>x5_Private service staff</th>\n      <th>x5_Realty agents</th>\n      <th>x5_Sales staff</th>\n      <th>x5_Secretaries</th>\n      <th>x5_Security staff</th>\n      <th>x5_Unknown</th>\n      <th>x5_Waiters/barmen staff</th>\n    </tr>\n  </thead>\n  <tbody>\n    <tr>\n      <th>0</th>\n      <td>5008804</td>\n      <td>1</td>\n      <td>1</td>\n      <td>1</td>\n      <td>1</td>\n      <td>0</td>\n      <td>0</td>\n      <td>0</td>\n      <td>427500.0</td>\n      <td>-12005</td>\n      <td>...</td>\n      <td>0.0</td>\n      <td>0.0</td>\n      <td>0.0</td>\n      <td>0.0</td>\n      <td>0.0</td>\n      <td>0.0</td>\n      <td>0.0</td>\n      <td>0.0</td>\n      <td>1.0</td>\n      <td>0.0</td>\n    </tr>\n    <tr>\n      <th>1</th>\n      <td>5008805</td>\n      <td>1</td>\n      <td>1</td>\n      <td>1</td>\n      <td>1</td>\n      <td>0</td>\n      <td>0</td>\n      <td>0</td>\n      <td>427500.0</td>\n      <td>-12005</td>\n      <td>...</td>\n      <td>0.0</td>\n      <td>0.0</td>\n      <td>0.0</td>\n      <td>0.0</td>\n      <td>0.0</td>\n      <td>0.0</td>\n      <td>0.0</td>\n      <td>0.0</td>\n      <td>1.0</td>\n      <td>0.0</td>\n    </tr>\n    <tr>\n      <th>2</th>\n      <td>5008806</td>\n      <td>1</td>\n      <td>1</td>\n      <td>1</td>\n      <td>0</td>\n      <td>0</td>\n      <td>0</td>\n      <td>0</td>\n      <td>112500.0</td>\n      <td>-21474</td>\n      <td>...</td>\n      <td>0.0</td>\n      <td>0.0</td>\n      <td>0.0</td>\n      <td>0.0</td>\n      <td>0.0</td>\n      <td>0.0</td>\n      <td>0.0</td>\n      <td>1.0</td>\n      <td>0.0</td>\n      <td>0.0</td>\n    </tr>\n    <tr>\n      <th>3</th>\n      <td>5008808</td>\n      <td>0</td>\n      <td>1</td>\n      <td>1</td>\n      <td>0</td>\n      <td>1</td>\n      <td>1</td>\n      <td>0</td>\n      <td>270000.0</td>\n      <td>-19110</td>\n      <td>...</td>\n      <td>0.0</td>\n      <td>0.0</td>\n      <td>0.0</td>\n      <td>0.0</td>\n      <td>0.0</td>\n      <td>1.0</td>\n      <td>0.0</td>\n      <td>0.0</td>\n      <td>0.0</td>\n      <td>0.0</td>\n    </tr>\n    <tr>\n      <th>4</th>\n      <td>5008809</td>\n      <td>0</td>\n      <td>1</td>\n      <td>1</td>\n      <td>0</td>\n      <td>1</td>\n      <td>1</td>\n      <td>0</td>\n      <td>270000.0</td>\n      <td>-19110</td>\n      <td>...</td>\n      <td>0.0</td>\n      <td>0.0</td>\n      <td>0.0</td>\n      <td>0.0</td>\n      <td>0.0</td>\n      <td>1.0</td>\n      <td>0.0</td>\n      <td>0.0</td>\n      <td>0.0</td>\n      <td>0.0</td>\n    </tr>\n  </tbody>\n</table>\n<p>5 rows × 54 columns</p>\n</div>"
     },
     "execution_count": 52,
     "metadata": {},
     "output_type": "execute_result"
    }
   ]
  },
  {
   "cell_type": "markdown",
   "source": [
    "# Data Modeling"
   ],
   "metadata": {
    "id": "YyQ4jGhCCvMa"
   }
  },
  {
   "cell_type": "markdown",
   "source": [
    "## Logistic Regession"
   ],
   "metadata": {
    "collapsed": false
   }
  },
  {
   "cell_type": "code",
   "source": [
    "from sklearn.linear_model import LogisticRegression\n",
    "from sklearn.model_selection import train_test_split"
   ],
   "metadata": {
    "id": "JnudmzPDjY01"
   },
   "execution_count": 53,
   "outputs": []
  },
  {
   "cell_type": "code",
   "execution_count": 69,
   "outputs": [],
   "source": [
    "X_train, X_test, y_train, y_test = train_test_split(\n",
    "    df_proc[dic_variables['Binary']+dic_variables['Numerical']+list(ohe_names)],\n",
    "    df['RISK'])"
   ],
   "metadata": {
    "collapsed": false,
    "pycharm": {
     "name": "#%%\n"
    }
   }
  },
  {
   "cell_type": "code",
   "execution_count": 70,
   "outputs": [
    {
     "data": {
      "text/plain": "(27342, 53)"
     },
     "execution_count": 70,
     "metadata": {},
     "output_type": "execute_result"
    }
   ],
   "source": [
    "X_train.shape"
   ],
   "metadata": {
    "collapsed": false,
    "pycharm": {
     "name": "#%%\n"
    }
   }
  },
  {
   "cell_type": "code",
   "execution_count": 78,
   "outputs": [
    {
     "data": {
      "text/plain": "0    8050\n1    1065\nName: RISK, dtype: int64"
     },
     "execution_count": 78,
     "metadata": {},
     "output_type": "execute_result"
    }
   ],
   "source": [
    "y_test.value_counts()"
   ],
   "metadata": {
    "collapsed": false,
    "pycharm": {
     "name": "#%%\n"
    }
   }
  },
  {
   "cell_type": "code",
   "source": [
    "m_log = LogisticRegression(random_state=0, verbose=10, n_jobs=2)"
   ],
   "metadata": {
    "id": "UpviyLY3C-YJ"
   },
   "execution_count": 71,
   "outputs": []
  },
  {
   "cell_type": "code",
   "source": [
    "m_log.fit(X_train, y_train)"
   ],
   "metadata": {
    "id": "2tLolQPmDGeB"
   },
   "execution_count": 72,
   "outputs": [
    {
     "name": "stderr",
     "output_type": "stream",
     "text": [
      "[Parallel(n_jobs=2)]: Using backend LokyBackend with 2 concurrent workers.\n",
      "[Parallel(n_jobs=2)]: Done   1 tasks      | elapsed:    3.0s\n",
      "[Parallel(n_jobs=2)]: Done   1 out of   1 | elapsed:    3.0s finished\n"
     ]
    },
    {
     "data": {
      "text/plain": "LogisticRegression(n_jobs=2, random_state=0, verbose=10)"
     },
     "execution_count": 72,
     "metadata": {},
     "output_type": "execute_result"
    }
   ]
  },
  {
   "cell_type": "code",
   "source": [
    "# from joblib import dump, load\n",
    "# dump(m_log, 'log_model_01.joblib')"
   ],
   "metadata": {
    "id": "HN_SHp2WEkoP"
   },
   "execution_count": 60,
   "outputs": []
  },
  {
   "cell_type": "code",
   "execution_count": 73,
   "outputs": [],
   "source": [
    "y_test_pred = m_log.predict(X_test)"
   ],
   "metadata": {
    "collapsed": false,
    "pycharm": {
     "name": "#%%\n"
    }
   }
  },
  {
   "cell_type": "code",
   "execution_count": 88,
   "outputs": [],
   "source": [
    "from sklearn.metrics import accuracy_score, confusion_matrix,roc_curve, roc_auc_score, classification_report"
   ],
   "metadata": {
    "collapsed": false,
    "pycharm": {
     "name": "#%%\n"
    }
   }
  },
  {
   "cell_type": "code",
   "execution_count": 79,
   "outputs": [
    {
     "data": {
      "text/plain": "array([[8050,    0],\n       [1065,    0]], dtype=int64)"
     },
     "execution_count": 79,
     "metadata": {},
     "output_type": "execute_result"
    }
   ],
   "source": [
    "confusion = confusion_matrix(y_test, y_test_pred)\n",
    "confusion"
   ],
   "metadata": {
    "collapsed": false,
    "pycharm": {
     "name": "#%%\n"
    }
   }
  },
  {
   "cell_type": "code",
   "execution_count": 90,
   "outputs": [
    {
     "name": "stdout",
     "output_type": "stream",
     "text": [
      "              precision    recall  f1-score   support\n",
      "\n",
      "           0       0.88      1.00      0.94      8050\n",
      "           1       0.00      0.00      0.00      1065\n",
      "\n",
      "    accuracy                           0.88      9115\n",
      "   macro avg       0.44      0.50      0.47      9115\n",
      "weighted avg       0.78      0.88      0.83      9115\n",
      "\n"
     ]
    },
    {
     "name": "stderr",
     "output_type": "stream",
     "text": [
      "C:\\Users\\bruno.gonzalez\\Miniconda3\\envs\\pdsh\\lib\\site-packages\\sklearn\\metrics\\_classification.py:1308: UndefinedMetricWarning: Precision and F-score are ill-defined and being set to 0.0 in labels with no predicted samples. Use `zero_division` parameter to control this behavior.\n",
      "  _warn_prf(average, modifier, msg_start, len(result))\n",
      "C:\\Users\\bruno.gonzalez\\Miniconda3\\envs\\pdsh\\lib\\site-packages\\sklearn\\metrics\\_classification.py:1308: UndefinedMetricWarning: Precision and F-score are ill-defined and being set to 0.0 in labels with no predicted samples. Use `zero_division` parameter to control this behavior.\n",
      "  _warn_prf(average, modifier, msg_start, len(result))\n",
      "C:\\Users\\bruno.gonzalez\\Miniconda3\\envs\\pdsh\\lib\\site-packages\\sklearn\\metrics\\_classification.py:1308: UndefinedMetricWarning: Precision and F-score are ill-defined and being set to 0.0 in labels with no predicted samples. Use `zero_division` parameter to control this behavior.\n",
      "  _warn_prf(average, modifier, msg_start, len(result))\n"
     ]
    }
   ],
   "source": [
    "report = classification_report(y_test, y_test_pred)\n",
    "print(report)"
   ],
   "metadata": {
    "collapsed": false,
    "pycharm": {
     "name": "#%%\n"
    }
   }
  },
  {
   "cell_type": "markdown",
   "source": [
    "## Logistic Regression with minmax scaller"
   ],
   "metadata": {
    "collapsed": false
   }
  },
  {
   "cell_type": "code",
   "execution_count": 92,
   "outputs": [],
   "source": [
    "from sklearn.pipeline import Pipeline\n",
    "from sklearn.preprocessing import MinMaxScaler"
   ],
   "metadata": {
    "collapsed": false,
    "pycharm": {
     "name": "#%%\n"
    }
   }
  },
  {
   "cell_type": "code",
   "execution_count": 93,
   "outputs": [],
   "source": [
    "pipe = Pipeline([('scaler', MinMaxScaler()),\n",
    "                 ('reg', LogisticRegression(random_state=0, verbose=10, n_jobs=2))])"
   ],
   "metadata": {
    "collapsed": false,
    "pycharm": {
     "name": "#%%\n"
    }
   }
  },
  {
   "cell_type": "code",
   "execution_count": 94,
   "outputs": [
    {
     "name": "stderr",
     "output_type": "stream",
     "text": [
      "[Parallel(n_jobs=2)]: Using backend LokyBackend with 2 concurrent workers.\n",
      "[Parallel(n_jobs=2)]: Done   1 tasks      | elapsed:    4.3s\n",
      "[Parallel(n_jobs=2)]: Done   1 out of   1 | elapsed:    4.3s finished\n"
     ]
    },
    {
     "data": {
      "text/plain": "Pipeline(steps=[('scaler', MinMaxScaler()),\n                ('reg',\n                 LogisticRegression(n_jobs=2, random_state=0, verbose=10))])"
     },
     "execution_count": 94,
     "metadata": {},
     "output_type": "execute_result"
    }
   ],
   "source": [
    "pipe.fit(X_train, y_train)"
   ],
   "metadata": {
    "collapsed": false,
    "pycharm": {
     "name": "#%%\n"
    }
   }
  },
  {
   "cell_type": "code",
   "execution_count": 95,
   "outputs": [],
   "source": [
    "y_test_pred = m_log.predict(X_test)"
   ],
   "metadata": {
    "collapsed": false,
    "pycharm": {
     "name": "#%%\n"
    }
   }
  },
  {
   "cell_type": "code",
   "execution_count": 96,
   "outputs": [
    {
     "data": {
      "text/plain": "array([[8050,    0],\n       [1065,    0]], dtype=int64)"
     },
     "execution_count": 96,
     "metadata": {},
     "output_type": "execute_result"
    }
   ],
   "source": [
    "confusion = confusion_matrix(y_test, y_test_pred)\n",
    "confusion"
   ],
   "metadata": {
    "collapsed": false,
    "pycharm": {
     "name": "#%%\n"
    }
   }
  },
  {
   "cell_type": "code",
   "execution_count": 97,
   "outputs": [
    {
     "name": "stdout",
     "output_type": "stream",
     "text": [
      "              precision    recall  f1-score   support\n",
      "\n",
      "           0       0.88      1.00      0.94      8050\n",
      "           1       0.00      0.00      0.00      1065\n",
      "\n",
      "    accuracy                           0.88      9115\n",
      "   macro avg       0.44      0.50      0.47      9115\n",
      "weighted avg       0.78      0.88      0.83      9115\n",
      "\n"
     ]
    },
    {
     "name": "stderr",
     "output_type": "stream",
     "text": [
      "C:\\Users\\bruno.gonzalez\\Miniconda3\\envs\\pdsh\\lib\\site-packages\\sklearn\\metrics\\_classification.py:1308: UndefinedMetricWarning: Precision and F-score are ill-defined and being set to 0.0 in labels with no predicted samples. Use `zero_division` parameter to control this behavior.\n",
      "  _warn_prf(average, modifier, msg_start, len(result))\n",
      "C:\\Users\\bruno.gonzalez\\Miniconda3\\envs\\pdsh\\lib\\site-packages\\sklearn\\metrics\\_classification.py:1308: UndefinedMetricWarning: Precision and F-score are ill-defined and being set to 0.0 in labels with no predicted samples. Use `zero_division` parameter to control this behavior.\n",
      "  _warn_prf(average, modifier, msg_start, len(result))\n",
      "C:\\Users\\bruno.gonzalez\\Miniconda3\\envs\\pdsh\\lib\\site-packages\\sklearn\\metrics\\_classification.py:1308: UndefinedMetricWarning: Precision and F-score are ill-defined and being set to 0.0 in labels with no predicted samples. Use `zero_division` parameter to control this behavior.\n",
      "  _warn_prf(average, modifier, msg_start, len(result))\n"
     ]
    }
   ],
   "source": [
    "report = classification_report(y_test, y_test_pred)\n",
    "print(report)"
   ],
   "metadata": {
    "collapsed": false,
    "pycharm": {
     "name": "#%%\n"
    }
   }
  },
  {
   "cell_type": "markdown",
   "source": [
    "## Logistic Regression with CV"
   ],
   "metadata": {
    "collapsed": false
   }
  },
  {
   "cell_type": "code",
   "execution_count": 103,
   "outputs": [],
   "source": [
    "from sklearn.model_selection import GridSearchCV"
   ],
   "metadata": {
    "collapsed": false,
    "pycharm": {
     "name": "#%%\n"
    }
   }
  },
  {
   "cell_type": "code",
   "execution_count": 139,
   "outputs": [],
   "source": [
    "parameters = {'reg__C':[0.1, 1, 10], 'reg__max_iter': [100,200, 300]}"
   ],
   "metadata": {
    "collapsed": false,
    "pycharm": {
     "name": "#%%\n"
    }
   }
  },
  {
   "cell_type": "code",
   "execution_count": 140,
   "outputs": [],
   "source": [
    "pipe = Pipeline([('scaler', MinMaxScaler()),\n",
    "                 ('reg', LogisticRegression(random_state=0, n_jobs=2))])"
   ],
   "metadata": {
    "collapsed": false,
    "pycharm": {
     "name": "#%%\n"
    }
   }
  },
  {
   "cell_type": "code",
   "execution_count": 141,
   "outputs": [],
   "source": [
    "gs_log = GridSearchCV(pipe, parameters, verbose=1, n_jobs=2, scoring='recall')"
   ],
   "metadata": {
    "collapsed": false,
    "pycharm": {
     "name": "#%%\n"
    }
   }
  },
  {
   "cell_type": "code",
   "execution_count": 142,
   "outputs": [
    {
     "name": "stdout",
     "output_type": "stream",
     "text": [
      "Fitting 5 folds for each of 9 candidates, totalling 45 fits\n"
     ]
    },
    {
     "data": {
      "text/plain": "GridSearchCV(estimator=Pipeline(steps=[('scaler', MinMaxScaler()),\n                                       ('reg',\n                                        LogisticRegression(n_jobs=2,\n                                                           random_state=0))]),\n             n_jobs=2,\n             param_grid={'reg__C': [0.1, 1, 10],\n                         'reg__max_iter': [100, 200, 300]},\n             scoring='recall', verbose=1)"
     },
     "execution_count": 142,
     "metadata": {},
     "output_type": "execute_result"
    }
   ],
   "source": [
    "gs_log.fit(X_train, y_train)"
   ],
   "metadata": {
    "collapsed": false,
    "pycharm": {
     "name": "#%%\n"
    }
   }
  },
  {
   "cell_type": "markdown",
   "source": [],
   "metadata": {
    "collapsed": false
   }
  },
  {
   "cell_type": "code",
   "execution_count": 143,
   "outputs": [
    {
     "data": {
      "text/plain": "Pipeline(steps=[('scaler', MinMaxScaler()),\n                ('reg', LogisticRegression(C=10, n_jobs=2, random_state=0))])"
     },
     "execution_count": 143,
     "metadata": {},
     "output_type": "execute_result"
    }
   ],
   "source": [
    "gs_log.best_estimator_"
   ],
   "metadata": {
    "collapsed": false,
    "pycharm": {
     "name": "#%%\n"
    }
   }
  },
  {
   "cell_type": "code",
   "execution_count": 144,
   "outputs": [],
   "source": [
    "y_test_pred = gs_log.predict(X_test)"
   ],
   "metadata": {
    "collapsed": false,
    "pycharm": {
     "name": "#%%\n"
    }
   }
  },
  {
   "cell_type": "code",
   "execution_count": 145,
   "outputs": [
    {
     "data": {
      "text/plain": "array([[8050,    0],\n       [1060,    5]], dtype=int64)"
     },
     "execution_count": 145,
     "metadata": {},
     "output_type": "execute_result"
    }
   ],
   "source": [
    "confusion = confusion_matrix(y_test, y_test_pred)\n",
    "confusion"
   ],
   "metadata": {
    "collapsed": false,
    "pycharm": {
     "name": "#%%\n"
    }
   }
  },
  {
   "cell_type": "code",
   "execution_count": 146,
   "outputs": [
    {
     "name": "stdout",
     "output_type": "stream",
     "text": [
      "              precision    recall  f1-score   support\n",
      "\n",
      "           0       0.88      1.00      0.94      8050\n",
      "           1       1.00      0.00      0.01      1065\n",
      "\n",
      "    accuracy                           0.88      9115\n",
      "   macro avg       0.94      0.50      0.47      9115\n",
      "weighted avg       0.90      0.88      0.83      9115\n",
      "\n"
     ]
    }
   ],
   "source": [
    "report = classification_report(y_test, y_test_pred)\n",
    "print(report)"
   ],
   "metadata": {
    "collapsed": false,
    "pycharm": {
     "name": "#%%\n"
    }
   }
  },
  {
   "cell_type": "markdown",
   "source": [
    "## Gradient Boosting"
   ],
   "metadata": {
    "collapsed": false
   }
  },
  {
   "cell_type": "code",
   "execution_count": 147,
   "outputs": [],
   "source": [
    "from sklearn.ensemble import GradientBoostingClassifier"
   ],
   "metadata": {
    "collapsed": false,
    "pycharm": {
     "name": "#%%\n"
    }
   }
  },
  {
   "cell_type": "code",
   "execution_count": 155,
   "outputs": [],
   "source": [
    "parameters = {'learning_rate':[0.1, 0.5], 'n_estimators': [100,300, 500]}"
   ],
   "metadata": {
    "collapsed": false,
    "pycharm": {
     "name": "#%%\n"
    }
   }
  },
  {
   "cell_type": "code",
   "execution_count": 156,
   "outputs": [],
   "source": [
    "gs_gb = GridSearchCV(GradientBoostingClassifier(), parameters, verbose=1, n_jobs=2, scoring='recall')"
   ],
   "metadata": {
    "collapsed": false,
    "pycharm": {
     "name": "#%%\n"
    }
   }
  },
  {
   "cell_type": "code",
   "execution_count": 157,
   "outputs": [
    {
     "name": "stdout",
     "output_type": "stream",
     "text": [
      "Fitting 5 folds for each of 6 candidates, totalling 30 fits\n"
     ]
    },
    {
     "data": {
      "text/plain": "GridSearchCV(estimator=GradientBoostingClassifier(), n_jobs=2,\n             param_grid={'learning_rate': [0.1, 0.5],\n                         'n_estimators': [100, 300, 500]},\n             scoring='recall', verbose=1)"
     },
     "execution_count": 157,
     "metadata": {},
     "output_type": "execute_result"
    }
   ],
   "source": [
    "gs_gb.fit(X_train, y_train)"
   ],
   "metadata": {
    "collapsed": false,
    "pycharm": {
     "name": "#%%\n"
    }
   }
  },
  {
   "cell_type": "code",
   "execution_count": 158,
   "outputs": [
    {
     "data": {
      "text/plain": "GradientBoostingClassifier(learning_rate=0.5, n_estimators=500)"
     },
     "execution_count": 158,
     "metadata": {},
     "output_type": "execute_result"
    }
   ],
   "source": [
    "gs_gb.best_estimator_"
   ],
   "metadata": {
    "collapsed": false,
    "pycharm": {
     "name": "#%%\n"
    }
   }
  },
  {
   "cell_type": "code",
   "execution_count": 159,
   "outputs": [],
   "source": [
    "y_test_pred = gs_gb.predict(X_test)"
   ],
   "metadata": {
    "collapsed": false,
    "pycharm": {
     "name": "#%%\n"
    }
   }
  },
  {
   "cell_type": "code",
   "execution_count": 160,
   "outputs": [
    {
     "data": {
      "text/plain": "array([[7838,  212],\n       [ 847,  218]], dtype=int64)"
     },
     "execution_count": 160,
     "metadata": {},
     "output_type": "execute_result"
    }
   ],
   "source": [
    "confusion = confusion_matrix(y_test, y_test_pred)\n",
    "confusion"
   ],
   "metadata": {
    "collapsed": false,
    "pycharm": {
     "name": "#%%\n"
    }
   }
  },
  {
   "cell_type": "code",
   "execution_count": 161,
   "outputs": [
    {
     "name": "stdout",
     "output_type": "stream",
     "text": [
      "              precision    recall  f1-score   support\n",
      "\n",
      "           0       0.90      0.97      0.94      8050\n",
      "           1       0.51      0.20      0.29      1065\n",
      "\n",
      "    accuracy                           0.88      9115\n",
      "   macro avg       0.70      0.59      0.61      9115\n",
      "weighted avg       0.86      0.88      0.86      9115\n",
      "\n"
     ]
    }
   ],
   "source": [
    "report = classification_report(y_test, y_test_pred)\n",
    "print(report)"
   ],
   "metadata": {
    "collapsed": false,
    "pycharm": {
     "name": "#%%\n"
    }
   }
  },
  {
   "cell_type": "code",
   "execution_count": null,
   "outputs": [],
   "source": [],
   "metadata": {
    "collapsed": false,
    "pycharm": {
     "name": "#%%\n"
    }
   }
  }
 ]
}