{
 "cells": [
  {
   "cell_type": "markdown",
   "metadata": {},
   "source": [
    "# Module 3 Part 1: Distribution of Random Variables"
   ]
  },
  {
   "cell_type": "markdown",
   "metadata": {},
   "source": [
    "# Introduction"
   ]
  },
  {
   "cell_type": "markdown",
   "metadata": {},
   "source": [
    "This module covers the most common probability distributions. We will also examine the Central Limit Theorem (CLT) and its relation to the normal distribution.\n",
    "\n",
    "This module consists of 2 parts:\n",
    "\n",
    "- **Part 1** - Distribution of Random Variables\n",
    "\n",
    "- **Part 2** - Probability Density Functions and the Central Limit Theorem\n",
    "\n",
    "Each part is provided in a separate notebook file. It is recommended that you follow the order\n",
    "of the notebooks."
   ]
  },
  {
   "cell_type": "markdown",
   "metadata": {},
   "source": [
    "# Learning Outcomes"
   ]
  },
  {
   "cell_type": "markdown",
   "metadata": {},
   "source": [
    "In this module you will learn about the following in preparation for making inferences:\n",
    "\n",
    "1. Probability distributions for discrete variables\n",
    "\n",
    "    - Uniform\n",
    "    - Bernoulli\n",
    "    - Geometric\n",
    "    - Binomial\n",
    "    - Poisson<br><br>\n",
    "\n",
    "2. Probability distributions for continuous variables\n",
    "\n",
    "    - Uniform\n",
    "    - Normal<br><br>\n",
    "\n",
    "3. The Central Limit Theorem (CLT)"
   ]
  },
  {
   "cell_type": "markdown",
   "metadata": {},
   "source": [
    "# Readings and Resources"
   ]
  },
  {
   "cell_type": "markdown",
   "metadata": {},
   "source": [
    "We invite you to further supplement this notebook with the following recommended texts:\n",
    "\n",
    "Diez, D., Çetinkaya-Rundel, M.,  Barr, C.D. (2019). Chapter 4: Distributions of random variables *OpenIntro Statistics (4th Ed.).* https://www.openintro.org/stat/textbook.php?stat_book=os\n",
    "\n",
    "\n",
    "OpenStax College. (2018). Chapters 4: Discrete Random Variables, Chapter 5: Continuous Random Variables, and Chapter 6:  The Normal Distribution. Introductory statistics. *OpenStax CNX.* https://openstax.org/details/introductory-statistics\n"
   ]
  },
  {
   "cell_type": "markdown",
   "metadata": {},
   "source": [
    "<h1>Table of Contents<span class=\"tocSkip\"></span></h1>\n",
    "<br>\n",
    "<div class=\"toc\">\n",
    "<ul class=\"toc-item\">\n",
    "<li><span><a href=\"#Module-3-Part-1:-Distribution-of-Random-Variables\" data-toc-modified-id=\"Module-3-Part-1:-Distribution-of-Random-Variables\">Module 3 Part 1: Distribution of Random Variables</a></span>\n",
    "</li>\n",
    "<li><span><a href=\"#Introduction\" data-toc-modified-id=\"Introduction\">Introduction</a></span>\n",
    "</li>\n",
    "<li><span><a href=\"#Learning-Outcomes\" data-toc-modified-id=\"Learning-Outcomes\">Learning Outcomes</a></span>\n",
    "</li>\n",
    "<li><span><a href=\"#Readings-and-Resources\" data-toc-modified-id=\"Readings-and-Resources\">Readings and Resources</a></span>\n",
    "</li>\n",
    "<li><span><a href=\"#Table-of-Contents\" data-toc-modified-id=\"Table-of-Contents\">Table of Contents</a></span>\n",
    "</li>\n",
    "<li><span><a href=\"#Key-Definitions\" data-toc-modified-id=\"Key-Definitions\">Key Definitions</a></span>\n",
    "</li>\n",
    "<li><span><a href=\"#Simulating-Random-Experiments-with-Python\" data-toc-modified-id=\"Simulating-Random-Experiments-with-Python\">Simulating Random Experiments with Python</a></span>\n",
    "</li>\n",
    "<li><span><a href=\"#Probability-Distributions\" data-toc-modified-id=\"Probability-Distributions\">Probability Distributions</a></span>\n",
    "<ul class=\"toc-item\">\n",
    "<li><span><a href=\"#Probability-distribution-function-(PDF)-for-a-discrete-random-variable\" data-toc-modified-id=\"Probability-distribution-function-(PDF)-for-a-discrete-random-variable\">Probability distribution function (PDF) for a discrete random variable</a></span>\n",
    "</li>\n",
    "<li><span><a href=\"#Measures-of-distributions\" data-toc-modified-id=\"Measures-of-distributions\">Measures of distributions</a></span>\n",
    "</li>\n",
    "<li><span><a href=\"#Properties-of-expected-values-and-variances\" data-toc-modified-id=\"Properties-of-expected-values-and-variances\">Properties of expected values and variances</a></span>\n",
    "</li>\n",
    "<li><span><a href=\"#Uniform-distribution\" data-toc-modified-id=\"Uniform-distribution\">Uniform distribution</a></span>\n",
    "</li>\n",
    "<li><span><a href=\"#Bernoulli-distribution\" data-toc-modified-id=\"Bernoulli-distribution\">Bernoulli distribution</a></span>\n",
    "</li>\n",
    "<li><span><a href=\"#Geometric-distribution\" data-toc-modified-id=\"Geometric-distribution\">Geometric distribution</a></span>\n",
    "</li>\n",
    "<li><span><a href=\"#Binomial-distribution\" data-toc-modified-id=\"Binomial-distribution\">Binomial distribution</a></span>\n",
    "</li>\n",
    "<li><span><a href=\"#Poisson-distribution\" data-toc-modified-id=\"Poisson-distribution\">Poisson distribution</a></span>\n",
    "</li>\n",
    "<li><span><a href=\"#More-examples-using-distributions\" data-toc-modified-id=\"More-examples-using-distributions\">More examples using distributions</a></span>\n",
    "</li>\n",
    "</ul>\n",
    "</li>\n",
    "<li><span><a href=\"#References\" data-toc-modified-id=\"References\">References</a></span>\n",
    "</li>\n",
    "</ul>\n",
    "</div>"
   ]
  },
  {
   "cell_type": "markdown",
   "metadata": {},
   "source": [
    "# Key Definitions"
   ]
  },
  {
   "cell_type": "markdown",
   "metadata": {},
   "source": [
    "We'll begin by introducing some important definitions which we will use throughout this module.\n",
    "\n",
    "| ***Concept*** | ***Definition*** |\n",
    "| :---: | :--- |\n",
    "| **Probability** | A mathematical tool used to study randomness. It deals with the chance (the likelihood) of an event occurring. |\n",
    "| **Variable** | Usually noted with capital letters such as $X$ and $Y$, *a variable is a characteristic or measurement that can be determined for each member of a population*. Variables may be numerical or categorical. |\n",
    "| **Numerical Variable** | A variable that can take on values with numerical units such as weight (in pounds) and time (in hours). |\n",
    "| **Categorical Variable** | A variable that represents objects that can be placed into categories. |\n",
    "| **Deterministic Experiment** | An experiment that, when repeated, will always have the same outcome. For example, if you determine the eye colour of an individual, repeating the experiment will always result in the same colour. |\n",
    "| **Probabilistic or Stochastic Experiment** | A probabilistic experiment has an unknown or uncertain outcome. For example, if you count the number of ducks on a lake at a specific moment, or the number of members of a randomly chosen family. |\n",
    "| **Random Variable** | The outcome of a probabilistic experiment. It can also be thought of as a function or rule that assigns a number to each outcome of a probabilistic experiment. Although the outcome of a probabilistic experiment is unknown, it cannot take just any value. Further, the probability of each possible value can be determined. When using notation associated with a random variable, upper case letters such as $X$ or $Y$ denote the definition of the random variable, and lower case letters like $x$ or $y$ denote the value of a random variable. If $X$ is a random variable, then $X$ is written in words and $x$ is given as a number. For example, if we measure 12 apples: $X =$ “Number of apples”, $x = 12$. |\n",
    "| **Discrete Random Variable** | A random variable that can take on a countable number of values. For example, if we define $X$ as the number of heads observed in an experiment that flips a coin 10 times. |\n",
    "| **Continuous Random Variable** | A random variable whose values are uncountable, and can take any value within a range &mdash; usually obtained by measuring. Measurements of time, height, weight, and distance are all examples of continuous random variables. |\n",
    "| **Probability Distribution** | A table, formula, or graph that describes the values of a random variable and the probability associated with these values. In this module, we will expand on probability distributions for both discrete and continuous variables. |"
   ]
  },
  {
   "cell_type": "markdown",
   "metadata": {},
   "source": [
    "# Simulating Random Experiments with Python"
   ]
  },
  {
   "cell_type": "markdown",
   "metadata": {},
   "source": [
    "**Python**, like many other languages, can simulate random experiments. The experiment can yield an unknown value; however, each possible value has a determined probability.\n",
    "\n",
    "In this case, we will sample 1000 M&Ms and show the resulting frequency table, frequency distribution, and probability distribution."
   ]
  },
  {
   "cell_type": "code",
   "execution_count": 1,
   "metadata": {},
   "outputs": [],
   "source": [
    "#Import libraries\n",
    "import random\n",
    "import pandas as pd\n",
    "import numpy as np\n",
    "\n",
    "%matplotlib inline\n",
    "import matplotlib.pyplot as plt\n",
    "from scipy import stats\n",
    "import seaborn as sns\n",
    "from IPython.display import display, HTML\n",
    "\n",
    "sns.set_style(\"whitegrid\")\n",
    "sns.set_context(\"talk\", font_scale=1.4)"
   ]
  },
  {
   "cell_type": "code",
   "execution_count": 2,
   "metadata": {},
   "outputs": [
    {
     "data": {
      "text/plain": "        Count\nBrown     306\nYellow    202\nRed       213\nGreen     112\nOrange     89\nBlue       78",
      "text/html": "<div>\n<style scoped>\n    .dataframe tbody tr th:only-of-type {\n        vertical-align: middle;\n    }\n\n    .dataframe tbody tr th {\n        vertical-align: top;\n    }\n\n    .dataframe thead th {\n        text-align: right;\n    }\n</style>\n<table border=\"1\" class=\"dataframe\">\n  <thead>\n    <tr style=\"text-align: right;\">\n      <th></th>\n      <th>Count</th>\n    </tr>\n  </thead>\n  <tbody>\n    <tr>\n      <th>Brown</th>\n      <td>306</td>\n    </tr>\n    <tr>\n      <th>Yellow</th>\n      <td>202</td>\n    </tr>\n    <tr>\n      <th>Red</th>\n      <td>213</td>\n    </tr>\n    <tr>\n      <th>Green</th>\n      <td>112</td>\n    </tr>\n    <tr>\n      <th>Orange</th>\n      <td>89</td>\n    </tr>\n    <tr>\n      <th>Blue</th>\n      <td>78</td>\n    </tr>\n  </tbody>\n</table>\n</div>"
     },
     "execution_count": 2,
     "metadata": {},
     "output_type": "execute_result"
    }
   ],
   "source": [
    "# Define Possible Outcomes (sample space)\n",
    "colours = [\"Brown\", \"Yellow\", \"Red\", \"Green\", \"Orange\", \"Blue\"]\n",
    "\n",
    "# Assign a probability to every possible outcome. Note that\n",
    "# the total should add to one\n",
    "probs = [0.3, 0.2, 0.2, 0.1, 0.1, 0.1]\n",
    "\n",
    "# Set initial counts to zero\n",
    "m_and_ms = {\"Brown\": 0, \"Yellow\": 0, \"Red\": 0, \"Green\": 0, \"Orange\": 0, \"Blue\": 0}\n",
    "\n",
    "# Simulation:  select colours randomly as per the predetermined probabilities\n",
    "for counter in range(1000):\n",
    "    colour = np.random.choice(colours, p=probs)\n",
    "    m_and_ms[colour] += 1\n",
    "\n",
    "# Create a dict for reporting\n",
    "m_and_ms_df = pd.DataFrame.from_dict(m_and_ms, orient=\"index\")\n",
    "m_and_ms_df.columns = [\"Count\"]\n",
    "m_and_ms_df"
   ]
  },
  {
   "cell_type": "code",
   "execution_count": 3,
   "metadata": {},
   "outputs": [
    {
     "data": {
      "text/plain": "<Figure size 1296x720 with 1 Axes>",
      "image/png": "[encoded data removed]"
     },
     "metadata": {},
     "output_type": "display_data"
    }
   ],
   "source": [
    "# Plot probabilities\n",
    "plt.figure(figsize=(18,10))\n",
    "plt.bar(np.arange(6),probs,color=\"grey\")\n",
    "plt.xticks(np.arange(6), colours)\n",
    "plt.show()"
   ]
  },
  {
   "cell_type": "code",
   "execution_count": 4,
   "metadata": {},
   "outputs": [
    {
     "data": {
      "text/plain": "<Figure size 1296x720 with 1 Axes>",
      "image/png": "[encoded data removed]"
     },
     "metadata": {},
     "output_type": "display_data"
    }
   ],
   "source": [
    "# Plot the frequencies obtained via the simulation.\n",
    "# Note that because of the randomness of the process, the frequencies do not\n",
    "# exactly match the probabilities\n",
    "frequency = m_and_ms_df[\"Count\"]\n",
    "plt.figure(figsize=(18,10))\n",
    "plt.bar(np.arange(6),frequency,color=\"grey\")\n",
    "plt.xticks(np.arange(6), colours)\n",
    "plt.show()"
   ]
  },
  {
   "cell_type": "markdown",
   "metadata": {},
   "source": [
    "**NOTE:** The relative heights of the bars do not match the graph of probabilities. Since we simulated drawing 1000 M&Ms, the frequencies will be close to the theoretical probabilities, but they will never be exactly the same."
   ]
  },
  {
   "cell_type": "markdown",
   "metadata": {},
   "source": [
    "# Probability Distributions"
   ]
  },
  {
   "cell_type": "markdown",
   "metadata": {},
   "source": [
    "## Probability distribution function (PDF) for a discrete random variable"
   ]
  },
  {
   "cell_type": "markdown",
   "metadata": {},
   "source": [
    "In simple terms, a **probability distribution function** (PDF) assigns a probability to each possible value of a discrete random variable. The requirements of a PDF are similar to the rules that apply to probabilities:\n",
    "\n",
    "\n",
    "1. The domain of $P$ must be the set of all possible states of $x$ (exhaustive). $P$ is defined for all ($\\forall$) $x$ that are included ($\\subset$) in $X$.<br><br>\n",
    "<center> $P$ is defined $\\forall x \\subset X$ </center><br>\n",
    "\n",
    "2.  Each probability is between 0 and 1, inclusive.<br><br>\n",
    "<center> $0\\leq P(x) \\leq 1$     $\\forall x \\subset X$ </center><br>\n",
    "\n",
    "3. The sum of the probabilities is equal to 1.<br><br>\n",
    "<center> $\\sum_{\\substack{x \\subset X}} P(x) = 1$ </center>\n"
   ]
  },
  {
   "cell_type": "markdown",
   "metadata": {},
   "source": [
    "If we follow the frequentist definition explained in the previous module, we can count the frequency of each possible outcome after a large enough number of trials to create a frequency distribution table. If we report proportions or relative frequencies rather than frequencies, we obtain a probability distribution.<br><br>\n",
    "\n",
    "<center>$P(x_i)=\\frac{frequency(x_i)}{\\sum_{\\substack{x \\subset X}}frequency(x_j)}$</center>\n",
    "\n",
    "When we define the probability according to the equation above, the three rules that apply to probabilities are satisfied."
   ]
  },
  {
   "cell_type": "markdown",
   "metadata": {},
   "source": [
    "For example, let's say we want to estimate size preferences for coffee customers at a specific location. If we sample 1000 customers and obtain the following counts:\n",
    "\n",
    "* 200 customers purchased a large coffee\n",
    "* 500 customers purchased a medium coffee\n",
    "* 300 customers purchased a small coffee\n",
    "\n",
    "Then, according to the frequentist approach, the probabilities that a customer purchases a large, medium and small coffee are:\n",
    "\n",
    "* $P(\\textrm{large})=0.2$\n",
    "\n",
    "* $P(\\textrm{medium})=0.5$\n",
    "\n",
    "* $P(\\textrm{small})=0.3$"
   ]
  },
  {
   "cell_type": "markdown",
   "metadata": {},
   "source": [
    "## Measures of distributions"
   ]
  },
  {
   "cell_type": "markdown",
   "metadata": {},
   "source": [
    "The **expected value $E(x)$** is often referred to as the \"long-term\" average or mean. This means that over the long term &mdash; after performing an experiment over and over &mdash; you would expect this average. The population mean is the weighted average of all of its values, where the weights are the probabilities. The expected value of a distribution is represented by $E(X)$.\n",
    "\n",
    "$$ \\mu=E(X) = \\sum_{\\substack{x \\subset X}} P(x)\\cdot x$$\n",
    "\n",
    "The **variance** measures how much the values of a function of a random variable vary as we sample different values of $x$. Variance is the expectation of the squared deviation of a random variable from its mean, and it measures the spread of the random variable from the mean:\n",
    "\n",
    "$$ Var(x) = \\sigma ^{2} =\\sum_{\\substack{x \\subset X}} P(x)\\cdot (x-\\mu)^{2}$$\n",
    "\n",
    "where $\\sigma$ is defined as the standard deviation.\n",
    "\n",
    "These definitions can be extended to continuous variables by replacing summations with integrals. We will not present them here as it is beyond the level of this course."
   ]
  },
  {
   "cell_type": "markdown",
   "metadata": {},
   "source": [
    "##  Properties of expected values and variances"
   ]
  },
  {
   "cell_type": "markdown",
   "metadata": {},
   "source": [
    "These properties are useful when we create a new variable that is a combination of other variables.\n",
    "According to our notation, $X$ is a random variable and $c$ is a constant.\n",
    "\n",
    "\n",
    "1. $E(c)=c$\n",
    "\n",
    "2. $E(X+c)=E(X)+c$\n",
    "\n",
    "3. $E(c \\cdot X)=c \\cdot E(X)$\n",
    "\n",
    "\n",
    "1. $V(c)=0$\n",
    "\n",
    "2. $V(X+c)=V(X)$\n",
    "\n",
    "3. $V(c\\cdot X)=c^{2} \\cdot V(X)$"
   ]
  },
  {
   "cell_type": "markdown",
   "metadata": {},
   "source": [
    "**Example**\n",
    "\n",
    "Formal mathematical demonstrations are outside of the scope of this course, so instead we will empirically validate the above formulas by simulating samples from defined distributions. We will simulate a sample from a defined distribution and calculate the mean and standard deviation. Using this code, we can show that properties 2 and 3 are valid for $X + c$ and $C \\cdot x$."
   ]
  },
  {
   "cell_type": "code",
   "execution_count": 5,
   "metadata": {},
   "outputs": [
    {
     "data": {
      "text/plain": "array([4, 4, 4, 9, 2, 4, 5, 8, 9, 6, 4, 6, 7, 9, 3, 6, 0, 0, 0, 8, 0, 2,\n       6, 9, 8, 2, 5, 0, 1, 9, 0, 5, 1, 2, 1, 4, 2, 3, 0, 3, 1, 4, 4, 0,\n       6, 2, 0, 2, 2, 1, 9, 6, 3, 0, 0, 8, 8, 9, 6, 0, 0, 5, 4, 0, 6, 1,\n       1, 1, 4, 4, 8, 4, 5, 3, 9, 3, 5, 9, 6, 1, 9, 5, 8, 9, 2, 7, 0, 9,\n       8, 5, 7, 5, 6, 1, 7, 8, 6, 5, 3, 5])"
     },
     "execution_count": 5,
     "metadata": {},
     "output_type": "execute_result"
    }
   ],
   "source": [
    "# random draws\n",
    "x = np.random.randint(0,10,100)\n",
    "x"
   ]
  },
  {
   "cell_type": "code",
   "execution_count": 6,
   "metadata": {},
   "outputs": [],
   "source": [
    "x_times_2 = 2*x\n",
    "x_plus_2 = 2+x"
   ]
  },
  {
   "cell_type": "code",
   "execution_count": 7,
   "metadata": {},
   "outputs": [
    {
     "data": {
      "text/plain": "<Figure size 432x288 with 1 Axes>",
      "image/png": "[encoded data removed]"
     },
     "metadata": {},
     "output_type": "display_data"
    }
   ],
   "source": [
    "plt.plot(x)\n",
    "plt.show()"
   ]
  },
  {
   "cell_type": "code",
   "execution_count": 8,
   "metadata": {},
   "outputs": [
    {
     "data": {
      "text/plain": "<Figure size 432x288 with 1 Axes>",
      "image/png": "[encoded data removed]"
     },
     "metadata": {},
     "output_type": "display_data"
    }
   ],
   "source": [
    "plt.hist(x, bins=20)\n",
    "plt.show()"
   ]
  },
  {
   "cell_type": "code",
   "execution_count": 9,
   "metadata": {},
   "outputs": [
    {
     "data": {
      "text/plain": "(('mean ', 4.26), ('variance ', 9.0124), ('std ', 3.0020659553047797))"
     },
     "execution_count": 9,
     "metadata": {},
     "output_type": "execute_result"
    }
   ],
   "source": [
    "mean = np.mean(x)\n",
    "var = np.var(x)\n",
    "std = np.std(x)\n",
    "\n",
    "(\"mean \", mean), (\"variance \", var), (\"std \", std)"
   ]
  },
  {
   "cell_type": "code",
   "execution_count": 10,
   "metadata": {},
   "outputs": [
    {
     "data": {
      "text/plain": "(('mean ', 8.52), ('variance ', 36.0496), ('std ', 6.004131910609559))"
     },
     "execution_count": 10,
     "metadata": {},
     "output_type": "execute_result"
    }
   ],
   "source": [
    "mean = np.mean(x_times_2)\n",
    "var = np.var(x_times_2)\n",
    "std = np.std(x_times_2)\n",
    "\n",
    "(\"mean \", mean), (\"variance \", var), (\"std \", std)"
   ]
  },
  {
   "cell_type": "code",
   "execution_count": 11,
   "metadata": {},
   "outputs": [
    {
     "data": {
      "text/plain": "(('mean ', 6.26), ('variance ', 9.0124), ('std ', 3.0020659553047797))"
     },
     "execution_count": 11,
     "metadata": {},
     "output_type": "execute_result"
    }
   ],
   "source": [
    "mean = np.mean(x_plus_2)\n",
    "var = np.var(x_plus_2)\n",
    "std = np.std(x_plus_2)\n",
    "\n",
    "(\"mean \", mean), (\"variance \", var), (\"std \", std)"
   ]
  },
  {
   "cell_type": "markdown",
   "metadata": {},
   "source": [
    "**EXERCISE 1**\n",
    "\n",
    "Consider the following card game with a well-shuffled deck of cards. If you draw a red card, you win nothing. If you get a spade, you win 5 dollars. For any club, you win 10, plus an extra \\\\$20 for the ace of clubs.\n",
    "\n",
    "1. Create a probability model for the amount you can win at this game. Also, find the expected winnings for a single game and the standard deviation of the winnings.<br><br>\n",
    "\n",
    "2. What is the maximum amount you would be willing to pay to play this game? Explain your reasoning."
   ]
  },
  {
   "cell_type": "code",
   "execution_count": 12,
   "metadata": {},
   "outputs": [],
   "source": [
    "# Your work\n",
    "cards = [\"Red\", \"Spade\", \"Club\", \"Club_ace\"]\n",
    "\n",
    "# Assign a probability to every possible outcome. Note that\n",
    "# the total should add to one\n",
    "probs = [26/52, 13/52, 12/52, 1/52]\n",
    "\n",
    "gains = {\"Red\": 0, \"Spade\": 5, \"Club\": 10, \"Club_ace\": 30}"
   ]
  },
  {
   "cell_type": "code",
   "execution_count": null,
   "outputs": [],
   "source": [
    "for counter in range(1000):\n",
    "    card = np.random.choice(cards, p=probs)\n",
    "    E = gains[card]*"
   ],
   "metadata": {
    "collapsed": false,
    "pycharm": {
     "name": "#%%\n"
    }
   }
  },
  {
   "cell_type": "markdown",
   "metadata": {},
   "source": [
    "**Solution**"
   ]
  },
  {
   "cell_type": "markdown",
   "metadata": {},
   "source": [
    "<center><i><b>Probability Model</b></i></center>\n",
    "\n",
    "\n",
    "|For Each Outcome Of The Game$$(i)$$|Red Card|Spade|Clubs Without Ace |Ace of Clubs|Total|\n",
    "|:---:|:---:|---:|---:|---:|---:|\n",
    "|$$x_i$$|\\$0|\\$5|\\$10|\\$30||\n",
    "|$$P(X=x_i)$$|26/52|13/52|12/52|1/52||\n",
    "|$${x_i P(X=x_i)}$$|0\\*26/52|5\\*13/52|10\\*12/52|30\\*1/52|\\$4.14|\n",
    "|$${(x_i-\\mu)^2 P(X=x_i)}$$|8.5475|0.1872|7.9390|12.8657|\\$29.5396|\n",
    "\n",
    "- Average Expected Value E(X) or $\\mu=E(X)=\\sum_{i=1}^{k}{x_i P(X=x_i)}$ = \\$4.14\n",
    "\n",
    "\n",
    "- Variance Var(X) or $\\sigma^2= \\sum_{i=1}^{k}{(x_i-\\mu)^2 P(X=x_i)}$ = 29.5396\n",
    "___\n",
    "\n",
    "1. &nbsp;\n",
    "\n",
    "    - Expected winnings for single game $\\mu$ = \\$4.14\n",
    "    <br><br>\n",
    "    - Standard Deviation $\\sigma = \\sqrt{Var(X)}$ = \\$5.44<br><br>\n",
    "\n",
    "2. I would be willing to pay at most \\$4.14 because it has to be less than the expected winnings for a single game. If I consider the standard deviation, it should be even less, depending on the probability of winning I am willing to accept."
   ]
  },
  {
   "cell_type": "markdown",
   "metadata": {},
   "source": [
    "**Calculations using Python code (this is not a simulation)**"
   ]
  },
  {
   "cell_type": "code",
   "execution_count": 13,
   "metadata": {},
   "outputs": [
    {
     "name": "stdout",
     "output_type": "stream",
     "text": [
      "Average Expected Value: 4.134615384615385\n",
      "(X[i] - m)**2*P[i]: [ 8.54752219  0.18722263  7.93909308 12.8657331 ]\n",
      "Variance:  29.53957100591716\n",
      "STD: 5.435031831177915\n"
     ]
    }
   ],
   "source": [
    "import numpy as np\n",
    "P = [26.0/52, 13.0/52, 12.0/52, 1.0/52]\n",
    "X = [0.0, 5.0, 10.0, 30.0]\n",
    "\n",
    "m = 0\n",
    "for i in range(len(X)):\n",
    "    m = m + X[i]*P[i];\n",
    "print ('Average Expected Value:',m)\n",
    "\n",
    "V = np.array([0.0,0.0,0.0,0.0])\n",
    "for i in range(len(X)):\n",
    "    V[i] = (X[i] - m)**2*P[i];  \n",
    "print ('(X[i] - m)**2*P[i]:', V)\n",
    "print ('Variance: ', V.sum())\n",
    "print ('STD:', V.sum()**(1/2.0))"
   ]
  },
  {
   "cell_type": "markdown",
   "metadata": {},
   "source": [
    "**EXERCISE 2**"
   ]
  },
  {
   "cell_type": "markdown",
   "metadata": {},
   "source": [
    "The game of European roulette involves spinning a wheel with 37 slots: 18 red, 18 black, and 1 green. A ball is spun onto the wheel and will eventually land in a slot, where each slot has an equal chance of capturing the ball. Gamblers can place bets on red or black. If the ball lands on their colour, they double their money. If it lands on another colour, they lose their money.\n",
    "\n",
    "1. Suppose you play roulette and bet $3$ on a single round. What is the expected value and standard deviation of your total winnings?\n",
    "\n",
    "2. Suppose you bet $1$ in three different rounds. What is the expected value and standard deviation of your total winnings?\n",
    "\n",
    "3. How do your answers to parts (a) and (b) compare? What does this say about the riskiness of the two games?"
   ]
  },
  {
   "cell_type": "code",
   "execution_count": 14,
   "metadata": {},
   "outputs": [],
   "source": [
    "# Your work here"
   ]
  },
  {
   "cell_type": "markdown",
   "metadata": {},
   "source": [
    "**Solution**"
   ]
  },
  {
   "cell_type": "markdown",
   "metadata": {},
   "source": [
    "Assuming the player chooses the red colour:"
   ]
  },
  {
   "cell_type": "markdown",
   "metadata": {},
   "source": [
    "Probability Model with 3\n",
    "\n",
    "|For Each Outcome Of The Game$$(i)$$|Red|Black Or Green|Total|\n",
    "|:---|---:|---:|---:|\n",
    "|$$x_i$$|3|-3||\n",
    "|$$P(X=x_i)$$|18/37|19/37||\n",
    "|$${x_i P(X=x_i)}$$|3\\*18/37|-3\\*19/37|-0.081|\n",
    "|${(x_i-\\mu)^2 P(X=x_i)}$|4.6182|4.3751|8.9934|\n",
    "\n",
    "- Average Expected Value E(X) or $\\mu=E(X)=\\sum_{i=1}^{k}{x_i P(X=x_i)}$ = -0.081\n",
    "\n",
    "\n",
    "- Variance Var(X) or $\\sigma^2= \\sum_{i=1}^{k}{(x_i-\\mu)^2 P(X=x_i)}$ = 8.9934\n",
    "\n",
    "\n",
    "- Standard Deviation $\\sigma$ = 3.00\n",
    "\n",
    "Probability Model with 1\n",
    "\n",
    "|For Each Outcome Of The Game$$(i)$$|Red|Black Or Green|Total|\n",
    "|:---|---:|---:|---:|\n",
    "|$$x_i$$|\\$1|\\$-1||\n",
    "|$$P(X=x_i)$$|18/37|19/37||\n",
    "|$${x_i P(X=x_i)}$$|1\\*18/37|-1\\*19/37|-0.027|\n",
    "|$${(x_i-\\mu)^2 P(X=x_i)}$$|0.5131|0.4861|0.9993|\n",
    "\n",
    "- Average Expected Value E(X) or $\\mu=E(X)=\\sum_{i=1}^{k}{x_i P(X=x_i)}$ = -0.027\n",
    "\n",
    "\n",
    "- Variance Var(X) or $\\sigma^2= \\sum_{i=1}^{k}{(x_i-\\mu)^2 P(X=x_i)}$ = 0.9993\n",
    "\n",
    "\n",
    "- Standard Deviation $\\sigma$ = 1.00\n",
    "___\n",
    "\n",
    "1. Expected winnings with a bet of 3 is -0.081, and the standard deviation is 3.00.\n",
    "\n",
    "2. Total expected winnings for 3 games with a bet of 1.00 is 3 * (- 0.027) = -  0.081 with a standard deviation = $1 per game, which results in a total variance of 3.00 and a total standard deviation of 1.73.\n",
    "\n",
    "3. In both scenarios, the expected winnings are the same but the standard deviation for the second strategy is lower, so it is less risky."
   ]
  },
  {
   "cell_type": "markdown",
   "metadata": {},
   "source": [
    "**Calculations using Python code (this is not a simulation)**"
   ]
  },
  {
   "cell_type": "code",
   "execution_count": 15,
   "metadata": {},
   "outputs": [
    {
     "name": "stdout",
     "output_type": "stream",
     "text": [
      "Average Expected Value: -0.0810810810810807\n",
      "(X[i] - m)**2*P[i]: [4.61824571 4.37518015]\n",
      "Variance:  8.993425858290722\n",
      "STD: 2.9989041095524747\n",
      "\n",
      " 3 Games with one dollar bet\n",
      "Average Expected Value: -0.027027027027026973\n",
      "(X[i] - m)**2*P[i]: [0.51313841 0.48613113]\n",
      "Variance:  0.9992695398100804\n",
      "STD: 0.9996347031841584\n",
      "3 one dollar games: 3*E(X): -0.08108108108108092\n"
     ]
    }
   ],
   "source": [
    "P = [18.0/37, 19.0/37]\n",
    "X = [3.0, -3.0]\n",
    "\n",
    "m = 0\n",
    "for i in range(len(X)):\n",
    "    m = m + X[i]*P[i];\n",
    "print ('Average Expected Value:',m)\n",
    "\n",
    "V = np.array([0.0,0.0])\n",
    "for i in range(len(X)):\n",
    "    V[i] = (X[i] - m)**2*P[i];  \n",
    "print ('(X[i] - m)**2*P[i]:', V)\n",
    "print ('Variance: ', V.sum())\n",
    "print ('STD:', V.sum()**(1/2.0))\n",
    "\n",
    "####################################\n",
    "print ('\\n', '3 Games with one dollar bet')\n",
    "P = [18.0/37, 19.0/37]\n",
    "X = [1.0, -1.0]\n",
    "\n",
    "m = 0\n",
    "for i in range(len(X)):\n",
    "    m = m + X[i]*P[i];\n",
    "print ('Average Expected Value:',m)\n",
    "\n",
    "V = np.array([0.0,0.0])\n",
    "for i in range(len(X)):\n",
    "    V[i] = (X[i] - m)**2*P[i];  \n",
    "print ('(X[i] - m)**2*P[i]:', V)\n",
    "print ('Variance: ', V.sum())\n",
    "print ('STD:', V.sum()**(1/2.0))\n",
    "print ('3 one dollar games: 3*E(X):', 3*m)\n",
    "\n"
   ]
  },
  {
   "cell_type": "markdown",
   "metadata": {},
   "source": [
    "## Uniform distribution"
   ]
  },
  {
   "cell_type": "markdown",
   "metadata": {},
   "source": [
    "The **uniform distribution** is the most intuitive distribution for discrete random variables.  The outcome of rolling a die is the classic example of this type of distribution &mdash; there are six possible outcomes: { 1, 2, 3, 4, 5, 6 }, and each value has the same probability: $\\frac{1}{6}$.\n",
    "\n",
    "In the classical definition of probability, when there is no information about the probability of a set of possible outcomes, each one is assigned the same probability.\n",
    "\n",
    "In general, a random variable follows a uniform distribution when the output of an event or experiment is one of a set of $n$ possible integers, and each integer has the same probability $\\frac{1}{n}$.\n",
    "\n",
    "$$\n",
    "f(x) =     \\left\\{ \\begin{array}{rcl}\n",
    "         {\\frac{1}{b-a+1}} & \\mbox{for}\n",
    "         & x = a,\\mbox{ }a+1,\\mbox{ }a+2,...,\\mbox{ }b \\\\ 0  & \\mbox{} & Otherwise \\\\\n",
    "         \\end{array}\\right.\n",
    "$$\n",
    "\n",
    "Let's simulate and plot a uniform distribution:"
   ]
  },
  {
   "cell_type": "code",
   "execution_count": 12,
   "metadata": {},
   "outputs": [
    {
     "data": {
      "text/plain": "<Figure size 432x288 with 1 Axes>",
      "image/png": "[encoded data removed]"
     },
     "metadata": {},
     "output_type": "display_data"
    }
   ],
   "source": [
    "r=stats.uniform.rvs(size=1000)\n",
    "ax = plt.hist(r, bins=25, histtype='stepfilled', label='uniform')\n",
    "plt.legend(loc='best', frameon=False)\n",
    "plt.plot(ax[1], np.ones_like(ax[1]), linewidth=2)\n",
    "plt.show()"
   ]
  },
  {
   "cell_type": "markdown",
   "metadata": {},
   "source": [
    "## Bernoulli distribution"
   ]
  },
  {
   "cell_type": "markdown",
   "metadata": {},
   "source": [
    "An experiment is called a **Bernoulli trial** when there is only one trial with two possible outcomes, usually labeled as success and failure.  Success is usually denoted by 1 and failure by 0.  Please note that “success” need not be something positive. This type of experiment is named after Jacob Bernoulli, who studied these types of experiments extensively in the late 1600s.\n",
    "\n",
    "Every event that has two possible outcomes can be modelled with the Bernoulli distribution. For example: whether or not a customer is going to buy a product, an antibiotic is going to be effective to treat a specific disease, a specific citizen is going to vote, etc. Since the two possible outputs of a decision an individual makes are \"yes\" or \"no,\" the Bernoulli distribution is the basis of discrete choice models.\n",
    "\n",
    "This mathematical inquiry of Bernoulli random variables can be extended even further. Since 0 and 1 are numerical outcomes, we can define the mean and standard deviation of a Bernoulli random variable.\n",
    "\n",
    "Suppose we observe ten trials:  0 1 1 1 1 0 1 1 0 0\n",
    "\n",
    "The sample proportion, $\\widehat{p}$, is the sample mean of these observations:\n",
    "\n",
    "$\\widehat{p} = \\frac{number \\mbox{ }of \\mbox{ }successes}{number \\mbox{ }of \\mbox{ }trials}=\\frac{0+1+1+1+1+0+1+1+0+ 0}{10}=0.6$\n",
    "\n",
    "The hat above the $p$ indicates that it is an estimator based on a sample. This convention and notation is followed by most textbooks.\n",
    "\n",
    "If $X$ is a random variable that takes on the value 1 with probability $p$ and 0 with probability $q = (1 - p)$, then $X$ is a Bernoulli random variable with mean and standard deviation:\n",
    "\n",
    "$$\n",
    "\\mu = p\n",
    "$$\n",
    "\n",
    "$$\n",
    "\\sigma = \\sqrt{p \\times (1-p)}\n",
    "$$\n",
    "\n",
    "Many decisions can be modeled as a binary choice, such as whether to vote for or against a proposal. If $p$ is the proportion of the voting population that favours the proposal, then the vote of a random individual is modeled by a Bernoulli distribution with probability $p$.\n",
    "\n",
    "The probability density, or marginal likelihood function is:\n",
    "\n",
    "$$p(y|p) = \\begin{cases}\n",
    "p & y = 1 \\\\\n",
    "1 - p & y = 0\n",
    "\\end{cases}$$"
   ]
  },
  {
   "cell_type": "markdown",
   "metadata": {},
   "source": [
    "**Example**\n",
    "\n",
    "As we will see later, a Bernoulli experiment can be thought as a binomial experiment with a sample size of one (one trial):\n",
    "\n",
    "$y \\sim \\text{Bernoulli}(p) = \\text{Binomial}(1, p)$\n",
    "\n",
    "which is read as $y$ follows a Bernoulli distribution with probability $p$.\n",
    "\n",
    "This example shows one way of simulating a Bernoulli experiment. For more information, please refer to this documentation (SciPy Community, 2018a):\n",
    "\n",
    "https://docs.scipy.org/doc/numpy-1.13.0/reference/generated/numpy.random.binomial.html#numpy.random.binomial\n"
   ]
  },
  {
   "cell_type": "code",
   "execution_count": 17,
   "metadata": {},
   "outputs": [
    {
     "data": {
      "text/plain": [
       "array([0, 0, 0, 0, 0, 0, 0, 0, 0, 0, 0, 0, 0, 0, 0, 0, 0, 0, 0, 1, 1, 0,\n",
       "       1, 0, 0, 0, 1, 1, 0, 0, 1, 0, 0, 0, 0, 1, 1, 0, 0, 1, 0, 0, 1, 0,\n",
       "       0, 1, 1, 0, 1, 1, 0, 0, 0, 0, 0, 0, 0, 1, 0, 0, 0, 1, 1, 0, 0, 0,\n",
       "       0, 1, 1, 0, 0, 0, 0, 0, 1, 1, 0, 0, 0, 1, 0, 1, 0, 0, 1, 0, 1, 1,\n",
       "       1, 0, 0, 0, 0, 0, 1, 0, 0, 1, 0, 1])"
      ]
     },
     "execution_count": 17,
     "metadata": {},
     "output_type": "execute_result"
    }
   ],
   "source": [
    "nobs = 100\n",
    "theta = 0.3\n",
    "Y = np.random.binomial(1, theta, nobs)\n",
    "Y"
   ]
  },
  {
   "cell_type": "code",
   "execution_count": 18,
   "metadata": {},
   "outputs": [
    {
     "data": {
      "image/png": "[encoded data removed]",
      "text/plain": [
       "<Figure size 432x288 with 1 Axes>"
      ]
     },
     "metadata": {},
     "output_type": "display_data"
    }
   ],
   "source": [
    "frequency = ((Y==0).sum(),(Y==1).sum())\n",
    "plt.bar((0,1),frequency)\n",
    "plt.xticks(np.arange(2), ('No','Yes'))\n",
    "plt.title('Bernoully: N= 100 , p= 0.3' ,fontsize=15)\n",
    "plt.xlabel('x',fontsize=15)\n",
    "plt.ylabel('Frequency',fontsize=15);"
   ]
  },
  {
   "cell_type": "markdown",
   "metadata": {},
   "source": [
    "We can also simulate a Bernoulli distribution as follows:"
   ]
  },
  {
   "cell_type": "code",
   "execution_count": 19,
   "metadata": {},
   "outputs": [
    {
     "data": {
      "image/png": "[encoded data removed]",
      "text/plain": [
       "<Figure size 432x288 with 1 Axes>"
      ]
     },
     "metadata": {},
     "output_type": "display_data"
    }
   ],
   "source": [
    "Y=stats.bernoulli.rvs(0.5, size=100)\n",
    "frequency = ((Y==0).sum(),(Y==1).sum())\n",
    "plt.bar((0,1),frequency)\n",
    "plt.xticks(np.arange(2), ('No','Yes'))\n",
    "plt.title('Bernoulli: N= 100 , p= 0.5' ,fontsize=15)\n",
    "plt.xlabel('x',fontsize=15)\n",
    "plt.ylabel('Frequency',fontsize=15);"
   ]
  },
  {
   "cell_type": "markdown",
   "metadata": {},
   "source": [
    "## Geometric distribution"
   ]
  },
  {
   "cell_type": "markdown",
   "metadata": {},
   "source": [
    "In this distribution, there are one or more Bernoulli trials that are all failures except the last one, which is a success. In other words, you keep repeating what you are doing until the first success, and then you stop.\n",
    "\n",
    "For example, consider a scenario where we are controlling bottles of a beverage on a production line. If you know the probability that a bottle will be defective, the probability that the $n^{th}$ bottle out of the production line is defective can be calculated by the geometric distribution.\n",
    "\n",
    "If the probability of a success in one trial is $p$ and the probability of a failure is $1 - p$, then the probability of finding the first success in the $n^{th}$ trial is given by\n",
    "\n",
    "$(1 - p)^{n-1} \\times p$\n",
    "\n",
    "The mean (i.e. expected value) and variance $\\sigma^{2}$, are given by\n",
    "\n",
    "$$\n",
    "\\mu = \\frac{1}{p}\n",
    "$$\n",
    "\n",
    "$$\n",
    "\\sigma ^{2} = \\frac{1-p}{p^{2}}\n",
    "$$\n",
    "\n",
    "The notation for a geometric distribution is  $X \\sim G(p)$, which is read as $X$ follows a geometric distribution with probability $p$."
   ]
  },
  {
   "cell_type": "markdown",
   "metadata": {},
   "source": [
    "**Example**\n",
    "\n",
    "For further reference, please refer to the documentation (SciPy Community, 2018b):\n",
    "\n",
    "https://docs.scipy.org/doc/numpy-1.13.0/reference/generated/numpy.random.geometric.html#numpy.random.geometric    "
   ]
  },
  {
   "cell_type": "code",
   "execution_count": 13,
   "metadata": {},
   "outputs": [
    {
     "data": {
      "text/plain": "array([1, 3, 2, ..., 3, 7, 1])"
     },
     "execution_count": 13,
     "metadata": {},
     "output_type": "execute_result"
    }
   ],
   "source": [
    "z = np.random.geometric(p=0.35, size=10000)\n",
    "z"
   ]
  },
  {
   "cell_type": "code",
   "execution_count": 14,
   "metadata": {},
   "outputs": [
    {
     "data": {
      "text/plain": "<Figure size 432x288 with 1 Axes>",
      "image/png": "[encoded data removed]"
     },
     "metadata": {},
     "output_type": "display_data"
    }
   ],
   "source": [
    "plt.hist(z, color='#348ABD')\n",
    "plt.title('Geometric: N= 100,000 , p= 0.35' ,fontsize=15)\n",
    "plt.xlabel('z',fontsize=15)\n",
    "plt.ylabel('Frequency',fontsize=15);"
   ]
  },
  {
   "cell_type": "markdown",
   "metadata": {},
   "source": [
    "##  Binomial distribution"
   ]
  },
  {
   "cell_type": "markdown",
   "metadata": {},
   "source": [
    "In many cases we repeat a Bernoulli trial many times.  There are three characteristics of a binomial experiment:\n",
    "\n",
    "1.\tThere are a **fixed number of trials**. You can think of trials as repetitions of an experiment. The letter $n$ denotes the number of trials.<br><br>\n",
    "\n",
    "2.\tThere are only **two possible outcomes**, called \"success\" and \"failure,\" for each trial. The letter $p$ denotes the probability of a success on one trial, and $q$ denotes the probability of a failure on one trial. $p + q = 1$.<br><br>\n",
    "\n",
    "3.\tThe **$n$ trials are independent** and are repeated under identical conditions. Because the $n$ trials are independent, the outcome of one trial does not help in predicting the outcome of another trial. Another way of saying this is that for each individual trial, the probability $p$ of a success, and probability $q$ of a failure remain the same.\n",
    "\n",
    "The outcomes of a binomial experiment fit a binomial probability distribution. The random variable $X$ equals the number of successes obtained in the $n$ independent trials.\n",
    "\n",
    "For example, let's say you are calculating the probability that a certain number of voters in a city are going to vote for a candidate, where each voter follows a Bernoulli distribution with probability $p$. The number of voters for the specific candidate in the population will follow a binomial distribution where the number of trials is the number of inhabitants, $p$ is the probability of success or the probability that each voter will vote for a candidate, and the number of voters who vote for the candidate of interest is the number of successes. We are not interested in who voted and who didn't &mdash; we are only interested in the total number of voters.\n",
    "\n",
    "The binomial distribution is characterized as:\n",
    "\n",
    "$$\n",
    "p(x) =     \\left\\{ \\begin{array}{rcl}\n",
    "         {\\left( \\begin{array}{cc} n \\\\\n",
    "           x \\end{array} \\right)p^{x}(1-p)^{n-x}} & \\mbox{for}\n",
    "         & x = 1,\\mbox{ }2,\\mbox{ }3,...,\\mbox{ }n \\\\ 0  & \\mbox{} & Otherwise \\\\\n",
    "         \\end{array}\\right.\n",
    "$$\n",
    "\n",
    "The mean, $\\mu$, and variance, $\\sigma^{2}$, for the binomial probability distribution are:\n",
    "\n",
    "$$\n",
    "\\mu = np\n",
    "$$\n",
    "\n",
    "$$\n",
    "\\sigma^{2}= npq\n",
    "$$\n",
    "\n",
    "The term $\\left( \\begin{array}{cc} n \\\\ x \\end{array} \\right)$ is called the combinatorial of $x$ in $n$ and it quantifies the number of combinations of $x$ objects from a set with $n$ objects. It is also denoted as $_{n} C _{x}$ or $C_{n}^{x}$ or $C(n,x)$. The general combinatorial formula is:\n",
    "\n",
    "$$\n",
    "C_{n}^{x} = \\frac{n!}{(n-x)! x!}\n",
    "$$\n",
    "\n",
    "For a short explanation on combinatorial numbers, refer to Hossein Arsham, 1994."
   ]
  },
  {
   "cell_type": "markdown",
   "metadata": {},
   "source": [
    "## Poisson distribution"
   ]
  },
  {
   "cell_type": "markdown",
   "metadata": {},
   "source": [
    "Another common distribution is the **Poisson distribution**, which gives the probability of a number of events occurring in a fixed interval of **time** or **space** if these events happen with a known average rate, and events are independent from each other. \n",
    "\n",
    "The Poisson distribution may be used to approximate the binomial if the probability of success is \"small\" (such as 0.01) and the number of trials is \"large\" (such as 1,000).\n",
    "\n",
    "The random variable $X$ is the number of occurrences in the interval of interest, $n$ is the number of trials, and $p$ is the probability of a \"success.\" \n",
    "\n",
    "Some examples:\n",
    "\n",
    "* A book editor might be interested in the number of words spelled incorrectly in a particular book. It might be that, on average, there are five words spelled incorrectly in 100 pages. The interval is the 100 pages. \n",
    "\n",
    "* The number of cars arriving at a service station in 1 hour. The interval of time is 1 hour.\n",
    "\n",
    "* The number of flaws in a bolt of cloth. The specific region is a bolt of cloth.\n",
    "\n",
    "* The number of accidents in 1 day on a particular stretch of highway. The interval is defined by both time (1 day), and space (the particular stretch of highway).\n",
    "\n",
    "A Poisson experiment is characterized by the following properties: \n",
    "\n",
    "1. The number of successes that occur in any interval is independent of the number of successes that occur in any other interval<br><br>\n",
    "    \n",
    "2. The probability of a success in an interval is the same for all equal-sized intervals<br><br>\n",
    "\n",
    "3. The probability of a success in an interval is proportional to the size of the interval<br><br>\n",
    "\n",
    "4. The probability of more than one success in an interval approaches 0 as the interval becomes smaller\n",
    "\n",
    "The Poisson distribution is characterized as:\n",
    "\n",
    "$$\n",
    "p(x) =     \\left\\{ \\begin{array}{rcl}\n",
    "          \\frac{e^{-\\lambda} \\lambda^{x}}{x!}& \\mbox{for}\n",
    "         & x = 1,\\mbox{ }2,\\mbox{ }3,... \\\\ 0  & \\mbox{} & Otherwise \\\\\n",
    "         \\end{array}\\right.\n",
    "$$\n",
    "\n",
    "where $\\lambda$ is the average rate of occurrence and $x$ is the number of events observed.\n",
    "\n",
    "The notation for a Poisson distribution is  $X \\sim P(\\lambda)$; this is read as $X$ follows a Poisson distribution with average $\\lambda$. The mean, $\\mu$, and variance, $\\sigma^{2}$, for the Poisson probability distribution are:\n",
    "\n",
    "$$\n",
    "\\mu = \\lambda\n",
    "$$\n",
    "\n",
    "$$\n",
    "\\sigma^{2}= \\lambda\n",
    "$$"
   ]
  },
  {
   "cell_type": "markdown",
   "metadata": {},
   "source": [
    "**Example**\n",
    "\n",
    "Let's illustrate an application of the Poisson distribution by solving one exercise from the main reference textbook: Stenographer’s typos, Part I (Diez et al, 2015). A very skilled court stenographer makes one typographical error (typo) per hour on average.\n",
    "\n",
    "1. What probability distribution is most appropriate for calculating the probability of a given number of typos this stenographer makes in an hour?<br><br>\n",
    "\n",
    "2. What are the mean and the standard deviation of the number of typos this stenographer makes?<br><br>\n",
    "\n",
    "3. Would it be considered unusual if this stenographer made 4 typos in a given hour?<br><br>\n",
    "\n",
    "4. Calculate the probability that this stenographer makes at most 2 typos in a given hour."
   ]
  },
  {
   "cell_type": "markdown",
   "metadata": {},
   "source": [
    "**Solution**\n",
    "\n",
    "1. Poisson Distribution: this distribution can assess the number of events that will occur in a short unit of time for a fixed population, given that the data points are independent.<br><br>\n",
    "\n",
    "2. Mean = $1$; SD = $\\sqrt{1}=1$<br><br>\n",
    "\n",
    "3. Where the probability of $k$ events, assuming a Poisson distribution, equals $(\\lambda^k)*\\frac{(e^{-\\lambda})}{k!}$, and $\\lambda$ (rate) $= 1$, $k=4$\n",
    "\n",
    "The probability of 4 typos in an hour is:"
   ]
  },
  {
   "cell_type": "code",
   "execution_count": 22,
   "metadata": {},
   "outputs": [
    {
     "data": {
      "text/plain": [
       "0.015328310048810098"
      ]
     },
     "execution_count": 22,
     "metadata": {},
     "output_type": "execute_result"
    }
   ],
   "source": [
    "(1**4)*np.exp(1)**(-1)/np.math.factorial(4)"
   ]
  },
  {
   "cell_type": "markdown",
   "metadata": {},
   "source": [
    "Per the above, 4 typos in one hour would be unusual."
   ]
  },
  {
   "cell_type": "markdown",
   "metadata": {},
   "source": [
    "4. We must add the probabilities of 0, 1 and 2 typos per hour:"
   ]
  },
  {
   "cell_type": "code",
   "execution_count": 23,
   "metadata": {},
   "outputs": [
    {
     "name": "stdout",
     "output_type": "stream",
     "text": [
      "The probability the stenographer makes at most 2 typos in a given hour is:\n"
     ]
    },
    {
     "data": {
      "text/plain": [
       "0.9196986029286058"
      ]
     },
     "execution_count": 23,
     "metadata": {},
     "output_type": "execute_result"
    }
   ],
   "source": [
    "typo0=(1**0)*np.exp(-1)/np.math.factorial(0)\n",
    "typo1=(1**1)*np.exp(-1)/np.math.factorial(1)\n",
    "typo2=(1**2)*np.exp(-1)/np.math.factorial(2)\n",
    "print(\"The probability the stenographer makes at most 2 typos in a given hour is:\")\n",
    "typo0+typo1+typo2"
   ]
  },
  {
   "cell_type": "markdown",
   "metadata": {},
   "source": [
    "The example above can be solved using built-in functions."
   ]
  },
  {
   "cell_type": "code",
   "execution_count": 24,
   "metadata": {},
   "outputs": [
    {
     "data": {
      "text/plain": [
       "0.015328310048810101"
      ]
     },
     "execution_count": 24,
     "metadata": {},
     "output_type": "execute_result"
    }
   ],
   "source": [
    "stats.poisson.pmf(4,1)"
   ]
  },
  {
   "cell_type": "code",
   "execution_count": 25,
   "metadata": {},
   "outputs": [
    {
     "data": {
      "text/plain": [
       "0.9196986029286058"
      ]
     },
     "execution_count": 25,
     "metadata": {},
     "output_type": "execute_result"
    }
   ],
   "source": [
    "stats.poisson.cdf(2,1)"
   ]
  },
  {
   "cell_type": "markdown",
   "metadata": {},
   "source": [
    "In general, a Poisson distribution can be simulated as follows:"
   ]
  },
  {
   "cell_type": "code",
   "execution_count": 26,
   "metadata": {
    "scrolled": true
   },
   "outputs": [
    {
     "data": {
      "image/png": "[encoded data removed]",
      "text/plain": [
       "<Figure size 432x288 with 1 Axes>"
      ]
     },
     "metadata": {},
     "output_type": "display_data"
    }
   ],
   "source": [
    "u=20\n",
    "n=range(1, 100)\n",
    "y=stats.poisson.pmf(n,u)\n",
    "\n",
    "plt.plot(n,y,'r-', color='#348ABD')\n",
    "plt.title('Poisson: $\\mu$ =%i' % u,fontsize=15)\n",
    "plt.xlabel('x',fontsize=15)\n",
    "plt.ylabel('Probability density',fontsize=15);"
   ]
  },
  {
   "cell_type": "markdown",
   "metadata": {},
   "source": [
    "## More examples using distributions\n",
    "\n",
    "The kicker for the Philadelphia Eagles makes 50 yard kicks 35% of the time. We can model that using a **Bernoulli distribution** where $y=1$ when the kick is good, and $y=0$ when the kick is no good."
   ]
  },
  {
   "cell_type": "code",
   "execution_count": 27,
   "metadata": {},
   "outputs": [
    {
     "name": "stdout",
     "output_type": "stream",
     "text": [
      "The sample proportion is 0.342\n"
     ]
    },
    {
     "data": {
      "image/png": "[encoded data removed]",
      "text/plain": [
       "<Figure size 432x288 with 1 Axes>"
      ]
     },
     "metadata": {},
     "output_type": "display_data"
    }
   ],
   "source": [
    "kick_prob = 0.35\n",
    "\n",
    "num_tests = 1000\n",
    "kick_values = []\n",
    "\n",
    "for test in range(num_tests):\n",
    "    kick_made = np.random.choice([1, 0], p=[kick_prob, (1-kick_prob)])\n",
    "    kick_values.append(kick_made)\n",
    "\n",
    "\n",
    "plt.hist(kick_values, bins=2,color='#348ABD')\n",
    "plt.title('Bernoulli N= 1000 , p= 0.35' ,fontsize=15)\n",
    "plt.xlabel('Kicks Made',fontsize=15)\n",
    "plt.ylabel('Frequency',fontsize=15);\n",
    "\n",
    "sample_proportion = sum(kick_values) / kick_values.__len__()\n",
    "print(\"The sample proportion is %s\" % sample_proportion)"
   ]
  },
  {
   "cell_type": "markdown",
   "metadata": {},
   "source": [
    "What is the probability that the first kick will be successful? How about for subsequent kicks? The **geometric distribution** allows us to calculate how many trials we would have to undertake until we find a \"success.\""
   ]
  },
  {
   "cell_type": "code",
   "execution_count": 28,
   "metadata": {},
   "outputs": [
    {
     "name": "stdout",
     "output_type": "stream",
     "text": [
      "0.35\n",
      "0.22749999999999998\n",
      "0.147875\n"
     ]
    }
   ],
   "source": [
    "# Chance that the first kick is the first success\n",
    "prob_1 = kick_prob\n",
    "print(prob_1)\n",
    "\n",
    "# Chance that the second kick is the first success\n",
    "prob_2 = (1-kick_prob) * kick_prob\n",
    "print(prob_2)\n",
    "\n",
    "# Chance that the third kick is the first success\n",
    "prob_3 = (1-kick_prob) * (1-kick_prob) * kick_prob\n",
    "print(prob_3)"
   ]
  },
  {
   "cell_type": "code",
   "execution_count": 29,
   "metadata": {},
   "outputs": [
    {
     "data": {
      "image/png": "[encoded data removed]",
      "text/plain": [
       "<Figure size 432x288 with 1 Axes>"
      ]
     },
     "metadata": {},
     "output_type": "display_data"
    }
   ],
   "source": [
    "num_tests = 1000\n",
    "kick_values = []\n",
    "\n",
    "for test in range(num_tests):\n",
    "    num_kicks = 0\n",
    "    success = 0\n",
    "    while (success == 0):\n",
    "        success = np.random.choice([1, 0], p=[kick_prob, (1-kick_prob)])\n",
    "        num_kicks += 1\n",
    "    kick_values.append(num_kicks)\n",
    "    \n",
    "plt.hist(kick_values, color='#348ABD')\n",
    "plt.title('Geometric N= 1000 , p= 0.35' ,fontsize=15)\n",
    "plt.xlabel('Kick Made',fontsize=15)\n",
    "plt.ylabel('Frequency',fontsize=15);    "
   ]
  },
  {
   "cell_type": "markdown",
   "metadata": {},
   "source": [
    "Suppose the kicker is given five chances to make the field goal. What is the probability that exactly one kick will be a success? Two kicks?  This is an example of an application of the **binomial distribution**."
   ]
  },
  {
   "cell_type": "code",
   "execution_count": 30,
   "metadata": {},
   "outputs": [
    {
     "name": "stdout",
     "output_type": "stream",
     "text": [
      "0.3123859375000001\n",
      "0.336415625\n",
      "0.18114687499999998\n"
     ]
    }
   ],
   "source": [
    "# Chance that he makes one kick\n",
    "# This can happen like this: \n",
    "# M - M - M - M - H\n",
    "\n",
    "prob_1 = (1-kick_prob) * (1-kick_prob) * (1-kick_prob) * (1-kick_prob) * (kick_prob)\n",
    "\n",
    "# but it can also happen these ways:\n",
    "# H - M - M - M - M\n",
    "# M - H - M - M - M\n",
    "# M - M - H - M - M\n",
    "# M - M - M - H - M\n",
    "# M - M - M - M - H\n",
    "\n",
    "# So:\n",
    "prob_1 = prob_1 * 5\n",
    "print(prob_1)\n",
    "\n",
    "# How about for exactly two kicks:\n",
    "# H - H - M - M - M\n",
    "# H - M - H - M - M\n",
    "# H - M - M - H - M\n",
    "# H - M - M - M - H\n",
    "# M - H - H - M - M\n",
    "# M - H - M - H - M\n",
    "# M - H - M - M - H\n",
    "# M - M - H - H - M\n",
    "# M - M - H - M - H\n",
    "# M - M - M - H - H\n",
    "prob_2 = ((kick_prob) * (kick_prob) * (1-kick_prob) * (1-kick_prob) * (1-kick_prob)) * 10\n",
    "print(prob_2)\n",
    "\n",
    "# Finally, for exactly three kicks:\n",
    "# H - H - H - M - M\n",
    "# H - H - M - H - M\n",
    "# H - H - M - M - H\n",
    "# H - M - H - H - M\n",
    "# H - M - M - H - H\n",
    "# H - M - M - H - H\n",
    "# M - H - H - H - M\n",
    "# M - H - H - M - H\n",
    "# M - H - M - H - H\n",
    "# M - M - H - H - H\n",
    "prob_3 = ((kick_prob) * (kick_prob) * (kick_prob) * (1-kick_prob) * (1-kick_prob)) * 10\n",
    "print(prob_3)"
   ]
  },
  {
   "cell_type": "markdown",
   "metadata": {},
   "source": [
    "Again, we'll check with a simulation:"
   ]
  },
  {
   "cell_type": "code",
   "execution_count": 31,
   "metadata": {},
   "outputs": [
    {
     "data": {
      "image/png": "[encoded data removed]",
      "text/plain": [
       "<Figure size 432x288 with 1 Axes>"
      ]
     },
     "metadata": {},
     "output_type": "display_data"
    }
   ],
   "source": [
    "num_tests = 1000\n",
    "kick_values = []\n",
    "\n",
    "for test in range(num_tests):\n",
    "    # Kick 5 times\n",
    "    kick_1 = np.random.choice([1, 0], p=[kick_prob, (1-kick_prob)])\n",
    "    kick_2 = np.random.choice([1, 0], p=[kick_prob, (1-kick_prob)])\n",
    "    kick_3 = np.random.choice([1, 0], p=[kick_prob, (1-kick_prob)])\n",
    "    kick_4 = np.random.choice([1, 0], p=[kick_prob, (1-kick_prob)])\n",
    "    kick_5 = np.random.choice([1, 0], p=[kick_prob, (1-kick_prob)])\n",
    "    \n",
    "    # How many kicks did we get?\n",
    "    kicks_made = kick_1 + kick_2 + kick_3 + kick_4 + kick_5\n",
    "    \n",
    "    # Put the number of kicks made into our list\n",
    "    kick_values.append(kicks_made)\n",
    "    \n",
    "    \n",
    "plt.hist(kick_values, color='#348ABD')\n",
    "plt.title('Binomial N= 1000 , p= 0.35' ,fontsize=15)\n",
    "plt.xlabel('Kicks Made out of Five',fontsize=15)\n",
    "plt.ylabel('Frequency',fontsize=15);    "
   ]
  },
  {
   "cell_type": "markdown",
   "metadata": {},
   "source": [
    "**End of Part 1**\n",
    "\n",
    "This notebook makes up one part of this module. Now that you have completed this part, please proceed to the next notebook in this module.\n",
    "\n",
    "If you have any questions, please reach out to your peers using the discussion boards. If you and your peers are unable to come to a suitable conclusion, do not hesitate to reach out to your instructor on the designated discussion board."
   ]
  },
  {
   "cell_type": "markdown",
   "metadata": {},
   "source": [
    "# References\n",
    "\n",
    "Diez, D., Çetinkaya-Rundel, M.,  Barr, C.D. (2019). Chapter 4: Distributions of random variables *OpenIntro Statistics (4th Ed.).* https://www.openintro.org/stat/textbook.php?stat_book=os\n",
    "\n",
    "SciPy Community (2018a). numpy.random.binomial. Retrieved from https://docs.scipy.org/doc/numpy-1.13.0/reference/generated/numpy.random.binomial.html#numpy.random.binomial\n",
    "\n",
    "SciPy Community (2018b). numpy.random.geometric. Retrieved from\n",
    "https://docs.scipy.org/doc/numpy-1.13.0/reference/generated/numpy.random.geometric.html#numpy.random.geometric"
   ]
  }
 ],
 "metadata": {
  "kernelspec": {
   "display_name": "Python 3",
   "language": "python",
   "name": "python3"
  },
  "language_info": {
   "codemirror_mode": {
    "name": "ipython",
    "version": 3
   },
   "file_extension": ".py",
   "mimetype": "text/x-python",
   "name": "python",
   "nbconvert_exporter": "python",
   "pygments_lexer": "ipython3",
   "version": "3.8.3"
  }
 },
 "nbformat": 4,
 "nbformat_minor": 4
}