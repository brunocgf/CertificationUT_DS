{
 "cells": [
  {
   "cell_type": "markdown",
   "source": [
    "# Module 2 Part 3: Python Tuples, Dictionaries, Reading Data from a File, Formatting Print Output"
   ],
   "metadata": {}
  },
  {
   "cell_type": "markdown",
   "source": [
    "This module is designed as an introduction to the Python programming language. It covers the basic syntax of Python, main data types and most used data collections with examples.\n",
    "\n",
    "This module consists of 3 parts:\n",
    "\n",
    "- **Part 1** - Introduction to Python.\n",
    "- **Part 2** - Python Strings and Lists.\n",
    "- **Part 3** - Python Tuples, Dictionaries, Reading data from a file, Formatting print output.\n",
    "\n",
    "Each part is in a separate notebook. It is recommended to follow the order of the notebooks from Part 1 to Part 3."
   ],
   "metadata": {}
  },
  {
   "cell_type": "markdown",
   "source": [
    "<h1>Table of Contents<span class=\"tocSkip\"></span></h1>\n",
    "<br>\n",
    "<div class=\"toc\">\n",
    "<ul class=\"toc-item\">\n",
    "<li><span><a href=\"#Module-2-Part-3:-Python-Tuples,-Dictionaries,-Reading-Data-from-a-File,-Formatting-Print-Output\" data-toc-modified-id=\"Module-2-Part-3:-Python-Tuples,-Dictionaries,-Reading-Data-from-a-File,-Formatting-Print-Output\">Module 2 Part 3: Python Tuples, Dictionaries, Reading Data from a File, Formatting Print Output</a></span>\n",
    "</li>\n",
    "<li><span><a href=\"#Table-of-Contents\" data-toc-modified-id=\"Table-of-Contents\">Table of Contents</a></span>\n",
    "</li>\n",
    "<li><span><a href=\"#Tuples\" data-toc-modified-id=\"Tuples\">Tuples</a></span>\n",
    "<ul class=\"toc-item\">\n",
    "<li><span><a href=\"#Tuple-assignments\" data-toc-modified-id=\"Tuple-assignments\">Tuple assignments</a></span>\n",
    "</li>\n",
    "<li><span><a href=\"#Create-tuples-with-the-`zip()`-function\" data-toc-modified-id=\"Create-tuples-with-the-`zip()`-function\">Create tuples with the `zip()` function</a></span>\n",
    "</li>\n",
    "</ul>\n",
    "</li>\n",
    "<li><span><a href=\"#Dictionaries\" data-toc-modified-id=\"Dictionaries\">Dictionaries</a></span>\n",
    "<ul class=\"toc-item\">\n",
    "<li><span><a href=\"#Dictionary-comprehension\" data-toc-modified-id=\"Dictionary-comprehension\">Dictionary comprehension</a></span>\n",
    "</li>\n",
    "<li><span><a href=\"#EXERCISE-4:-Word-count\" data-toc-modified-id=\"EXERCISE-4:-Word-count\">EXERCISE 4: Word count</a></span>\n",
    "</li>\n",
    "</ul>\n",
    "</li>\n",
    "<li><span><a href=\"#Reading-Data-from-a-File\" data-toc-modified-id=\"Reading-Data-from-a-File\">Reading Data from a File</a></span>\n",
    "<ul class=\"toc-item\">\n",
    "<li><span><a href=\"#Open-and-read-a-text-file\" data-toc-modified-id=\"Open-and-read-a-text-file\">Open and read a text file</a></span>\n",
    "</li>\n",
    "<li><span><a href=\"#Writing-to-a-file\" data-toc-modified-id=\"Writing-to-a-file\">Writing to a file</a></span>\n",
    "</li>\n",
    "</ul>\n",
    "</li>\n",
    "<li><span><a href=\"#Formatting-Print-Output\" data-toc-modified-id=\"Formatting-Print-Output\">Formatting Print Output</a></span>\n",
    "</li>\n",
    "<li><span><a href=\"#References\" data-toc-modified-id=\"References\">References</a></span>\n",
    "</li>\n",
    "</ul>\n",
    "</div>"
   ],
   "metadata": {}
  },
  {
   "cell_type": "markdown",
   "source": [
    "# Tuples"
   ],
   "metadata": {}
  },
  {
   "cell_type": "markdown",
   "source": [
    "__Tuples__ are similar to lists, but are immutable. A tuple is declared as a comma-separated sequence of values or using the `tuple()` function. In the example below, two tuples are created:\n",
    "- `new_tuple` is created from a comma-separated sequence of strings\n",
    "- `vowels` is created by splitting a string"
   ],
   "metadata": {}
  },
  {
   "cell_type": "code",
   "execution_count": 1,
   "source": [
    "new_tuple = \"apple\", \"banana\", \"orange\""
   ],
   "outputs": [],
   "metadata": {}
  },
  {
   "cell_type": "code",
   "execution_count": 2,
   "source": [
    "new_tuple"
   ],
   "outputs": [
    {
     "output_type": "execute_result",
     "data": {
      "text/plain": [
       "('apple', 'banana', 'orange')"
      ]
     },
     "metadata": {},
     "execution_count": 2
    }
   ],
   "metadata": {}
  },
  {
   "cell_type": "code",
   "execution_count": 3,
   "source": [
    "type(new_tuple)"
   ],
   "outputs": [
    {
     "output_type": "execute_result",
     "data": {
      "text/plain": [
       "tuple"
      ]
     },
     "metadata": {},
     "execution_count": 3
    }
   ],
   "metadata": {}
  },
  {
   "cell_type": "code",
   "execution_count": 4,
   "source": [
    "'''The tuple of English vowels:'''\r\n",
    "\r\n",
    "vowels = tuple('yeiouAEIOU')\r\n",
    "vowels"
   ],
   "outputs": [
    {
     "output_type": "execute_result",
     "data": {
      "text/plain": [
       "('y', 'e', 'i', 'o', 'u', 'A', 'E', 'I', 'O', 'U')"
      ]
     },
     "metadata": {},
     "execution_count": 4
    }
   ],
   "metadata": {}
  },
  {
   "cell_type": "code",
   "execution_count": 8,
   "source": [
    "'''Since a tuple is immutable, it cannot be changed.\r\n",
    "Instead, a new tuple will be created.'''\r\n",
    "\r\n",
    "vowels_corrected = ('a',) + vowels[1:]\r\n",
    "t_single_elem = (\"one\",)\r\n",
    "empty_tuple = ()\r\n",
    "\r\n",
    "print(t_single_elem)\r\n",
    "print(empty_tuple)\r\n",
    "vowels_corrected"
   ],
   "outputs": [
    {
     "output_type": "stream",
     "name": "stdout",
     "text": [
      "('one',)\n",
      "()\n"
     ]
    },
    {
     "output_type": "execute_result",
     "data": {
      "text/plain": [
       "('a', 'e', 'i', 'o', 'u', 'A', 'E', 'I', 'O', 'U')"
      ]
     },
     "metadata": {},
     "execution_count": 8
    }
   ],
   "metadata": {}
  },
  {
   "cell_type": "markdown",
   "source": [
    "## Tuple assignments"
   ],
   "metadata": {}
  },
  {
   "cell_type": "markdown",
   "source": [
    "Tuples can be used to easily swap the values of two variables. This can be achieved in Python without the need for a temporary variable, in one line of code:"
   ],
   "metadata": {}
  },
  {
   "cell_type": "code",
   "execution_count": 9,
   "source": [
    "a = 1\r\n",
    "b = 5\r\n",
    "\r\n",
    "a,b = b,a\r\n",
    "\r\n",
    "print(a)\r\n",
    "print(b)"
   ],
   "outputs": [
    {
     "output_type": "stream",
     "name": "stdout",
     "text": [
      "5\n",
      "1\n"
     ]
    }
   ],
   "metadata": {}
  },
  {
   "cell_type": "markdown",
   "source": [
    "The example below demonstrates how to extract values from or \"unpack\" a tuple. \n",
    "\n",
    "**NOTE:** The number of variables on the left should be the same as the number of elements in the tuple."
   ],
   "metadata": {}
  },
  {
   "cell_type": "code",
   "execution_count": 10,
   "source": [
    "'''Validating the tuple `new_tuple`'''\r\n",
    "\r\n",
    "new_tuple"
   ],
   "outputs": [
    {
     "output_type": "execute_result",
     "data": {
      "text/plain": [
       "('apple', 'banana', 'orange')"
      ]
     },
     "metadata": {},
     "execution_count": 10
    }
   ],
   "metadata": {}
  },
  {
   "cell_type": "code",
   "execution_count": 11,
   "source": [
    "'''Need to define three variables to unpack a tuple'''\r\n",
    "\r\n",
    "x, y, z = new_tuple\r\n",
    "print(x)\r\n",
    "print(y)\r\n",
    "print(z)"
   ],
   "outputs": [
    {
     "output_type": "stream",
     "name": "stdout",
     "text": [
      "apple\n",
      "banana\n",
      "orange\n"
     ]
    }
   ],
   "metadata": {}
  },
  {
   "cell_type": "code",
   "execution_count": 12,
   "source": [
    "'''If the number of variables does not equal number of values in the tuple,\r\n",
    "we will get an error:'''\r\n",
    "\r\n",
    "d, e, f, g = new_tuple"
   ],
   "outputs": [
    {
     "output_type": "error",
     "ename": "ValueError",
     "evalue": "not enough values to unpack (expected 4, got 3)",
     "traceback": [
      "\u001b[1;31m---------------------------------------------------------------------------\u001b[0m",
      "\u001b[1;31mValueError\u001b[0m                                Traceback (most recent call last)",
      "\u001b[1;32m<ipython-input-12-003583785d27>\u001b[0m in \u001b[0;36m<module>\u001b[1;34m\u001b[0m\n\u001b[0;32m      2\u001b[0m we will get an error:'''\n\u001b[0;32m      3\u001b[0m \u001b[1;33m\u001b[0m\u001b[0m\n\u001b[1;32m----> 4\u001b[1;33m \u001b[0md\u001b[0m\u001b[1;33m,\u001b[0m \u001b[0me\u001b[0m\u001b[1;33m,\u001b[0m \u001b[0mf\u001b[0m\u001b[1;33m,\u001b[0m \u001b[0mg\u001b[0m \u001b[1;33m=\u001b[0m \u001b[0mnew_tuple\u001b[0m\u001b[1;33m\u001b[0m\u001b[1;33m\u001b[0m\u001b[0m\n\u001b[0m",
      "\u001b[1;31mValueError\u001b[0m: not enough values to unpack (expected 4, got 3)"
     ]
    }
   ],
   "metadata": {}
  },
  {
   "cell_type": "markdown",
   "source": [
    "Quite often, a function returns values as tuples. Technically, a Python function can return only one value, \n",
    "so if we need a function to return several values they can be returned as a tuple.\n",
    "\n",
    "The return expression `return result_1, result_2, result_3` in a function will produce a tuple `(result_1, result_2, result_3)`. "
   ],
   "metadata": {}
  },
  {
   "cell_type": "markdown",
   "source": [
    "## Create tuples with the `zip()` function"
   ],
   "metadata": {}
  },
  {
   "cell_type": "markdown",
   "source": [
    "The `zip()` function is an example of a function that returns tuples. This function pairs up the elements from multiple sequences, starting with the first values, then the second, etc. "
   ],
   "metadata": {}
  },
  {
   "cell_type": "code",
   "execution_count": 13,
   "source": [
    "list_num = [1,2,3,4,5]\r\n",
    "list_alpha =['a','b','c','d','e']\r\n",
    "zipped = zip(list_num, list_alpha)"
   ],
   "outputs": [],
   "metadata": {}
  },
  {
   "cell_type": "markdown",
   "source": [
    "Note that in Python 3 the `zip()` function returns a **zip** object which is an iterator:"
   ],
   "metadata": {}
  },
  {
   "cell_type": "code",
   "execution_count": 14,
   "source": [
    "type(zipped)"
   ],
   "outputs": [
    {
     "output_type": "execute_result",
     "data": {
      "text/plain": [
       "zip"
      ]
     },
     "metadata": {},
     "execution_count": 14
    }
   ],
   "metadata": {}
  },
  {
   "cell_type": "markdown",
   "source": [
    "An **iterator** in Python is a special object type that works as a sequence, and can be looped over using (for example) a `for` statement. An iterator is created when we loop over Python lists, tuples, or dictionaries (will be reviewed in the next section).\n",
    "\n",
    "Let's loop over `zipped`:"
   ],
   "metadata": {}
  },
  {
   "cell_type": "code",
   "execution_count": 15,
   "source": [
    "for i in zipped:\r\n",
    "    print(i)"
   ],
   "outputs": [
    {
     "output_type": "stream",
     "name": "stdout",
     "text": [
      "(1, 'a')\n",
      "(2, 'b')\n",
      "(3, 'c')\n",
      "(4, 'd')\n",
      "(5, 'e')\n"
     ]
    }
   ],
   "metadata": {}
  },
  {
   "cell_type": "markdown",
   "source": [
    "Let's try to convert the `zipped` object to a list:"
   ],
   "metadata": {}
  },
  {
   "cell_type": "code",
   "execution_count": 16,
   "source": [
    "zipped_list = list(zipped)\r\n",
    "zipped_list"
   ],
   "outputs": [
    {
     "output_type": "execute_result",
     "data": {
      "text/plain": [
       "[]"
      ]
     },
     "metadata": {},
     "execution_count": 16
    }
   ],
   "metadata": {}
  },
  {
   "cell_type": "markdown",
   "source": [
    "__NOTE:__ Conversion to a list was unsuccessful in the cell above; `zipped_list` is empty. This is because an iterator can be traversed only once and for this reason it is convenient to convert it to a list first and then operate with the list.   "
   ],
   "metadata": {}
  },
  {
   "cell_type": "code",
   "execution_count": 17,
   "source": [
    "zip_again = zip(list_num, list_alpha)\r\n",
    "zipped_list_2 = list(zip_again)\r\n",
    "zipped_list_2"
   ],
   "outputs": [
    {
     "output_type": "execute_result",
     "data": {
      "text/plain": [
       "[(1, 'a'), (2, 'b'), (3, 'c'), (4, 'd'), (5, 'e')]"
      ]
     },
     "metadata": {},
     "execution_count": 17
    }
   ],
   "metadata": {}
  },
  {
   "cell_type": "markdown",
   "source": [
    "The function `zip()` used with the `*` operator can be used to unzip a list:"
   ],
   "metadata": {}
  },
  {
   "cell_type": "code",
   "execution_count": 18,
   "source": [
    "list(zip(*zipped_list_2))"
   ],
   "outputs": [
    {
     "output_type": "execute_result",
     "data": {
      "text/plain": [
       "[(1, 2, 3, 4, 5), ('a', 'b', 'c', 'd', 'e')]"
      ]
     },
     "metadata": {},
     "execution_count": 18
    }
   ],
   "metadata": {}
  },
  {
   "cell_type": "code",
   "execution_count": 19,
   "source": [
    "first_list = list(list(zip(*zipped_list_2))[0])\r\n",
    "second_list = list(list(zip(*zipped_list_2))[1])"
   ],
   "outputs": [],
   "metadata": {}
  },
  {
   "cell_type": "code",
   "execution_count": 20,
   "source": [
    "first_list"
   ],
   "outputs": [
    {
     "output_type": "execute_result",
     "data": {
      "text/plain": [
       "[1, 2, 3, 4, 5]"
      ]
     },
     "metadata": {},
     "execution_count": 20
    }
   ],
   "metadata": {}
  },
  {
   "cell_type": "code",
   "execution_count": 21,
   "source": [
    "second_list"
   ],
   "outputs": [
    {
     "output_type": "execute_result",
     "data": {
      "text/plain": [
       "['a', 'b', 'c', 'd', 'e']"
      ]
     },
     "metadata": {},
     "execution_count": 21
    }
   ],
   "metadata": {}
  },
  {
   "cell_type": "markdown",
   "source": [
    "# Dictionaries\n",
    "\n",
    "A dictionary is similar to a list except the indices are not limited to only integers. The dictionary is a set of key-value pairs where the key is the index to its associated value. The general form of a dictionary is:\n",
    "\n",
    "    {key_1: value_1, key_2: value_2, ...}\n",
    "\n",
    "A dictionary can be created by enclosing a sequence of `key: value` pairs in curly brackets.\n",
    "\n",
    "Dictionaries are __mutable__; a dictionary can be built by adding items (key-value pairs) to an empty list. The order of items in a dictionary does not matter, they are not indexed with integers. Instead, keys are used to look up values. \n",
    "\n",
    "__NOTE:__ The operator `in` also works on dictionaries, but it only scans keys, not values."
   ],
   "metadata": {}
  },
  {
   "cell_type": "code",
   "execution_count": 24,
   "source": [
    "my_dictionary = {}\r\n",
    "my_dictionary[\"one\"] = 1\r\n",
    "my_dictionary['two'] = 2\r\n",
    "print(my_dictionary)\r\n",
    "list(my_dictionary.values())"
   ],
   "outputs": [
    {
     "output_type": "stream",
     "name": "stdout",
     "text": [
      "{'one': 1, 'two': 2}\n"
     ]
    },
    {
     "output_type": "execute_result",
     "data": {
      "text/plain": [
       "[1, 2]"
      ]
     },
     "metadata": {},
     "execution_count": 24
    }
   ],
   "metadata": {}
  },
  {
   "cell_type": "code",
   "execution_count": 25,
   "source": [
    "'''Traversing over dictionary is very similar to that of a list,\r\n",
    "just this time keys are used not indices.\r\n",
    "Compare these two loops: the first one prints keys, not values.'''\r\n",
    "\r\n",
    "for value in my_dictionary:\r\n",
    "    print(value)\r\n",
    "\r\n",
    "for key in my_dictionary:\r\n",
    "    print(my_dictionary[key])\r\n"
   ],
   "outputs": [
    {
     "output_type": "stream",
     "name": "stdout",
     "text": [
      "one\n",
      "two\n",
      "1\n",
      "2\n"
     ]
    }
   ],
   "metadata": {}
  },
  {
   "cell_type": "markdown",
   "source": [
    "## Dictionary comprehension"
   ],
   "metadata": {}
  },
  {
   "cell_type": "markdown",
   "source": [
    "In the previous section, we learned about list comprehensions. A dictionary comprehension works very similar to a list comprehension, but the end result is a dictionary. The structure of a dictionary comprehension can be described as follows:\n",
    "\n",
    "    {key: value for (key, value) in iterable}\n",
    "\n",
    "Let's see how it works. One of the applications is to take two lists and create a dictionary using dictionary comprehension. \n",
    "\n",
    "**NOTE:** You will find in the documentation that the term *dictionary comprehension* is often shortened to *dict comprehension*. "
   ],
   "metadata": {}
  },
  {
   "cell_type": "code",
   "execution_count": 26,
   "source": [
    "'''Create a dictionary where the key is an integer from 0 to 9\r\n",
    "and the value is the same integer to the power of three.''' \r\n",
    "\r\n",
    "{x: x**3 for x in range(10)}"
   ],
   "outputs": [
    {
     "output_type": "execute_result",
     "data": {
      "text/plain": [
       "{0: 0, 1: 1, 2: 8, 3: 27, 4: 64, 5: 125, 6: 216, 7: 343, 8: 512, 9: 729}"
      ]
     },
     "metadata": {},
     "execution_count": 26
    }
   ],
   "metadata": {}
  },
  {
   "cell_type": "code",
   "execution_count": 27,
   "source": [
    "'''Creating a dictionary where the key is a letter of the alphabet:'''\r\n",
    "\r\n",
    "import string\r\n",
    "{x: y**3 for (x, y) in zip(string.ascii_lowercase, range(10))}"
   ],
   "outputs": [
    {
     "output_type": "execute_result",
     "data": {
      "text/plain": [
       "{'a': 0,\n",
       " 'b': 1,\n",
       " 'c': 8,\n",
       " 'd': 27,\n",
       " 'e': 64,\n",
       " 'f': 125,\n",
       " 'g': 216,\n",
       " 'h': 343,\n",
       " 'i': 512,\n",
       " 'j': 729}"
      ]
     },
     "metadata": {},
     "execution_count": 27
    }
   ],
   "metadata": {}
  },
  {
   "cell_type": "markdown",
   "source": [
    "The expression `zip(string.ascii_lowercase, range(10))` creates a list of tuples where the first element in each pair is a lowercase letter of an English alphabet, and the second element is an integer from 0 to 9:"
   ],
   "metadata": {}
  },
  {
   "cell_type": "code",
   "execution_count": 28,
   "source": [
    "list(zip(string.ascii_lowercase, range(10)))"
   ],
   "outputs": [
    {
     "output_type": "execute_result",
     "data": {
      "text/plain": [
       "[('a', 0),\n",
       " ('b', 1),\n",
       " ('c', 2),\n",
       " ('d', 3),\n",
       " ('e', 4),\n",
       " ('f', 5),\n",
       " ('g', 6),\n",
       " ('h', 7),\n",
       " ('i', 8),\n",
       " ('j', 9)]"
      ]
     },
     "metadata": {},
     "execution_count": 28
    }
   ],
   "metadata": {}
  },
  {
   "cell_type": "markdown",
   "source": [
    "**NOTE:** For details on the `string` package, please refer to the Python documentation: [Common string operations](https://docs.python.org/3/library/string.html) (Python Software Foundation, 2018)."
   ],
   "metadata": {}
  },
  {
   "cell_type": "markdown",
   "source": [
    "## EXERCISE 4: Word count\n",
    "\n",
    "Imagine that you are given a long sentence and need to count how many times each word appears in the sentence.    \n",
    "\n",
    "1). First, split the sentence into a list of words. We will use a sentence consisting of 251 words from \"Barnaby Rudge\", by Charles Dickens."
   ],
   "metadata": {}
  },
  {
   "cell_type": "code",
   "execution_count": 29,
   "source": [
    "long_sentence = \"\"\"To none of these interrogatories, whereof every one was more pathetically delivered than\r\n",
    "the last, did Mrs Varden answer one word: but Miggs,\r\n",
    "not at all abashed by this circumstance,\r\n",
    "turned to the small boy in attendance—her eldest nephew—son of her own married sister—born in Golden Lion Court,\r\n",
    "number twenty-sivin,\r\n",
    "and bred in the very shadow of the second bell-handle on the right- hand door-post—and with a plentiful use\r\n",
    "of her pocket- handkerchief, addressed herself to him: requesting that on his return home he would console\r\n",
    "his parents for the loss of her, his aunt, by delivering to them a faithful statement of his having left\r\n",
    "her in the bosom of that family, with which, as his aforesaid parents well knew, her best affections were\r\n",
    "incorporated; that he would remind them that nothing less than her imperious sense of duty,\r\n",
    "and devoted attachment to her old master and missis, likewise Miss Dolly and young Mr Joe,\r\n",
    "should ever have induced her to decline that pressing invitation which they, his parents, had,\r\n",
    "as he could testify, given her, to lodge and board with them, free of all cost and charge, for evermore;\r\n",
    "lastly, that he would help her with her box upstairs, and then repair straight home,\r\n",
    "bearing her blessing and her strong injunctions to mingle in his prayers a supplication\r\n",
    "that he might in course of time grow up a locksmith, or a Mr Joe, and have Mrs Vardens\r\n",
    "and Miss Dollys for his relations and friends.\"\"\""
   ],
   "outputs": [],
   "metadata": {}
  },
  {
   "cell_type": "code",
   "execution_count": 45,
   "source": [
    "'''Type your code here'''\r\n",
    "\r\n",
    "long_sentence = long_sentence.replace(',','')\r\n",
    "long_sentence = long_sentence.replace('.','')\r\n",
    "long_sentence = long_sentence.replace(';','')\r\n",
    "long_sentence = long_sentence.replace('\\n',' ')\r\n",
    "long_sentence = long_sentence.lower()\r\n",
    "\r\n",
    "sentence_list = long_sentence.split(\" \")\r\n",
    "sentence_list[:5]"
   ],
   "outputs": [
    {
     "output_type": "execute_result",
     "data": {
      "text/plain": [
       "['to', 'none', 'of', 'these', 'interrogatories']"
      ]
     },
     "metadata": {},
     "execution_count": 45
    }
   ],
   "metadata": {}
  },
  {
   "cell_type": "markdown",
   "source": [
    "2). Create a dictionary from that list where keys are unique words (e.g. if \"the\" appears in the sentence 3 times, there will only be one key for \"the\") from the list, and the values are its occurrence number."
   ],
   "metadata": {}
  },
  {
   "cell_type": "code",
   "execution_count": 46,
   "source": [
    "'''Type your code here'''\r\n",
    "\r\n",
    "sentence_dict = {}\r\n",
    "for k in sentence_list:\r\n",
    "    if k in sentence_dict:\r\n",
    "        sentence_dict[k] += 1\r\n",
    "    else:\r\n",
    "        sentence_dict[k] = 1\r\n",
    "\r\n"
   ],
   "outputs": [],
   "metadata": {}
  },
  {
   "cell_type": "code",
   "execution_count": 48,
   "source": [
    "sentence_dict"
   ],
   "outputs": [
    {
     "output_type": "execute_result",
     "data": {
      "text/plain": [
       "{'to': 8,\n",
       " 'none': 1,\n",
       " 'of': 10,\n",
       " 'these': 1,\n",
       " 'interrogatories': 1,\n",
       " 'whereof': 1,\n",
       " 'every': 1,\n",
       " 'one': 2,\n",
       " 'was': 1,\n",
       " 'more': 1,\n",
       " 'pathetically': 1,\n",
       " 'delivered': 1,\n",
       " 'than': 2,\n",
       " 'the': 7,\n",
       " 'last': 1,\n",
       " 'did': 1,\n",
       " 'mrs': 2,\n",
       " 'varden': 1,\n",
       " 'answer': 1,\n",
       " 'word:': 1,\n",
       " 'but': 1,\n",
       " 'miggs': 1,\n",
       " 'not': 1,\n",
       " 'at': 1,\n",
       " 'all': 2,\n",
       " 'abashed': 1,\n",
       " 'by': 2,\n",
       " 'this': 1,\n",
       " 'circumstance': 1,\n",
       " 'turned': 1,\n",
       " 'small': 1,\n",
       " 'boy': 1,\n",
       " 'in': 6,\n",
       " 'attendance—her': 1,\n",
       " 'eldest': 1,\n",
       " 'nephew—son': 1,\n",
       " 'her': 13,\n",
       " 'own': 1,\n",
       " 'married': 1,\n",
       " 'sister—born': 1,\n",
       " 'golden': 1,\n",
       " 'lion': 1,\n",
       " 'court': 1,\n",
       " 'number': 1,\n",
       " 'twenty-sivin': 1,\n",
       " 'and': 11,\n",
       " 'bred': 1,\n",
       " 'very': 1,\n",
       " 'shadow': 1,\n",
       " 'second': 1,\n",
       " 'bell-handle': 1,\n",
       " 'on': 2,\n",
       " 'right-': 1,\n",
       " 'hand': 1,\n",
       " 'door-post—and': 1,\n",
       " 'with': 4,\n",
       " 'a': 5,\n",
       " 'plentiful': 1,\n",
       " 'use': 1,\n",
       " 'pocket-': 1,\n",
       " 'handkerchief': 1,\n",
       " 'addressed': 1,\n",
       " 'herself': 1,\n",
       " 'him:': 1,\n",
       " 'requesting': 1,\n",
       " 'that': 7,\n",
       " 'his': 8,\n",
       " 'return': 1,\n",
       " 'home': 2,\n",
       " 'he': 5,\n",
       " 'would': 3,\n",
       " 'console': 1,\n",
       " 'parents': 3,\n",
       " 'for': 3,\n",
       " 'loss': 1,\n",
       " 'aunt': 1,\n",
       " 'delivering': 1,\n",
       " 'them': 3,\n",
       " 'faithful': 1,\n",
       " 'statement': 1,\n",
       " 'having': 1,\n",
       " 'left': 1,\n",
       " 'bosom': 1,\n",
       " 'family': 1,\n",
       " 'which': 2,\n",
       " 'as': 2,\n",
       " 'aforesaid': 1,\n",
       " 'well': 1,\n",
       " 'knew': 1,\n",
       " 'best': 1,\n",
       " 'affections': 1,\n",
       " 'were': 1,\n",
       " 'incorporated': 1,\n",
       " 'remind': 1,\n",
       " 'nothing': 1,\n",
       " 'less': 1,\n",
       " 'imperious': 1,\n",
       " 'sense': 1,\n",
       " 'duty': 1,\n",
       " 'devoted': 1,\n",
       " 'attachment': 1,\n",
       " 'old': 1,\n",
       " 'master': 1,\n",
       " 'missis': 1,\n",
       " 'likewise': 1,\n",
       " 'miss': 2,\n",
       " 'dolly': 1,\n",
       " 'young': 1,\n",
       " 'mr': 2,\n",
       " 'joe': 2,\n",
       " 'should': 1,\n",
       " 'ever': 1,\n",
       " 'have': 2,\n",
       " 'induced': 1,\n",
       " 'decline': 1,\n",
       " 'pressing': 1,\n",
       " 'invitation': 1,\n",
       " 'they': 1,\n",
       " 'had': 1,\n",
       " 'could': 1,\n",
       " 'testify': 1,\n",
       " 'given': 1,\n",
       " 'lodge': 1,\n",
       " 'board': 1,\n",
       " 'free': 1,\n",
       " 'cost': 1,\n",
       " 'charge': 1,\n",
       " 'evermore': 1,\n",
       " 'lastly': 1,\n",
       " 'help': 1,\n",
       " 'box': 1,\n",
       " 'upstairs': 1,\n",
       " 'then': 1,\n",
       " 'repair': 1,\n",
       " 'straight': 1,\n",
       " 'bearing': 1,\n",
       " 'blessing': 1,\n",
       " 'strong': 1,\n",
       " 'injunctions': 1,\n",
       " 'mingle': 1,\n",
       " 'prayers': 1,\n",
       " 'supplication': 1,\n",
       " 'might': 1,\n",
       " 'course': 1,\n",
       " 'time': 1,\n",
       " 'grow': 1,\n",
       " 'up': 1,\n",
       " 'locksmith': 1,\n",
       " 'or': 1,\n",
       " 'vardens': 1,\n",
       " 'dollys': 1,\n",
       " 'relations': 1,\n",
       " 'friends': 1}"
      ]
     },
     "metadata": {},
     "execution_count": 48
    }
   ],
   "metadata": {}
  },
  {
   "cell_type": "markdown",
   "source": [
    " "
   ],
   "metadata": {}
  },
  {
   "cell_type": "code",
   "execution_count": 49,
   "source": [
    "'''Exercise 4 solution:'''\r\n",
    "\r\n",
    "'''1). The method 'split()' can be used here.\r\n",
    "Any delimiter can be passed as the first argument to split\r\n",
    "the string 'long_sentence':'''\r\n",
    "\r\n",
    "'''Note: if sep is not specified, any whitespace string is a separator by default.''' \r\n",
    "\r\n",
    "list_of_words = long_sentence.split(sep=' ')\r\n",
    "list_of_words"
   ],
   "outputs": [
    {
     "output_type": "execute_result",
     "data": {
      "text/plain": [
       "['to',\n",
       " 'none',\n",
       " 'of',\n",
       " 'these',\n",
       " 'interrogatories',\n",
       " 'whereof',\n",
       " 'every',\n",
       " 'one',\n",
       " 'was',\n",
       " 'more',\n",
       " 'pathetically',\n",
       " 'delivered',\n",
       " 'than',\n",
       " 'the',\n",
       " 'last',\n",
       " 'did',\n",
       " 'mrs',\n",
       " 'varden',\n",
       " 'answer',\n",
       " 'one',\n",
       " 'word:',\n",
       " 'but',\n",
       " 'miggs',\n",
       " 'not',\n",
       " 'at',\n",
       " 'all',\n",
       " 'abashed',\n",
       " 'by',\n",
       " 'this',\n",
       " 'circumstance',\n",
       " 'turned',\n",
       " 'to',\n",
       " 'the',\n",
       " 'small',\n",
       " 'boy',\n",
       " 'in',\n",
       " 'attendance—her',\n",
       " 'eldest',\n",
       " 'nephew—son',\n",
       " 'of',\n",
       " 'her',\n",
       " 'own',\n",
       " 'married',\n",
       " 'sister—born',\n",
       " 'in',\n",
       " 'golden',\n",
       " 'lion',\n",
       " 'court',\n",
       " 'number',\n",
       " 'twenty-sivin',\n",
       " 'and',\n",
       " 'bred',\n",
       " 'in',\n",
       " 'the',\n",
       " 'very',\n",
       " 'shadow',\n",
       " 'of',\n",
       " 'the',\n",
       " 'second',\n",
       " 'bell-handle',\n",
       " 'on',\n",
       " 'the',\n",
       " 'right-',\n",
       " 'hand',\n",
       " 'door-post—and',\n",
       " 'with',\n",
       " 'a',\n",
       " 'plentiful',\n",
       " 'use',\n",
       " 'of',\n",
       " 'her',\n",
       " 'pocket-',\n",
       " 'handkerchief',\n",
       " 'addressed',\n",
       " 'herself',\n",
       " 'to',\n",
       " 'him:',\n",
       " 'requesting',\n",
       " 'that',\n",
       " 'on',\n",
       " 'his',\n",
       " 'return',\n",
       " 'home',\n",
       " 'he',\n",
       " 'would',\n",
       " 'console',\n",
       " 'his',\n",
       " 'parents',\n",
       " 'for',\n",
       " 'the',\n",
       " 'loss',\n",
       " 'of',\n",
       " 'her',\n",
       " 'his',\n",
       " 'aunt',\n",
       " 'by',\n",
       " 'delivering',\n",
       " 'to',\n",
       " 'them',\n",
       " 'a',\n",
       " 'faithful',\n",
       " 'statement',\n",
       " 'of',\n",
       " 'his',\n",
       " 'having',\n",
       " 'left',\n",
       " 'her',\n",
       " 'in',\n",
       " 'the',\n",
       " 'bosom',\n",
       " 'of',\n",
       " 'that',\n",
       " 'family',\n",
       " 'with',\n",
       " 'which',\n",
       " 'as',\n",
       " 'his',\n",
       " 'aforesaid',\n",
       " 'parents',\n",
       " 'well',\n",
       " 'knew',\n",
       " 'her',\n",
       " 'best',\n",
       " 'affections',\n",
       " 'were',\n",
       " 'incorporated',\n",
       " 'that',\n",
       " 'he',\n",
       " 'would',\n",
       " 'remind',\n",
       " 'them',\n",
       " 'that',\n",
       " 'nothing',\n",
       " 'less',\n",
       " 'than',\n",
       " 'her',\n",
       " 'imperious',\n",
       " 'sense',\n",
       " 'of',\n",
       " 'duty',\n",
       " 'and',\n",
       " 'devoted',\n",
       " 'attachment',\n",
       " 'to',\n",
       " 'her',\n",
       " 'old',\n",
       " 'master',\n",
       " 'and',\n",
       " 'missis',\n",
       " 'likewise',\n",
       " 'miss',\n",
       " 'dolly',\n",
       " 'and',\n",
       " 'young',\n",
       " 'mr',\n",
       " 'joe',\n",
       " 'should',\n",
       " 'ever',\n",
       " 'have',\n",
       " 'induced',\n",
       " 'her',\n",
       " 'to',\n",
       " 'decline',\n",
       " 'that',\n",
       " 'pressing',\n",
       " 'invitation',\n",
       " 'which',\n",
       " 'they',\n",
       " 'his',\n",
       " 'parents',\n",
       " 'had',\n",
       " 'as',\n",
       " 'he',\n",
       " 'could',\n",
       " 'testify',\n",
       " 'given',\n",
       " 'her',\n",
       " 'to',\n",
       " 'lodge',\n",
       " 'and',\n",
       " 'board',\n",
       " 'with',\n",
       " 'them',\n",
       " 'free',\n",
       " 'of',\n",
       " 'all',\n",
       " 'cost',\n",
       " 'and',\n",
       " 'charge',\n",
       " 'for',\n",
       " 'evermore',\n",
       " 'lastly',\n",
       " 'that',\n",
       " 'he',\n",
       " 'would',\n",
       " 'help',\n",
       " 'her',\n",
       " 'with',\n",
       " 'her',\n",
       " 'box',\n",
       " 'upstairs',\n",
       " 'and',\n",
       " 'then',\n",
       " 'repair',\n",
       " 'straight',\n",
       " 'home',\n",
       " 'bearing',\n",
       " 'her',\n",
       " 'blessing',\n",
       " 'and',\n",
       " 'her',\n",
       " 'strong',\n",
       " 'injunctions',\n",
       " 'to',\n",
       " 'mingle',\n",
       " 'in',\n",
       " 'his',\n",
       " 'prayers',\n",
       " 'a',\n",
       " 'supplication',\n",
       " 'that',\n",
       " 'he',\n",
       " 'might',\n",
       " 'in',\n",
       " 'course',\n",
       " 'of',\n",
       " 'time',\n",
       " 'grow',\n",
       " 'up',\n",
       " 'a',\n",
       " 'locksmith',\n",
       " 'or',\n",
       " 'a',\n",
       " 'mr',\n",
       " 'joe',\n",
       " 'and',\n",
       " 'have',\n",
       " 'mrs',\n",
       " 'vardens',\n",
       " 'and',\n",
       " 'miss',\n",
       " 'dollys',\n",
       " 'for',\n",
       " 'his',\n",
       " 'relations',\n",
       " 'and',\n",
       " 'friends']"
      ]
     },
     "metadata": {},
     "execution_count": 49
    }
   ],
   "metadata": {}
  },
  {
   "cell_type": "code",
   "execution_count": 50,
   "source": [
    "'''2). Create the empty dictionary:'''\r\n",
    "\r\n",
    "word_count_dictionary = {}\r\n",
    "\r\n",
    "'''This dictionary will have all unique words from the list as keys\r\n",
    "and the word occurrence number as values.\r\n",
    "If the word is not in the dictionary we add new key and value is 1,\r\n",
    "for existing keys the value is incremented by 1.''' \r\n",
    "\r\n",
    "for w in list_of_words:\r\n",
    "    if w not in word_count_dictionary:\r\n",
    "        word_count_dictionary[w] = 1\r\n",
    "    else:\r\n",
    "        word_count_dictionary[w] += 1"
   ],
   "outputs": [],
   "metadata": {}
  },
  {
   "cell_type": "markdown",
   "source": [
    "# Reading Data from a File\n",
    "\n",
    "Often, we need to read data from a file. The file may contain simple text, an Excel spreadsheet, an XML document, or be in any other format. Python offers multiple tools for file reading.\n",
    "\n",
    "The simplest way is to use the built-in function __`open()`__. This function opens a file and returns a file object; it gives a _file handle_. The file handle is not the actual data contained in the file, but instead it can be used to read the data. Typing `?open` in a command line will return a docstring about this function.\n",
    "\n",
    "## Open and read a text file\n",
    "\n",
    "The general syntax of the `open()` function is:\n",
    "\n",
    "    open(name[, mode[, buffering]]) -> file object\n",
    "\n",
    "This shows that the first argument is the path to a file (if the file is in the same directory only the filename needs to be provided; if not, the path to the file must be provided). The second argument states the mode. Here are the most used modes: \n",
    "\n",
    "* 'r' - to open for reading,\n",
    "* 'w' - to open for writing (old data is erased),\n",
    "* 'a' - to open for appending to what is already in the file,\n",
    "* 'r+' - read and write mode\n",
    "\n",
    "A text file is a sequence of lines. A special character called the __newline__ character represents the end of each line. In Python, `\\n` represents a new line. __NOTE:__ `\\n` is actually one character even though it looks like two.\n",
    "\n",
    "There are four different methods to read from a file: `read(), readlines(), readline()` and `for` loop over the file_object:\n",
    " * `read()` can be used to read the whole file at once and use it as a single string (not recommended for big files)\n",
    " * `readlines()` returns the content of a file as a list of strings; each line can be accessed by index\n",
    " * `readline()` can be used to read only a part of file; the first call returns the first line, the second call returns the second line and so on. This function can be used inside a `while` loop to read the file line-by-line until a certain place reached.\n",
    " * `for line in file_object: <...>` allows for processing of every line in a file, one at a time:\n",
    "       \n",
    "       file_object = open('example_file_for_reading.txt', 'r')\n",
    "       for line in file_object:\n",
    "           print(line)\n",
    "        \n",
    "Also, the `file_object` can be converted to a list using the `list()` constructor, i.e. `list(file_object)`. This will return a result similar to the `readlines()` method.\n",
    "\n",
    "__NOTE:__ When you are done working with the file, it's important to close it.  If you don't, the actual file may end up empty, incomplete or corrupted. Once the method `close()` is called, subsequent method calls on that file object will not work:\n",
    "\n",
    "    file_object.close()\n",
    "    file_obj.read()\n",
    "    % ValueError: I/O operation on closed file"
   ],
   "metadata": {}
  },
  {
   "cell_type": "markdown",
   "source": [
    "## Writing to a file"
   ],
   "metadata": {}
  },
  {
   "cell_type": "markdown",
   "source": [
    "The `write()` method in Python works like the `print()` function but it does not add a newline character `'\\n'`. Again, open the file first:\n",
    "\n",
    "    file_object = open('file_to_write_to.txt', 'w')\n",
    "    file_object.write(('text goes here\\n')\n",
    "    file_object.close()"
   ],
   "metadata": {}
  },
  {
   "cell_type": "code",
   "execution_count": 51,
   "source": [
    "two_rows_string = \"This is the first line,\\nand this is the second line.\""
   ],
   "outputs": [],
   "metadata": {}
  },
  {
   "cell_type": "code",
   "execution_count": 52,
   "source": [
    "two_rows_string"
   ],
   "outputs": [
    {
     "output_type": "execute_result",
     "data": {
      "text/plain": [
       "'This is the first line,\\nand this is the second line.'"
      ]
     },
     "metadata": {},
     "execution_count": 52
    }
   ],
   "metadata": {}
  },
  {
   "cell_type": "code",
   "execution_count": 53,
   "source": [
    "print(two_rows_string)"
   ],
   "outputs": [
    {
     "output_type": "stream",
     "name": "stdout",
     "text": [
      "This is the first line,\n",
      "and this is the second line.\n"
     ]
    }
   ],
   "metadata": {}
  },
  {
   "cell_type": "code",
   "execution_count": 54,
   "source": [
    "file_object = open('file_to_write_to.txt', 'w')\r\n",
    "file_object.write(two_rows_string + '\\n')\r\n",
    "file_object.close()"
   ],
   "outputs": [],
   "metadata": {}
  },
  {
   "cell_type": "code",
   "execution_count": 55,
   "source": [
    "file_object = open('file_to_write_to.txt', 'a')\r\n",
    "file_object.write('Oh, one more thing\\n')\r\n",
    "file_object.close()"
   ],
   "outputs": [],
   "metadata": {}
  },
  {
   "cell_type": "markdown",
   "source": [
    "# Formatting Print Output"
   ],
   "metadata": {}
  },
  {
   "cell_type": "markdown",
   "source": [
    "In this short section we will quickly review how to format the output of the `print()` function. Here are a few examples:"
   ],
   "metadata": {}
  },
  {
   "cell_type": "code",
   "execution_count": 56,
   "source": [
    "'''Formatting strings with format specifiers'''\r\n",
    "\r\n",
    "'''Pad with spaces if < 10 chars long'''\r\n",
    "print(\"{0:20} is the best of them all\".format(\"Stella Artois\"))\r\n",
    "\r\n",
    "'''Take the width from the second parameter'''\r\n",
    "print(\"{0:{1}} is the best of them all\".format(\"Stella Artois\", 10))\r\n",
    "\r\n",
    "'''Take named arguments'''\r\n",
    "print(\"{beer:{width}} is the best of them all\".format(beer=\"Stella Artois\", width=10))\r\n",
    "\r\n",
    "'''Force right justification'''\r\n",
    "print(\"{0:>20} is the best of them all\".format(\"Stella Artois\"))\r\n",
    "\r\n",
    "'''Force right justification and pad with &'''\r\n",
    "print(\"{0:&>20} is the best of them all\".format(\"Stella Artois\"))"
   ],
   "outputs": [
    {
     "output_type": "stream",
     "name": "stdout",
     "text": [
      "Stella Artois        is the best of them all\n",
      "Stella Artois is the best of them all\n",
      "Stella Artois is the best of them all\n",
      "       Stella Artois is the best of them all\n",
      "&&&&&&&Stella Artois is the best of them all\n"
     ]
    }
   ],
   "metadata": {}
  },
  {
   "cell_type": "code",
   "execution_count": 57,
   "source": [
    "'''String interpolation'''\r\n",
    "personA = \"Mary\"\r\n",
    "personB = \"Jane\"\r\n",
    "print(\"%s and %s went up the hill\" % (personA, personB))"
   ],
   "outputs": [
    {
     "output_type": "stream",
     "name": "stdout",
     "text": [
      "Mary and Jane went up the hill\n"
     ]
    }
   ],
   "metadata": {}
  },
  {
   "cell_type": "markdown",
   "source": [
    "__End of Module__\n",
    "\n",
    "You have reached the end of this module. \n",
    "\n",
    "If you have any questions, please reach out to your peers using the discussion boards. If you and your peers are unable to come to a suitable conclusion, do not hesitate to reach out to your instructor on the designated discussion board.\n",
    "\n",
    "When you are comfortable with the content, and have practiced to your satisfaction, you may proceed to any related assignments, and to the next module. "
   ],
   "metadata": {}
  },
  {
   "cell_type": "markdown",
   "source": [
    "# References\n",
    "\n",
    "Python Software Foundation (2018). https://docs.python.org/3/library/string.html"
   ],
   "metadata": {
    "collapsed": true
   }
  }
 ],
 "metadata": {
  "kernelspec": {
   "name": "python3",
   "display_name": "Python 3.7.1 64-bit ('PDSH': conda)"
  },
  "language_info": {
   "codemirror_mode": {
    "name": "ipython",
    "version": 3
   },
   "file_extension": ".py",
   "mimetype": "text/x-python",
   "name": "python",
   "nbconvert_exporter": "python",
   "pygments_lexer": "ipython3",
   "version": "3.7.1"
  },
  "toc": {
   "base_numbering": 1,
   "nav_menu": {},
   "number_sections": false,
   "sideBar": true,
   "skip_h1_title": false,
   "title_cell": "Table of Contents",
   "title_sidebar": "Contents",
   "toc_cell": false,
   "toc_position": {},
   "toc_section_display": true,
   "toc_window_display": false
  },
  "interpreter": {
   "hash": "802524c617486f1a04e178e7ca23d7101f749004c7e32bd7870bb55fe9eeec3c"
  }
 },
 "nbformat": 4,
 "nbformat_minor": 2
}