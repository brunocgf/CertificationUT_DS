{
 "cells": [
  {
   "cell_type": "markdown",
   "source": [
    "# Module 2 Part 2: Python Strings and Lists"
   ],
   "metadata": {}
  },
  {
   "cell_type": "markdown",
   "source": [
    "This module consists of 3 parts:\n",
    "\n",
    "- **Part 1** - Introduction to Python.\n",
    "- **Part 2** - Python Strings and Lists.\n",
    "- **Part 3** - Python Tuples, Dictionaries, Reading data from a file, Formatting print output.\n",
    "\n",
    "Each part is in a separate notebook. It is recommended to follow the order of the notebooks from Part 1 to Part 3."
   ],
   "metadata": {}
  },
  {
   "cell_type": "markdown",
   "source": [
    "<h1>Table of Contents<span class=\"tocSkip\"></span></h1>\n",
    "<br>\n",
    "<div class=\"toc\">\n",
    "<ul class=\"toc-item\">\n",
    "<li><span><a href=\"#Module-2-Part-2:-Python-Strings-and-Lists\" data-toc-modified-id=\"Module-2-Part-2:-Python-Strings-and-Lists\">Module 2 Part 2: Python Strings and Lists</a></span>\n",
    "</li>\n",
    "<li><span><a href=\"#Table-of-Contents\" data-toc-modified-id=\"Table-of-Contents\">Table of Contents</a></span>\n",
    "</li>\n",
    "<li><span><a href=\"#Strings\" data-toc-modified-id=\"Strings\">Strings</a></span>\n",
    "<ul class=\"toc-item\">\n",
    "<li><span><a href=\"#Slicing\" data-toc-modified-id=\"Slicing\">Slicing</a></span>\n",
    "</li>\n",
    "<li><span><a href=\"#String-operators\" data-toc-modified-id=\"String-operators\">String operators</a></span>\n",
    "</li>\n",
    "<li><span><a href=\"#Traversing-a-string\" data-toc-modified-id=\"Traversing-a-string\">Traversing a string</a></span>\n",
    "</li>\n",
    "<li><span><a href=\"#EXERCISE-2:-Index-of-the-second-occurrence\" data-toc-modified-id=\"EXERCISE-2:-Index-of-the-second-occurrence\">EXERCISE 2: Index of the second occurrence</a></span>\n",
    "</li>\n",
    "</ul>\n",
    "</li>\n",
    "<li><span><a href=\"#Lists\" data-toc-modified-id=\"Lists\">Lists</a></span>\n",
    "<ul class=\"toc-item\">\n",
    "<li><span><a href=\"#Traversing-a-list\" data-toc-modified-id=\"Traversing-a-list\">Traversing a list</a></span>\n",
    "</li>\n",
    "<li><span><a href=\"#EXERCISE-3:-Lists\" data-toc-modified-id=\"EXERCISE-3:-Lists\">EXERCISE 3: Lists</a></span>\n",
    "</li>\n",
    "<li><span><a href=\"#List-comprehension\" data-toc-modified-id=\"List-comprehension\">List comprehension</a></span>\n",
    "</li>\n",
    "</ul>\n",
    "</li>\n",
    "<li><span><a href=\"#References\" data-toc-modified-id=\"References\">References</a></span>\n",
    "</li>\n",
    "</ul>\n",
    "</div>"
   ],
   "metadata": {}
  },
  {
   "cell_type": "markdown",
   "source": [
    "# Strings"
   ],
   "metadata": {}
  },
  {
   "cell_type": "markdown",
   "source": [
    "A __string__ is a sequence of characters. In Python, the type of a string is __str__. Strings are enclosed with either single (') or double (\") quotes. Alternatively, triple quotes (''') can be used to enclose strings that span multiple lines. Strings can contain letters, numbers or special characters. They can also be empty, i.e. `\"\"`, or contain a spaces, e.g. `\" \"`.\n",
    "\n",
    "A string can also be viewed an ordered sequence of characters. Individual characters in a string can be accessed using the character's index with the first character having an index value of 0.\n",
    "\n",
    "A string's characters can also be accessed with a negative index. Negative indices count from the right-hand side with the final character at index -1, the second last at index -2 and so on. "
   ],
   "metadata": {}
  },
  {
   "cell_type": "code",
   "execution_count": 1,
   "source": [
    "s1 = \"Python is the Number 1 choice for social media hacking\"\r\n",
    "print(s1[0])\r\n",
    "print(s1[1])\r\n",
    "s1[-1]"
   ],
   "outputs": [
    {
     "output_type": "stream",
     "name": "stdout",
     "text": [
      "P\n",
      "y\n"
     ]
    },
    {
     "output_type": "execute_result",
     "data": {
      "text/plain": [
       "'g'"
      ]
     },
     "metadata": {},
     "execution_count": 1
    }
   ],
   "metadata": {}
  },
  {
   "cell_type": "markdown",
   "source": [
    "Python provides many useful methods (or built-in functions) to work with strings. One of them is `len()`, which returns the number of characters in a string."
   ],
   "metadata": {}
  },
  {
   "cell_type": "code",
   "execution_count": 2,
   "source": [
    "len(s1)"
   ],
   "outputs": [
    {
     "output_type": "execute_result",
     "data": {
      "text/plain": [
       "54"
      ]
     },
     "metadata": {},
     "execution_count": 2
    }
   ],
   "metadata": {}
  },
  {
   "cell_type": "markdown",
   "source": [
    "## Slicing"
   ],
   "metadata": {}
  },
  {
   "cell_type": "markdown",
   "source": [
    "A *slice* is a segment of a string, beginning with a *start* index and continuing up to but **not including** an *end* index."
   ],
   "metadata": {}
  },
  {
   "cell_type": "code",
   "execution_count": 3,
   "source": [
    "s1[2:6]"
   ],
   "outputs": [
    {
     "output_type": "execute_result",
     "data": {
      "text/plain": [
       "'thon'"
      ]
     },
     "metadata": {},
     "execution_count": 3
    }
   ],
   "metadata": {}
  },
  {
   "cell_type": "markdown",
   "source": [
    "The end index can be omitted in which case it defaults to `len(str)`. For example, `s1[2:]` is equivalent to the `s1[2:len(s1)]` substring from index 2 to the end of the string. Similarly, if the start index is omitted the string will be sliced from index 0."
   ],
   "metadata": {}
  },
  {
   "cell_type": "code",
   "execution_count": 4,
   "source": [
    "s1[:2]"
   ],
   "outputs": [
    {
     "output_type": "execute_result",
     "data": {
      "text/plain": [
       "'Py'"
      ]
     },
     "metadata": {},
     "execution_count": 4
    }
   ],
   "metadata": {}
  },
  {
   "cell_type": "markdown",
   "source": [
    "In Python, strings are __immutable__ - once created, strings cannot be changed. Instead, a new string must be created, which may contain a slice or slices of the existing string. For example, the string `'get'` cannot be changed to `'got'`. Similarly, the string `\"I am learning Python\"` cannot be changed to `\"I know Python\"` via an in-place change."
   ],
   "metadata": {}
  },
  {
   "cell_type": "code",
   "execution_count": 5,
   "source": [
    "s2 = \"get\"\r\n",
    "s2[1] = \"o\""
   ],
   "outputs": [
    {
     "output_type": "error",
     "ename": "TypeError",
     "evalue": "'str' object does not support item assignment",
     "traceback": [
      "\u001b[1;31m---------------------------------------------------------------------------\u001b[0m",
      "\u001b[1;31mTypeError\u001b[0m                                 Traceback (most recent call last)",
      "\u001b[1;32m<ipython-input-5-021ee7f27fa0>\u001b[0m in \u001b[0;36m<module>\u001b[1;34m\u001b[0m\n\u001b[0;32m      1\u001b[0m \u001b[0ms2\u001b[0m \u001b[1;33m=\u001b[0m \u001b[1;34m\"get\"\u001b[0m\u001b[1;33m\u001b[0m\u001b[1;33m\u001b[0m\u001b[0m\n\u001b[1;32m----> 2\u001b[1;33m \u001b[0ms2\u001b[0m\u001b[1;33m[\u001b[0m\u001b[1;36m1\u001b[0m\u001b[1;33m]\u001b[0m \u001b[1;33m=\u001b[0m \u001b[1;34m\"o\"\u001b[0m\u001b[1;33m\u001b[0m\u001b[1;33m\u001b[0m\u001b[0m\n\u001b[0m",
      "\u001b[1;31mTypeError\u001b[0m: 'str' object does not support item assignment"
     ]
    }
   ],
   "metadata": {}
  },
  {
   "cell_type": "code",
   "execution_count": 6,
   "source": [
    "s2.replace('e', 'o')\r\n",
    "\r\n",
    "# Note, that this does not change the s2 variable.\r\n",
    "# Instead, a new string object is returned and can be assigned to a new variable."
   ],
   "outputs": [
    {
     "output_type": "execute_result",
     "data": {
      "text/plain": [
       "'got'"
      ]
     },
     "metadata": {},
     "execution_count": 6
    }
   ],
   "metadata": {}
  },
  {
   "cell_type": "code",
   "execution_count": 7,
   "source": [
    "s3 = s2[0] + \"o\" + s2[2]\r\n",
    "print(s3)\r\n",
    "\r\n",
    "# Note that s2 was not modified'''\r\n",
    "\r\n",
    "print(s2)\r\n",
    "\r\n",
    "# Similarly\r\n",
    "learn_str = \"I am learning Python\"\r\n",
    "learn_str[:2] + \"know\" + \" \" + learn_str[14:]"
   ],
   "outputs": [
    {
     "output_type": "stream",
     "name": "stdout",
     "text": [
      "got\n",
      "get\n"
     ]
    },
    {
     "output_type": "execute_result",
     "data": {
      "text/plain": [
       "'I know Python'"
      ]
     },
     "metadata": {},
     "execution_count": 7
    }
   ],
   "metadata": {}
  },
  {
   "cell_type": "markdown",
   "source": [
    "## String operators"
   ],
   "metadata": {}
  },
  {
   "cell_type": "markdown",
   "source": [
    "In the last example, the '+' operator was used. This operator, when used between two strings, __concatenates__ them: `\"abc123\" + \"def456'` returns `\"abc123def456\"`. A string can also be multiplied by an integer: `str * int` will concatenate `int` number of copies of `str`. However, a string cannot be multiplied by another string and all other mathematical operators will result in a `TypeError`.\n",
    "\n",
    "Strings can be __compared__ using the equality (`==`) and inequality (`!=`) operators. Operators `'>'` and `'<'` compare two strings by alphabetical or dictionary order, not by length. `'a' < 'b'` returns `True` and `'aaaaa' < 'bbb'` is also `True`. The capital letters are \"less\" than lowercase letters.\n",
    "\n",
    "The operator `in` returns `True` if a substring appears anywhere inside a string.\n"
   ],
   "metadata": {}
  },
  {
   "cell_type": "code",
   "execution_count": 8,
   "source": [
    "print('a'<'A')\r\n",
    "print('b' > 'aaaaa')\r\n",
    "'on' in 'Python'"
   ],
   "outputs": [
    {
     "output_type": "stream",
     "name": "stdout",
     "text": [
      "False\n",
      "True\n"
     ]
    },
    {
     "output_type": "execute_result",
     "data": {
      "text/plain": [
       "True"
      ]
     },
     "metadata": {},
     "execution_count": 8
    }
   ],
   "metadata": {}
  },
  {
   "cell_type": "markdown",
   "source": [
    "We have seen the method `len()` above. To find other methods for strings, the function `dir(str)` can be used. This function will output a list of all methods available:"
   ],
   "metadata": {}
  },
  {
   "cell_type": "code",
   "execution_count": 9,
   "source": [
    "'''print() function is used for a better printout formatting'''\r\n",
    "\r\n",
    "print(dir(str))"
   ],
   "outputs": [
    {
     "output_type": "stream",
     "name": "stdout",
     "text": [
      "['__add__', '__class__', '__contains__', '__delattr__', '__dir__', '__doc__', '__eq__', '__format__', '__ge__', '__getattribute__', '__getitem__', '__getnewargs__', '__gt__', '__hash__', '__init__', '__init_subclass__', '__iter__', '__le__', '__len__', '__lt__', '__mod__', '__mul__', '__ne__', '__new__', '__reduce__', '__reduce_ex__', '__repr__', '__rmod__', '__rmul__', '__setattr__', '__sizeof__', '__str__', '__subclasshook__', 'capitalize', 'casefold', 'center', 'count', 'encode', 'endswith', 'expandtabs', 'find', 'format', 'format_map', 'index', 'isalnum', 'isalpha', 'isdecimal', 'isdigit', 'isidentifier', 'islower', 'isnumeric', 'isprintable', 'isspace', 'istitle', 'isupper', 'join', 'ljust', 'lower', 'lstrip', 'maketrans', 'partition', 'replace', 'rfind', 'rindex', 'rjust', 'rpartition', 'rsplit', 'rstrip', 'split', 'splitlines', 'startswith', 'strip', 'swapcase', 'title', 'translate', 'upper', 'zfill']\n"
     ]
    }
   ],
   "metadata": {}
  },
  {
   "cell_type": "markdown",
   "source": [
    "To learn more about a particular function, the `help` function can be used or a '?' can be typed before the name of the function.\n",
    "\n",
    "For example, to get more information about the `find` method, you can call the `help()` function: `help(str.find)` or type `?str.find`. Here, `str` indicates that we are looking for the method applicable to string objects."
   ],
   "metadata": {}
  },
  {
   "cell_type": "code",
   "execution_count": 10,
   "source": [
    "help(str.find)"
   ],
   "outputs": [
    {
     "output_type": "stream",
     "name": "stdout",
     "text": [
      "Help on method_descriptor:\n",
      "\n",
      "find(...)\n",
      "    S.find(sub[, start[, end]]) -> int\n",
      "    \n",
      "    Return the lowest index in S where substring sub is found,\n",
      "    such that sub is contained within S[start:end].  Optional\n",
      "    arguments start and end are interpreted as in slice notation.\n",
      "    \n",
      "    Return -1 on failure.\n",
      "\n"
     ]
    }
   ],
   "metadata": {}
  },
  {
   "cell_type": "markdown",
   "source": [
    "__NOTE:__ Square brackets around the description of the function indicate optional arguments.  In the description of the `find` method, the start and end indices are optional. Moreover, this function can be called with the start index only, omitting the end index, as indicated by the nested square brackets."
   ],
   "metadata": {}
  },
  {
   "cell_type": "markdown",
   "source": [
    "## Traversing a string"
   ],
   "metadata": {}
  },
  {
   "cell_type": "markdown",
   "source": [
    "Often we need to access all the items in a string exactly once each.\n",
    "The `for` loop allows for compact traversal structures. In the example below, the `for` loop selects each character in string `s1` and executes the body of the loop for each character."
   ],
   "metadata": {}
  },
  {
   "cell_type": "code",
   "execution_count": 9,
   "source": [
    "'''Traversing a string'''\r\n",
    "\r\n",
    "for item in s1:\r\n",
    "    if item in 'aeiouAEIOU':\r\n",
    "        print(item)"
   ],
   "outputs": [
    {
     "output_type": "stream",
     "name": "stdout",
     "text": [
      "o\n",
      "i\n",
      "e\n",
      "u\n",
      "e\n",
      "o\n",
      "i\n",
      "e\n",
      "o\n",
      "o\n",
      "i\n",
      "a\n",
      "e\n",
      "i\n",
      "a\n",
      "a\n",
      "i\n"
     ]
    }
   ],
   "metadata": {}
  },
  {
   "cell_type": "code",
   "execution_count": 10,
   "source": [
    "help(str.split)"
   ],
   "outputs": [
    {
     "output_type": "stream",
     "name": "stdout",
     "text": [
      "Help on method_descriptor:\n",
      "\n",
      "split(self, /, sep=None, maxsplit=-1)\n",
      "    Return a list of the words in the string, using sep as the delimiter string.\n",
      "    \n",
      "    sep\n",
      "      The delimiter according which to split the string.\n",
      "      None (the default value) means split according to any whitespace,\n",
      "      and discard empty strings from the result.\n",
      "    maxsplit\n",
      "      Maximum number of splits to do.\n",
      "      -1 (the default value) means no limit.\n",
      "\n"
     ]
    }
   ],
   "metadata": {}
  },
  {
   "cell_type": "markdown",
   "source": [
    "## EXERCISE 2: Index of the second occurrence"
   ],
   "metadata": {}
  },
  {
   "cell_type": "markdown",
   "source": [
    "The method `find` can be used in an expression like `s1.find(s4)` to find the index of the first occurrence of the substring `s4` in the string `s1`.  \n",
    "\n",
    "This method also takes an optional start argument, and the expression `s1.find(s4, start)` will return the first occurrence of the `s4` substring after the start index.\n",
    "\n",
    "Write an expression to produce the second occurrence of the `s4` substring in the `s1` string. "
   ],
   "metadata": {}
  },
  {
   "cell_type": "code",
   "execution_count": 11,
   "source": [
    "# Let's check s1 and define s4:\r\n",
    "print(s1)\r\n",
    "s4 = 'ia'\r\n",
    "print(s4)"
   ],
   "outputs": [
    {
     "output_type": "stream",
     "name": "stdout",
     "text": [
      "Python is the Number 1 choice for social media hacking\n",
      "ia\n"
     ]
    }
   ],
   "metadata": {}
  },
  {
   "cell_type": "code",
   "execution_count": 16,
   "source": [
    "'''Type your code here'''\r\n",
    "\r\n",
    "start = s1.find(s4) + 1\r\n",
    "\r\n",
    "s1.find(s4,start+1)\r\n"
   ],
   "outputs": [
    {
     "output_type": "execute_result",
     "data": {
      "text/plain": [
       "44"
      ]
     },
     "metadata": {},
     "execution_count": 16
    }
   ],
   "metadata": {}
  },
  {
   "cell_type": "code",
   "execution_count": 25,
   "source": [
    "'''Exercise 2 solution:'''\r\n",
    "\r\n",
    "'''First, let's find the first occurrence of the s4 substring.'''\r\n",
    "\r\n",
    "first_occurrence = s1.find(s4)\r\n",
    "first_occurrence"
   ],
   "outputs": [
    {
     "output_type": "execute_result",
     "data": {
      "text/plain": [
       "37"
      ]
     },
     "metadata": {},
     "execution_count": 25
    }
   ],
   "metadata": {}
  },
  {
   "cell_type": "code",
   "execution_count": 26,
   "source": [
    "'''Next, to find the second occurrence we should start after the first occurrence.'''\r\n",
    "\r\n",
    "s1.find(s4, first_occurrence + 1)"
   ],
   "outputs": [
    {
     "output_type": "execute_result",
     "data": {
      "text/plain": [
       "44"
      ]
     },
     "metadata": {},
     "execution_count": 26
    }
   ],
   "metadata": {}
  },
  {
   "cell_type": "code",
   "execution_count": 27,
   "source": [
    "'''Or these two expressions can be combined into one.'''\r\n",
    "\r\n",
    "s1.find(s4, s1.find(s4)+1)"
   ],
   "outputs": [
    {
     "output_type": "execute_result",
     "data": {
      "text/plain": [
       "44"
      ]
     },
     "metadata": {},
     "execution_count": 27
    }
   ],
   "metadata": {}
  },
  {
   "cell_type": "markdown",
   "source": [
    "# Lists"
   ],
   "metadata": {}
  },
  {
   "cell_type": "markdown",
   "source": [
    "A **list** is a sequence of values similar to a string. If a string is a sequence of characters, a list is a sequence of values of any type. The values in a list are called __elements__ or __items__. Lists are versatile, and are sometimes called the \"workhorses\" of Python. \n",
    "\n",
    "Lists can even contain other lists as elements, resulting in nested lists. The easiest way to create a list is to enclose a sequence of values in square brackets `[  ]`. Just like strings, lists can be empty. Working with lists is similar to working with strings. For example, the `len()` method will return the length of the list. Indexing and slicing of a list is also similar to strings."
   ],
   "metadata": {}
  },
  {
   "cell_type": "code",
   "execution_count": 17,
   "source": [
    "'''List examples'''\r\n",
    "\r\n",
    "empty_list = []\r\n",
    "list_of_numbers = [1, 2.3, 4.5, 6]\r\n",
    "list_of_strings = [\"\"]"
   ],
   "outputs": [],
   "metadata": {}
  },
  {
   "cell_type": "code",
   "execution_count": 18,
   "source": [
    "'''A string can be split into a list with the `split` method.\r\n",
    "For the string 's1' defined above, a space (\" \") can be used to split the string into a list of individual words.'''\r\n",
    "\r\n",
    "s1.split(\" \")"
   ],
   "outputs": [
    {
     "output_type": "execute_result",
     "data": {
      "text/plain": [
       "['Python',\n",
       " 'is',\n",
       " 'the',\n",
       " 'Number',\n",
       " '1',\n",
       " 'choice',\n",
       " 'for',\n",
       " 'social',\n",
       " 'media',\n",
       " 'hacking']"
      ]
     },
     "metadata": {},
     "execution_count": 18
    }
   ],
   "metadata": {}
  },
  {
   "cell_type": "code",
   "execution_count": 19,
   "source": [
    "'''Please uncomment the line below and execute this command to see a list\r\n",
    "of all methods available for a list object.'''\r\n",
    "\r\n",
    "dir(list)"
   ],
   "outputs": [
    {
     "output_type": "execute_result",
     "data": {
      "text/plain": [
       "['__add__',\n",
       " '__class__',\n",
       " '__contains__',\n",
       " '__delattr__',\n",
       " '__delitem__',\n",
       " '__dir__',\n",
       " '__doc__',\n",
       " '__eq__',\n",
       " '__format__',\n",
       " '__ge__',\n",
       " '__getattribute__',\n",
       " '__getitem__',\n",
       " '__gt__',\n",
       " '__hash__',\n",
       " '__iadd__',\n",
       " '__imul__',\n",
       " '__init__',\n",
       " '__init_subclass__',\n",
       " '__iter__',\n",
       " '__le__',\n",
       " '__len__',\n",
       " '__lt__',\n",
       " '__mul__',\n",
       " '__ne__',\n",
       " '__new__',\n",
       " '__reduce__',\n",
       " '__reduce_ex__',\n",
       " '__repr__',\n",
       " '__reversed__',\n",
       " '__rmul__',\n",
       " '__setattr__',\n",
       " '__setitem__',\n",
       " '__sizeof__',\n",
       " '__str__',\n",
       " '__subclasshook__',\n",
       " 'append',\n",
       " 'clear',\n",
       " 'copy',\n",
       " 'count',\n",
       " 'extend',\n",
       " 'index',\n",
       " 'insert',\n",
       " 'pop',\n",
       " 'remove',\n",
       " 'reverse',\n",
       " 'sort']"
      ]
     },
     "metadata": {},
     "execution_count": 19
    }
   ],
   "metadata": {}
  },
  {
   "cell_type": "markdown",
   "source": [
    "Unlike strings, lists are __mutable__. Any item in a list can be changed; see example below: "
   ],
   "metadata": {}
  },
  {
   "cell_type": "code",
   "execution_count": 20,
   "source": [
    "list_of_numbers[2] = 100\r\n",
    "list_of_numbers"
   ],
   "outputs": [
    {
     "output_type": "execute_result",
     "data": {
      "text/plain": [
       "[1, 2.3, 100, 6]"
      ]
     },
     "metadata": {},
     "execution_count": 20
    }
   ],
   "metadata": {}
  },
  {
   "cell_type": "markdown",
   "source": [
    "Python provides several methods that modify lists:    \n",
    "\n",
    "|__method__     |__Description__        |\n",
    "|:--- |:---|\n",
    "| list.append(item)    | Append an `item` to the end of the list.                                                           |\n",
    "| list.extend(list_1)    | Append the items in `list_1` to the list.                                       |\n",
    "| list.pop([index])    | Remove the item at `index` from the list, or the last item in the list if an index is not given.|\n",
    "| list.remove(item)    | Remove the first occurrence of the `item`.                                                     |\n",
    "| list.reverse( )      | Reverse the list.                                                                           |\n",
    "| list.insert(int, item)| Insert an `item` at the given index `int`. The subsequent items in the list are shifted to the right. |"
   ],
   "metadata": {}
  },
  {
   "cell_type": "code",
   "execution_count": 21,
   "source": [
    "list1 = [1,2,3,4]\r\n",
    "list1.append(5)\r\n",
    "list1.sort(reverse=True)\r\n",
    "list1\r\n"
   ],
   "outputs": [
    {
     "output_type": "execute_result",
     "data": {
      "text/plain": [
       "[5, 4, 3, 2, 1]"
      ]
     },
     "metadata": {},
     "execution_count": 21
    }
   ],
   "metadata": {}
  },
  {
   "cell_type": "code",
   "execution_count": 22,
   "source": [
    "list1.remove(3)"
   ],
   "outputs": [],
   "metadata": {}
  },
  {
   "cell_type": "code",
   "execution_count": 23,
   "source": [
    "list1"
   ],
   "outputs": [
    {
     "output_type": "execute_result",
     "data": {
      "text/plain": [
       "[5, 4, 2, 1]"
      ]
     },
     "metadata": {},
     "execution_count": 23
    }
   ],
   "metadata": {}
  },
  {
   "cell_type": "code",
   "execution_count": 24,
   "source": [
    "list2 = [11, 12]\r\n",
    "list1.extend(list2)\r\n",
    "list1"
   ],
   "outputs": [
    {
     "output_type": "execute_result",
     "data": {
      "text/plain": [
       "[5, 4, 2, 1, 11, 12]"
      ]
     },
     "metadata": {},
     "execution_count": 24
    }
   ],
   "metadata": {}
  },
  {
   "cell_type": "markdown",
   "source": [
    "## Traversing a list"
   ],
   "metadata": {}
  },
  {
   "cell_type": "markdown",
   "source": [
    "A `for` loop can be used to access each item in a list, one at a time.  \n",
    "\n",
    "The structure in code is:\n",
    "\n",
    "    for elem in list_A:     \n",
    "        ...\n",
    "\n",
    "A list can also be traversed using indices. This can be achieved with two built-in functions: `len()` and `range()`.  \n",
    "\n",
    "The documentation for `range()` states the syntax is as follows (Python Software Foundation, 2018):\n",
    "\n",
    "    range([start,] stop[, step])\n",
    "    \n",
    "The `range()` function returns a virtual sequence of numbers from `start` to `stop`, in intervals of the `step`.\n",
    "\n",
    "Thus, the `range()` function is useful for iteration over a sequence of numbers. The start and step parameters are optional &mdash; calling the function with only one parameter will return a sequence from 0 up to but not including the stop value.\n",
    "* `range(5)` returns the sequence 0, 1, 2, 3, and 4;\n",
    "* `range(1,4)` returns 1, 2, 3;\n",
    "* `range(1, 10, 3)` returns 1, 4, 7.\n",
    "\n",
    "Combining `range()` and `len()` functions we can build a structure looping over a list by indices:\n",
    "\n",
    "    for i in range(len(list)):     \n",
    "        ..."
   ],
   "metadata": {}
  },
  {
   "cell_type": "markdown",
   "source": [
    "## EXERCISE 3:  Lists"
   ],
   "metadata": {}
  },
  {
   "cell_type": "markdown",
   "source": [
    "1). Generate a list of integers from 0 to 5, reverse the list and print it out. Explain how you reversed the list.     \n",
    "**Hint:** The `append()` function will help you to generate the list by adding one integer to the list at a time."
   ],
   "metadata": {}
  },
  {
   "cell_type": "code",
   "execution_count": 25,
   "source": [
    "'''Type your code here'''\r\n",
    "list = []\r\n",
    "for i in range(6):\r\n",
    "    list.append(i)\r\n",
    "\r\n",
    "list.reverse()\r\n",
    "\r\n",
    "print(list)\r\n"
   ],
   "outputs": [
    {
     "output_type": "stream",
     "name": "stdout",
     "text": [
      "[5, 4, 3, 2, 1, 0]\n"
     ]
    }
   ],
   "metadata": {}
  },
  {
   "cell_type": "markdown",
   "source": [
    "2). Generate a list of strings. Add the items from the list of strings to the list of integers from step 1.\n",
    "Explain your choice of string method. "
   ],
   "metadata": {}
  },
  {
   "cell_type": "code",
   "execution_count": 32,
   "source": [
    "'''Type your code here'''\r\n",
    "\r\n",
    "ls = []\r\n",
    "for i in 'strings':\r\n",
    "    ls.append(i)\r\n",
    "\r\n",
    "list.extend(ls)\r\n",
    "\r\n",
    "print(list)\r\n",
    "\r\n",
    "\r\n"
   ],
   "outputs": [
    {
     "output_type": "stream",
     "name": "stdout",
     "text": [
      "[5, 4, 3, 2, 1, 0, 'strings', 'strings', 's', 't', 'r', 'i', 'n', 'g', 's']\n"
     ]
    }
   ],
   "metadata": {}
  },
  {
   "cell_type": "code",
   "execution_count": 27,
   "source": [
    "'''Exercise 3 Solution:'''\r\n",
    "\r\n",
    "'''1). An empty list can be created first.'''\r\n",
    "list_integers = []\r\n",
    "\r\n",
    "'''Than integers can be added to the list.'''\r\n",
    "for i in range(0,6):\r\n",
    "    list_integers.append(i)\r\n",
    "\r\n",
    "'''Printing out the whole list:'''\r\n",
    "print(list_integers)\r\n",
    "\r\n",
    "'''or by elements:'''\r\n",
    "for n in list_integers:\r\n",
    "    print(n)"
   ],
   "outputs": [
    {
     "output_type": "stream",
     "name": "stdout",
     "text": [
      "[0, 1, 2, 3, 4, 5]\n",
      "0\n",
      "1\n",
      "2\n",
      "3\n",
      "4\n",
      "5\n"
     ]
    }
   ],
   "metadata": {}
  },
  {
   "cell_type": "code",
   "execution_count": 28,
   "source": [
    "'''1(a). To reverse the list, the 'reversed()' function can be used.\r\n",
    "This function returns an iterator, which accesses the list in reversed order.'''\r\n",
    "rev_iterator = reversed(list_integers)\r\n",
    "\r\n",
    "'''To return the list we need to add list() in front.'''\r\n",
    "print(list(rev_iterator))\r\n",
    "\r\n",
    "'''These operations did not change our original list:'''\r\n",
    "print(list_integers)"
   ],
   "outputs": [
    {
     "output_type": "stream",
     "name": "stdout",
     "text": [
      "[5, 4, 3, 2, 1, 0]\n",
      "[0, 1, 2, 3, 4, 5]\n"
     ]
    }
   ],
   "metadata": {}
  },
  {
   "cell_type": "code",
   "execution_count": 29,
   "source": [
    "'''1(b). Another way is to slice the list to reverse it.\r\n",
    "Syntax [start:stop:step]'''\r\n",
    "reversed_list_2 = list_integers[::-1]\r\n",
    "\r\n",
    "'''To make a copy of the whole list the start and stop are omitted.\r\n",
    "Here negative step will slice over the list in reverse.'''\r\n",
    "print('Reversed list:')\r\n",
    "print(reversed_list_2)\r\n",
    "\r\n",
    "'''Slice does not modify the original list, it returns a new list.'''\r\n",
    "print('This is the original list:')\r\n",
    "print(list_integers)"
   ],
   "outputs": [
    {
     "output_type": "stream",
     "name": "stdout",
     "text": [
      "Reversed list:\n",
      "[5, 4, 3, 2, 1, 0]\n",
      "This is the original list:\n",
      "[0, 1, 2, 3, 4, 5]\n"
     ]
    }
   ],
   "metadata": {}
  },
  {
   "cell_type": "code",
   "execution_count": 30,
   "source": [
    "'''1(c). The 'reverse()' function will reverse the list in place:'''\r\n",
    "list_integers.reverse()\r\n",
    "\r\n",
    "print (\"Using reverse() function:\")\r\n",
    "print (list_integers)\r\n",
    "\r\n",
    "'''The original list is reversed'''"
   ],
   "outputs": [
    {
     "output_type": "stream",
     "name": "stdout",
     "text": [
      "Using reverse() function:\n",
      "[5, 4, 3, 2, 1, 0]\n"
     ]
    }
   ],
   "metadata": {}
  },
  {
   "cell_type": "code",
   "execution_count": 31,
   "source": [
    "'''2). A list of strings is created:'''\r\n",
    "\r\n",
    "sequences = ['string', 'list']"
   ],
   "outputs": [],
   "metadata": {}
  },
  {
   "cell_type": "code",
   "execution_count": 32,
   "source": [
    "'''2(a). The method 'extend()' takes a list and appends all the elements from the second list,\r\n",
    "not the second list itself.'''\r\n",
    "\r\n",
    "list_integers.extend(sequences)\r\n",
    "list_integers"
   ],
   "outputs": [
    {
     "output_type": "execute_result",
     "data": {
      "text/plain": [
       "[5, 4, 3, 2, 1, 0, 'string', 'list']"
      ]
     },
     "metadata": {},
     "execution_count": 32
    }
   ],
   "metadata": {}
  },
  {
   "cell_type": "code",
   "execution_count": 33,
   "source": [
    "'''2(b). The method 'append()' adds an object to the end of a list:'''\r\n",
    "\r\n",
    "list_integers.append(sequences)\r\n",
    "list_integers"
   ],
   "outputs": [
    {
     "output_type": "execute_result",
     "data": {
      "text/plain": [
       "[5, 4, 3, 2, 1, 0, 'string', 'list', ['string', 'list']]"
      ]
     },
     "metadata": {},
     "execution_count": 33
    }
   ],
   "metadata": {}
  },
  {
   "cell_type": "markdown",
   "source": [
    "## List comprehension"
   ],
   "metadata": {}
  },
  {
   "cell_type": "markdown",
   "source": [
    "**List comprehension** in Python provides an easy and elegant way of creating a new list. A common application of list comprehension is to create a new list based on an existing sequence(s), e.g. one or more lists. While creating a new list with list comprehension, we might want to include only elements that satisfy a certain condition, or transform elements of an original list using an operation, or a calculation, applied to these elements.\n",
    "\n",
    "For example, we might have a list of numbers, `nums`. We need to create a new list, let's call it `squares`, where each element is a square of the corresponding element from the list `nums`. We can write a `for` loop which will look as follows:"
   ],
   "metadata": {}
  },
  {
   "cell_type": "code",
   "execution_count": 34,
   "source": [
    "nums = [0, 1, 2, 3, 4, 5, 6, 7]\r\n",
    "squares = []\r\n",
    "for x in nums:\r\n",
    "    squares.append(x ** 2)\r\n",
    "print(squares) "
   ],
   "outputs": [
    {
     "output_type": "stream",
     "name": "stdout",
     "text": [
      "[0, 1, 4, 9, 16, 25, 36, 49]\n"
     ]
    }
   ],
   "metadata": {}
  },
  {
   "cell_type": "markdown",
   "source": [
    "However, a more simple and elegant way would be to write the same loop in one line of code using list comprehension:"
   ],
   "metadata": {}
  },
  {
   "cell_type": "code",
   "execution_count": 35,
   "source": [
    "squares = [x ** 2 for x in nums]\r\n",
    "print(squares)"
   ],
   "outputs": [
    {
     "output_type": "stream",
     "name": "stdout",
     "text": [
      "[0, 1, 4, 9, 16, 25, 36, 49]\n"
     ]
    }
   ],
   "metadata": {}
  },
  {
   "cell_type": "code",
   "execution_count": 33,
   "source": [
    "'''Another example: create a new list from 2 lists,\r\n",
    "where the condition is - use only those numbers that are common in both lists, listA and listB'''\r\n",
    "\r\n",
    "listA = [15, 35, 76, 83, 910, 1234]\r\n",
    "listB = [1234, 234, 83, 3, 4, 5]\r\n",
    "\r\n",
    "new_list = []\r\n",
    "\r\n",
    "for a in listA:\r\n",
    "    for b in listB:\r\n",
    "        if a == b: \r\n",
    "            new_list.append(a)\r\n",
    "\r\n",
    "print(new_list) "
   ],
   "outputs": [
    {
     "output_type": "stream",
     "name": "stdout",
     "text": [
      "[83, 1234]\n"
     ]
    }
   ],
   "metadata": {}
  },
  {
   "cell_type": "code",
   "execution_count": 34,
   "source": [
    "'''The same result achieved using list comprehension:'''\r\n",
    "\r\n",
    "[a for a in listA for b in listB if a == b]"
   ],
   "outputs": [
    {
     "output_type": "execute_result",
     "data": {
      "text/plain": [
       "[83, 1234]"
      ]
     },
     "metadata": {},
     "execution_count": 34
    }
   ],
   "metadata": {}
  },
  {
   "cell_type": "code",
   "execution_count": 35,
   "source": [
    "'''Another example:\r\n",
    "return a list of doubled numbers only if the number is an odd number'''\r\n",
    "\r\n",
    "[n * 2 for n in listA if n % 2 == 1]"
   ],
   "outputs": [
    {
     "output_type": "execute_result",
     "data": {
      "text/plain": [
       "[30, 70, 166]"
      ]
     },
     "metadata": {},
     "execution_count": 35
    }
   ],
   "metadata": {}
  },
  {
   "cell_type": "markdown",
   "source": [
    "The general structure of a list comprehension can be written as follows:\n",
    "\n",
    "    [<output expression> <loop expression <input expression>> <optional predicate expression>]\n",
    "    \n",
    "A list comprehension is always enclosed in brackets. It starts with an expression followed by a `for` expression, then zero or more `for` or `if` clauses. "
   ],
   "metadata": {}
  },
  {
   "cell_type": "markdown",
   "source": [
    "The list comprehension can return a list of pairs, or tuples. We will learn about tuples in the next section of this module. For now, and to wrap up the discussion about list comprehension, here is how to create a list of numbers paired with their square:"
   ],
   "metadata": {}
  },
  {
   "cell_type": "code",
   "execution_count": 36,
   "source": [
    "[(x, x**2) for x in range(6)]"
   ],
   "outputs": [
    {
     "output_type": "execute_result",
     "data": {
      "text/plain": [
       "[(0, 0), (1, 1), (2, 4), (3, 9), (4, 16), (5, 25)]"
      ]
     },
     "metadata": {},
     "execution_count": 36
    }
   ],
   "metadata": {}
  },
  {
   "cell_type": "markdown",
   "source": [
    "__End of Part 2__\n",
    "\n",
    "\n",
    "This notebook makes up one part of this module. Now that you have completed this part, please proceed to the next notebook in this module.\n",
    "\n",
    "If you have any questions, please reach out to your peers using the discussion boards. If you and your peers are unable to come to a suitable conclusion, do not hesitate to reach out to your instructor on the designated discussion board.\n"
   ],
   "metadata": {}
  },
  {
   "cell_type": "markdown",
   "source": [
    "# References\n",
    "\n",
    "\n",
    "McKinney, W. (2017). Python for Data Analysis: Data Wrangling with Pandas, NumPy, and IPython (pp. 15-50). O'Reilly Media.\n",
    "\n",
    "Python Software Foundation, (2018). Built-in Functions. Retrieved from (https://docs.python.org/3/library/functions.html#func-range)."
   ],
   "metadata": {}
  }
 ],
 "metadata": {
  "kernelspec": {
   "name": "python3",
   "display_name": "Python 3.7.1 64-bit ('PDSH': conda)"
  },
  "language_info": {
   "codemirror_mode": {
    "name": "ipython",
    "version": 3
   },
   "file_extension": ".py",
   "mimetype": "text/x-python",
   "name": "python",
   "nbconvert_exporter": "python",
   "pygments_lexer": "ipython3",
   "version": "3.7.1"
  },
  "toc": {
   "base_numbering": 1,
   "nav_menu": {},
   "number_sections": false,
   "sideBar": true,
   "skip_h1_title": false,
   "title_cell": "Table of Contents",
   "title_sidebar": "Contents",
   "toc_cell": false,
   "toc_position": {},
   "toc_section_display": true,
   "toc_window_display": false
  },
  "interpreter": {
   "hash": "802524c617486f1a04e178e7ca23d7101f749004c7e32bd7870bb55fe9eeec3c"
  }
 },
 "nbformat": 4,
 "nbformat_minor": 2
}