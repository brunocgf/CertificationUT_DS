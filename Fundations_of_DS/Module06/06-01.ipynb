{
 "cells": [
  {
   "cell_type": "markdown",
   "metadata": {},
   "source": [
    "# Module 6 Part 1: Descriptive Statistics and Visualization"
   ]
  },
  {
   "cell_type": "markdown",
   "metadata": {},
   "source": [
    "# Introduction"
   ]
  },
  {
   "cell_type": "markdown",
   "metadata": {},
   "source": [
    "This module explores the following topics:\n",
    "- A review of descriptive statistics and types of measure\n",
    "- How to calculate descriptive statistics using `pandas` functions\n",
    "- Visualization techniques and Python commonly used libraries for visualization\n",
    "\n",
    "This module consists of 2 parts:\n",
    "\n",
    "- **Part 1** - Descriptive Statistics\n",
    "- **Part 2** - Visualization\n",
    "\n",
    "Each part is provided in a separate notebook file. It is recommended that you follow the order of the notebooks."
   ]
  },
  {
   "cell_type": "markdown",
   "metadata": {},
   "source": [
    "# Learning Outcomes"
   ]
  },
  {
   "cell_type": "markdown",
   "metadata": {},
   "source": [
    "For the topic of descriptive statistics, you will:\n",
    "\n",
    "- Review the main concepts of descriptive statistics, including mean, median and standard deviation\n",
    "- Review correlation\n",
    "- Learn how to calculate measures of descriptive statistics using `pandas`\n",
    "\n",
    "For the topic of visualization, you will:\n",
    "\n",
    "- Learn from and re-create some classic examples\n",
    "- Apply design principles to creating effective visualizations\n",
    "- Describe some of the new technologies behind rich, interactive Web visualizations\n",
    "- Use `matplotlib` to create data plots and charts"
   ]
  },
  {
   "cell_type": "markdown",
   "metadata": {},
   "source": [
    "# Readings and Resources"
   ]
  },
  {
   "cell_type": "markdown",
   "metadata": {},
   "source": [
    "The majority of the notebook content draws from the recommended readings. We invite you to further supplement this notebook with the following recommended texts:\n",
    "\n",
    "McKinney, W. (2017). Python for Data Analysis, 2nd Ed., Boston: O'Reilly Media\n",
    "\n",
    "Diez, D., Barr, C. & Çetinkaya-Rundel, M. (2017). Chapter 1: Introduction to Data In OpenIntro Statistics (3rd Ed.). Available free [online or paper copy for purchase.](https://www.openintro.org/stat/textbook.php?stat_book=os)"
   ]
  },
  {
   "cell_type": "markdown",
   "metadata": {
    "toc": true
   },
   "source": [
    "<h1>Table of Contents<span class=\"tocSkip\"></span></h1>\n",
    "<br>\n",
    "<div class=\"toc\">\n",
    "<ul class=\"toc-item\">\n",
    "<li><span><a href=\"#Module-6-Part-1:-Descriptive-Statistics-and-Visualization\" data-toc-modified-id=\"Module-6-Part-1:-Descriptive-Statistics-and-Visualization\">Module 6 Part 1: Descriptive Statistics and Visualization</a></span>\n",
    "</li>\n",
    "<li><span><a href=\"#Introduction\" data-toc-modified-id=\"Introduction\">Introduction</a></span>\n",
    "</li>\n",
    "<li><span><a href=\"#Learning-Outcomes\" data-toc-modified-id=\"Learning-Outcomes\">Learning Outcomes</a></span>\n",
    "</li>\n",
    "<li><span><a href=\"#Readings-and-Resources\" data-toc-modified-id=\"Readings-and-Resources\">Readings and Resources</a></span>\n",
    "</li>\n",
    "<li><span><a href=\"#Table-of-Contents\" data-toc-modified-id=\"Table-of-Contents\">Table of Contents</a></span>\n",
    "</li>\n",
    "<li><span><a href=\"#Descriptive-Statistics\" data-toc-modified-id=\"Descriptive-Statistics\">Descriptive Statistics</a></span>\n",
    "<ul class=\"toc-item\">\n",
    "<li><span><a href=\"#Creating-the-Model:-Understanding-the-Main-Characteristics-of-Data\" data-toc-modified-id=\"Creating-the-Model:-Understanding-the-Main-Characteristics-of-Data\">Creating the Model: Understanding the Main Characteristics of Data</a></span>\n",
    "</li>\n",
    "<li><span><a href=\"#Types-of-data\" data-toc-modified-id=\"Types-of-data\">Types of data</a></span>\n",
    "</li>\n",
    "<li><span><a href=\"#Summary-statistics\" data-toc-modified-id=\"Summary-statistics\">Summary statistics</a></span>\n",
    "<ul class=\"toc-item\">\n",
    "<li><span><a href=\"#Measures-of-location\" data-toc-modified-id=\"Measures-of-location\">Measures of location</a></span>\n",
    "</li>\n",
    "<li><span><a href=\"#Measures-of-spread\" data-toc-modified-id=\"Measures-of-spread\">Measures of spread</a></span>\n",
    "</li>\n",
    "<li><span><a href=\"#Data-distributions\" data-toc-modified-id=\"Data-distributions\">Data distributions</a></span>\n",
    "</li>\n",
    "<li><span><a href=\"#Measures-of-shape\" data-toc-modified-id=\"Measures-of-shape\">Measures of shape</a></span>\n",
    "</li>\n",
    "<li><span><a href=\"#Correlation\" data-toc-modified-id=\"Correlation\">Correlation</a></span>\n",
    "</li>\n",
    "</ul>\n",
    "</li>\n",
    "</ul>\n",
    "</li>\n",
    "<li><span><a href=\"#Summary-Statistics-in-Pandas\" data-toc-modified-id=\"Summary-Statistics-in-Pandas\">Summary Statistics in Pandas</a></span>\n",
    "</li>\n",
    "<li><span><a href=\"#References\" data-toc-modified-id=\"References\">References</a></span>\n",
    "</li>\n",
    "</ul>\n",
    "</div>"
   ]
  },
  {
   "cell_type": "markdown",
   "metadata": {},
   "source": [
    "# Descriptive Statistics"
   ]
  },
  {
   "cell_type": "markdown",
   "metadata": {},
   "source": [
    "## Creating the Model: Understanding the Main Characteristics of Data"
   ]
  },
  {
   "cell_type": "markdown",
   "metadata": {},
   "source": [
    "<figure>\n",
    "    <img src=\"dataScienceProcess.png\" alt=\"This image shows the stages of creating a model from start to finish.\" style=\"width: 100%;\"> (Course Authors, 2018)\n",
    "    <figcaption><em>This image shows the stages of creating a model from start to finish.</em></figcaption>\n",
    "</figure>\n",
    "\n",
    "We have reached phase 3 of the analytics methodology. Once your data has been prepared (i.e., formatted and cleaned), you can start creating your model. The first step to this phase is using descriptive statistics to understand the characteristics of your data, including how it is distributed. This will help you select the correct modeling approach. In the previous modules we learned the basics of NumPy and Pandas. In this module we will learn to apply the functions within those libraries to a clean data set, and in Part 2 we will introduce MatPlotLib, which is a library that will help you visually represent your data."
   ]
  },
  {
   "cell_type": "markdown",
   "metadata": {},
   "source": [
    "## Types of data"
   ]
  },
  {
   "cell_type": "markdown",
   "metadata": {},
   "source": [
    "Descriptive statistics are measures that provide simple summaries of data in numeric form. For more information, see the Wikipedia page [Descriptive statistics](https://en.wikipedia.org/wiki/Descriptive_statistics).\n",
    "\n",
    "It is always a good idea to look at basic descriptive statistics after data cleaning and preparation tasks are complete. These measures provide summaries of the features and will help in understanding the main characteristics of the data.\n",
    "\n",
    "Before we discuss descriptive statistics, let's talk about different types of data. The data type is a fundamental feature of any variable, it defines how the data can be described and, as you will see later in the program, what algorithms can be used if we need to build a predictive model for the variable in question.\n",
    "\n",
    "There are two main statistical data types: \n",
    "1. **Numerical** or **quantitative** data\n",
    "2. **Categorical** or **qualitative** data\n",
    "\n",
    "Numerical data can be:\n",
    "- **Discrete**: these are numerical values that are obtained by **counting**. For example, it can be the number of petals on an iris flower, or a number of experiments, or the number of students in a class. It is any numerical value which represents quantities.\n",
    "- **Continuous**: these are data points that are obtained by **measuring**. For example, the height of students in a class or the temperature of the water in a lake. It also includes values in a given interval of numbers, e.g. federal spending.\n",
    "\n",
    "Categorical data can be:\n",
    "- **Ordinal**: these are values that can be ordered or ranked. An example would be a survey question where you are asked how often you do certain actions: \"always\", \"usually\", \"sometimes\", \"rarely\", \"never\". Another example with a natural order: \"hot\", \"medium\", \"cold\".\n",
    "- **Nominal**: any categorical data that doesn't have any order, e.g. \"blue\", \"red\", \"green\", or a list of Canadian provinces."
   ]
  },
  {
   "cell_type": "markdown",
   "metadata": {},
   "source": [
    "## Summary statistics"
   ]
  },
  {
   "cell_type": "markdown",
   "metadata": {},
   "source": [
    "In this section we will review the measures of **summary statistics**. Summary statistics describe data with the following main measures: \n",
    "\n",
    "- a measure of **location**, or *a measure of center*, where the values are mostly located. This measure includes: mean, median, mode. \n",
    "- a measure of **spread**, or *statistical dispersion*. This measure includes: standard deviation, variance, range, interquartile range. We will review the first two measures.\n",
    "- a measure of the **shape** of the data distribution. This measure includes skewness or kurtosis.\n",
    "- for more than one variable, a measure of **correlation**, statistical dependence of two variables. This measure is called a correlation coefficient.\n",
    "\n",
    "Let's look at these measures in more detail."
   ]
  },
  {
   "cell_type": "markdown",
   "metadata": {},
   "source": [
    "### Measures of location"
   ]
  },
  {
   "cell_type": "markdown",
   "metadata": {},
   "source": [
    "The most frequently used measures of location for numerical data are:\n",
    "\n",
    "- **Mean**, or arithmetic mean, or average. It is simply the sum of all values divided by the total number of values.\n",
    "\n",
    "If we have the following dataset:  `21  22  15  12  21  16`,\n",
    "the mean value is calculated as follows:\n",
    "\n",
    "$\\bar{X}$ = (21 + 22 + 15 + 12 + 21 + 16) / 6 = 17.83\n",
    "\n",
    "- **Median** is the middle value in a sorted list of values. Median splits the data in the \"middle\" so that 50% of the data points are above this point and 50% - below.\n",
    "\n",
    "Let's use the same simple dataset above. To get the median, first, sort the list of values: \n",
    "\n",
    "`12 15 16 21 21 22`\n",
    "\n",
    "In the \"middle\" of this dataset there are two values, `16` and `21`. If there is an even number of values in the middle of the sorted list, we need to calculate an average of these values. Hence, the median value for this dataset is: \n",
    "\n",
    "`(16 + 21) / 2 = 18.5`\n",
    "\n",
    "The median is often not as affected by **outliers** within a dataset as the mean. We will talk about outliers and their impact later in the course.\n",
    "\n",
    "Let's review Python functions to calculate the measures discussed above. For this exercise, we will use the **iris dataset** which we have worked with in the `pandas` module."
   ]
  },
  {
   "cell_type": "code",
   "execution_count": 1,
   "metadata": {},
   "outputs": [],
   "source": [
    "import pandas as pd\n",
    "import numpy as np"
   ]
  },
  {
   "cell_type": "code",
   "execution_count": 2,
   "metadata": {},
   "outputs": [
    {
     "data": {
      "text/plain": "   sepal length  sepal width  petal length  petal width        class\n0           5.1          3.5           1.4          0.2  Iris-setosa\n1           4.9          3.0           1.4          0.2  Iris-setosa\n2           4.7          3.2           1.3          0.2  Iris-setosa\n3           4.6          3.1           1.5          0.2  Iris-setosa\n4           5.0          3.6           1.4          0.2  Iris-setosa",
      "text/html": "<div>\n<style scoped>\n    .dataframe tbody tr th:only-of-type {\n        vertical-align: middle;\n    }\n\n    .dataframe tbody tr th {\n        vertical-align: top;\n    }\n\n    .dataframe thead th {\n        text-align: right;\n    }\n</style>\n<table border=\"1\" class=\"dataframe\">\n  <thead>\n    <tr style=\"text-align: right;\">\n      <th></th>\n      <th>sepal length</th>\n      <th>sepal width</th>\n      <th>petal length</th>\n      <th>petal width</th>\n      <th>class</th>\n    </tr>\n  </thead>\n  <tbody>\n    <tr>\n      <th>0</th>\n      <td>5.1</td>\n      <td>3.5</td>\n      <td>1.4</td>\n      <td>0.2</td>\n      <td>Iris-setosa</td>\n    </tr>\n    <tr>\n      <th>1</th>\n      <td>4.9</td>\n      <td>3.0</td>\n      <td>1.4</td>\n      <td>0.2</td>\n      <td>Iris-setosa</td>\n    </tr>\n    <tr>\n      <th>2</th>\n      <td>4.7</td>\n      <td>3.2</td>\n      <td>1.3</td>\n      <td>0.2</td>\n      <td>Iris-setosa</td>\n    </tr>\n    <tr>\n      <th>3</th>\n      <td>4.6</td>\n      <td>3.1</td>\n      <td>1.5</td>\n      <td>0.2</td>\n      <td>Iris-setosa</td>\n    </tr>\n    <tr>\n      <th>4</th>\n      <td>5.0</td>\n      <td>3.6</td>\n      <td>1.4</td>\n      <td>0.2</td>\n      <td>Iris-setosa</td>\n    </tr>\n  </tbody>\n</table>\n</div>"
     },
     "execution_count": 2,
     "metadata": {},
     "output_type": "execute_result"
    }
   ],
   "source": [
    "iris = pd.read_csv('iris.data', sep=',', \n",
    "                   header=None,  # the data file does not contain a header\n",
    "                   names=['sepal length','sepal width','petal length','petal width','class'] # names of columns\n",
    "                  )\n",
    "\n",
    "iris.head()"
   ]
  },
  {
   "cell_type": "markdown",
   "metadata": {},
   "source": [
    "Let's group the data by the class of the flower and calculate the measures of location for each class and for each variable, such as sepal length and width, and petal length and width."
   ]
  },
  {
   "cell_type": "code",
   "execution_count": 3,
   "metadata": {},
   "outputs": [
    {
     "data": {
      "text/plain": "                 sepal length  sepal width  petal length  petal width\nclass                                                                \nIris-setosa             5.006        3.418         1.464        0.244\nIris-versicolor         5.936        2.770         4.260        1.326\nIris-virginica          6.588        2.974         5.552        2.026",
      "text/html": "<div>\n<style scoped>\n    .dataframe tbody tr th:only-of-type {\n        vertical-align: middle;\n    }\n\n    .dataframe tbody tr th {\n        vertical-align: top;\n    }\n\n    .dataframe thead th {\n        text-align: right;\n    }\n</style>\n<table border=\"1\" class=\"dataframe\">\n  <thead>\n    <tr style=\"text-align: right;\">\n      <th></th>\n      <th>sepal length</th>\n      <th>sepal width</th>\n      <th>petal length</th>\n      <th>petal width</th>\n    </tr>\n    <tr>\n      <th>class</th>\n      <th></th>\n      <th></th>\n      <th></th>\n      <th></th>\n    </tr>\n  </thead>\n  <tbody>\n    <tr>\n      <th>Iris-setosa</th>\n      <td>5.006</td>\n      <td>3.418</td>\n      <td>1.464</td>\n      <td>0.244</td>\n    </tr>\n    <tr>\n      <th>Iris-versicolor</th>\n      <td>5.936</td>\n      <td>2.770</td>\n      <td>4.260</td>\n      <td>1.326</td>\n    </tr>\n    <tr>\n      <th>Iris-virginica</th>\n      <td>6.588</td>\n      <td>2.974</td>\n      <td>5.552</td>\n      <td>2.026</td>\n    </tr>\n  </tbody>\n</table>\n</div>"
     },
     "execution_count": 3,
     "metadata": {},
     "output_type": "execute_result"
    }
   ],
   "source": [
    "# grouping data by class\n",
    "iris_grouped = iris.groupby('class')\n",
    "\n",
    "# calculating mean (average) for each class:\n",
    "iris_grouped.mean()"
   ]
  },
  {
   "cell_type": "code",
   "execution_count": 4,
   "metadata": {},
   "outputs": [
    {
     "data": {
      "text/plain": "                 sepal length  sepal width  petal length  petal width\nclass                                                                \nIris-setosa               5.0          3.4          1.50          0.2\nIris-versicolor           5.9          2.8          4.35          1.3\nIris-virginica            6.5          3.0          5.55          2.0",
      "text/html": "<div>\n<style scoped>\n    .dataframe tbody tr th:only-of-type {\n        vertical-align: middle;\n    }\n\n    .dataframe tbody tr th {\n        vertical-align: top;\n    }\n\n    .dataframe thead th {\n        text-align: right;\n    }\n</style>\n<table border=\"1\" class=\"dataframe\">\n  <thead>\n    <tr style=\"text-align: right;\">\n      <th></th>\n      <th>sepal length</th>\n      <th>sepal width</th>\n      <th>petal length</th>\n      <th>petal width</th>\n    </tr>\n    <tr>\n      <th>class</th>\n      <th></th>\n      <th></th>\n      <th></th>\n      <th></th>\n    </tr>\n  </thead>\n  <tbody>\n    <tr>\n      <th>Iris-setosa</th>\n      <td>5.0</td>\n      <td>3.4</td>\n      <td>1.50</td>\n      <td>0.2</td>\n    </tr>\n    <tr>\n      <th>Iris-versicolor</th>\n      <td>5.9</td>\n      <td>2.8</td>\n      <td>4.35</td>\n      <td>1.3</td>\n    </tr>\n    <tr>\n      <th>Iris-virginica</th>\n      <td>6.5</td>\n      <td>3.0</td>\n      <td>5.55</td>\n      <td>2.0</td>\n    </tr>\n  </tbody>\n</table>\n</div>"
     },
     "execution_count": 4,
     "metadata": {},
     "output_type": "execute_result"
    }
   ],
   "source": [
    "# calculating median for each class:\n",
    "iris_grouped.median()"
   ]
  },
  {
   "cell_type": "markdown",
   "metadata": {},
   "source": [
    "We can see that in our example, the mean and the median values for all of the iris classes are very close to each other. This means that the data is evenly divided and distributed around the mean. We will talk about data distribution shortly."
   ]
  },
  {
   "cell_type": "markdown",
   "metadata": {},
   "source": [
    "### Measures of spread"
   ]
  },
  {
   "cell_type": "markdown",
   "metadata": {},
   "source": [
    "In this section, we will practice calculating **variance** and **standard deviation**, which are **measures of spread**, using the simple dataset of integers we used above:\n",
    "\n",
    "`21  22  15  12  21  16`\n",
    "\n",
    "Definitions of the main measures of spread are:\n",
    "\n",
    "- **Variance** is a measure of the variability in the data, it measures how far values are spread out from the mean. Variance is roughly the average squared distance from the mean.\n",
    "\n",
    "- **Standard deviation** is the square root of the variance and can be used to describe how close the typical data point is to the mean. Standard deviation is a descriptor of variability in the data. Usually 70% of the data will be within one standard deviation of the mean and about 95% will be within two standard deviations, if the data is normally distributed. The distance of any value from its mean is called **deviation**.\n",
    "\n",
    "Here is how we would calculate deviations for each element of the data sequence (you remember that we calculated $\\bar{x}$ as 17.83 above):\n",
    "\n",
    "$\\begin{align*}\n",
    "x_1 - \\bar{x} &= 21 - 17.83 = 3.17 \\\\\n",
    "x_2 - \\bar{x} &= 22 - 17.83 = 4.17 \\\\\n",
    "x_3 - \\bar{x} &= 15 - 17.83 = -2.83 \\\\\n",
    "x_4 - \\bar{x} &= 12 - 17.83 = -5.83 \\\\\n",
    "x_5 - \\bar{x} &= 21 - 17.83 = 3.17 \\\\\n",
    "x_6 - \\bar{x} &= 16 - 17.83 = -1.83,\n",
    "\\end{align*}$\n",
    "\n",
    "where $ x_1 $ ... $ x_6 $ are data points of the sequence of integers we are investigating.\n",
    "\n",
    "\n",
    "If we square these deviations and then take an average, the result will be the **variance** which is usually denoted by $s^2$:\n",
    "\n",
    "The formula for variance is:\n",
    "\n",
    "$s^2 = \\dfrac{\\displaystyle\\sum_{i=1}^{n} (x_i - \\bar{x})^2}{n - 1}   $\n",
    "\n",
    "Squaring the deviations achieves two goals: (1) it makes large values much larger, and (2) it gets rid of any negative signs. Let's calculate the variance for our dataset:\n",
    "\n",
    "$s^2 = \\dfrac{3.17^2 + 4.17^2 + (-2.83)^2 + (-5.83)^2 + 3.17^2 + (-1.83)^2}{6-1} = 16.57$\n",
    "\n",
    "The **standard deviation** is the square root of the variance:\n",
    "\n",
    "$ s = \\sqrt{s^2} = \\sqrt{16.57} = 4.07$\n",
    "\n",
    "The standard deviation is a good indicator of how close the data points are to the mean."
   ]
  },
  {
   "cell_type": "markdown",
   "metadata": {},
   "source": [
    "**NOTE:** You probably noticed that in the formula for variance, we used `n-1` instead of `n`. This is called Bessel's correction, it corrects the bias in the estimation of the population variance. You can read more about this correction in [this Wikipedia article](https://en.wikipedia.org/wiki/Bessel%27s_correction). We will also discuss it in more detail in one of the subsequent courses of the program."
   ]
  },
  {
   "cell_type": "markdown",
   "metadata": {},
   "source": [
    "Moving back to the iris dataset, let's calculate the variance and standard deviation for each class of flower."
   ]
  },
  {
   "cell_type": "code",
   "execution_count": 5,
   "metadata": {},
   "outputs": [
    {
     "data": {
      "text/plain": "                 sepal length  sepal width  petal length  petal width\nclass                                                                \nIris-setosa          0.124249     0.145180      0.030106     0.011494\nIris-versicolor      0.266433     0.098469      0.220816     0.039106\nIris-virginica       0.404343     0.104004      0.304588     0.075433",
      "text/html": "<div>\n<style scoped>\n    .dataframe tbody tr th:only-of-type {\n        vertical-align: middle;\n    }\n\n    .dataframe tbody tr th {\n        vertical-align: top;\n    }\n\n    .dataframe thead th {\n        text-align: right;\n    }\n</style>\n<table border=\"1\" class=\"dataframe\">\n  <thead>\n    <tr style=\"text-align: right;\">\n      <th></th>\n      <th>sepal length</th>\n      <th>sepal width</th>\n      <th>petal length</th>\n      <th>petal width</th>\n    </tr>\n    <tr>\n      <th>class</th>\n      <th></th>\n      <th></th>\n      <th></th>\n      <th></th>\n    </tr>\n  </thead>\n  <tbody>\n    <tr>\n      <th>Iris-setosa</th>\n      <td>0.124249</td>\n      <td>0.145180</td>\n      <td>0.030106</td>\n      <td>0.011494</td>\n    </tr>\n    <tr>\n      <th>Iris-versicolor</th>\n      <td>0.266433</td>\n      <td>0.098469</td>\n      <td>0.220816</td>\n      <td>0.039106</td>\n    </tr>\n    <tr>\n      <th>Iris-virginica</th>\n      <td>0.404343</td>\n      <td>0.104004</td>\n      <td>0.304588</td>\n      <td>0.075433</td>\n    </tr>\n  </tbody>\n</table>\n</div>"
     },
     "execution_count": 5,
     "metadata": {},
     "output_type": "execute_result"
    }
   ],
   "source": [
    "# Variance:\n",
    "\n",
    "iris_grouped.var()"
   ]
  },
  {
   "cell_type": "code",
   "execution_count": 6,
   "metadata": {},
   "outputs": [
    {
     "data": {
      "text/plain": "                 sepal length  sepal width  petal length  petal width\nclass                                                                \nIris-setosa          0.352490     0.381024      0.173511     0.107210\nIris-versicolor      0.516171     0.313798      0.469911     0.197753\nIris-virginica       0.635880     0.322497      0.551895     0.274650",
      "text/html": "<div>\n<style scoped>\n    .dataframe tbody tr th:only-of-type {\n        vertical-align: middle;\n    }\n\n    .dataframe tbody tr th {\n        vertical-align: top;\n    }\n\n    .dataframe thead th {\n        text-align: right;\n    }\n</style>\n<table border=\"1\" class=\"dataframe\">\n  <thead>\n    <tr style=\"text-align: right;\">\n      <th></th>\n      <th>sepal length</th>\n      <th>sepal width</th>\n      <th>petal length</th>\n      <th>petal width</th>\n    </tr>\n    <tr>\n      <th>class</th>\n      <th></th>\n      <th></th>\n      <th></th>\n      <th></th>\n    </tr>\n  </thead>\n  <tbody>\n    <tr>\n      <th>Iris-setosa</th>\n      <td>0.352490</td>\n      <td>0.381024</td>\n      <td>0.173511</td>\n      <td>0.107210</td>\n    </tr>\n    <tr>\n      <th>Iris-versicolor</th>\n      <td>0.516171</td>\n      <td>0.313798</td>\n      <td>0.469911</td>\n      <td>0.197753</td>\n    </tr>\n    <tr>\n      <th>Iris-virginica</th>\n      <td>0.635880</td>\n      <td>0.322497</td>\n      <td>0.551895</td>\n      <td>0.274650</td>\n    </tr>\n  </tbody>\n</table>\n</div>"
     },
     "execution_count": 6,
     "metadata": {},
     "output_type": "execute_result"
    }
   ],
   "source": [
    "# Standard deviation:\n",
    "\n",
    "iris_grouped.std()"
   ]
  },
  {
   "cell_type": "markdown",
   "metadata": {},
   "source": [
    "Before we discuss the last two measures of summary statistics (shape and correlation), we need to talk about data distribution: what it shows us and its main characteristics."
   ]
  },
  {
   "cell_type": "markdown",
   "metadata": {},
   "source": [
    "### Data distributions"
   ]
  },
  {
   "cell_type": "markdown",
   "metadata": {},
   "source": [
    "In statistics, a **frequency distribution** is usually represented as a list, table or graph that displays the frequency of data values within a dataset. If the frequency distribution is presented as a table, it will display the number of values that fall within certain data intervals. This table summarizes the distribution of values in the dataset.\n",
    "\n",
    "Let's consider an example. Let's say we are researching house prices in a certain part of the city. We collected data for the houses on the market, and placed it in the table below. In order to make an analysis easier, we decided to group the prices into bins and count how many houses fall into each bin based on their price. We might end up with the following table (the numbers are arbitrary and used for illustration purposes only):\n",
    "\n",
    "Price range, $ | Number of houses\n",
    ":--- | :---:\n",
    "0-200,000 | 2\n",
    "200,001 - 300,000 | 10\n",
    "300,001 - 400,000 | 15\n",
    "400,001 - 500,000 | 25\n",
    "500,001 - 600,000 | 30\n",
    "600,001 - 700,000 | 25\n",
    "700,001 - 800,000 | 15\n",
    "800,001 - 900,000 | 10\n",
    "900,001 - 1,000,000 | 2\n",
    "\n",
    "We created a **frequency table**. If we take the data from the table and create a bar graph with it, we have a **frequency distribution**. Also called a histogram, frequency distributions provide a view of **data density** and are very convenient for describing the shape of the data distribution. \n",
    "\n",
    "Let's go through the steps to create a frequency distribution for the dataset above. First, we create a dataframe:"
   ]
  },
  {
   "cell_type": "code",
   "execution_count": 7,
   "metadata": {},
   "outputs": [
    {
     "data": {
      "text/plain": "   price, thousands  num of houses\n0               200              2\n1               300             10\n2               400             15\n3               500             25\n4               600             30",
      "text/html": "<div>\n<style scoped>\n    .dataframe tbody tr th:only-of-type {\n        vertical-align: middle;\n    }\n\n    .dataframe tbody tr th {\n        vertical-align: top;\n    }\n\n    .dataframe thead th {\n        text-align: right;\n    }\n</style>\n<table border=\"1\" class=\"dataframe\">\n  <thead>\n    <tr style=\"text-align: right;\">\n      <th></th>\n      <th>price, thousands</th>\n      <th>num of houses</th>\n    </tr>\n  </thead>\n  <tbody>\n    <tr>\n      <th>0</th>\n      <td>200</td>\n      <td>2</td>\n    </tr>\n    <tr>\n      <th>1</th>\n      <td>300</td>\n      <td>10</td>\n    </tr>\n    <tr>\n      <th>2</th>\n      <td>400</td>\n      <td>15</td>\n    </tr>\n    <tr>\n      <th>3</th>\n      <td>500</td>\n      <td>25</td>\n    </tr>\n    <tr>\n      <th>4</th>\n      <td>600</td>\n      <td>30</td>\n    </tr>\n  </tbody>\n</table>\n</div>"
     },
     "execution_count": 7,
     "metadata": {},
     "output_type": "execute_result"
    }
   ],
   "source": [
    "houses = pd.DataFrame({\n",
    "    'price, thousands': [200,300,400,500,600,700,800,900,1000],\n",
    "    'num of houses':[2,10,15,25,30,25,15,10,2]\n",
    "})\n",
    "houses.head()"
   ]
  },
  {
   "cell_type": "markdown",
   "metadata": {},
   "source": [
    "We can now plot the frequency distribution graph. Usually, we would use Python's `hist()` function to create a histogram based on the raw data. This function calculates frequencies and create bins which is what we did above, but because in this particular example we already have bins and frequencies, we can simply draw a bar plot. You will see examples of the `hist()` function later in this module. \n",
    "\n",
    "**NOTE**: For plotting graphs, we will use Python's visualization library `matplotlib`. We are not going into the details of this library here, this is a topic for Part 2 of this module."
   ]
  },
  {
   "cell_type": "code",
   "execution_count": 8,
   "metadata": {},
   "outputs": [
    {
     "data": {
      "text/plain": "<Figure size 504x504 with 1 Axes>",
      "image/png": "[encoded data removed]"
     },
     "metadata": {},
     "output_type": "display_data"
    }
   ],
   "source": [
    "from matplotlib import pyplot as plt\n",
    "%matplotlib inline\n",
    "plt.style.use('seaborn-whitegrid')\n",
    "plt.rcParams[\"figure.figsize\"] = (7,7)\n",
    "\n",
    "houses.plot(x = 'price, thousands', y = 'num of houses', kind='bar', color = 'blue', width=0.9)\n",
    "plt.show()"
   ]
  },
  {
   "cell_type": "markdown",
   "metadata": {},
   "source": [
    "You can see from the plot that the distribution appears to be symmetric and bell-shaped. This is an example of what we call a **normal distribution**. Half of the data will fall to the left of the mean; half will fall to the right. Mean and median values for normally distributed data should be roughly the same.\n",
    "\n",
    "Let's explore the mean, median and standard deviation for this data set:"
   ]
  },
  {
   "cell_type": "code",
   "execution_count": 9,
   "metadata": {},
   "outputs": [
    {
     "data": {
      "text/plain": "14.88888888888889"
     },
     "execution_count": 9,
     "metadata": {},
     "output_type": "execute_result"
    }
   ],
   "source": [
    "houses['num of houses'].mean()"
   ]
  },
  {
   "cell_type": "code",
   "execution_count": 10,
   "metadata": {},
   "outputs": [
    {
     "data": {
      "text/plain": "15.0"
     },
     "execution_count": 10,
     "metadata": {},
     "output_type": "execute_result"
    }
   ],
   "source": [
    "houses['num of houses'].median()"
   ]
  },
  {
   "cell_type": "code",
   "execution_count": 11,
   "metadata": {},
   "outputs": [
    {
     "data": {
      "text/plain": "10.080233683358292"
     },
     "execution_count": 11,
     "metadata": {},
     "output_type": "execute_result"
    }
   ],
   "source": [
    "houses['num of houses'].std()"
   ]
  },
  {
   "cell_type": "markdown",
   "metadata": {},
   "source": [
    "If the mean and median were different from one another, the shape of the curve would shift to have a left or right skew. \n",
    "\n",
    "If the standard deviation were larger, the curve would be wider, and if the standard deviation were smaller, the curve would be narrower.\n",
    "\n",
    "Let's create a normal distribution of random numbers and plot a histogram of this sequence. We will use the function `randn()` from the `numpy.random` library which will create an array of random normally distributed floating point numbers. For details regarding the `numpy.random` library, see the SciPy.org [documentation for the `numpy.random.randn`](https://docs.scipy.org/doc/numpy/reference/generated/numpy.random.randn.html) function.\n",
    "\n",
    "The array created using this function will have mean 0 and variance 1. The normal distribution with mean 0 and standard deviation 1 is called the **standard normal distribution**. \n",
    "\n",
    "Based on this standard normal distribution, we are going to create another array of random normally distributed floating point numbers, `x`, with the `mean = 100` and `standard deviation = 15`. Then we will create a histogram with 50 bins and plot it.\n",
    "\n",
    "**NOTE:** We chose 50 bins for this example, but this is not an ideal or required number. You might want to experiment and change this number later."
   ]
  },
  {
   "cell_type": "code",
   "execution_count": 12,
   "metadata": {},
   "outputs": [
    {
     "data": {
      "text/plain": "<Figure size 504x504 with 1 Axes>",
      "image/png": "[encoded data removed]"
     },
     "metadata": {},
     "output_type": "display_data"
    }
   ],
   "source": [
    "mu = 100       # mean of distribution\n",
    "sigma = 15     # standard deviation of distribution\n",
    "\n",
    "# Creating an array of 10,000 random numbers with 0 mean and St Dev of 1\n",
    "# x is a random variable with mean value of 'mu' and St Dev of 'sigma'\n",
    "x = mu + sigma * np.random.randn(10000)\n",
    "\n",
    "num_bins = 50   # number of bins to create\n",
    "# the histogram of the data\n",
    "n, bins, patches = plt.hist(x, num_bins, density=1, facecolor='green', alpha=0.8)\n",
    "plt.xlabel('X')\n",
    "plt.axis([0, 200, 0, 0.03])\n",
    "plt.ylabel('Frequencies')\n",
    "plt.title(\"Sample of Normal Distribution, \" + \"$\\mu=100,\\ \\sigma=15$\")\n",
    "plt.show()"
   ]
  },
  {
   "cell_type": "code",
   "execution_count": 13,
   "metadata": {},
   "outputs": [
    {
     "data": {
      "text/plain": "14.92391478516754"
     },
     "execution_count": 13,
     "metadata": {},
     "output_type": "execute_result"
    }
   ],
   "source": [
    "\"\"\"\n",
    "We can check the standard deviation of the distribution we drew above.\n",
    "NOTE: The value will be slightly different from the original number, 15, due to rounding errors.\n",
    "If you re-run the code above, you might get slightly different outputs for std() and mean() below.\n",
    "\"\"\"\n",
    "x.std()"
   ]
  },
  {
   "cell_type": "code",
   "execution_count": 14,
   "metadata": {},
   "outputs": [
    {
     "data": {
      "text/plain": "100.01126343069595"
     },
     "execution_count": 14,
     "metadata": {},
     "output_type": "execute_result"
    }
   ],
   "source": [
    "x.mean()"
   ]
  },
  {
   "cell_type": "markdown",
   "metadata": {},
   "source": [
    "**NOTE:** Every time you re-run the code above, the shape of the distribution will change slightly because on each execution the random number generator will create a new array of random numbers."
   ]
  },
  {
   "cell_type": "markdown",
   "metadata": {},
   "source": [
    "We discussed above that standard deviation is a measure used to quantify the amount of variability in the data. A low standard deviation indicates that there is little variability in the data and the data points are tightly clustered around the mean of the distribution, while a high value of standard deviation indicates that the values are spread out over a wider range of values. This will also be reflected in the histogram.\n",
    "\n",
    "Let's take the histogram above and change only one parameter, standard deviation, from 15 to 30. We will copy the code from above and make the change:"
   ]
  },
  {
   "cell_type": "code",
   "execution_count": 15,
   "metadata": {},
   "outputs": [
    {
     "data": {
      "text/plain": "<Figure size 504x504 with 1 Axes>",
      "image/png": "[encoded data removed]"
     },
     "metadata": {},
     "output_type": "display_data"
    }
   ],
   "source": [
    "mu = 100 \n",
    "sigma = 30     # changed standard deviation from 15 to 30\n",
    "\n",
    "x = mu + sigma * np.random.randn(10000)\n",
    "\n",
    "num_bins = 50   # number of bins to create\n",
    "n, bins, patches = plt.hist(x, num_bins, density=1, facecolor='green', alpha=0.8)\n",
    "plt.xlabel('X')\n",
    "plt.axis([0, 200, 0, 0.03])\n",
    "plt.ylabel('Frequencies')\n",
    "plt.title(\"Sample of Normal Distribution, \" + \"$\\mu=100,\\ \\sigma=30$\")\n",
    "plt.show()"
   ]
  },
  {
   "cell_type": "markdown",
   "metadata": {},
   "source": [
    "You can see that the distribution is much wider than the previous one, which indicates more variability in the data.  There is a wider range of values within the data and some data points are farther away from the mean."
   ]
  },
  {
   "cell_type": "markdown",
   "metadata": {},
   "source": [
    "The graphic below summarizes measures of the normal distribution. This histogram demonstrates the **empirical rule**, also known as the 68–95–99.7 rule.\n",
    "\n",
    "![Measures of Distribution](https://upload.wikimedia.org/wikipedia/commons/a/a9/Empirical_Rule.PNG \"Measures of Distribution\")\n",
    "\n",
    "This histogram shows that for the normal distribution, 99.7% of the data is within 3 standard deviations of the mean; 95% of the data is within two standard deviations from the mean, and the values less than one standard deviation away from the mean account for 68.27% of the dataset.\n"
   ]
  },
  {
   "cell_type": "markdown",
   "metadata": {},
   "source": [
    "### Measures of shape"
   ]
  },
  {
   "cell_type": "markdown",
   "metadata": {},
   "source": [
    "Histograms are very useful for describing the shape of data distributions. There are two measures that describe the shape of a distribution:\n",
    "\n",
    "1. **Skewness** is a measure of the asymmetry of a distribution. When a distribution trails off to the right, appearing as a tail on the right-hand side of the graph, the shape is said to be **right skewed**, or has a *positive skew*. Similarly, when a distribution trails off to the left, we say that the data is **left skewed**, or has a *negative skew*.\n",
    "\n",
    "The normal distribution has a skewness of 0. Therefore, the skewness will tell us whether data is concentrated to the left or to the right of the mean ([Wikipedia, 2018](https://upload.wikimedia.org/wikipedia/commons/f/f8/Negative_and_positive_skew_diagrams_%28English%29.svg)).\n",
    "\n",
    "![Positive and Negative Skewness](https://upload.wikimedia.org/wikipedia/commons/f/f8/Negative_and_positive_skew_diagrams_%28English%29.svg \"Skewness\")"
   ]
  },
  {
   "cell_type": "markdown",
   "metadata": {},
   "source": [
    "The Skewness coefficient can be calculated using the formula below which is called Pearson's second skewness coefficient (median skewness).\n",
    "\n",
    "`Skewness = 3 * (Mean - Median) / standard deviation`\n",
    "\n",
    "For more details about measures of skewness, see [Skewness](https://en.wikipedia.org/wiki/Skewness). (Wikipedia, 2018)."
   ]
  },
  {
   "cell_type": "markdown",
   "metadata": {},
   "source": [
    "2. **Kurtosis** is a measure of the \"tailedness\" of the distribution &mdash; it is a good indicator of the outliers in the data. \n",
    "\n",
    "The normal distribution has a kurtosis of 3. If the distribution has kurtosis less than 3, there are fewer outliers than the normal distribution and vice versa, kurtosis of greater than 3 indicates there are more outliers.\n",
    "\n",
    "We won't go into more details on these two measures in this module, you will meet with them one more time in the Statistics course of the program.\n",
    "\n",
    "However, let's take a quick look at the iris data and calculate skewness for this data:"
   ]
  },
  {
   "cell_type": "code",
   "execution_count": 16,
   "metadata": {},
   "outputs": [
    {
     "data": {
      "text/plain": "                 sepal length  sepal width  petal length  petal width\nclass                                                                \nIris-setosa          0.120087     0.107053      0.071846     1.197243\nIris-versicolor      0.105378    -0.362845     -0.606508    -0.031180\nIris-virginica       0.118015     0.365949      0.549445    -0.129477",
      "text/html": "<div>\n<style scoped>\n    .dataframe tbody tr th:only-of-type {\n        vertical-align: middle;\n    }\n\n    .dataframe tbody tr th {\n        vertical-align: top;\n    }\n\n    .dataframe thead th {\n        text-align: right;\n    }\n</style>\n<table border=\"1\" class=\"dataframe\">\n  <thead>\n    <tr style=\"text-align: right;\">\n      <th></th>\n      <th>sepal length</th>\n      <th>sepal width</th>\n      <th>petal length</th>\n      <th>petal width</th>\n    </tr>\n    <tr>\n      <th>class</th>\n      <th></th>\n      <th></th>\n      <th></th>\n      <th></th>\n    </tr>\n  </thead>\n  <tbody>\n    <tr>\n      <th>Iris-setosa</th>\n      <td>0.120087</td>\n      <td>0.107053</td>\n      <td>0.071846</td>\n      <td>1.197243</td>\n    </tr>\n    <tr>\n      <th>Iris-versicolor</th>\n      <td>0.105378</td>\n      <td>-0.362845</td>\n      <td>-0.606508</td>\n      <td>-0.031180</td>\n    </tr>\n    <tr>\n      <th>Iris-virginica</th>\n      <td>0.118015</td>\n      <td>0.365949</td>\n      <td>0.549445</td>\n      <td>-0.129477</td>\n    </tr>\n  </tbody>\n</table>\n</div>"
     },
     "execution_count": 16,
     "metadata": {},
     "output_type": "execute_result"
    }
   ],
   "source": [
    "iris_grouped.skew()"
   ]
  },
  {
   "cell_type": "markdown",
   "metadata": {},
   "source": [
    "As you can see from the table above, data for the `Iris-setosa` class of iris flower is right skewed (positive skew) for all four parameters we are analyzing here, the data for `Iris-versicolor` is mostly left skewed (negative skew), and the data for `Iris-virginica` is mostly right skewed with `petal width` data being left skewed. We will discuss the significance of this measure in the next course of the program."
   ]
  },
  {
   "cell_type": "markdown",
   "metadata": {},
   "source": [
    "### Correlation"
   ]
  },
  {
   "cell_type": "markdown",
   "metadata": {},
   "source": [
    "**Correlation** is the last measure we will discuss in this section. Correlation, which always takes values between -1 and 1, describes the strength of the linear relationship between two variables. The correlation coefficient is usually denoted by **`R`**."
   ]
  },
  {
   "cell_type": "markdown",
   "metadata": {},
   "source": [
    "Two or more variables can vary with each other. This is called **covariance**. Covariance is a measure of the joint variability of two variables. \n",
    "\n",
    "The sign of covariance shows the tendency in the linear relationship between the variables.\n",
    "- **Positive correlation**: as one variable increases, the other variable also increases. (Low values for variable x associated with low values for variable y; high values for variable x associated with high values for variable y.)\n",
    "- **Negative correlation**: as one variable increases, the other variable decreases. (Low values for variable x associated with high values for variable y; high values for variable x associated with low values for variable y) \n",
    "\n",
    "However, the magnitude of the covariance is not easily interpretable. **Correlation coefficient** is used as a measure of covariance. \n",
    "\n",
    "As seen in the set of images below:\n",
    "- If the linear relationship is strong and negative, the correlation coefficient R will be near -1, but never less than -1.\n",
    "- If there is no apparent linear relationship, the correlation coefficient R will be near 0.\n",
    "- If the linear relationship is strong and positive, the correlation coefficient R will be near +1, but never greater than +1.\n",
    "\n",
    "\n",
    "![Correlation](https://spss-tutorials.com/img/correlation-coefficient-perfect-linear-relations.png \"Correlation\") ([SigmaPlus Consulting (2018)](https://www.spss-tutorials.com/pearson-correlation-coefficient/))\n"
   ]
  },
  {
   "cell_type": "markdown",
   "metadata": {},
   "source": [
    "The correlation coefficient indicates the strength of a linear relationship between two variables but it does not provide any insights into other characteristics of these relationships. The image below shows a set of famous scatter plots known as Anscombe's quartet. The four `y` variables have the same mean (7.5), variance (4.12), correlation (0.816) and the same regression line `(y = 3 + 0.5x)`. However, as you can see on the plots, the distribution of the variables is very different. \n",
    "\n",
    "![Anscombe's quartet](https://upload.wikimedia.org/wikipedia/commons/thumb/e/ec/Anscombe%27s_quartet_3.svg/990px-Anscombe%27s_quartet_3.svg.png \"Anscombe's quartet\") ([Wikipedia, 2018)](https://en.wikipedia.org/wiki/Correlation_and_dependence))\n",
    "\n",
    "Plot 1 (top left corner) shows data which appears scattered but demonstrates a consistent linear trend for the entire data set. Plot 2 (top right corner) shows the data plot that resembles an arc. Plot 3 (first in the second row) shows almost a perfect linear relationship for all data points, except one outlier, which sits far above the trendline of the rest of the data. Plot 4 shows all data points (except one) are centered on one value for `x`, and scattered across a range for `y`. The single data point that does not fit with this description has a much larger value for both `x` and `y` than all of the others. \n",
    "\n",
    "These four datasets were constructed in 1973 by statistician Francis Anscombe to demonstrate both the importance of graphing data before analyzing it and the effect of outliers on statistical properties. He described the article as being intended to counter the impression among statisticians that \"numerical calculations are exact, but graphs are rough.\""
   ]
  },
  {
   "cell_type": "markdown",
   "metadata": {},
   "source": [
    "In `pandas`, the correlation coefficient is calculated using `corr()` function. However, keep in mind that this function won't work on a grouped object. For example, we can calculate the correlation between sepal length and petal length in the iris data, across all classes of the flower."
   ]
  },
  {
   "cell_type": "code",
   "execution_count": 17,
   "metadata": {},
   "outputs": [
    {
     "data": {
      "text/plain": "0.8717541573048718"
     },
     "execution_count": 17,
     "metadata": {},
     "output_type": "execute_result"
    }
   ],
   "source": [
    "iris['sepal length'].corr(iris['petal length'])"
   ]
  },
  {
   "cell_type": "markdown",
   "metadata": {},
   "source": [
    "We can see from the number above that there is a pretty strong correlation between sepal and petal length across all three classes of flowers.\n",
    "\n",
    "If we want to be able to calculate correlations within the groups, we can use a couple of approaches.\n",
    "\n",
    "**Approach #1**: Use the `corrwith()` function which allows us to calculate pairwise correlation between the columns of two DataFrame objects:"
   ]
  },
  {
   "cell_type": "code",
   "execution_count": 18,
   "metadata": {},
   "outputs": [
    {
     "data": {
      "text/plain": "                 Corr Coef\nclass                     \nIris-setosa       0.263874\nIris-versicolor   0.754049\nIris-virginica    0.864225",
      "text/html": "<div>\n<style scoped>\n    .dataframe tbody tr th:only-of-type {\n        vertical-align: middle;\n    }\n\n    .dataframe tbody tr th {\n        vertical-align: top;\n    }\n\n    .dataframe thead th {\n        text-align: right;\n    }\n</style>\n<table border=\"1\" class=\"dataframe\">\n  <thead>\n    <tr style=\"text-align: right;\">\n      <th></th>\n      <th>Corr Coef</th>\n    </tr>\n    <tr>\n      <th>class</th>\n      <th></th>\n    </tr>\n  </thead>\n  <tbody>\n    <tr>\n      <th>Iris-setosa</th>\n      <td>0.263874</td>\n    </tr>\n    <tr>\n      <th>Iris-versicolor</th>\n      <td>0.754049</td>\n    </tr>\n    <tr>\n      <th>Iris-virginica</th>\n      <td>0.864225</td>\n    </tr>\n  </tbody>\n</table>\n</div>"
     },
     "execution_count": 18,
     "metadata": {},
     "output_type": "execute_result"
    }
   ],
   "source": [
    "correlations = (iris[['sepal length', 'class']]\n",
    "                .groupby('class')\n",
    "                .corrwith(iris['petal length'])\n",
    "                .rename(columns={'sepal length' : 'Corr Coef'}))\n",
    "\n",
    "correlations"
   ]
  },
  {
   "cell_type": "markdown",
   "metadata": {},
   "source": [
    "**Approach #2**: Use `apply()` and `lambda` on the groupBy object:"
   ]
  },
  {
   "cell_type": "code",
   "execution_count": 19,
   "metadata": {},
   "outputs": [
    {
     "data": {
      "text/plain": "class\nIris-setosa        0.263874\nIris-versicolor    0.754049\nIris-virginica     0.864225\ndtype: float64"
     },
     "execution_count": 19,
     "metadata": {},
     "output_type": "execute_result"
    }
   ],
   "source": [
    "iris_grouped.apply(lambda iris_grouped: iris_grouped['sepal length'].corr(iris_grouped['petal length']))"
   ]
  },
  {
   "cell_type": "markdown",
   "metadata": {},
   "source": [
    "As you can see, we cannot rely on the generalized calculation across multiple classes of the flowers. The correlation between sepal and petal lengths is quite strong for versicolor (R = 0.75) and virginica (R = 0.86) flowers, but is weak for setosa flowers with R = 0.26."
   ]
  },
  {
   "cell_type": "markdown",
   "metadata": {},
   "source": [
    "# Summary Statistics in Pandas"
   ]
  },
  {
   "cell_type": "markdown",
   "metadata": {},
   "source": [
    "We have already used several functions to calculate some of the descriptive statistics measures, such as standard deviation, skewness, mean and median. However, pandas has a very useful function, `describe()`, which calculates multiple measures and displays then in a table format. Let's look at this function. The dataset we are going to use for this exercise is the [Wine Quality Data Set](https://archive.ics.uci.edu/ml/datasets/Wine+Quality) (Cortez et al, 2009). Please take a look at the description of the data set and what each attribute means. Then come back and we wiil analyze it.\n",
    "\n",
    "First let's load the data:"
   ]
  },
  {
   "cell_type": "code",
   "execution_count": 20,
   "metadata": {},
   "outputs": [
    {
     "data": {
      "text/plain": "   fixed acidity  volatile acidity  citric acid  residual sugar  chlorides  \\\n0            7.4              0.70         0.00             1.9      0.076   \n1            7.8              0.88         0.00             2.6      0.098   \n2            7.8              0.76         0.04             2.3      0.092   \n3           11.2              0.28         0.56             1.9      0.075   \n4            7.4              0.70         0.00             1.9      0.076   \n\n   free sulfur dioxide  total sulfur dioxide  density    pH  sulphates  \\\n0                 11.0                  34.0   0.9978  3.51       0.56   \n1                 25.0                  67.0   0.9968  3.20       0.68   \n2                 15.0                  54.0   0.9970  3.26       0.65   \n3                 17.0                  60.0   0.9980  3.16       0.58   \n4                 11.0                  34.0   0.9978  3.51       0.56   \n\n   alcohol  quality  \n0      9.4        5  \n1      9.8        5  \n2      9.8        5  \n3      9.8        6  \n4      9.4        5  ",
      "text/html": "<div>\n<style scoped>\n    .dataframe tbody tr th:only-of-type {\n        vertical-align: middle;\n    }\n\n    .dataframe tbody tr th {\n        vertical-align: top;\n    }\n\n    .dataframe thead th {\n        text-align: right;\n    }\n</style>\n<table border=\"1\" class=\"dataframe\">\n  <thead>\n    <tr style=\"text-align: right;\">\n      <th></th>\n      <th>fixed acidity</th>\n      <th>volatile acidity</th>\n      <th>citric acid</th>\n      <th>residual sugar</th>\n      <th>chlorides</th>\n      <th>free sulfur dioxide</th>\n      <th>total sulfur dioxide</th>\n      <th>density</th>\n      <th>pH</th>\n      <th>sulphates</th>\n      <th>alcohol</th>\n      <th>quality</th>\n    </tr>\n  </thead>\n  <tbody>\n    <tr>\n      <th>0</th>\n      <td>7.4</td>\n      <td>0.70</td>\n      <td>0.00</td>\n      <td>1.9</td>\n      <td>0.076</td>\n      <td>11.0</td>\n      <td>34.0</td>\n      <td>0.9978</td>\n      <td>3.51</td>\n      <td>0.56</td>\n      <td>9.4</td>\n      <td>5</td>\n    </tr>\n    <tr>\n      <th>1</th>\n      <td>7.8</td>\n      <td>0.88</td>\n      <td>0.00</td>\n      <td>2.6</td>\n      <td>0.098</td>\n      <td>25.0</td>\n      <td>67.0</td>\n      <td>0.9968</td>\n      <td>3.20</td>\n      <td>0.68</td>\n      <td>9.8</td>\n      <td>5</td>\n    </tr>\n    <tr>\n      <th>2</th>\n      <td>7.8</td>\n      <td>0.76</td>\n      <td>0.04</td>\n      <td>2.3</td>\n      <td>0.092</td>\n      <td>15.0</td>\n      <td>54.0</td>\n      <td>0.9970</td>\n      <td>3.26</td>\n      <td>0.65</td>\n      <td>9.8</td>\n      <td>5</td>\n    </tr>\n    <tr>\n      <th>3</th>\n      <td>11.2</td>\n      <td>0.28</td>\n      <td>0.56</td>\n      <td>1.9</td>\n      <td>0.075</td>\n      <td>17.0</td>\n      <td>60.0</td>\n      <td>0.9980</td>\n      <td>3.16</td>\n      <td>0.58</td>\n      <td>9.8</td>\n      <td>6</td>\n    </tr>\n    <tr>\n      <th>4</th>\n      <td>7.4</td>\n      <td>0.70</td>\n      <td>0.00</td>\n      <td>1.9</td>\n      <td>0.076</td>\n      <td>11.0</td>\n      <td>34.0</td>\n      <td>0.9978</td>\n      <td>3.51</td>\n      <td>0.56</td>\n      <td>9.4</td>\n      <td>5</td>\n    </tr>\n  </tbody>\n</table>\n</div>"
     },
     "execution_count": 20,
     "metadata": {},
     "output_type": "execute_result"
    }
   ],
   "source": [
    "# This will set data_url to the URL of the dataset so you can download it\n",
    "data_url = (\"http://archive.ics.uci.edu/ml/machine-learning-databases/wine-quality/winequality-red.csv\")\n",
    "\n",
    "# Download the data\n",
    "red_wine_data = pd.read_csv(data_url, header=0, sep=\";\")\n",
    "red_wine_data.head()"
   ]
  },
  {
   "cell_type": "code",
   "execution_count": 21,
   "metadata": {},
   "outputs": [
    {
     "data": {
      "text/plain": "       fixed acidity  volatile acidity  citric acid  residual sugar  \\\ncount    1599.000000       1599.000000  1599.000000     1599.000000   \nmean        8.319637          0.527821     0.270976        2.538806   \nstd         1.741096          0.179060     0.194801        1.409928   \nmin         4.600000          0.120000     0.000000        0.900000   \n25%         7.100000          0.390000     0.090000        1.900000   \n50%         7.900000          0.520000     0.260000        2.200000   \n75%         9.200000          0.640000     0.420000        2.600000   \nmax        15.900000          1.580000     1.000000       15.500000   \n\n         chlorides  free sulfur dioxide  total sulfur dioxide      density  \\\ncount  1599.000000          1599.000000           1599.000000  1599.000000   \nmean      0.087467            15.874922             46.467792     0.996747   \nstd       0.047065            10.460157             32.895324     0.001887   \nmin       0.012000             1.000000              6.000000     0.990070   \n25%       0.070000             7.000000             22.000000     0.995600   \n50%       0.079000            14.000000             38.000000     0.996750   \n75%       0.090000            21.000000             62.000000     0.997835   \nmax       0.611000            72.000000            289.000000     1.003690   \n\n                pH    sulphates      alcohol      quality  \ncount  1599.000000  1599.000000  1599.000000  1599.000000  \nmean      3.311113     0.658149    10.422983     5.636023  \nstd       0.154386     0.169507     1.065668     0.807569  \nmin       2.740000     0.330000     8.400000     3.000000  \n25%       3.210000     0.550000     9.500000     5.000000  \n50%       3.310000     0.620000    10.200000     6.000000  \n75%       3.400000     0.730000    11.100000     6.000000  \nmax       4.010000     2.000000    14.900000     8.000000  ",
      "text/html": "<div>\n<style scoped>\n    .dataframe tbody tr th:only-of-type {\n        vertical-align: middle;\n    }\n\n    .dataframe tbody tr th {\n        vertical-align: top;\n    }\n\n    .dataframe thead th {\n        text-align: right;\n    }\n</style>\n<table border=\"1\" class=\"dataframe\">\n  <thead>\n    <tr style=\"text-align: right;\">\n      <th></th>\n      <th>fixed acidity</th>\n      <th>volatile acidity</th>\n      <th>citric acid</th>\n      <th>residual sugar</th>\n      <th>chlorides</th>\n      <th>free sulfur dioxide</th>\n      <th>total sulfur dioxide</th>\n      <th>density</th>\n      <th>pH</th>\n      <th>sulphates</th>\n      <th>alcohol</th>\n      <th>quality</th>\n    </tr>\n  </thead>\n  <tbody>\n    <tr>\n      <th>count</th>\n      <td>1599.000000</td>\n      <td>1599.000000</td>\n      <td>1599.000000</td>\n      <td>1599.000000</td>\n      <td>1599.000000</td>\n      <td>1599.000000</td>\n      <td>1599.000000</td>\n      <td>1599.000000</td>\n      <td>1599.000000</td>\n      <td>1599.000000</td>\n      <td>1599.000000</td>\n      <td>1599.000000</td>\n    </tr>\n    <tr>\n      <th>mean</th>\n      <td>8.319637</td>\n      <td>0.527821</td>\n      <td>0.270976</td>\n      <td>2.538806</td>\n      <td>0.087467</td>\n      <td>15.874922</td>\n      <td>46.467792</td>\n      <td>0.996747</td>\n      <td>3.311113</td>\n      <td>0.658149</td>\n      <td>10.422983</td>\n      <td>5.636023</td>\n    </tr>\n    <tr>\n      <th>std</th>\n      <td>1.741096</td>\n      <td>0.179060</td>\n      <td>0.194801</td>\n      <td>1.409928</td>\n      <td>0.047065</td>\n      <td>10.460157</td>\n      <td>32.895324</td>\n      <td>0.001887</td>\n      <td>0.154386</td>\n      <td>0.169507</td>\n      <td>1.065668</td>\n      <td>0.807569</td>\n    </tr>\n    <tr>\n      <th>min</th>\n      <td>4.600000</td>\n      <td>0.120000</td>\n      <td>0.000000</td>\n      <td>0.900000</td>\n      <td>0.012000</td>\n      <td>1.000000</td>\n      <td>6.000000</td>\n      <td>0.990070</td>\n      <td>2.740000</td>\n      <td>0.330000</td>\n      <td>8.400000</td>\n      <td>3.000000</td>\n    </tr>\n    <tr>\n      <th>25%</th>\n      <td>7.100000</td>\n      <td>0.390000</td>\n      <td>0.090000</td>\n      <td>1.900000</td>\n      <td>0.070000</td>\n      <td>7.000000</td>\n      <td>22.000000</td>\n      <td>0.995600</td>\n      <td>3.210000</td>\n      <td>0.550000</td>\n      <td>9.500000</td>\n      <td>5.000000</td>\n    </tr>\n    <tr>\n      <th>50%</th>\n      <td>7.900000</td>\n      <td>0.520000</td>\n      <td>0.260000</td>\n      <td>2.200000</td>\n      <td>0.079000</td>\n      <td>14.000000</td>\n      <td>38.000000</td>\n      <td>0.996750</td>\n      <td>3.310000</td>\n      <td>0.620000</td>\n      <td>10.200000</td>\n      <td>6.000000</td>\n    </tr>\n    <tr>\n      <th>75%</th>\n      <td>9.200000</td>\n      <td>0.640000</td>\n      <td>0.420000</td>\n      <td>2.600000</td>\n      <td>0.090000</td>\n      <td>21.000000</td>\n      <td>62.000000</td>\n      <td>0.997835</td>\n      <td>3.400000</td>\n      <td>0.730000</td>\n      <td>11.100000</td>\n      <td>6.000000</td>\n    </tr>\n    <tr>\n      <th>max</th>\n      <td>15.900000</td>\n      <td>1.580000</td>\n      <td>1.000000</td>\n      <td>15.500000</td>\n      <td>0.611000</td>\n      <td>72.000000</td>\n      <td>289.000000</td>\n      <td>1.003690</td>\n      <td>4.010000</td>\n      <td>2.000000</td>\n      <td>14.900000</td>\n      <td>8.000000</td>\n    </tr>\n  </tbody>\n</table>\n</div>"
     },
     "execution_count": 21,
     "metadata": {},
     "output_type": "execute_result"
    }
   ],
   "source": [
    "# Using describe():\n",
    "\n",
    "red_wine_data.describe()"
   ]
  },
  {
   "cell_type": "markdown",
   "metadata": {},
   "source": [
    "As you can see, for numeric data, the resulting output includes the following measures:\n",
    "- count, which is a count of non-null values for each attribute\n",
    "- mean\n",
    "- standard deviation\n",
    "- min, the lowest value\n",
    "- max, the greatest value\n",
    "- lower (25%), 50 (50%) and upper (75%) percentiles. The 50 percentile is the same as the median.\n",
    "\n",
    "What we can see in this dataset? First of all, it seems that there are no null values because the counts for all attributes are equal to 1,599. We can validate this assumption:"
   ]
  },
  {
   "cell_type": "code",
   "execution_count": 22,
   "metadata": {},
   "outputs": [
    {
     "data": {
      "text/plain": "False"
     },
     "execution_count": 22,
     "metadata": {},
     "output_type": "execute_result"
    }
   ],
   "source": [
    "red_wine_data.isnull().values.any()"
   ]
  },
  {
   "cell_type": "markdown",
   "metadata": {},
   "source": [
    "If required, we can calculate individual values for single columns. For example, here are mean, median and standard deviation for the attribute \"density\":"
   ]
  },
  {
   "cell_type": "code",
   "execution_count": 23,
   "metadata": {},
   "outputs": [
    {
     "data": {
      "text/plain": "0.9967466791744841"
     },
     "execution_count": 23,
     "metadata": {},
     "output_type": "execute_result"
    }
   ],
   "source": [
    "red_wine_data.density.mean()"
   ]
  },
  {
   "cell_type": "code",
   "execution_count": 24,
   "metadata": {},
   "outputs": [
    {
     "data": {
      "text/plain": "0.99675"
     },
     "execution_count": 24,
     "metadata": {},
     "output_type": "execute_result"
    }
   ],
   "source": [
    "red_wine_data.density.median()"
   ]
  },
  {
   "cell_type": "code",
   "execution_count": 25,
   "metadata": {},
   "outputs": [
    {
     "data": {
      "text/plain": "0.0018873339538425554"
     },
     "execution_count": 25,
     "metadata": {},
     "output_type": "execute_result"
    }
   ],
   "source": [
    "red_wine_data.density.std()"
   ]
  },
  {
   "cell_type": "markdown",
   "metadata": {},
   "source": [
    "This data set contains attributes that are on different scales. To normalize the data so all attributes (columns) are on the same scale, we can scale each column so that the mean becomes zero and the data is in units of standard deviation. See the following article for different normalization methods https://en.wikipedia.org/wiki/Normalization_(statistics) (Wikipedia, 2018). \n",
    "\n",
    "We will use Standard Score, which is calculated as follows: \n",
    "\n",
    "${\\dfrac {X-m }{s}}$, \n",
    "\n",
    "where $ m $ is the mean and $ s $ is standard deviation."
   ]
  },
  {
   "cell_type": "code",
   "execution_count": 26,
   "metadata": {},
   "outputs": [
    {
     "data": {
      "text/plain": "   fixed acidity  volatile acidity  citric acid  residual sugar  chlorides  \\\n0      -0.528194          0.961576    -1.391037       -0.453077  -0.243630   \n1      -0.298454          1.966827    -1.391037        0.043403   0.223805   \n2      -0.298454          1.296660    -1.185699       -0.169374   0.096323   \n3       1.654339         -1.384011     1.483689       -0.453077  -0.264878   \n4      -0.528194          0.961576    -1.391037       -0.453077  -0.243630   \n\n   free sulfur dioxide  total sulfur dioxide   density        pH  sulphates  \\\n0            -0.466047             -0.379014  0.558100  1.288240  -0.579025   \n1             0.872365              0.624168  0.028252 -0.719708   0.128910   \n2            -0.083643              0.228975  0.134222 -0.331073  -0.048074   \n3             0.107558              0.411372  0.664069 -0.978798  -0.461036   \n4            -0.466047             -0.379014  0.558100  1.288240  -0.579025   \n\n    alcohol   quality  \n0 -0.959946 -0.787576  \n1 -0.584594 -0.787576  \n2 -0.584594 -0.787576  \n3 -0.584594  0.450707  \n4 -0.959946 -0.787576  ",
      "text/html": "<div>\n<style scoped>\n    .dataframe tbody tr th:only-of-type {\n        vertical-align: middle;\n    }\n\n    .dataframe tbody tr th {\n        vertical-align: top;\n    }\n\n    .dataframe thead th {\n        text-align: right;\n    }\n</style>\n<table border=\"1\" class=\"dataframe\">\n  <thead>\n    <tr style=\"text-align: right;\">\n      <th></th>\n      <th>fixed acidity</th>\n      <th>volatile acidity</th>\n      <th>citric acid</th>\n      <th>residual sugar</th>\n      <th>chlorides</th>\n      <th>free sulfur dioxide</th>\n      <th>total sulfur dioxide</th>\n      <th>density</th>\n      <th>pH</th>\n      <th>sulphates</th>\n      <th>alcohol</th>\n      <th>quality</th>\n    </tr>\n  </thead>\n  <tbody>\n    <tr>\n      <th>0</th>\n      <td>-0.528194</td>\n      <td>0.961576</td>\n      <td>-1.391037</td>\n      <td>-0.453077</td>\n      <td>-0.243630</td>\n      <td>-0.466047</td>\n      <td>-0.379014</td>\n      <td>0.558100</td>\n      <td>1.288240</td>\n      <td>-0.579025</td>\n      <td>-0.959946</td>\n      <td>-0.787576</td>\n    </tr>\n    <tr>\n      <th>1</th>\n      <td>-0.298454</td>\n      <td>1.966827</td>\n      <td>-1.391037</td>\n      <td>0.043403</td>\n      <td>0.223805</td>\n      <td>0.872365</td>\n      <td>0.624168</td>\n      <td>0.028252</td>\n      <td>-0.719708</td>\n      <td>0.128910</td>\n      <td>-0.584594</td>\n      <td>-0.787576</td>\n    </tr>\n    <tr>\n      <th>2</th>\n      <td>-0.298454</td>\n      <td>1.296660</td>\n      <td>-1.185699</td>\n      <td>-0.169374</td>\n      <td>0.096323</td>\n      <td>-0.083643</td>\n      <td>0.228975</td>\n      <td>0.134222</td>\n      <td>-0.331073</td>\n      <td>-0.048074</td>\n      <td>-0.584594</td>\n      <td>-0.787576</td>\n    </tr>\n    <tr>\n      <th>3</th>\n      <td>1.654339</td>\n      <td>-1.384011</td>\n      <td>1.483689</td>\n      <td>-0.453077</td>\n      <td>-0.264878</td>\n      <td>0.107558</td>\n      <td>0.411372</td>\n      <td>0.664069</td>\n      <td>-0.978798</td>\n      <td>-0.461036</td>\n      <td>-0.584594</td>\n      <td>0.450707</td>\n    </tr>\n    <tr>\n      <th>4</th>\n      <td>-0.528194</td>\n      <td>0.961576</td>\n      <td>-1.391037</td>\n      <td>-0.453077</td>\n      <td>-0.243630</td>\n      <td>-0.466047</td>\n      <td>-0.379014</td>\n      <td>0.558100</td>\n      <td>1.288240</td>\n      <td>-0.579025</td>\n      <td>-0.959946</td>\n      <td>-0.787576</td>\n    </tr>\n  </tbody>\n</table>\n</div>"
     },
     "execution_count": 26,
     "metadata": {},
     "output_type": "execute_result"
    }
   ],
   "source": [
    "normalized_red_wine_data = (red_wine_data - red_wine_data.mean()) / red_wine_data.std()\n",
    "normalized_red_wine_data[:5]"
   ]
  },
  {
   "cell_type": "markdown",
   "metadata": {},
   "source": [
    "Now we can calculate correlations for all attributes within the DataFrame:"
   ]
  },
  {
   "cell_type": "code",
   "execution_count": 27,
   "metadata": {},
   "outputs": [
    {
     "data": {
      "text/plain": "                      fixed acidity  volatile acidity  citric acid  \\\nfixed acidity              1.000000         -0.256131     0.671703   \nvolatile acidity          -0.256131          1.000000    -0.552496   \ncitric acid                0.671703         -0.552496     1.000000   \nresidual sugar             0.114777          0.001918     0.143577   \nchlorides                  0.093705          0.061298     0.203823   \nfree sulfur dioxide       -0.153794         -0.010504    -0.060978   \ntotal sulfur dioxide      -0.113181          0.076470     0.035533   \ndensity                    0.668047          0.022026     0.364947   \npH                        -0.682978          0.234937    -0.541904   \nsulphates                  0.183006         -0.260987     0.312770   \nalcohol                   -0.061668         -0.202288     0.109903   \nquality                    0.124052         -0.390558     0.226373   \n\n                      residual sugar  chlorides  free sulfur dioxide  \\\nfixed acidity               0.114777   0.093705            -0.153794   \nvolatile acidity            0.001918   0.061298            -0.010504   \ncitric acid                 0.143577   0.203823            -0.060978   \nresidual sugar              1.000000   0.055610             0.187049   \nchlorides                   0.055610   1.000000             0.005562   \nfree sulfur dioxide         0.187049   0.005562             1.000000   \ntotal sulfur dioxide        0.203028   0.047400             0.667666   \ndensity                     0.355283   0.200632            -0.021946   \npH                         -0.085652  -0.265026             0.070377   \nsulphates                   0.005527   0.371260             0.051658   \nalcohol                     0.042075  -0.221141            -0.069408   \nquality                     0.013732  -0.128907            -0.050656   \n\n                      total sulfur dioxide   density        pH  sulphates  \\\nfixed acidity                    -0.113181  0.668047 -0.682978   0.183006   \nvolatile acidity                  0.076470  0.022026  0.234937  -0.260987   \ncitric acid                       0.035533  0.364947 -0.541904   0.312770   \nresidual sugar                    0.203028  0.355283 -0.085652   0.005527   \nchlorides                         0.047400  0.200632 -0.265026   0.371260   \nfree sulfur dioxide               0.667666 -0.021946  0.070377   0.051658   \ntotal sulfur dioxide              1.000000  0.071269 -0.066495   0.042947   \ndensity                           0.071269  1.000000 -0.341699   0.148506   \npH                               -0.066495 -0.341699  1.000000  -0.196648   \nsulphates                         0.042947  0.148506 -0.196648   1.000000   \nalcohol                          -0.205654 -0.496180  0.205633   0.093595   \nquality                          -0.185100 -0.174919 -0.057731   0.251397   \n\n                       alcohol   quality  \nfixed acidity        -0.061668  0.124052  \nvolatile acidity     -0.202288 -0.390558  \ncitric acid           0.109903  0.226373  \nresidual sugar        0.042075  0.013732  \nchlorides            -0.221141 -0.128907  \nfree sulfur dioxide  -0.069408 -0.050656  \ntotal sulfur dioxide -0.205654 -0.185100  \ndensity              -0.496180 -0.174919  \npH                    0.205633 -0.057731  \nsulphates             0.093595  0.251397  \nalcohol               1.000000  0.476166  \nquality               0.476166  1.000000  ",
      "text/html": "<div>\n<style scoped>\n    .dataframe tbody tr th:only-of-type {\n        vertical-align: middle;\n    }\n\n    .dataframe tbody tr th {\n        vertical-align: top;\n    }\n\n    .dataframe thead th {\n        text-align: right;\n    }\n</style>\n<table border=\"1\" class=\"dataframe\">\n  <thead>\n    <tr style=\"text-align: right;\">\n      <th></th>\n      <th>fixed acidity</th>\n      <th>volatile acidity</th>\n      <th>citric acid</th>\n      <th>residual sugar</th>\n      <th>chlorides</th>\n      <th>free sulfur dioxide</th>\n      <th>total sulfur dioxide</th>\n      <th>density</th>\n      <th>pH</th>\n      <th>sulphates</th>\n      <th>alcohol</th>\n      <th>quality</th>\n    </tr>\n  </thead>\n  <tbody>\n    <tr>\n      <th>fixed acidity</th>\n      <td>1.000000</td>\n      <td>-0.256131</td>\n      <td>0.671703</td>\n      <td>0.114777</td>\n      <td>0.093705</td>\n      <td>-0.153794</td>\n      <td>-0.113181</td>\n      <td>0.668047</td>\n      <td>-0.682978</td>\n      <td>0.183006</td>\n      <td>-0.061668</td>\n      <td>0.124052</td>\n    </tr>\n    <tr>\n      <th>volatile acidity</th>\n      <td>-0.256131</td>\n      <td>1.000000</td>\n      <td>-0.552496</td>\n      <td>0.001918</td>\n      <td>0.061298</td>\n      <td>-0.010504</td>\n      <td>0.076470</td>\n      <td>0.022026</td>\n      <td>0.234937</td>\n      <td>-0.260987</td>\n      <td>-0.202288</td>\n      <td>-0.390558</td>\n    </tr>\n    <tr>\n      <th>citric acid</th>\n      <td>0.671703</td>\n      <td>-0.552496</td>\n      <td>1.000000</td>\n      <td>0.143577</td>\n      <td>0.203823</td>\n      <td>-0.060978</td>\n      <td>0.035533</td>\n      <td>0.364947</td>\n      <td>-0.541904</td>\n      <td>0.312770</td>\n      <td>0.109903</td>\n      <td>0.226373</td>\n    </tr>\n    <tr>\n      <th>residual sugar</th>\n      <td>0.114777</td>\n      <td>0.001918</td>\n      <td>0.143577</td>\n      <td>1.000000</td>\n      <td>0.055610</td>\n      <td>0.187049</td>\n      <td>0.203028</td>\n      <td>0.355283</td>\n      <td>-0.085652</td>\n      <td>0.005527</td>\n      <td>0.042075</td>\n      <td>0.013732</td>\n    </tr>\n    <tr>\n      <th>chlorides</th>\n      <td>0.093705</td>\n      <td>0.061298</td>\n      <td>0.203823</td>\n      <td>0.055610</td>\n      <td>1.000000</td>\n      <td>0.005562</td>\n      <td>0.047400</td>\n      <td>0.200632</td>\n      <td>-0.265026</td>\n      <td>0.371260</td>\n      <td>-0.221141</td>\n      <td>-0.128907</td>\n    </tr>\n    <tr>\n      <th>free sulfur dioxide</th>\n      <td>-0.153794</td>\n      <td>-0.010504</td>\n      <td>-0.060978</td>\n      <td>0.187049</td>\n      <td>0.005562</td>\n      <td>1.000000</td>\n      <td>0.667666</td>\n      <td>-0.021946</td>\n      <td>0.070377</td>\n      <td>0.051658</td>\n      <td>-0.069408</td>\n      <td>-0.050656</td>\n    </tr>\n    <tr>\n      <th>total sulfur dioxide</th>\n      <td>-0.113181</td>\n      <td>0.076470</td>\n      <td>0.035533</td>\n      <td>0.203028</td>\n      <td>0.047400</td>\n      <td>0.667666</td>\n      <td>1.000000</td>\n      <td>0.071269</td>\n      <td>-0.066495</td>\n      <td>0.042947</td>\n      <td>-0.205654</td>\n      <td>-0.185100</td>\n    </tr>\n    <tr>\n      <th>density</th>\n      <td>0.668047</td>\n      <td>0.022026</td>\n      <td>0.364947</td>\n      <td>0.355283</td>\n      <td>0.200632</td>\n      <td>-0.021946</td>\n      <td>0.071269</td>\n      <td>1.000000</td>\n      <td>-0.341699</td>\n      <td>0.148506</td>\n      <td>-0.496180</td>\n      <td>-0.174919</td>\n    </tr>\n    <tr>\n      <th>pH</th>\n      <td>-0.682978</td>\n      <td>0.234937</td>\n      <td>-0.541904</td>\n      <td>-0.085652</td>\n      <td>-0.265026</td>\n      <td>0.070377</td>\n      <td>-0.066495</td>\n      <td>-0.341699</td>\n      <td>1.000000</td>\n      <td>-0.196648</td>\n      <td>0.205633</td>\n      <td>-0.057731</td>\n    </tr>\n    <tr>\n      <th>sulphates</th>\n      <td>0.183006</td>\n      <td>-0.260987</td>\n      <td>0.312770</td>\n      <td>0.005527</td>\n      <td>0.371260</td>\n      <td>0.051658</td>\n      <td>0.042947</td>\n      <td>0.148506</td>\n      <td>-0.196648</td>\n      <td>1.000000</td>\n      <td>0.093595</td>\n      <td>0.251397</td>\n    </tr>\n    <tr>\n      <th>alcohol</th>\n      <td>-0.061668</td>\n      <td>-0.202288</td>\n      <td>0.109903</td>\n      <td>0.042075</td>\n      <td>-0.221141</td>\n      <td>-0.069408</td>\n      <td>-0.205654</td>\n      <td>-0.496180</td>\n      <td>0.205633</td>\n      <td>0.093595</td>\n      <td>1.000000</td>\n      <td>0.476166</td>\n    </tr>\n    <tr>\n      <th>quality</th>\n      <td>0.124052</td>\n      <td>-0.390558</td>\n      <td>0.226373</td>\n      <td>0.013732</td>\n      <td>-0.128907</td>\n      <td>-0.050656</td>\n      <td>-0.185100</td>\n      <td>-0.174919</td>\n      <td>-0.057731</td>\n      <td>0.251397</td>\n      <td>0.476166</td>\n      <td>1.000000</td>\n    </tr>\n  </tbody>\n</table>\n</div>"
     },
     "execution_count": 27,
     "metadata": {},
     "output_type": "execute_result"
    }
   ],
   "source": [
    "normalized_red_wine_data.corr()"
   ]
  },
  {
   "cell_type": "markdown",
   "metadata": {},
   "source": [
    "In the next section, we will learn how to visualize this matrix and how to visualize the data."
   ]
  },
  {
   "cell_type": "markdown",
   "metadata": {},
   "source": [
    "**End of Part 1**\n",
    "\n",
    "\n",
    "This notebook makes up one part of this module. Now that you have completed this part, please proceed to the next notebook in this module.\n",
    "\n",
    "If you have any questions, please reach out to your peers using the discussion boards. If you and your peers are unable to come to a suitable conclusion, do not hesitate to reach out to your instructor on the designated discussion board."
   ]
  },
  {
   "cell_type": "markdown",
   "metadata": {},
   "source": [
    "# References"
   ]
  },
  {
   "cell_type": "markdown",
   "metadata": {},
   "source": [
    "Wikipedia (2018). Descriptive statistics. Retrieved from [https://en.wikipedia.org/wiki/Descriptive_statistics](https://en.wikipedia.org/wiki/Descriptive_statistics)\n",
    "\n",
    "Wikipedia (2018). Bessel's correction. Retrieved from [https://en.wikipedia.org/wiki/Bessel%27s_correction](https://en.wikipedia.org/wiki/Bessel%27s_correction)\n",
    "\n",
    "SciPy Community (2018). numpy.random.randn. Retrieved from [https://docs.scipy.org/doc/numpy/reference/generated/numpy.random.randn.html](https://docs.scipy.org/doc/numpy/reference/generated/numpy.random.randn.html).\n",
    "\n",
    "Wikipedia (2018). Normal Distribution. Empirical Rule diagram. Retrieved from [https://en.wikipedia.org/wiki/Normal_distribution](https://en.wikipedia.org/wiki/Normal_distribution)\n",
    "\n",
    "Wikipedia (2018). Skewness. Retrieved from [https://en.wikipedia.org/wiki/Skewness](https://en.wikipedia.org/wiki/Skewness)\n",
    "\n",
    "SigmaPlus Consulting (2018). SPSS Tutorials. Pearson Correlations - Quick Introduction. Retrieved from [https://www.spss-tutorials.com/pearson-correlation-coefficient/](https://www.spss-tutorials.com/pearson-correlation-coefficient/)\n",
    "\n",
    "Wikipedia (2018). Correlation and dependence. Retrieved from [https://en.wikipedia.org/wiki/Correlation_and_dependence](https://en.wikipedia.org/wiki/Correlation_and_dependence)\n",
    "\n",
    "Cortez, P., Cerdeira, A., Almeida, F., Matos, T., & Reis, J (2009). \n",
    "Modeling wine preferences by data mining from physicochemical properties. Decision Support Systems, Elsevier, 47(4):547-553. Retrieved from [https://archive.ics.uci.edu/ml/datasets/Wine+Quality](https://archive.ics.uci.edu/ml/datasets/Wine+Quality)\n",
    "\n",
    "Wikipedia, 2018. Normalization (statistics). Retrieved from [https://en.wikipedia.org/wiki/Normalization_(statistics)](https://en.wikipedia.org/wiki/Normalization_(statistics))\n"
   ]
  },
  {
   "cell_type": "code",
   "execution_count": null,
   "metadata": {},
   "outputs": [],
   "source": []
  }
 ],
 "metadata": {
  "kernelspec": {
   "display_name": "Python 3",
   "language": "python",
   "name": "python3"
  },
  "language_info": {
   "codemirror_mode": {
    "name": "ipython",
    "version": 3
   },
   "file_extension": ".py",
   "mimetype": "text/x-python",
   "name": "python",
   "nbconvert_exporter": "python",
   "pygments_lexer": "ipython3",
   "version": "3.7.10"
  },
  "toc": {
   "base_numbering": 1,
   "nav_menu": {},
   "number_sections": true,
   "sideBar": true,
   "skip_h1_title": true,
   "title_cell": "Table of Contents",
   "title_sidebar": "Contents",
   "toc_cell": true,
   "toc_position": {},
   "toc_section_display": true,
   "toc_window_display": true
  }
 },
 "nbformat": 4,
 "nbformat_minor": 4
}