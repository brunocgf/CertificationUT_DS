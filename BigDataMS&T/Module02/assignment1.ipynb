{
 "cells": [
  {
   "cell_type": "markdown",
   "metadata": {
    "colab_type": "text",
    "id": "QxDhTyclvzuz"
   },
   "source": [
    "## Assignment 1: MongoDB"
   ]
  },
  {
   "cell_type": "markdown",
   "metadata": {
    "colab_type": "text",
    "id": "JjUBX185vzu0"
   },
   "source": [
    "This assignment is based on content discussed in Module 2: Introduction to MongoDB"
   ]
  },
  {
   "cell_type": "markdown",
   "metadata": {
    "colab_type": "text",
    "id": "Y5sVEZYQvzu1"
   },
   "source": [
    "## Learning outcomes "
   ]
  },
  {
   "cell_type": "markdown",
   "metadata": {
    "colab_type": "text",
    "id": "RNAMrxvpvzu1"
   },
   "source": [
    "The purpose of this assignment is for learners to be able to:\n",
    "- Familarize with JSON document syntax\n",
    "- Understand basic MongoDB CRUD operations\n",
    "- Understand MongoDB data pipelines to run aggregate queries"
   ]
  },
  {
   "cell_type": "markdown",
   "metadata": {
    "colab_type": "text",
    "id": "DB6Mhqwrvzu2"
   },
   "source": [
    "In this assignment, you will make use of the sample data provided in Module 2.  \n",
    "\n",
    "This dataset has 3 collections: Employee, Workplace and Address.  You will import this data into your local MongoDB database.\n",
    "\n",
    "Required imports for this project are given below. Make sure you have all libraries required for this project installed. You may use conda or pip based on your set up."
   ]
  },
  {
   "cell_type": "markdown",
   "metadata": {
    "colab_type": "text",
    "id": "ZPXaQ47onjsR"
   },
   "source": [
    "## Setup Notes\n",
    "\n",
    "**Please note** These instructions are duplicated here for your reference. You would have encountered them originally in Module 2 Part 2. It is expected that you have already taken the steps to set up and run MongoDB.\n",
    "\n",
    "We will be using MongoDB Community Edition.  The MongoDB database <b>MUST</b> be installed and running locally before continuing with this notebook.  We will need to install two packages using the Anaconda package manager:\n",
    "\n",
    "1. [Mongodb](https://www.mongodb.com/) - this package contains the mongodb database \n",
    "2. [PyMongo](http://api.mongodb.com/python/current/) - this packages contains the python driver that will allow us to communicate with the mongodb database.\n",
    "\n",
    "#### Install\n",
    "\n",
    "1. Open a command line terminal and execute the following commad to install mongodb.\n",
    "```console\n",
    "conda install -c anaconda mongodb\n",
    "```\n",
    "2. Open a command line terminal and execute the following commad to install pymongo packge.\n",
    "```console\n",
    "conda install -c anaconda pymongo\n",
    "```\n",
    "\n",
    "#### Run Mongodb in Windows\n",
    "1. MongoDB requires a data directory to store all data. MongoDB’s default data directory path is \\data\\db. Create this folder using the following commands from a Command Prompt:\n",
    "```console\n",
    "md \\data\\db\n",
    "```\n",
    "\n",
    "2. To start MongoDB, run mongod.exe. For example, from the Command Prompt:\n",
    "```console\n",
    "\"C:\\Program Files\\MongoDB\\Server\\3.2\\bin\\mongod.exe\"\n",
    "```\n",
    "\n",
    "#### Run Mongodb in Mac\n",
    "1. MongoDB requires a data directory to store all data. MongoDB’s default data directory path is /data/db. Create this folder using the following commands from a Command Prompt.  Note that we run the command as a super user using the \"sudo\" command:\n",
    "```console\n",
    "sudo mkdir /data/db/\n",
    "```\n",
    "\n",
    "2. To start MongoDB, run mongod.exe. For example, from the Command Promp.  Note that we run the command as a super user using the \"sudo\" command:\n",
    "```console\n",
    "sudo mongod --config /usr/local/etc/mongod.conf\n",
    "```"
   ]
  },
  {
   "cell_type": "code",
   "execution_count": 1,
   "metadata": {
    "colab": {},
    "colab_type": "code",
    "id": "Gqxn8n27vzu3",
    "outputId": "7cf9a92e-d0d2-49d8-cfce-532dccb4e94a"
   },
   "outputs": [
    {
     "name": "stdout",
     "output_type": "stream",
     "text": [
      "Mongo version 3.12.0\n"
     ]
    }
   ],
   "source": [
    "#required imports\n",
    "import os\n",
    "import json\n",
    "import datetime\n",
    "import pymongo\n",
    "import pprint\n",
    "import pandas as pd\n",
    "import numpy as np\n",
    "from pymongo import MongoClient\n",
    "print('Mongo version', pymongo.__version__)"
   ]
  },
  {
   "cell_type": "markdown",
   "metadata": {
    "colab_type": "text",
    "id": "TeBZEImlnjsY"
   },
   "source": [
    "We first need to connect to our locally running MongoDB database (<b>Make sure your database is running on your machine</b>). We will use the MongoClient to connect to a local 'test' database that is running on port 27017 (this is the default port)."
   ]
  },
  {
   "cell_type": "code",
   "execution_count": 31,
   "metadata": {
    "colab": {},
    "colab_type": "code",
    "id": "UdtVCmGGnjsZ"
   },
   "outputs": [],
   "source": [
    "client = MongoClient('localhost', 27017)\n",
    "db = client.assignment1"
   ]
  },
  {
   "cell_type": "markdown",
   "metadata": {
    "colab_type": "text",
    "id": "2WW6r96Tvzu7"
   },
   "source": [
    "After installing necessary modules proceed to import the data into your database."
   ]
  },
  {
   "cell_type": "code",
   "execution_count": 3,
   "metadata": {
    "colab": {},
    "colab_type": "code",
    "id": "5VDnAuj6vzu7"
   },
   "outputs": [],
   "source": [
    "# Let's delete any existing collections in our database\n",
    "db.workplace.drop()\n",
    "db.address.drop()\n",
    "db.employee.drop()\n",
    "\n",
    "# Import our files into our three collections\n",
    "with open('Data/Employee.json') as f:\n",
    "    db.employee.insert_many(json.load(f))\n",
    "with open('Data/Workplace.json') as f:\n",
    "    db.workplace.insert_many(json.load(f))\n",
    "with open('Data/Address.json') as f:\n",
    "    db.address.insert_many(json.load(f))"
   ]
  },
  {
   "cell_type": "markdown",
   "metadata": {
    "colab_type": "text",
    "id": "3lL-abBuvzu9"
   },
   "source": [
    "#### Question 1 (10 Marks)\n",
    "\n",
    "The address collection contains employee from different ages and interests.  Perform a simple query to list all employees that are less than or equal to 50 and like Cooking.\n",
    "\n",
    "__NOTE:__ the following shows the structure of an Employee document that will help you construct the query."
   ]
  },
  {
   "cell_type": "code",
   "execution_count": 4,
   "metadata": {
    "colab": {},
    "colab_type": "code",
    "id": "gqB8V6Xbnjsf",
    "outputId": "b757f86e-0d69-4e8c-e65d-4415e5a9cd57"
   },
   "outputs": [
    {
     "name": "stdout",
     "output_type": "stream",
     "text": [
      "{'_id': '9f39da36-82cc-4353-ab90-d616105fa7c1',\n",
      " 'address_id': 'b6c0b50a-d0e3-43bf-a2a4-8d4674c2a7e8',\n",
      " 'age': 40,\n",
      " 'email': 'ih@ri.ro',\n",
      " 'firstname': 'Emilie',\n",
      " 'interests': ['Bowling', 'Cooking', 'Golf', 'Swimming'],\n",
      " 'lastname': 'Woods',\n",
      " 'workplace_id': 'a32bf18d-e0e5-48f2-a851-aa49c80f9460'}\n"
     ]
    }
   ],
   "source": [
    "pprint.pprint(client.assignment1.employee.find_one())"
   ]
  },
  {
   "cell_type": "code",
   "execution_count": 34,
   "outputs": [
    {
     "data": {
      "text/plain": "                                     _id firstname   lastname  age  \\\n0   9f39da36-82cc-4353-ab90-d616105fa7c1    Emilie      Woods   40   \n1   af27265e-6639-49f2-991e-193275a4111a    Thomas  Patterson   18   \n2   00289d48-bad8-4b73-a359-a1a1f05c96e2    Sophia     Flores   22   \n3   da76e52b-b3db-4fc0-b0d6-435d1aed0cd9     Ollie    Barnett   25   \n4   51643cd6-49bb-45d5-bd6e-717c62bb2869     James    Wilkins   27   \n5   f073a705-6546-4375-adb5-b224871776ef     Aaron       Carr   25   \n6   457ef68c-9651-4925-bca0-15e246661d19      Alta      Sharp   34   \n7   840184a3-4c4d-4b15-8813-30fca6e7827b     Delia    Douglas   36   \n8   6157dc3b-ee2d-463a-b62b-1cd4eed7d575   Dominic       Wade   48   \n9   cc3e389d-be0d-467a-ba70-7c84f6504911    Myrtle     Little   36   \n10  c2bf0e3f-e3de-41de-b745-c5b70571dd3a    Jordan   Roberson   29   \n11  4bc070ca-f849-4eeb-8ab2-98fe3c0861c0   Francis     Harris   38   \n12  66894dba-4ff0-4545-b7cc-eb6a5bd551c5     Clara     Butler   49   \n13  581f59a2-ff4c-407e-b58f-e4f292208928      Rena    Johnson   33   \n14  b2a2ae86-f4f6-4da5-ade6-ee1cd135daf3     Gavin     Conner   49   \n15  2bfc0479-cb15-46e1-94fa-801404791b21     Peter    Jimenez   37   \n\n                  email                                          interests  \\\n0              ih@ri.ro                 [Bowling, Cooking, Golf, Swimming]   \n1            sug@gon.bf      [Cooking, Cricket, Tennis, Swimming, Fishing]   \n2        ra@dupnejuk.nr  [Hiking, Soccer, Bowling, Rubgy, Cooking, Danc...   \n3           ro@nemaw.et                        [Cooking, Bowling, Dancing]   \n4   hutfardu@vicbiri.gb                  [Rubgy, Tennis, Cricket, Cooking]   \n5      fekegim@lucul.tp                                          [Cooking]   \n6           jus@goal.bn  [Cricket, Cycling, Rubgy, Golf, Cooking, Dancing]   \n7             me@wak.ne        [Cricket, Cooking, Hiking, Dancing, Tennis]   \n8             co@pog.nz                        [Cycling, Dancing, Cooking]   \n9            saj@far.zm  [Cooking, Cycling, Hiking, Rubgy, Bowling, Dan...   \n10          co@mahdo.ca                                [Swimming, Cooking]   \n11          pa@sodej.ck     [Dancing, Swimming, Cooking, Bowling, Cycling]   \n12         do@womjip.by                         [Soccer, Cooking, Cycling]   \n13      vasberet@his.nz               [Cycling, Swimming, Soccer, Cooking]   \n14          ah@jopah.uz                          [Rubgy, Cooking, Bowling]   \n15        usope@tega.bh                       [Cooking, Swimming, Cricket]   \n\n                              address_id                          workplace_id  \n0   b6c0b50a-d0e3-43bf-a2a4-8d4674c2a7e8  a32bf18d-e0e5-48f2-a851-aa49c80f9460  \n1   64fd714d-e219-4e45-888b-cc2238a8bd0b  5345fcb9-6297-4b9f-aa15-cbee8460f28f  \n2   8a430805-00b8-40a6-bd93-c950b544a83b  b12cd444-e65b-4bc2-8cf6-2dbe854a627b  \n3   5d3eacc4-d1d8-459b-973c-3bc71feacf50  cb795afb-8dc3-482f-b3a0-14229a280afa  \n4   3f10d9f7-57ef-40e1-a97d-d2ee53aa2c6e  cb795afb-8dc3-482f-b3a0-14229a280afa  \n5   f4e59d7e-ea40-442d-87be-106e3c46a554  b2a2844d-aeab-4602-b74c-01bf3b8e9c78  \n6   5e97658e-5809-41b8-a088-eddbd81f86a7  b2a2844d-aeab-4602-b74c-01bf3b8e9c78  \n7   456e18ae-c2f8-443e-899d-f2b893499695  b2a2844d-aeab-4602-b74c-01bf3b8e9c78  \n8   8d162eb9-eefc-4b7e-bcad-6fb7a02b15b0  cb795afb-8dc3-482f-b3a0-14229a280afa  \n9   0d3a90d5-11bd-4f96-91ba-7e7ef80888f0  2b87eb84-e5b4-4f2c-9e13-dc3ba20a7f7f  \n10  7edd78a4-c4e6-484a-bf2f-ecad5c4c506b  cb795afb-8dc3-482f-b3a0-14229a280afa  \n11  fc607f68-81c8-4ca8-8a9e-30239ccae40f  2b87eb84-e5b4-4f2c-9e13-dc3ba20a7f7f  \n12  4dcebe6e-0787-4158-9744-3d721098cec4  50275ad1-8140-4e79-8818-21793e3eb0a3  \n13  1cf24906-c700-41bb-a4c8-bba3c3ae30d9  2b87eb84-e5b4-4f2c-9e13-dc3ba20a7f7f  \n14  ef5a17a2-6f11-49b8-a0fd-e0bddc56f185  50275ad1-8140-4e79-8818-21793e3eb0a3  \n15  77ce0c50-afd6-47e8-86d7-b1b372e8deb2  cb795afb-8dc3-482f-b3a0-14229a280afa  ",
      "text/html": "<div>\n<style scoped>\n    .dataframe tbody tr th:only-of-type {\n        vertical-align: middle;\n    }\n\n    .dataframe tbody tr th {\n        vertical-align: top;\n    }\n\n    .dataframe thead th {\n        text-align: right;\n    }\n</style>\n<table border=\"1\" class=\"dataframe\">\n  <thead>\n    <tr style=\"text-align: right;\">\n      <th></th>\n      <th>_id</th>\n      <th>firstname</th>\n      <th>lastname</th>\n      <th>age</th>\n      <th>email</th>\n      <th>interests</th>\n      <th>address_id</th>\n      <th>workplace_id</th>\n    </tr>\n  </thead>\n  <tbody>\n    <tr>\n      <th>0</th>\n      <td>9f39da36-82cc-4353-ab90-d616105fa7c1</td>\n      <td>Emilie</td>\n      <td>Woods</td>\n      <td>40</td>\n      <td>ih@ri.ro</td>\n      <td>[Bowling, Cooking, Golf, Swimming]</td>\n      <td>b6c0b50a-d0e3-43bf-a2a4-8d4674c2a7e8</td>\n      <td>a32bf18d-e0e5-48f2-a851-aa49c80f9460</td>\n    </tr>\n    <tr>\n      <th>1</th>\n      <td>af27265e-6639-49f2-991e-193275a4111a</td>\n      <td>Thomas</td>\n      <td>Patterson</td>\n      <td>18</td>\n      <td>sug@gon.bf</td>\n      <td>[Cooking, Cricket, Tennis, Swimming, Fishing]</td>\n      <td>64fd714d-e219-4e45-888b-cc2238a8bd0b</td>\n      <td>5345fcb9-6297-4b9f-aa15-cbee8460f28f</td>\n    </tr>\n    <tr>\n      <th>2</th>\n      <td>00289d48-bad8-4b73-a359-a1a1f05c96e2</td>\n      <td>Sophia</td>\n      <td>Flores</td>\n      <td>22</td>\n      <td>ra@dupnejuk.nr</td>\n      <td>[Hiking, Soccer, Bowling, Rubgy, Cooking, Danc...</td>\n      <td>8a430805-00b8-40a6-bd93-c950b544a83b</td>\n      <td>b12cd444-e65b-4bc2-8cf6-2dbe854a627b</td>\n    </tr>\n    <tr>\n      <th>3</th>\n      <td>da76e52b-b3db-4fc0-b0d6-435d1aed0cd9</td>\n      <td>Ollie</td>\n      <td>Barnett</td>\n      <td>25</td>\n      <td>ro@nemaw.et</td>\n      <td>[Cooking, Bowling, Dancing]</td>\n      <td>5d3eacc4-d1d8-459b-973c-3bc71feacf50</td>\n      <td>cb795afb-8dc3-482f-b3a0-14229a280afa</td>\n    </tr>\n    <tr>\n      <th>4</th>\n      <td>51643cd6-49bb-45d5-bd6e-717c62bb2869</td>\n      <td>James</td>\n      <td>Wilkins</td>\n      <td>27</td>\n      <td>hutfardu@vicbiri.gb</td>\n      <td>[Rubgy, Tennis, Cricket, Cooking]</td>\n      <td>3f10d9f7-57ef-40e1-a97d-d2ee53aa2c6e</td>\n      <td>cb795afb-8dc3-482f-b3a0-14229a280afa</td>\n    </tr>\n    <tr>\n      <th>5</th>\n      <td>f073a705-6546-4375-adb5-b224871776ef</td>\n      <td>Aaron</td>\n      <td>Carr</td>\n      <td>25</td>\n      <td>fekegim@lucul.tp</td>\n      <td>[Cooking]</td>\n      <td>f4e59d7e-ea40-442d-87be-106e3c46a554</td>\n      <td>b2a2844d-aeab-4602-b74c-01bf3b8e9c78</td>\n    </tr>\n    <tr>\n      <th>6</th>\n      <td>457ef68c-9651-4925-bca0-15e246661d19</td>\n      <td>Alta</td>\n      <td>Sharp</td>\n      <td>34</td>\n      <td>jus@goal.bn</td>\n      <td>[Cricket, Cycling, Rubgy, Golf, Cooking, Dancing]</td>\n      <td>5e97658e-5809-41b8-a088-eddbd81f86a7</td>\n      <td>b2a2844d-aeab-4602-b74c-01bf3b8e9c78</td>\n    </tr>\n    <tr>\n      <th>7</th>\n      <td>840184a3-4c4d-4b15-8813-30fca6e7827b</td>\n      <td>Delia</td>\n      <td>Douglas</td>\n      <td>36</td>\n      <td>me@wak.ne</td>\n      <td>[Cricket, Cooking, Hiking, Dancing, Tennis]</td>\n      <td>456e18ae-c2f8-443e-899d-f2b893499695</td>\n      <td>b2a2844d-aeab-4602-b74c-01bf3b8e9c78</td>\n    </tr>\n    <tr>\n      <th>8</th>\n      <td>6157dc3b-ee2d-463a-b62b-1cd4eed7d575</td>\n      <td>Dominic</td>\n      <td>Wade</td>\n      <td>48</td>\n      <td>co@pog.nz</td>\n      <td>[Cycling, Dancing, Cooking]</td>\n      <td>8d162eb9-eefc-4b7e-bcad-6fb7a02b15b0</td>\n      <td>cb795afb-8dc3-482f-b3a0-14229a280afa</td>\n    </tr>\n    <tr>\n      <th>9</th>\n      <td>cc3e389d-be0d-467a-ba70-7c84f6504911</td>\n      <td>Myrtle</td>\n      <td>Little</td>\n      <td>36</td>\n      <td>saj@far.zm</td>\n      <td>[Cooking, Cycling, Hiking, Rubgy, Bowling, Dan...</td>\n      <td>0d3a90d5-11bd-4f96-91ba-7e7ef80888f0</td>\n      <td>2b87eb84-e5b4-4f2c-9e13-dc3ba20a7f7f</td>\n    </tr>\n    <tr>\n      <th>10</th>\n      <td>c2bf0e3f-e3de-41de-b745-c5b70571dd3a</td>\n      <td>Jordan</td>\n      <td>Roberson</td>\n      <td>29</td>\n      <td>co@mahdo.ca</td>\n      <td>[Swimming, Cooking]</td>\n      <td>7edd78a4-c4e6-484a-bf2f-ecad5c4c506b</td>\n      <td>cb795afb-8dc3-482f-b3a0-14229a280afa</td>\n    </tr>\n    <tr>\n      <th>11</th>\n      <td>4bc070ca-f849-4eeb-8ab2-98fe3c0861c0</td>\n      <td>Francis</td>\n      <td>Harris</td>\n      <td>38</td>\n      <td>pa@sodej.ck</td>\n      <td>[Dancing, Swimming, Cooking, Bowling, Cycling]</td>\n      <td>fc607f68-81c8-4ca8-8a9e-30239ccae40f</td>\n      <td>2b87eb84-e5b4-4f2c-9e13-dc3ba20a7f7f</td>\n    </tr>\n    <tr>\n      <th>12</th>\n      <td>66894dba-4ff0-4545-b7cc-eb6a5bd551c5</td>\n      <td>Clara</td>\n      <td>Butler</td>\n      <td>49</td>\n      <td>do@womjip.by</td>\n      <td>[Soccer, Cooking, Cycling]</td>\n      <td>4dcebe6e-0787-4158-9744-3d721098cec4</td>\n      <td>50275ad1-8140-4e79-8818-21793e3eb0a3</td>\n    </tr>\n    <tr>\n      <th>13</th>\n      <td>581f59a2-ff4c-407e-b58f-e4f292208928</td>\n      <td>Rena</td>\n      <td>Johnson</td>\n      <td>33</td>\n      <td>vasberet@his.nz</td>\n      <td>[Cycling, Swimming, Soccer, Cooking]</td>\n      <td>1cf24906-c700-41bb-a4c8-bba3c3ae30d9</td>\n      <td>2b87eb84-e5b4-4f2c-9e13-dc3ba20a7f7f</td>\n    </tr>\n    <tr>\n      <th>14</th>\n      <td>b2a2ae86-f4f6-4da5-ade6-ee1cd135daf3</td>\n      <td>Gavin</td>\n      <td>Conner</td>\n      <td>49</td>\n      <td>ah@jopah.uz</td>\n      <td>[Rubgy, Cooking, Bowling]</td>\n      <td>ef5a17a2-6f11-49b8-a0fd-e0bddc56f185</td>\n      <td>50275ad1-8140-4e79-8818-21793e3eb0a3</td>\n    </tr>\n    <tr>\n      <th>15</th>\n      <td>2bfc0479-cb15-46e1-94fa-801404791b21</td>\n      <td>Peter</td>\n      <td>Jimenez</td>\n      <td>37</td>\n      <td>usope@tega.bh</td>\n      <td>[Cooking, Swimming, Cricket]</td>\n      <td>77ce0c50-afd6-47e8-86d7-b1b372e8deb2</td>\n      <td>cb795afb-8dc3-482f-b3a0-14229a280afa</td>\n    </tr>\n  </tbody>\n</table>\n</div>"
     },
     "execution_count": 34,
     "metadata": {},
     "output_type": "execute_result"
    }
   ],
   "source": [
    "# In this first option I just looked for the match in age and interests array.\n",
    "cursor = db.employee.find({\"interests\": \"Cooking\", \"age\": {\"$lte\": 50}})\n",
    "pd.DataFrame(list(cursor))"
   ],
   "metadata": {
    "collapsed": false,
    "pycharm": {
     "name": "#%%\n"
    }
   }
  },
  {
   "cell_type": "code",
   "execution_count": 13,
   "metadata": {
    "colab": {},
    "colab_type": "code",
    "id": "nRLVQgQQvzu9"
   },
   "outputs": [
    {
     "data": {
      "text/plain": "                                     _id firstname   lastname  age  \\\n0   9f39da36-82cc-4353-ab90-d616105fa7c1    Emilie      Woods   40   \n1   af27265e-6639-49f2-991e-193275a4111a    Thomas  Patterson   18   \n2   00289d48-bad8-4b73-a359-a1a1f05c96e2    Sophia     Flores   22   \n3   da76e52b-b3db-4fc0-b0d6-435d1aed0cd9     Ollie    Barnett   25   \n4   51643cd6-49bb-45d5-bd6e-717c62bb2869     James    Wilkins   27   \n5   f073a705-6546-4375-adb5-b224871776ef     Aaron       Carr   25   \n6   457ef68c-9651-4925-bca0-15e246661d19      Alta      Sharp   34   \n7   840184a3-4c4d-4b15-8813-30fca6e7827b     Delia    Douglas   36   \n8   6157dc3b-ee2d-463a-b62b-1cd4eed7d575   Dominic       Wade   48   \n9   cc3e389d-be0d-467a-ba70-7c84f6504911    Myrtle     Little   36   \n10  c2bf0e3f-e3de-41de-b745-c5b70571dd3a    Jordan   Roberson   29   \n11  4bc070ca-f849-4eeb-8ab2-98fe3c0861c0   Francis     Harris   38   \n12  66894dba-4ff0-4545-b7cc-eb6a5bd551c5     Clara     Butler   49   \n13  581f59a2-ff4c-407e-b58f-e4f292208928      Rena    Johnson   33   \n14  b2a2ae86-f4f6-4da5-ade6-ee1cd135daf3     Gavin     Conner   49   \n15  2bfc0479-cb15-46e1-94fa-801404791b21     Peter    Jimenez   37   \n\n                  email interests                            address_id  \\\n0              ih@ri.ro   Cooking  b6c0b50a-d0e3-43bf-a2a4-8d4674c2a7e8   \n1            sug@gon.bf   Cooking  64fd714d-e219-4e45-888b-cc2238a8bd0b   \n2        ra@dupnejuk.nr   Cooking  8a430805-00b8-40a6-bd93-c950b544a83b   \n3           ro@nemaw.et   Cooking  5d3eacc4-d1d8-459b-973c-3bc71feacf50   \n4   hutfardu@vicbiri.gb   Cooking  3f10d9f7-57ef-40e1-a97d-d2ee53aa2c6e   \n5      fekegim@lucul.tp   Cooking  f4e59d7e-ea40-442d-87be-106e3c46a554   \n6           jus@goal.bn   Cooking  5e97658e-5809-41b8-a088-eddbd81f86a7   \n7             me@wak.ne   Cooking  456e18ae-c2f8-443e-899d-f2b893499695   \n8             co@pog.nz   Cooking  8d162eb9-eefc-4b7e-bcad-6fb7a02b15b0   \n9            saj@far.zm   Cooking  0d3a90d5-11bd-4f96-91ba-7e7ef80888f0   \n10          co@mahdo.ca   Cooking  7edd78a4-c4e6-484a-bf2f-ecad5c4c506b   \n11          pa@sodej.ck   Cooking  fc607f68-81c8-4ca8-8a9e-30239ccae40f   \n12         do@womjip.by   Cooking  4dcebe6e-0787-4158-9744-3d721098cec4   \n13      vasberet@his.nz   Cooking  1cf24906-c700-41bb-a4c8-bba3c3ae30d9   \n14          ah@jopah.uz   Cooking  ef5a17a2-6f11-49b8-a0fd-e0bddc56f185   \n15        usope@tega.bh   Cooking  77ce0c50-afd6-47e8-86d7-b1b372e8deb2   \n\n                            workplace_id  \n0   a32bf18d-e0e5-48f2-a851-aa49c80f9460  \n1   5345fcb9-6297-4b9f-aa15-cbee8460f28f  \n2   b12cd444-e65b-4bc2-8cf6-2dbe854a627b  \n3   cb795afb-8dc3-482f-b3a0-14229a280afa  \n4   cb795afb-8dc3-482f-b3a0-14229a280afa  \n5   b2a2844d-aeab-4602-b74c-01bf3b8e9c78  \n6   b2a2844d-aeab-4602-b74c-01bf3b8e9c78  \n7   b2a2844d-aeab-4602-b74c-01bf3b8e9c78  \n8   cb795afb-8dc3-482f-b3a0-14229a280afa  \n9   2b87eb84-e5b4-4f2c-9e13-dc3ba20a7f7f  \n10  cb795afb-8dc3-482f-b3a0-14229a280afa  \n11  2b87eb84-e5b4-4f2c-9e13-dc3ba20a7f7f  \n12  50275ad1-8140-4e79-8818-21793e3eb0a3  \n13  2b87eb84-e5b4-4f2c-9e13-dc3ba20a7f7f  \n14  50275ad1-8140-4e79-8818-21793e3eb0a3  \n15  cb795afb-8dc3-482f-b3a0-14229a280afa  ",
      "text/html": "<div>\n<style scoped>\n    .dataframe tbody tr th:only-of-type {\n        vertical-align: middle;\n    }\n\n    .dataframe tbody tr th {\n        vertical-align: top;\n    }\n\n    .dataframe thead th {\n        text-align: right;\n    }\n</style>\n<table border=\"1\" class=\"dataframe\">\n  <thead>\n    <tr style=\"text-align: right;\">\n      <th></th>\n      <th>_id</th>\n      <th>firstname</th>\n      <th>lastname</th>\n      <th>age</th>\n      <th>email</th>\n      <th>interests</th>\n      <th>address_id</th>\n      <th>workplace_id</th>\n    </tr>\n  </thead>\n  <tbody>\n    <tr>\n      <th>0</th>\n      <td>9f39da36-82cc-4353-ab90-d616105fa7c1</td>\n      <td>Emilie</td>\n      <td>Woods</td>\n      <td>40</td>\n      <td>ih@ri.ro</td>\n      <td>Cooking</td>\n      <td>b6c0b50a-d0e3-43bf-a2a4-8d4674c2a7e8</td>\n      <td>a32bf18d-e0e5-48f2-a851-aa49c80f9460</td>\n    </tr>\n    <tr>\n      <th>1</th>\n      <td>af27265e-6639-49f2-991e-193275a4111a</td>\n      <td>Thomas</td>\n      <td>Patterson</td>\n      <td>18</td>\n      <td>sug@gon.bf</td>\n      <td>Cooking</td>\n      <td>64fd714d-e219-4e45-888b-cc2238a8bd0b</td>\n      <td>5345fcb9-6297-4b9f-aa15-cbee8460f28f</td>\n    </tr>\n    <tr>\n      <th>2</th>\n      <td>00289d48-bad8-4b73-a359-a1a1f05c96e2</td>\n      <td>Sophia</td>\n      <td>Flores</td>\n      <td>22</td>\n      <td>ra@dupnejuk.nr</td>\n      <td>Cooking</td>\n      <td>8a430805-00b8-40a6-bd93-c950b544a83b</td>\n      <td>b12cd444-e65b-4bc2-8cf6-2dbe854a627b</td>\n    </tr>\n    <tr>\n      <th>3</th>\n      <td>da76e52b-b3db-4fc0-b0d6-435d1aed0cd9</td>\n      <td>Ollie</td>\n      <td>Barnett</td>\n      <td>25</td>\n      <td>ro@nemaw.et</td>\n      <td>Cooking</td>\n      <td>5d3eacc4-d1d8-459b-973c-3bc71feacf50</td>\n      <td>cb795afb-8dc3-482f-b3a0-14229a280afa</td>\n    </tr>\n    <tr>\n      <th>4</th>\n      <td>51643cd6-49bb-45d5-bd6e-717c62bb2869</td>\n      <td>James</td>\n      <td>Wilkins</td>\n      <td>27</td>\n      <td>hutfardu@vicbiri.gb</td>\n      <td>Cooking</td>\n      <td>3f10d9f7-57ef-40e1-a97d-d2ee53aa2c6e</td>\n      <td>cb795afb-8dc3-482f-b3a0-14229a280afa</td>\n    </tr>\n    <tr>\n      <th>5</th>\n      <td>f073a705-6546-4375-adb5-b224871776ef</td>\n      <td>Aaron</td>\n      <td>Carr</td>\n      <td>25</td>\n      <td>fekegim@lucul.tp</td>\n      <td>Cooking</td>\n      <td>f4e59d7e-ea40-442d-87be-106e3c46a554</td>\n      <td>b2a2844d-aeab-4602-b74c-01bf3b8e9c78</td>\n    </tr>\n    <tr>\n      <th>6</th>\n      <td>457ef68c-9651-4925-bca0-15e246661d19</td>\n      <td>Alta</td>\n      <td>Sharp</td>\n      <td>34</td>\n      <td>jus@goal.bn</td>\n      <td>Cooking</td>\n      <td>5e97658e-5809-41b8-a088-eddbd81f86a7</td>\n      <td>b2a2844d-aeab-4602-b74c-01bf3b8e9c78</td>\n    </tr>\n    <tr>\n      <th>7</th>\n      <td>840184a3-4c4d-4b15-8813-30fca6e7827b</td>\n      <td>Delia</td>\n      <td>Douglas</td>\n      <td>36</td>\n      <td>me@wak.ne</td>\n      <td>Cooking</td>\n      <td>456e18ae-c2f8-443e-899d-f2b893499695</td>\n      <td>b2a2844d-aeab-4602-b74c-01bf3b8e9c78</td>\n    </tr>\n    <tr>\n      <th>8</th>\n      <td>6157dc3b-ee2d-463a-b62b-1cd4eed7d575</td>\n      <td>Dominic</td>\n      <td>Wade</td>\n      <td>48</td>\n      <td>co@pog.nz</td>\n      <td>Cooking</td>\n      <td>8d162eb9-eefc-4b7e-bcad-6fb7a02b15b0</td>\n      <td>cb795afb-8dc3-482f-b3a0-14229a280afa</td>\n    </tr>\n    <tr>\n      <th>9</th>\n      <td>cc3e389d-be0d-467a-ba70-7c84f6504911</td>\n      <td>Myrtle</td>\n      <td>Little</td>\n      <td>36</td>\n      <td>saj@far.zm</td>\n      <td>Cooking</td>\n      <td>0d3a90d5-11bd-4f96-91ba-7e7ef80888f0</td>\n      <td>2b87eb84-e5b4-4f2c-9e13-dc3ba20a7f7f</td>\n    </tr>\n    <tr>\n      <th>10</th>\n      <td>c2bf0e3f-e3de-41de-b745-c5b70571dd3a</td>\n      <td>Jordan</td>\n      <td>Roberson</td>\n      <td>29</td>\n      <td>co@mahdo.ca</td>\n      <td>Cooking</td>\n      <td>7edd78a4-c4e6-484a-bf2f-ecad5c4c506b</td>\n      <td>cb795afb-8dc3-482f-b3a0-14229a280afa</td>\n    </tr>\n    <tr>\n      <th>11</th>\n      <td>4bc070ca-f849-4eeb-8ab2-98fe3c0861c0</td>\n      <td>Francis</td>\n      <td>Harris</td>\n      <td>38</td>\n      <td>pa@sodej.ck</td>\n      <td>Cooking</td>\n      <td>fc607f68-81c8-4ca8-8a9e-30239ccae40f</td>\n      <td>2b87eb84-e5b4-4f2c-9e13-dc3ba20a7f7f</td>\n    </tr>\n    <tr>\n      <th>12</th>\n      <td>66894dba-4ff0-4545-b7cc-eb6a5bd551c5</td>\n      <td>Clara</td>\n      <td>Butler</td>\n      <td>49</td>\n      <td>do@womjip.by</td>\n      <td>Cooking</td>\n      <td>4dcebe6e-0787-4158-9744-3d721098cec4</td>\n      <td>50275ad1-8140-4e79-8818-21793e3eb0a3</td>\n    </tr>\n    <tr>\n      <th>13</th>\n      <td>581f59a2-ff4c-407e-b58f-e4f292208928</td>\n      <td>Rena</td>\n      <td>Johnson</td>\n      <td>33</td>\n      <td>vasberet@his.nz</td>\n      <td>Cooking</td>\n      <td>1cf24906-c700-41bb-a4c8-bba3c3ae30d9</td>\n      <td>2b87eb84-e5b4-4f2c-9e13-dc3ba20a7f7f</td>\n    </tr>\n    <tr>\n      <th>14</th>\n      <td>b2a2ae86-f4f6-4da5-ade6-ee1cd135daf3</td>\n      <td>Gavin</td>\n      <td>Conner</td>\n      <td>49</td>\n      <td>ah@jopah.uz</td>\n      <td>Cooking</td>\n      <td>ef5a17a2-6f11-49b8-a0fd-e0bddc56f185</td>\n      <td>50275ad1-8140-4e79-8818-21793e3eb0a3</td>\n    </tr>\n    <tr>\n      <th>15</th>\n      <td>2bfc0479-cb15-46e1-94fa-801404791b21</td>\n      <td>Peter</td>\n      <td>Jimenez</td>\n      <td>37</td>\n      <td>usope@tega.bh</td>\n      <td>Cooking</td>\n      <td>77ce0c50-afd6-47e8-86d7-b1b372e8deb2</td>\n      <td>cb795afb-8dc3-482f-b3a0-14229a280afa</td>\n    </tr>\n  </tbody>\n</table>\n</div>"
     },
     "execution_count": 13,
     "metadata": {},
     "output_type": "execute_result"
    }
   ],
   "source": [
    "# In the second option, first I match with age, then unwind by interest and finally match by interest.\n",
    "pipeline = [\n",
    "    {\"$match\": {'age': {'$lte': 50}}},\n",
    "    {\"$unwind\": \"$interests\"},\n",
    "    {\"$match\": {'interests': \"Cooking\"}},\n",
    "]\n",
    "cursor = db.employee.aggregate(pipeline)\n",
    "pd.DataFrame(list(cursor))"
   ]
  },
  {
   "cell_type": "markdown",
   "metadata": {
    "colab_type": "text",
    "id": "HcLWsbNmvzvD"
   },
   "source": [
    "#### Question 2  (10 Marks)\n",
    "\n",
    "Insert a new Employee with the following properties:\n",
    "\n",
    "* First Name: Jake \n",
    "* Last Name: Sample\n",
    "* Email: jakesample@email.com\n",
    "* Age: 26\n",
    "* Interest: Biking, Hiking\n",
    "\n",
    "Also, this employee works for 'Union Planters Corp' and lives at '573 Wojhas Square, Victoria'.\n",
    "Verify that the insert succeeded and display the generated employees _id attribute.\n",
    "\n",
    "__HINT__ An Employee document references a Workplace and Address document"
   ]
  },
  {
   "cell_type": "code",
   "execution_count": 17,
   "metadata": {
    "colab": {},
    "colab_type": "code",
    "id": "At7EoGtLvzvE"
   },
   "outputs": [],
   "source": [
    "# Define new element\n",
    "new_employee = {\n",
    "    \"firstname\": \"Jake\",\n",
    "    \"lastname\": \"Sample\",\n",
    "    \"email\": \"jackesample@email.com\",\n",
    "    \"age\": 26,\n",
    "    \"interest\": [\"Biking\", \"Hiking\"],\n",
    "    \"workplace_id\": \"5345fcb9-6297-4b9f-aa15-cbee8460f28f\",\n",
    "    \"address_id\": \"9949fe3b-99ec-4485-b91d-823925db7d28\"\n",
    "}"
   ]
  },
  {
   "cell_type": "code",
   "execution_count": 18,
   "outputs": [],
   "source": [
    "# Inserted element\n",
    "new_element = db.employee.insert_one(new_employee)"
   ],
   "metadata": {
    "collapsed": false,
    "pycharm": {
     "name": "#%%\n"
    }
   }
  },
  {
   "cell_type": "code",
   "execution_count": 21,
   "outputs": [
    {
     "data": {
      "text/plain": "ObjectId('6349aab690ae8e0ded2840a0')"
     },
     "execution_count": 21,
     "metadata": {},
     "output_type": "execute_result"
    }
   ],
   "source": [
    "# Showing Id\n",
    "new_element.inserted_id"
   ],
   "metadata": {
    "collapsed": false,
    "pycharm": {
     "name": "#%%\n"
    }
   }
  },
  {
   "cell_type": "code",
   "execution_count": 23,
   "outputs": [
    {
     "data": {
      "text/plain": "                        _id firstname lastname                  email  age  \\\n0  6349aab690ae8e0ded2840a0      Jake   Sample  jackesample@email.com   26   \n\n           interest                          workplace_id  \\\n0  [Biking, Hiking]  5345fcb9-6297-4b9f-aa15-cbee8460f28f   \n\n                             address_id  \n0  9949fe3b-99ec-4485-b91d-823925db7d28  ",
      "text/html": "<div>\n<style scoped>\n    .dataframe tbody tr th:only-of-type {\n        vertical-align: middle;\n    }\n\n    .dataframe tbody tr th {\n        vertical-align: top;\n    }\n\n    .dataframe thead th {\n        text-align: right;\n    }\n</style>\n<table border=\"1\" class=\"dataframe\">\n  <thead>\n    <tr style=\"text-align: right;\">\n      <th></th>\n      <th>_id</th>\n      <th>firstname</th>\n      <th>lastname</th>\n      <th>email</th>\n      <th>age</th>\n      <th>interest</th>\n      <th>workplace_id</th>\n      <th>address_id</th>\n    </tr>\n  </thead>\n  <tbody>\n    <tr>\n      <th>0</th>\n      <td>6349aab690ae8e0ded2840a0</td>\n      <td>Jake</td>\n      <td>Sample</td>\n      <td>jackesample@email.com</td>\n      <td>26</td>\n      <td>[Biking, Hiking]</td>\n      <td>5345fcb9-6297-4b9f-aa15-cbee8460f28f</td>\n      <td>9949fe3b-99ec-4485-b91d-823925db7d28</td>\n    </tr>\n  </tbody>\n</table>\n</div>"
     },
     "execution_count": 23,
     "metadata": {},
     "output_type": "execute_result"
    }
   ],
   "source": [
    "# Showing whole docuemnt\n",
    "pd.DataFrame(list(db.employee.find({\"_id\": new_element.inserted_id})))"
   ],
   "metadata": {
    "collapsed": false,
    "pycharm": {
     "name": "#%%\n"
    }
   }
  },
  {
   "cell_type": "markdown",
   "metadata": {
    "colab_type": "text",
    "id": "Bq6r7ffrvzvI"
   },
   "source": [
    "#### Question 3 (10 Marks)\n",
    "\n",
    "Delete all employees that work for 'Great Plains Energy Inc.' and are greater than 46 years old and likes 'Tennis'. Once you delete the employees verify the number of employees deleted."
   ]
  },
  {
   "cell_type": "code",
   "execution_count": 26,
   "metadata": {
    "colab": {},
    "colab_type": "code",
    "id": "XtzUs6YDvzvJ"
   },
   "outputs": [
    {
     "data": {
      "text/plain": "101"
     },
     "execution_count": 26,
     "metadata": {},
     "output_type": "execute_result"
    }
   ],
   "source": [
    "# Checking the number of employees first\n",
    "db.employee.estimated_document_count()"
   ]
  },
  {
   "cell_type": "code",
   "execution_count": 39,
   "outputs": [
    {
     "data": {
      "text/plain": "                                    _id firstname lastname  age  \\\n0  153ba346-b33d-4611-802c-fd95c7cb078c  Adelaide    Curry   71   \n1  34521596-d3e4-4b36-a60c-cab5ad425f45    Eugene     Mack   60   \n2  8e082f05-13b7-485d-89c4-259f1103f95c    Lester  Summers   48   \n3  25264147-ba59-4d78-ac7a-d1820b0dff0e     James   Becker   48   \n4  dfce1d98-15f6-4b75-86f6-cd5d05cfdc04     Sadie     Park   80   \n5  86417f71-18cd-41c5-ad01-24b31ff2074f      Lucy      May   65   \n\n                email                                          interests  \\\n0         ov@sutec.mr                                           [Tennis]   \n1       finho@zeuj.dm                 [Swimming, Bowling, Golf, Cricket]   \n2        wi@uvafej.pt                                  [Bowling, Tennis]   \n3  bozzona@vugrewa.ke                           [Hiking, Cricket, Rubgy]   \n4    vukhik@wejoce.nf  [Golf, Fishing, Bowling, Dancing, Cooking, Ten...   \n5       bi@udtaofe.tj                                           [Tennis]   \n\n                             address_id                          workplace_id  \n0  8264af1e-1c55-4ed8-96f9-e3b9e1eff7d5  a32bf18d-e0e5-48f2-a851-aa49c80f9460  \n1  7e73276a-27c8-4602-bc34-a1f44858ecb9  a32bf18d-e0e5-48f2-a851-aa49c80f9460  \n2  62996de2-fcda-4894-95d5-fef0d11d92f4  a32bf18d-e0e5-48f2-a851-aa49c80f9460  \n3  79ad04ba-0967-4a65-986f-cc57ef6c3afd  a32bf18d-e0e5-48f2-a851-aa49c80f9460  \n4  2987cea4-b71d-4338-b0ef-a9b5feb3a138  a32bf18d-e0e5-48f2-a851-aa49c80f9460  \n5  fe80c95a-a0e9-42c9-aa6a-56f27020842d  a32bf18d-e0e5-48f2-a851-aa49c80f9460  ",
      "text/html": "<div>\n<style scoped>\n    .dataframe tbody tr th:only-of-type {\n        vertical-align: middle;\n    }\n\n    .dataframe tbody tr th {\n        vertical-align: top;\n    }\n\n    .dataframe thead th {\n        text-align: right;\n    }\n</style>\n<table border=\"1\" class=\"dataframe\">\n  <thead>\n    <tr style=\"text-align: right;\">\n      <th></th>\n      <th>_id</th>\n      <th>firstname</th>\n      <th>lastname</th>\n      <th>age</th>\n      <th>email</th>\n      <th>interests</th>\n      <th>address_id</th>\n      <th>workplace_id</th>\n    </tr>\n  </thead>\n  <tbody>\n    <tr>\n      <th>0</th>\n      <td>153ba346-b33d-4611-802c-fd95c7cb078c</td>\n      <td>Adelaide</td>\n      <td>Curry</td>\n      <td>71</td>\n      <td>ov@sutec.mr</td>\n      <td>[Tennis]</td>\n      <td>8264af1e-1c55-4ed8-96f9-e3b9e1eff7d5</td>\n      <td>a32bf18d-e0e5-48f2-a851-aa49c80f9460</td>\n    </tr>\n    <tr>\n      <th>1</th>\n      <td>34521596-d3e4-4b36-a60c-cab5ad425f45</td>\n      <td>Eugene</td>\n      <td>Mack</td>\n      <td>60</td>\n      <td>finho@zeuj.dm</td>\n      <td>[Swimming, Bowling, Golf, Cricket]</td>\n      <td>7e73276a-27c8-4602-bc34-a1f44858ecb9</td>\n      <td>a32bf18d-e0e5-48f2-a851-aa49c80f9460</td>\n    </tr>\n    <tr>\n      <th>2</th>\n      <td>8e082f05-13b7-485d-89c4-259f1103f95c</td>\n      <td>Lester</td>\n      <td>Summers</td>\n      <td>48</td>\n      <td>wi@uvafej.pt</td>\n      <td>[Bowling, Tennis]</td>\n      <td>62996de2-fcda-4894-95d5-fef0d11d92f4</td>\n      <td>a32bf18d-e0e5-48f2-a851-aa49c80f9460</td>\n    </tr>\n    <tr>\n      <th>3</th>\n      <td>25264147-ba59-4d78-ac7a-d1820b0dff0e</td>\n      <td>James</td>\n      <td>Becker</td>\n      <td>48</td>\n      <td>bozzona@vugrewa.ke</td>\n      <td>[Hiking, Cricket, Rubgy]</td>\n      <td>79ad04ba-0967-4a65-986f-cc57ef6c3afd</td>\n      <td>a32bf18d-e0e5-48f2-a851-aa49c80f9460</td>\n    </tr>\n    <tr>\n      <th>4</th>\n      <td>dfce1d98-15f6-4b75-86f6-cd5d05cfdc04</td>\n      <td>Sadie</td>\n      <td>Park</td>\n      <td>80</td>\n      <td>vukhik@wejoce.nf</td>\n      <td>[Golf, Fishing, Bowling, Dancing, Cooking, Ten...</td>\n      <td>2987cea4-b71d-4338-b0ef-a9b5feb3a138</td>\n      <td>a32bf18d-e0e5-48f2-a851-aa49c80f9460</td>\n    </tr>\n    <tr>\n      <th>5</th>\n      <td>86417f71-18cd-41c5-ad01-24b31ff2074f</td>\n      <td>Lucy</td>\n      <td>May</td>\n      <td>65</td>\n      <td>bi@udtaofe.tj</td>\n      <td>[Tennis]</td>\n      <td>fe80c95a-a0e9-42c9-aa6a-56f27020842d</td>\n      <td>a32bf18d-e0e5-48f2-a851-aa49c80f9460</td>\n    </tr>\n  </tbody>\n</table>\n</div>"
     },
     "execution_count": 39,
     "metadata": {},
     "output_type": "execute_result"
    }
   ],
   "source": [
    "# Employees to delete\n",
    "cursor = db.employee.find({\"workplace_id\": \"a32bf18d-e0e5-48f2-a851-aa49c80f9460\",\n",
    "                           \"age\": {\"$gte\": 46}\n",
    "                           })\n",
    "pd.DataFrame(list(cursor))"
   ],
   "metadata": {
    "collapsed": false,
    "pycharm": {
     "name": "#%%\n"
    }
   }
  },
  {
   "cell_type": "code",
   "execution_count": 40,
   "outputs": [],
   "source": [
    "# Employees to delete\n",
    "delete_result = db.employee.delete_many({\"workplace_id\": \"a32bf18d-e0e5-48f2-a851-aa49c80f9460\",\n",
    "                           \"age\": {\"$gte\": 46}\n",
    "                           })"
   ],
   "metadata": {
    "collapsed": false,
    "pycharm": {
     "name": "#%%\n"
    }
   }
  },
  {
   "cell_type": "code",
   "execution_count": 41,
   "outputs": [
    {
     "name": "stdout",
     "output_type": "stream",
     "text": [
      "Employees deleted:6\n"
     ]
    }
   ],
   "source": [
    "print(\"Employees deleted:\" + str(delete_result.deleted_count))"
   ],
   "metadata": {
    "collapsed": false,
    "pycharm": {
     "name": "#%%\n"
    }
   }
  },
  {
   "cell_type": "code",
   "execution_count": 42,
   "outputs": [
    {
     "data": {
      "text/plain": "95"
     },
     "execution_count": 42,
     "metadata": {},
     "output_type": "execute_result"
    }
   ],
   "source": [
    "# Checking the number of employees final\n",
    "db.employee.estimated_document_count()"
   ],
   "metadata": {
    "collapsed": false,
    "pycharm": {
     "name": "#%%\n"
    }
   }
  },
  {
   "cell_type": "markdown",
   "metadata": {
    "colab_type": "text",
    "id": "-yi0OsI0vzvQ"
   },
   "source": [
    "#### Question 4 (12 Marks)\n",
    "Add a new field called 'industry' to all employees that work for 'Health Net Inc.' and populate the field with the value 'Health Care'.\n",
    "\n",
    "__HINT__ Adding a new field to a document is like updating the document"
   ]
  },
  {
   "cell_type": "code",
   "execution_count": 50,
   "metadata": {
    "colab": {},
    "colab_type": "code",
    "id": "gWj7cut_vzvR"
   },
   "outputs": [],
   "source": [
    "# YOUR CODE HERE\n",
    "update_result = db.employee.update_many(\n",
    "    {\"workplace_id\": \"a222385c-342c-43ea-adbc-9b487a2ee2be\"},\n",
    "    {\"$set\": {\"industry\": \"Health Care\"}}\n",
    ")"
   ]
  },
  {
   "cell_type": "code",
   "execution_count": 51,
   "outputs": [
    {
     "name": "stdout",
     "output_type": "stream",
     "text": [
      "Update Acknowledged:True\n",
      "Modified Count:14\n"
     ]
    }
   ],
   "source": [
    "print(\"Update Acknowledged:\" + str(update_result.acknowledged))\n",
    "print(\"Modified Count:\" + str(update_result.modified_count))"
   ],
   "metadata": {
    "collapsed": false,
    "pycharm": {
     "name": "#%%\n"
    }
   }
  },
  {
   "cell_type": "markdown",
   "metadata": {
    "colab_type": "text",
    "id": "AlvB2ficvzvW"
   },
   "source": [
    "#### Question 5 (10 Marks)\n",
    "\n",
    "Create an aggregate query to count the number of employees for each company and sort the output from largest employee count to lowest employee count.\n",
    "\n",
    "__NOTE__ you will use a pipeline to achieve the computed result.  You should produce a result similar to the following table (the following table contains fake data)\n",
    "<table>\n",
    "    <tr><th></th><th>_id</th><th>count</th></tr>\n",
    "    <tr><td>0</td><td>[Equity Residential Properties Trust]</td><td>19</td></tr>\n",
    "    <tr><td>...</td><td>...</td><td>...</td></tr>\n",
    "    <tr><td>7</td><td>[Bell Microproducts Inc.]</td><td>6</td></tr>\n",
    "    <tr><td>8</td><td>[Kemet Corp.]</td><td>1</td></tr>\n",
    "</table>\n",
    "\n",
    "__HINT__ you should make use of the \\\\$lookup, \\\\$group and \\\\$sort pipeline operations"
   ]
  },
  {
   "cell_type": "code",
   "execution_count": 61,
   "outputs": [
    {
     "data": {
      "text/plain": "                                    _id  count\n0  cb795afb-8dc3-482f-b3a0-14229a280afa     15\n1  a222385c-342c-43ea-adbc-9b487a2ee2be     14\n2  2b87eb84-e5b4-4f2c-9e13-dc3ba20a7f7f     13\n3  b2a2844d-aeab-4602-b74c-01bf3b8e9c78     11\n4  023acbac-b32a-477f-a65a-db11bd7d40f3     10\n5  5345fcb9-6297-4b9f-aa15-cbee8460f28f     10\n6  b12cd444-e65b-4bc2-8cf6-2dbe854a627b      7\n7  50275ad1-8140-4e79-8818-21793e3eb0a3      6\n8  b2903a4b-5688-4597-90ed-0f06d944bb6d      6\n9  a32bf18d-e0e5-48f2-a851-aa49c80f9460      3",
      "text/html": "<div>\n<style scoped>\n    .dataframe tbody tr th:only-of-type {\n        vertical-align: middle;\n    }\n\n    .dataframe tbody tr th {\n        vertical-align: top;\n    }\n\n    .dataframe thead th {\n        text-align: right;\n    }\n</style>\n<table border=\"1\" class=\"dataframe\">\n  <thead>\n    <tr style=\"text-align: right;\">\n      <th></th>\n      <th>_id</th>\n      <th>count</th>\n    </tr>\n  </thead>\n  <tbody>\n    <tr>\n      <th>0</th>\n      <td>cb795afb-8dc3-482f-b3a0-14229a280afa</td>\n      <td>15</td>\n    </tr>\n    <tr>\n      <th>1</th>\n      <td>a222385c-342c-43ea-adbc-9b487a2ee2be</td>\n      <td>14</td>\n    </tr>\n    <tr>\n      <th>2</th>\n      <td>2b87eb84-e5b4-4f2c-9e13-dc3ba20a7f7f</td>\n      <td>13</td>\n    </tr>\n    <tr>\n      <th>3</th>\n      <td>b2a2844d-aeab-4602-b74c-01bf3b8e9c78</td>\n      <td>11</td>\n    </tr>\n    <tr>\n      <th>4</th>\n      <td>023acbac-b32a-477f-a65a-db11bd7d40f3</td>\n      <td>10</td>\n    </tr>\n    <tr>\n      <th>5</th>\n      <td>5345fcb9-6297-4b9f-aa15-cbee8460f28f</td>\n      <td>10</td>\n    </tr>\n    <tr>\n      <th>6</th>\n      <td>b12cd444-e65b-4bc2-8cf6-2dbe854a627b</td>\n      <td>7</td>\n    </tr>\n    <tr>\n      <th>7</th>\n      <td>50275ad1-8140-4e79-8818-21793e3eb0a3</td>\n      <td>6</td>\n    </tr>\n    <tr>\n      <th>8</th>\n      <td>b2903a4b-5688-4597-90ed-0f06d944bb6d</td>\n      <td>6</td>\n    </tr>\n    <tr>\n      <th>9</th>\n      <td>a32bf18d-e0e5-48f2-a851-aa49c80f9460</td>\n      <td>3</td>\n    </tr>\n  </tbody>\n</table>\n</div>"
     },
     "execution_count": 61,
     "metadata": {},
     "output_type": "execute_result"
    }
   ],
   "source": [
    "# In the second option, first I match with age, then unwind by interest and finally match by interest.\n",
    "pipeline = [\n",
    "    {\"$unwind\": \"$workplace_id\"},\n",
    "    {\"$group\": {\"_id\": \"$workplace_id\", \"count\": {\"$sum\": 1}}},\n",
    "    {\"$sort\": {\"count\": -1}}\n",
    "]\n",
    "cursor = db.employee.aggregate(pipeline)\n",
    "pd.DataFrame(list(cursor))"
   ],
   "metadata": {
    "collapsed": false,
    "pycharm": {
     "name": "#%%\n"
    }
   }
  },
  {
   "cell_type": "code",
   "execution_count": 0,
   "metadata": {
    "colab": {},
    "colab_type": "code",
    "id": "ajgvx8V5vzvW"
   },
   "outputs": [],
   "source": [
    "# YOUR CODE HERE\n",
    "\n",
    "query_result = # YOUR CODE HERE\n",
    "\n",
    "pd.DataFrame(list(query_result))"
   ]
  }
 ],
 "metadata": {
  "colab": {
   "collapsed_sections": [],
   "name": "Assignment_1.ipynb",
   "provenance": [],
   "version": "0.3.2"
  },
  "kernelspec": {
   "display_name": "Python 3",
   "language": "python",
   "name": "python3"
  },
  "language_info": {
   "codemirror_mode": {
    "name": "ipython",
    "version": 3
   },
   "file_extension": ".py",
   "mimetype": "text/x-python",
   "name": "python",
   "nbconvert_exporter": "python",
   "pygments_lexer": "ipython3",
   "version": "3.8.10"
  }
 },
 "nbformat": 4,
 "nbformat_minor": 1
}