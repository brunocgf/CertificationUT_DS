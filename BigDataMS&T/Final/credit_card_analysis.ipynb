{
 "cells": [
  {
   "cell_type": "code",
   "execution_count": 2,
   "outputs": [
    {
     "name": "stdout",
     "output_type": "stream",
     "text": [
      "Please provide your Kaggle credentials to download this dataset. Learn more: http://bit.ly/kaggle-creds\n",
      "Your Kaggle username:Your Kaggle Key:Downloading creditcardfraud.zip to ./creditcardfraud\n"
     ]
    },
    {
     "name": "stderr",
     "output_type": "stream",
     "text": [
      "100%|██████████| 66.0M/66.0M [00:02<00:00, 34.1MB/s]\n"
     ]
    },
    {
     "name": "stdout",
     "output_type": "stream",
     "text": [
      "\n"
     ]
    }
   ],
   "source": [
    "# import opendatasets as od\n",
    "# od.download(\"https://www.kaggle.com/datasets/mlg-ulb/creditcardfraud/download?datasetVersionNumber=3\")\n",
    "# ## Username: brvnocgf\n",
    "# ## Password: acfc3a5fef0431af9200fa9335f9bbc6"
   ],
   "metadata": {
    "collapsed": false,
    "pycharm": {
     "name": "#%%\n"
    }
   }
  },
  {
   "cell_type": "code",
   "execution_count": 1,
   "outputs": [],
   "source": [
    "from pyspark.sql import SparkSession\n",
    "from pyspark.sql.functions import isnan, when, count, col\n",
    "from pyspark.ml.feature import VectorAssembler"
   ],
   "metadata": {
    "collapsed": false,
    "pycharm": {
     "name": "#%%\n"
    }
   }
  },
  {
   "cell_type": "code",
   "execution_count": 2,
   "outputs": [
    {
     "name": "stdout",
     "output_type": "stream",
     "text": [
      "22/11/21 14:44:23 WARN Utils: Your hostname, bruno-cpu resolves to a loopback address: 127.0.1.1; using 10.0.0.227 instead (on interface wlp2s0)\n",
      "22/11/21 14:44:23 WARN Utils: Set SPARK_LOCAL_IP if you need to bind to another address\n"
     ]
    },
    {
     "name": "stderr",
     "output_type": "stream",
     "text": [
      "Setting default log level to \"WARN\".\n",
      "To adjust logging level use sc.setLogLevel(newLevel). For SparkR, use setLogLevel(newLevel).\n"
     ]
    },
    {
     "name": "stdout",
     "output_type": "stream",
     "text": [
      "22/11/21 14:44:26 WARN NativeCodeLoader: Unable to load native-hadoop library for your platform... using builtin-java classes where applicable\n"
     ]
    }
   ],
   "source": [
    "spark = SparkSession.builder.appName('credit_card').getOrCreate()"
   ],
   "metadata": {
    "collapsed": false,
    "pycharm": {
     "name": "#%%\n"
    }
   }
  },
  {
   "cell_type": "code",
   "execution_count": 3,
   "outputs": [
    {
     "name": "stderr",
     "output_type": "stream",
     "text": [
      "                                                                                \r"
     ]
    }
   ],
   "source": [
    "df = spark.read\\\n",
    "    .option(\"header\", \"true\")\\\n",
    "    .option(\"inferSchema\", \"true\")\\\n",
    "    .csv(\"./creditcardfraud/creditcard.csv\")"
   ],
   "metadata": {
    "collapsed": false,
    "pycharm": {
     "name": "#%%\n"
    }
   }
  },
  {
   "cell_type": "code",
   "execution_count": 20,
   "outputs": [
    {
     "name": "stdout",
     "output_type": "stream",
     "text": [
      "root\n",
      " |-- Time: double (nullable = true)\n",
      " |-- V1: double (nullable = true)\n",
      " |-- V2: double (nullable = true)\n",
      " |-- V3: double (nullable = true)\n",
      " |-- V4: double (nullable = true)\n",
      " |-- V5: double (nullable = true)\n",
      " |-- V6: double (nullable = true)\n",
      " |-- V7: double (nullable = true)\n",
      " |-- V8: double (nullable = true)\n",
      " |-- V9: double (nullable = true)\n",
      " |-- V10: double (nullable = true)\n",
      " |-- V11: double (nullable = true)\n",
      " |-- V12: double (nullable = true)\n",
      " |-- V13: double (nullable = true)\n",
      " |-- V14: double (nullable = true)\n",
      " |-- V15: double (nullable = true)\n",
      " |-- V16: double (nullable = true)\n",
      " |-- V17: double (nullable = true)\n",
      " |-- V18: double (nullable = true)\n",
      " |-- V19: double (nullable = true)\n",
      " |-- V20: double (nullable = true)\n",
      " |-- V21: double (nullable = true)\n",
      " |-- V22: double (nullable = true)\n",
      " |-- V23: double (nullable = true)\n",
      " |-- V24: double (nullable = true)\n",
      " |-- V25: double (nullable = true)\n",
      " |-- V26: double (nullable = true)\n",
      " |-- V27: double (nullable = true)\n",
      " |-- V28: double (nullable = true)\n",
      " |-- Amount: double (nullable = true)\n",
      " |-- Class: integer (nullable = true)\n",
      "\n"
     ]
    }
   ],
   "source": [
    "df.printSchema()"
   ],
   "metadata": {
    "collapsed": false,
    "pycharm": {
     "name": "#%%\n"
    }
   }
  },
  {
   "cell_type": "code",
   "execution_count": 15,
   "outputs": [
    {
     "name": "stderr",
     "output_type": "stream",
     "text": [
      "                                                                                \r"
     ]
    },
    {
     "data": {
      "text/plain": "          Time                  V1                   V2                 V3  \\\n0            0    -1.3598071336738  -0.0727811733098497   2.53634673796914   \n1            0    1.19185711131486     0.26615071205963   0.16648011335321   \n2            1   -1.35835406159823    -1.34016307473609   1.77320934263119   \n3            1  -0.966271711572087   -0.185226008082898   1.79299333957872   \n4            2   -1.15823309349523    0.877736754848451     1.548717846511   \n...        ...                 ...                  ...                ...   \n284802  172786   -11.8811178854323     10.0717849710003  -9.83478345739033   \n284803  172787  -0.732788670658956  -0.0550804899173326   2.03502974528243   \n284804  172788    1.91956500980048   -0.301253845990644  -3.24963981406834   \n284805  172788  -0.240440049680947    0.530482513118839  0.702510230095103   \n284806  172792   -0.53341252200504   -0.189733337002305  0.703337366963779   \n\n                        V4                   V5                   V6  \\\n0         1.37815522427443   -0.338320769942518    0.462387777762292   \n1        0.448154078460911   0.0600176492822243  -0.0823608088155687   \n2        0.379779593034328   -0.503198133318193     1.80049938079263   \n3       -0.863291275036453  -0.0103088796030823     1.24720316752486   \n4        0.403033933955121   -0.407193377311653   0.0959214624684256   \n...                    ...                  ...                  ...   \n284802   -2.06665568459413    -5.36447278097585     -2.6068373309456   \n284803   -0.73858858438744    0.868229398914682     1.05841527222565   \n284804   -0.55782812475002     2.63051512011547     3.03126009781428   \n284805   0.689799168040973   -0.377961134444982     0.62370772214768   \n284806  -0.506271240328258  -0.0125456787599659   -0.649616685713792   \n\n                         V7                  V8                  V9  ...  \\\n0         0.239598554061257  0.0986979012610507   0.363786969611213  ...   \n1       -0.0788029833323113  0.0851016549148104  -0.255425128109186  ...   \n2         0.791460956450422   0.247675786588991   -1.51465432260583  ...   \n3          0.23760893977178   0.377435874652262   -1.38702406270197  ...   \n4         0.592940745385545  -0.270532677192282   0.817739308235294  ...   \n...                     ...                 ...                 ...  ...   \n284802    -4.91821543115252      7.305334020798     1.9144282734458  ...   \n284803   0.0243296959175797   0.294868698501783   0.584800017281683  ...   \n284804   -0.296826527116156   0.708417184967134   0.432454047632915  ...   \n284805    -0.68617998628885   0.679145459790659   0.392086712465972  ...   \n284806     1.57700625437629  -0.414650407552662   0.486179505267237  ...   \n\n                         V21                  V22                  V23  \\\n0         -0.018306777944153    0.277837575558899   -0.110473910188767   \n1         -0.225775248033138   -0.638671952771851    0.101288021253234   \n2          0.247998153469754    0.771679401917229    0.909412262347719   \n3         -0.108300452035545  0.00527359678253453   -0.190320518742841   \n4       -0.00943069713232919     0.79827849458971   -0.137458079619063   \n...                      ...                  ...                  ...   \n284802     0.213454108437359    0.111863735978609     1.01447989719391   \n284803     0.214205341747019    0.924383584903381   0.0124630383316793   \n284804     0.232045035925397     0.57822900992263  -0.0375008550221367   \n284805     0.265244916386865    0.800048741498139   -0.163297944406659   \n284806     0.261057330790975    0.643078437820093    0.376777014169917   \n\n                        V24                 V25                  V26  \\\n0        0.0669280749146731   0.128539358273528   -0.189114843888824   \n1        -0.339846475529127   0.167170404418143    0.125894532368176   \n2        -0.689280956490685  -0.327641833735251   -0.139096571514147   \n3         -1.17557533186321   0.647376034602038   -0.221928844458407   \n4         0.141266983824769  -0.206009587619756    0.502292224181569   \n...                     ...                 ...                  ...   \n284802   -0.509348453168509     1.4368069070214    0.250034279569581   \n284803    -1.01622566867336  -0.606623985854728   -0.395255065710324   \n284804    0.640133881346421   0.265745453243744  -0.0873705959041059   \n284805    0.123205243742508  -0.569158864158597    0.546668462188323   \n284806  0.00879737940024202  -0.473648703898825   -0.818267121041176   \n\n                         V27                  V28  Amount Class  \n0          0.133558376740387  -0.0210530534538215  149.62     0  \n1       -0.00898309914322813   0.0147241691924927    2.69     0  \n2        -0.0553527940384261  -0.0597518405929204  378.66     0  \n3         0.0627228487293033   0.0614576285006353   123.5     0  \n4          0.219422229513348    0.215153147499206   69.99     0  \n...                      ...                  ...     ...   ...  \n284802     0.943651171507532    0.823730961486502    0.77     0  \n284803    0.0684724700405593  -0.0535273892010011   24.79     0  \n284804   0.00445477213829229  -0.0265608285615222   67.88     0  \n284805     0.108820734744839    0.104532821478796      10     0  \n284806  -0.00241530880001015   0.0136489143320671     217     0  \n\n[284807 rows x 31 columns]",
      "text/html": "<div>\n<style scoped>\n    .dataframe tbody tr th:only-of-type {\n        vertical-align: middle;\n    }\n\n    .dataframe tbody tr th {\n        vertical-align: top;\n    }\n\n    .dataframe thead th {\n        text-align: right;\n    }\n</style>\n<table border=\"1\" class=\"dataframe\">\n  <thead>\n    <tr style=\"text-align: right;\">\n      <th></th>\n      <th>Time</th>\n      <th>V1</th>\n      <th>V2</th>\n      <th>V3</th>\n      <th>V4</th>\n      <th>V5</th>\n      <th>V6</th>\n      <th>V7</th>\n      <th>V8</th>\n      <th>V9</th>\n      <th>...</th>\n      <th>V21</th>\n      <th>V22</th>\n      <th>V23</th>\n      <th>V24</th>\n      <th>V25</th>\n      <th>V26</th>\n      <th>V27</th>\n      <th>V28</th>\n      <th>Amount</th>\n      <th>Class</th>\n    </tr>\n  </thead>\n  <tbody>\n    <tr>\n      <th>0</th>\n      <td>0</td>\n      <td>-1.3598071336738</td>\n      <td>-0.0727811733098497</td>\n      <td>2.53634673796914</td>\n      <td>1.37815522427443</td>\n      <td>-0.338320769942518</td>\n      <td>0.462387777762292</td>\n      <td>0.239598554061257</td>\n      <td>0.0986979012610507</td>\n      <td>0.363786969611213</td>\n      <td>...</td>\n      <td>-0.018306777944153</td>\n      <td>0.277837575558899</td>\n      <td>-0.110473910188767</td>\n      <td>0.0669280749146731</td>\n      <td>0.128539358273528</td>\n      <td>-0.189114843888824</td>\n      <td>0.133558376740387</td>\n      <td>-0.0210530534538215</td>\n      <td>149.62</td>\n      <td>0</td>\n    </tr>\n    <tr>\n      <th>1</th>\n      <td>0</td>\n      <td>1.19185711131486</td>\n      <td>0.26615071205963</td>\n      <td>0.16648011335321</td>\n      <td>0.448154078460911</td>\n      <td>0.0600176492822243</td>\n      <td>-0.0823608088155687</td>\n      <td>-0.0788029833323113</td>\n      <td>0.0851016549148104</td>\n      <td>-0.255425128109186</td>\n      <td>...</td>\n      <td>-0.225775248033138</td>\n      <td>-0.638671952771851</td>\n      <td>0.101288021253234</td>\n      <td>-0.339846475529127</td>\n      <td>0.167170404418143</td>\n      <td>0.125894532368176</td>\n      <td>-0.00898309914322813</td>\n      <td>0.0147241691924927</td>\n      <td>2.69</td>\n      <td>0</td>\n    </tr>\n    <tr>\n      <th>2</th>\n      <td>1</td>\n      <td>-1.35835406159823</td>\n      <td>-1.34016307473609</td>\n      <td>1.77320934263119</td>\n      <td>0.379779593034328</td>\n      <td>-0.503198133318193</td>\n      <td>1.80049938079263</td>\n      <td>0.791460956450422</td>\n      <td>0.247675786588991</td>\n      <td>-1.51465432260583</td>\n      <td>...</td>\n      <td>0.247998153469754</td>\n      <td>0.771679401917229</td>\n      <td>0.909412262347719</td>\n      <td>-0.689280956490685</td>\n      <td>-0.327641833735251</td>\n      <td>-0.139096571514147</td>\n      <td>-0.0553527940384261</td>\n      <td>-0.0597518405929204</td>\n      <td>378.66</td>\n      <td>0</td>\n    </tr>\n    <tr>\n      <th>3</th>\n      <td>1</td>\n      <td>-0.966271711572087</td>\n      <td>-0.185226008082898</td>\n      <td>1.79299333957872</td>\n      <td>-0.863291275036453</td>\n      <td>-0.0103088796030823</td>\n      <td>1.24720316752486</td>\n      <td>0.23760893977178</td>\n      <td>0.377435874652262</td>\n      <td>-1.38702406270197</td>\n      <td>...</td>\n      <td>-0.108300452035545</td>\n      <td>0.00527359678253453</td>\n      <td>-0.190320518742841</td>\n      <td>-1.17557533186321</td>\n      <td>0.647376034602038</td>\n      <td>-0.221928844458407</td>\n      <td>0.0627228487293033</td>\n      <td>0.0614576285006353</td>\n      <td>123.5</td>\n      <td>0</td>\n    </tr>\n    <tr>\n      <th>4</th>\n      <td>2</td>\n      <td>-1.15823309349523</td>\n      <td>0.877736754848451</td>\n      <td>1.548717846511</td>\n      <td>0.403033933955121</td>\n      <td>-0.407193377311653</td>\n      <td>0.0959214624684256</td>\n      <td>0.592940745385545</td>\n      <td>-0.270532677192282</td>\n      <td>0.817739308235294</td>\n      <td>...</td>\n      <td>-0.00943069713232919</td>\n      <td>0.79827849458971</td>\n      <td>-0.137458079619063</td>\n      <td>0.141266983824769</td>\n      <td>-0.206009587619756</td>\n      <td>0.502292224181569</td>\n      <td>0.219422229513348</td>\n      <td>0.215153147499206</td>\n      <td>69.99</td>\n      <td>0</td>\n    </tr>\n    <tr>\n      <th>...</th>\n      <td>...</td>\n      <td>...</td>\n      <td>...</td>\n      <td>...</td>\n      <td>...</td>\n      <td>...</td>\n      <td>...</td>\n      <td>...</td>\n      <td>...</td>\n      <td>...</td>\n      <td>...</td>\n      <td>...</td>\n      <td>...</td>\n      <td>...</td>\n      <td>...</td>\n      <td>...</td>\n      <td>...</td>\n      <td>...</td>\n      <td>...</td>\n      <td>...</td>\n      <td>...</td>\n    </tr>\n    <tr>\n      <th>284802</th>\n      <td>172786</td>\n      <td>-11.8811178854323</td>\n      <td>10.0717849710003</td>\n      <td>-9.83478345739033</td>\n      <td>-2.06665568459413</td>\n      <td>-5.36447278097585</td>\n      <td>-2.6068373309456</td>\n      <td>-4.91821543115252</td>\n      <td>7.305334020798</td>\n      <td>1.9144282734458</td>\n      <td>...</td>\n      <td>0.213454108437359</td>\n      <td>0.111863735978609</td>\n      <td>1.01447989719391</td>\n      <td>-0.509348453168509</td>\n      <td>1.4368069070214</td>\n      <td>0.250034279569581</td>\n      <td>0.943651171507532</td>\n      <td>0.823730961486502</td>\n      <td>0.77</td>\n      <td>0</td>\n    </tr>\n    <tr>\n      <th>284803</th>\n      <td>172787</td>\n      <td>-0.732788670658956</td>\n      <td>-0.0550804899173326</td>\n      <td>2.03502974528243</td>\n      <td>-0.73858858438744</td>\n      <td>0.868229398914682</td>\n      <td>1.05841527222565</td>\n      <td>0.0243296959175797</td>\n      <td>0.294868698501783</td>\n      <td>0.584800017281683</td>\n      <td>...</td>\n      <td>0.214205341747019</td>\n      <td>0.924383584903381</td>\n      <td>0.0124630383316793</td>\n      <td>-1.01622566867336</td>\n      <td>-0.606623985854728</td>\n      <td>-0.395255065710324</td>\n      <td>0.0684724700405593</td>\n      <td>-0.0535273892010011</td>\n      <td>24.79</td>\n      <td>0</td>\n    </tr>\n    <tr>\n      <th>284804</th>\n      <td>172788</td>\n      <td>1.91956500980048</td>\n      <td>-0.301253845990644</td>\n      <td>-3.24963981406834</td>\n      <td>-0.55782812475002</td>\n      <td>2.63051512011547</td>\n      <td>3.03126009781428</td>\n      <td>-0.296826527116156</td>\n      <td>0.708417184967134</td>\n      <td>0.432454047632915</td>\n      <td>...</td>\n      <td>0.232045035925397</td>\n      <td>0.57822900992263</td>\n      <td>-0.0375008550221367</td>\n      <td>0.640133881346421</td>\n      <td>0.265745453243744</td>\n      <td>-0.0873705959041059</td>\n      <td>0.00445477213829229</td>\n      <td>-0.0265608285615222</td>\n      <td>67.88</td>\n      <td>0</td>\n    </tr>\n    <tr>\n      <th>284805</th>\n      <td>172788</td>\n      <td>-0.240440049680947</td>\n      <td>0.530482513118839</td>\n      <td>0.702510230095103</td>\n      <td>0.689799168040973</td>\n      <td>-0.377961134444982</td>\n      <td>0.62370772214768</td>\n      <td>-0.68617998628885</td>\n      <td>0.679145459790659</td>\n      <td>0.392086712465972</td>\n      <td>...</td>\n      <td>0.265244916386865</td>\n      <td>0.800048741498139</td>\n      <td>-0.163297944406659</td>\n      <td>0.123205243742508</td>\n      <td>-0.569158864158597</td>\n      <td>0.546668462188323</td>\n      <td>0.108820734744839</td>\n      <td>0.104532821478796</td>\n      <td>10</td>\n      <td>0</td>\n    </tr>\n    <tr>\n      <th>284806</th>\n      <td>172792</td>\n      <td>-0.53341252200504</td>\n      <td>-0.189733337002305</td>\n      <td>0.703337366963779</td>\n      <td>-0.506271240328258</td>\n      <td>-0.0125456787599659</td>\n      <td>-0.649616685713792</td>\n      <td>1.57700625437629</td>\n      <td>-0.414650407552662</td>\n      <td>0.486179505267237</td>\n      <td>...</td>\n      <td>0.261057330790975</td>\n      <td>0.643078437820093</td>\n      <td>0.376777014169917</td>\n      <td>0.00879737940024202</td>\n      <td>-0.473648703898825</td>\n      <td>-0.818267121041176</td>\n      <td>-0.00241530880001015</td>\n      <td>0.0136489143320671</td>\n      <td>217</td>\n      <td>0</td>\n    </tr>\n  </tbody>\n</table>\n<p>284807 rows × 31 columns</p>\n</div>"
     },
     "execution_count": 15,
     "metadata": {},
     "output_type": "execute_result"
    }
   ],
   "source": [
    "df.toPandas()"
   ],
   "metadata": {
    "collapsed": false,
    "pycharm": {
     "name": "#%%\n"
    }
   }
  },
  {
   "cell_type": "markdown",
   "source": [
    "Checking if there's null values"
   ],
   "metadata": {
    "collapsed": false
   }
  },
  {
   "cell_type": "code",
   "execution_count": 22,
   "outputs": [
    {
     "name": "stderr",
     "output_type": "stream",
     "text": [
      "[Stage 17:=============================>                            (2 + 2) / 4]\r"
     ]
    },
    {
     "name": "stdout",
     "output_type": "stream",
     "text": [
      "+----+---+---+---+---+---+---+---+---+---+---+---+---+---+---+---+---+---+---+---+---+---+---+---+---+---+---+---+---+------+-----+\n",
      "|Time| V1| V2| V3| V4| V5| V6| V7| V8| V9|V10|V11|V12|V13|V14|V15|V16|V17|V18|V19|V20|V21|V22|V23|V24|V25|V26|V27|V28|Amount|Class|\n",
      "+----+---+---+---+---+---+---+---+---+---+---+---+---+---+---+---+---+---+---+---+---+---+---+---+---+---+---+---+---+------+-----+\n",
      "|   0|  0|  0|  0|  0|  0|  0|  0|  0|  0|  0|  0|  0|  0|  0|  0|  0|  0|  0|  0|  0|  0|  0|  0|  0|  0|  0|  0|  0|     0|    0|\n",
      "+----+---+---+---+---+---+---+---+---+---+---+---+---+---+---+---+---+---+---+---+---+---+---+---+---+---+---+---+---+------+-----+\n",
      "\n"
     ]
    },
    {
     "name": "stderr",
     "output_type": "stream",
     "text": [
      "                                                                                \r"
     ]
    }
   ],
   "source": [
    "df.select([count(when(isnan(c), c)).alias(c) for c in df.columns]).show()"
   ],
   "metadata": {
    "collapsed": false,
    "pycharm": {
     "name": "#%%\n"
    }
   }
  },
  {
   "cell_type": "code",
   "execution_count": 21,
   "outputs": [
    {
     "data": {
      "text/plain": "284807"
     },
     "execution_count": 21,
     "metadata": {},
     "output_type": "execute_result"
    }
   ],
   "source": [
    "df.count()"
   ],
   "metadata": {
    "collapsed": false,
    "pycharm": {
     "name": "#%%\n"
    }
   }
  },
  {
   "cell_type": "code",
   "execution_count": 24,
   "outputs": [
    {
     "name": "stderr",
     "output_type": "stream",
     "text": [
      "                                                                                \r"
     ]
    }
   ],
   "source": [
    "summary = df.describe()"
   ],
   "metadata": {
    "collapsed": false,
    "pycharm": {
     "name": "#%%\n"
    }
   }
  },
  {
   "cell_type": "code",
   "execution_count": 26,
   "outputs": [
    {
     "data": {
      "text/plain": "  summary                Time                     V1                     V2  \\\n0   count              284807                 284807                 284807   \n1    mean   94813.85957508067  2.235360406313924E-15  6.865749819392767E-17   \n2  stddev  47488.145954566324     1.9586958038574904     1.6513085794769997   \n3     min                 0.0       -56.407509631329      -72.7157275629303   \n4     max            172792.0       2.45492999121121       22.0577289904909   \n\n                       V3                      V4                     V5  \\\n0                  284807                  284807                 284807   \n1  -5.824710544452282E-15  2.0118243656825316E-15  3.704311530463074E-15   \n2      1.5162550051777732       1.415868574940927      1.380246734031437   \n3       -48.3255893623954       -5.68317119816995      -113.743306711146   \n4        9.38255843282114        16.8753440335975       34.8016658766686   \n\n                       V6                       V7                    V8  ...  \\\n0                  284807                   284807                284807  ...   \n1  1.1400338072201013E-15  -1.1496139232471609E-16  -2.9538691083434E-16  ...   \n2      1.3322710897575714       1.2370935981826632    1.1943529026692048  ...   \n3       -26.1605059358433        -43.5572415712451     -73.2167184552674  ...   \n4        73.3016255459646         120.589493945238      20.0072083651213  ...   \n\n                      V21                     V22                  V23  \\\n0                  284807                  284807               284807   \n1  2.8500845180502533E-16  -7.664092821647739E-16  2.9538691083434E-16   \n2      0.7345240143713125      0.7257015604409107   0.6244602955949898   \n3       -34.8303821448146        -10.933143697655    -44.8077352037913   \n4        27.2028391573154        10.5030900899454     22.5284116897749   \n\n                      V24                    V25                     V26  \\\n0                  284807                 284807                  284807   \n1  4.4549535383333125E-15  1.034652530922445E-15  1.8082469001075134E-15   \n2      0.6056470678271603     0.5212780705409427     0.48222701326105666   \n3       -2.83662691870341      -10.2953970749851       -2.60455055280817   \n4        4.58454913689817       7.51958867870916         3.5173456116238   \n\n                       V27                      V28             Amount  \\\n0                   284807                   284807             284807   \n1  -3.5236864262028866E-16  -1.1336470632020615E-16   88.3496192509521   \n2       0.4036324949650313      0.33008326416025036  250.1201092401885   \n3        -22.5656793207827        -15.4300839055349                0.0   \n4         31.6121981061363         33.8478078188831           25691.16   \n\n                  Class  \n0                284807  \n1  0.001727485630620034  \n2  0.041527189635464985  \n3                     0  \n4                     1  \n\n[5 rows x 32 columns]",
      "text/html": "<div>\n<style scoped>\n    .dataframe tbody tr th:only-of-type {\n        vertical-align: middle;\n    }\n\n    .dataframe tbody tr th {\n        vertical-align: top;\n    }\n\n    .dataframe thead th {\n        text-align: right;\n    }\n</style>\n<table border=\"1\" class=\"dataframe\">\n  <thead>\n    <tr style=\"text-align: right;\">\n      <th></th>\n      <th>summary</th>\n      <th>Time</th>\n      <th>V1</th>\n      <th>V2</th>\n      <th>V3</th>\n      <th>V4</th>\n      <th>V5</th>\n      <th>V6</th>\n      <th>V7</th>\n      <th>V8</th>\n      <th>...</th>\n      <th>V21</th>\n      <th>V22</th>\n      <th>V23</th>\n      <th>V24</th>\n      <th>V25</th>\n      <th>V26</th>\n      <th>V27</th>\n      <th>V28</th>\n      <th>Amount</th>\n      <th>Class</th>\n    </tr>\n  </thead>\n  <tbody>\n    <tr>\n      <th>0</th>\n      <td>count</td>\n      <td>284807</td>\n      <td>284807</td>\n      <td>284807</td>\n      <td>284807</td>\n      <td>284807</td>\n      <td>284807</td>\n      <td>284807</td>\n      <td>284807</td>\n      <td>284807</td>\n      <td>...</td>\n      <td>284807</td>\n      <td>284807</td>\n      <td>284807</td>\n      <td>284807</td>\n      <td>284807</td>\n      <td>284807</td>\n      <td>284807</td>\n      <td>284807</td>\n      <td>284807</td>\n      <td>284807</td>\n    </tr>\n    <tr>\n      <th>1</th>\n      <td>mean</td>\n      <td>94813.85957508067</td>\n      <td>2.235360406313924E-15</td>\n      <td>6.865749819392767E-17</td>\n      <td>-5.824710544452282E-15</td>\n      <td>2.0118243656825316E-15</td>\n      <td>3.704311530463074E-15</td>\n      <td>1.1400338072201013E-15</td>\n      <td>-1.1496139232471609E-16</td>\n      <td>-2.9538691083434E-16</td>\n      <td>...</td>\n      <td>2.8500845180502533E-16</td>\n      <td>-7.664092821647739E-16</td>\n      <td>2.9538691083434E-16</td>\n      <td>4.4549535383333125E-15</td>\n      <td>1.034652530922445E-15</td>\n      <td>1.8082469001075134E-15</td>\n      <td>-3.5236864262028866E-16</td>\n      <td>-1.1336470632020615E-16</td>\n      <td>88.3496192509521</td>\n      <td>0.001727485630620034</td>\n    </tr>\n    <tr>\n      <th>2</th>\n      <td>stddev</td>\n      <td>47488.145954566324</td>\n      <td>1.9586958038574904</td>\n      <td>1.6513085794769997</td>\n      <td>1.5162550051777732</td>\n      <td>1.415868574940927</td>\n      <td>1.380246734031437</td>\n      <td>1.3322710897575714</td>\n      <td>1.2370935981826632</td>\n      <td>1.1943529026692048</td>\n      <td>...</td>\n      <td>0.7345240143713125</td>\n      <td>0.7257015604409107</td>\n      <td>0.6244602955949898</td>\n      <td>0.6056470678271603</td>\n      <td>0.5212780705409427</td>\n      <td>0.48222701326105666</td>\n      <td>0.4036324949650313</td>\n      <td>0.33008326416025036</td>\n      <td>250.1201092401885</td>\n      <td>0.041527189635464985</td>\n    </tr>\n    <tr>\n      <th>3</th>\n      <td>min</td>\n      <td>0.0</td>\n      <td>-56.407509631329</td>\n      <td>-72.7157275629303</td>\n      <td>-48.3255893623954</td>\n      <td>-5.68317119816995</td>\n      <td>-113.743306711146</td>\n      <td>-26.1605059358433</td>\n      <td>-43.5572415712451</td>\n      <td>-73.2167184552674</td>\n      <td>...</td>\n      <td>-34.8303821448146</td>\n      <td>-10.933143697655</td>\n      <td>-44.8077352037913</td>\n      <td>-2.83662691870341</td>\n      <td>-10.2953970749851</td>\n      <td>-2.60455055280817</td>\n      <td>-22.5656793207827</td>\n      <td>-15.4300839055349</td>\n      <td>0.0</td>\n      <td>0</td>\n    </tr>\n    <tr>\n      <th>4</th>\n      <td>max</td>\n      <td>172792.0</td>\n      <td>2.45492999121121</td>\n      <td>22.0577289904909</td>\n      <td>9.38255843282114</td>\n      <td>16.8753440335975</td>\n      <td>34.8016658766686</td>\n      <td>73.3016255459646</td>\n      <td>120.589493945238</td>\n      <td>20.0072083651213</td>\n      <td>...</td>\n      <td>27.2028391573154</td>\n      <td>10.5030900899454</td>\n      <td>22.5284116897749</td>\n      <td>4.58454913689817</td>\n      <td>7.51958867870916</td>\n      <td>3.5173456116238</td>\n      <td>31.6121981061363</td>\n      <td>33.8478078188831</td>\n      <td>25691.16</td>\n      <td>1</td>\n    </tr>\n  </tbody>\n</table>\n<p>5 rows × 32 columns</p>\n</div>"
     },
     "execution_count": 26,
     "metadata": {},
     "output_type": "execute_result"
    }
   ],
   "source": [
    "summary.toPandas()"
   ],
   "metadata": {
    "collapsed": false,
    "pycharm": {
     "name": "#%%\n"
    }
   }
  },
  {
   "cell_type": "code",
   "execution_count": 32,
   "outputs": [
    {
     "name": "stderr",
     "output_type": "stream",
     "text": [
      "[Stage 41:>                                                         (0 + 4) / 4]\r"
     ]
    },
    {
     "name": "stdout",
     "output_type": "stream",
     "text": [
      "+-----+------+------------------+\n",
      "|Class| count|                 %|\n",
      "+-----+------+------------------+\n",
      "|    1|   492|0.1727485630620034|\n",
      "|    0|284315| 99.82725143693798|\n",
      "+-----+------+------------------+\n",
      "\n"
     ]
    },
    {
     "name": "stderr",
     "output_type": "stream",
     "text": [
      "                                                                                \r"
     ]
    }
   ],
   "source": [
    "df.groupBy(\"Class\").count().withColumn(\"%\", col('count')/df.count()*100).show()"
   ],
   "metadata": {
    "collapsed": false,
    "pycharm": {
     "name": "#%%\n"
    }
   }
  },
  {
   "cell_type": "code",
   "execution_count": 4,
   "outputs": [],
   "source": [
    "target = 'Class'\n",
    "features = [c for c in df.columns if c != target]"
   ],
   "metadata": {
    "collapsed": false,
    "pycharm": {
     "name": "#%%\n"
    }
   }
  },
  {
   "cell_type": "code",
   "execution_count": 5,
   "outputs": [],
   "source": [
    "assembler = VectorAssembler()\\\n",
    ".setInputCols(features)\\\n",
    ".setOutputCol(\"features\")\n",
    "\n",
    "df_prepped = assembler.transform(df)"
   ],
   "metadata": {
    "collapsed": false,
    "pycharm": {
     "name": "#%%\n"
    }
   }
  },
  {
   "cell_type": "markdown",
   "source": [
    "# Train-test split"
   ],
   "metadata": {
    "collapsed": false
   }
  },
  {
   "cell_type": "code",
   "execution_count": 6,
   "outputs": [],
   "source": [
    "train, test = df_prepped.randomSplit([0.7, 0.3])"
   ],
   "metadata": {
    "collapsed": false,
    "pycharm": {
     "name": "#%%\n"
    }
   }
  },
  {
   "cell_type": "code",
   "execution_count": 7,
   "outputs": [],
   "source": [
    "# print(train.count())\n",
    "# print(test.count())"
   ],
   "metadata": {
    "collapsed": false,
    "pycharm": {
     "name": "#%%\n"
    }
   }
  },
  {
   "cell_type": "markdown",
   "source": [
    "# Model"
   ],
   "metadata": {
    "collapsed": false
   }
  },
  {
   "cell_type": "code",
   "execution_count": 29,
   "outputs": [],
   "source": [
    "from pyspark.ml.classification import GBTClassifier\n",
    "from pyspark.mllib.evaluation import BinaryClassificationMetrics"
   ],
   "metadata": {
    "collapsed": false,
    "pycharm": {
     "name": "#%%\n"
    }
   }
  },
  {
   "cell_type": "code",
   "execution_count": 15,
   "outputs": [],
   "source": [
    "gbModel = (GBTClassifier()\n",
    "           .setLabelCol(target)\n",
    "           .setFeaturesCol(\"features\"))"
   ],
   "metadata": {
    "collapsed": false,
    "pycharm": {
     "name": "#%%\n"
    }
   }
  },
  {
   "cell_type": "code",
   "execution_count": 16,
   "outputs": [
    {
     "name": "stderr",
     "output_type": "stream",
     "text": [
      "                                                                                \r"
     ]
    }
   ],
   "source": [
    "gbFitted = gbModel.fit(train)"
   ],
   "metadata": {
    "collapsed": false,
    "pycharm": {
     "name": "#%%\n"
    }
   }
  },
  {
   "cell_type": "code",
   "execution_count": 17,
   "outputs": [],
   "source": [
    "predictions = gbFitted.transform(test)\\\n",
    "    .select(target, \"prediction\")"
   ],
   "metadata": {
    "collapsed": false,
    "pycharm": {
     "name": "#%%\n"
    }
   }
  },
  {
   "cell_type": "code",
   "execution_count": 18,
   "outputs": [
    {
     "name": "stderr",
     "output_type": "stream",
     "text": [
      "[Stage 411:>                                                        (0 + 1) / 1]\r"
     ]
    },
    {
     "name": "stdout",
     "output_type": "stream",
     "text": [
      "+-----+----------+\n",
      "|Class|prediction|\n",
      "+-----+----------+\n",
      "|    0|       0.0|\n",
      "|    0|       0.0|\n",
      "|    0|       0.0|\n",
      "|    0|       0.0|\n",
      "|    0|       0.0|\n",
      "+-----+----------+\n",
      "only showing top 5 rows\n",
      "\n"
     ]
    },
    {
     "name": "stderr",
     "output_type": "stream",
     "text": [
      "                                                                                \r"
     ]
    }
   ],
   "source": [
    "predictions.show(5)"
   ],
   "metadata": {
    "collapsed": false,
    "pycharm": {
     "name": "#%%\n"
    }
   }
  },
  {
   "cell_type": "code",
   "execution_count": 21,
   "outputs": [
    {
     "name": "stderr",
     "output_type": "stream",
     "text": [
      "                                                                                \r"
     ]
    }
   ],
   "source": [
    "pred_summary = predictions.groupBy(['Class', 'prediction']).count().toPandas()"
   ],
   "metadata": {
    "collapsed": false,
    "pycharm": {
     "name": "#%%\n"
    }
   }
  },
  {
   "cell_type": "code",
   "execution_count": 28,
   "outputs": [
    {
     "data": {
      "text/plain": "prediction    0.0  1.0\nClass                 \n0           85255    8\n1              37  105",
      "text/html": "<div>\n<style scoped>\n    .dataframe tbody tr th:only-of-type {\n        vertical-align: middle;\n    }\n\n    .dataframe tbody tr th {\n        vertical-align: top;\n    }\n\n    .dataframe thead th {\n        text-align: right;\n    }\n</style>\n<table border=\"1\" class=\"dataframe\">\n  <thead>\n    <tr style=\"text-align: right;\">\n      <th>prediction</th>\n      <th>0.0</th>\n      <th>1.0</th>\n    </tr>\n    <tr>\n      <th>Class</th>\n      <th></th>\n      <th></th>\n    </tr>\n  </thead>\n  <tbody>\n    <tr>\n      <th>0</th>\n      <td>85255</td>\n      <td>8</td>\n    </tr>\n    <tr>\n      <th>1</th>\n      <td>37</td>\n      <td>105</td>\n    </tr>\n  </tbody>\n</table>\n</div>"
     },
     "execution_count": 28,
     "metadata": {},
     "output_type": "execute_result"
    }
   ],
   "source": [
    "pred_summary.pivot(index = 'Class', columns='prediction', values='count')"
   ],
   "metadata": {
    "collapsed": false,
    "pycharm": {
     "name": "#%%\n"
    }
   }
  },
  {
   "cell_type": "code",
   "execution_count": null,
   "outputs": [],
   "source": [],
   "metadata": {
    "collapsed": false,
    "pycharm": {
     "name": "#%%\n"
    }
   }
  },
  {
   "cell_type": "code",
   "execution_count": 34,
   "outputs": [
    {
     "name": "stderr",
     "output_type": "stream",
     "text": [
      "/home/bruno/miniconda3/envs/aa_pyspark/lib/python3.9/site-packages/pyspark/sql/context.py:157: FutureWarning: Deprecated in 3.0.0. Use SparkSession.builder.getOrCreate() instead.\n",
      "  warnings.warn(\n",
      "                                                                                \r"
     ]
    }
   ],
   "source": [
    "metrics = BinaryClassificationMetrics(predictions.rdd.map(lambda x:  (x[0], x[1])))"
   ],
   "metadata": {
    "collapsed": false,
    "pycharm": {
     "name": "#%%\n"
    }
   }
  },
  {
   "cell_type": "code",
   "execution_count": null,
   "outputs": [],
   "source": [],
   "metadata": {
    "collapsed": false,
    "pycharm": {
     "name": "#%%\n"
    }
   }
  }
 ],
 "metadata": {
  "kernelspec": {
   "display_name": "Python 3",
   "language": "python",
   "name": "python3"
  },
  "language_info": {
   "codemirror_mode": {
    "name": "ipython",
    "version": 2
   },
   "file_extension": ".py",
   "mimetype": "text/x-python",
   "name": "python",
   "nbconvert_exporter": "python",
   "pygments_lexer": "ipython2",
   "version": "2.7.6"
  }
 },
 "nbformat": 4,
 "nbformat_minor": 0
}