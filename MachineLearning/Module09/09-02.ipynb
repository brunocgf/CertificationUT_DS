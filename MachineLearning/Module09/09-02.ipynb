{
 "cells": [
  {
   "cell_type": "markdown",
   "metadata": {
    "colab_type": "text",
    "id": "KJzifVmw3ePP"
   },
   "source": [
    "<font size=\"6\"><b>Module 9 Part 2: Using TensorFlow</b></font>\n"
   ]
  },
  {
   "cell_type": "markdown",
   "metadata": {
    "colab_type": "text",
    "id": "dl7j-21I3ePQ"
   },
   "source": [
    "In this part of the module, we will use the [**TensorFlow**](https://www.tensorflow.org/) library introduced in the previous section to start building and applying learning algorithms. We will go over the corresponding syntax and theory associated to model building in TensorFlow and specifically look at building, executing and visualizing said models."
   ]
  },
  {
   "cell_type": "markdown",
   "metadata": {
    "colab_type": "text",
    "id": "Z90senxh3ePR"
   },
   "source": [
    "<font size=\"6\">Table of Contents</font>\n",
    "\n",
    "- 1 Model Construction\n",
    "    - 1.1 Manually Processing Gradients\n",
    "    - 1.2 Using `tf.autodiff`\n",
    "    - 1.3 Using `tf.train.optimizers`\n",
    "- 2 Model Execution\n",
    "    - 2.1 Batch Gradient Descent\n",
    "    - 2.2 Mini-Batch Gradient Descent\n",
    "    - 2.3 Saving & Restoring Models\n",
    "- 3 Visualizing models with TensorBoard\n",
    "    - 3.1 TensorBoard overview & tf.logging\n",
    "    - 3.2 Accessing TensorBoard\n",
    "    - 3.2 Improving your  TensorBoard output"
   ]
  },
  {
   "cell_type": "markdown",
   "metadata": {
    "colab_type": "text",
    "id": "ATY83JFw3ePS"
   },
   "source": [
    "# Model Development\n",
    "\n",
    "Compared to other machine learning libraries such as `Sci-Kit Learn`, TensorFlow involves quite a few more additional steps when building a model. However, these additional steps can be considered a tradeoff for more refined models (i.e. finer tuned parameters) and optimized performance. Before diving into the actual code, it is good to note that models in TensorFlow are generally split into two parts:\n",
    "\n",
    "1.  **Building a Computation Graph**\n",
    "\n",
    "    The first part involves creating the computation graph associated to the model scheme (refer to the previous section for more details on computation graphs and TensorFlow's architecture). Preparation in this stage includes configuring input variables, defining an appropriate loss function, and optimizing the model (i.e. `training_op`). Because of all the work involved, this stage is widely considered as the **construction phase**.\n",
    "\n",
    "2.  **Executing the Model**\n",
    "\n",
    "    This part involves iterating through the model created in the previous stage for $n$ number of epochs. After each epoch, your loss funciton may increase or decrease dependsing on the complexity of your model and whether or not you are using mini-batch training. That said, if your model is consturcted correctly and you have the right data, the loss should generally be decreasing over several epochs. You may also want to periodically store (or print) the loss values for your training and validation sets to ensure that your loss funciton is indeed decreasing. Finally, you may also wish to save the model at regular intervals, especially if you are training a model for hours (or days) on massive data sets.\n",
    "\n",
    "To help grasp the concepts introduced in this module, we will go about implementing some of the techniques manually (i.e. batch gradient descent) and then using the built-in functionality available in TensorFlow to provide a comparison.\n",
    "\n",
    "**The Dataset:**\n",
    "\n",
    "We will be working with the *MNIST* dataset available in the `sklearn.datasets` package to build our first model. For context, this data is associated with handwritten digits, but this should not be relevant to complete the remainder of this module. Specifically, we will be implementing a multiclass softmax regression model. However, it is worth noting that using TensorFlow for a model this simple would generally be considered excessive; the main reason being the dataset itself is small. Recall that a benefit of TensorFlow is its ability to easily distribute computations to allow for sufficient performance when dealing with convoluted models with large amounts of data. That said, this simple classification model is used to illustrate the workflow for developing, executing and making predictions with TensorFlow.\n",
    "\n",
    "Note that we will also normalize the input vectors (i.e. the data) before feeding it into our model. As you know from previous modules, it is very important to normalize (ie. standardize or scale) your data  prior to feeding it into a machine learning algorithm. This is particularily true for deep learning models, which we discuss in the next module."
   ]
  },
  {
   "cell_type": "code",
   "execution_count": 1,
   "metadata": {
    "colab": {
     "base_uri": "https://localhost:8080/",
     "height": 85
    },
    "colab_type": "code",
    "executionInfo": {
     "elapsed": 1247,
     "status": "ok",
     "timestamp": 1562795674028,
     "user": {
      "displayName": "Michael Ciniello",
      "photoUrl": "https://lh4.googleusercontent.com/-Sc81UFAmWWE/AAAAAAAAAAI/AAAAAAAAInI/ccJjIOAmlUo/s64/photo.jpg",
      "userId": "09099206197539783636"
     },
     "user_tz": 240
    },
    "id": "gAOIDE2O3ePS",
    "outputId": "26a5f48c-42c7-47c8-c613-cef1864ec96e"
   },
   "outputs": [
    {
     "name": "stdout",
     "output_type": "stream",
     "text": [
      "X_train: (1437, 65)\n",
      "X_val: (360, 65)\n",
      "y_train: (1437,)\n",
      "y_val: (360,)\n"
     ]
    }
   ],
   "source": [
    "# Load the data and the scalar\n",
    "import numpy as np\n",
    "from sklearn import datasets\n",
    "from sklearn.preprocessing import StandardScaler\n",
    "from sklearn.model_selection import train_test_split\n",
    "\n",
    "# load the dataset\n",
    "mnist = datasets.load_digits()\n",
    "\n",
    "# Split into the explanatory and response variables\n",
    "X_mnist = mnist[\"data\"]\n",
    "y_mnist = mnist[\"target\"]\n",
    "\n",
    "# Normalize the data\n",
    "scaler = StandardScaler()\n",
    "X_mnist = scaler.fit_transform(X_mnist)\n",
    "\n",
    "# Add bias term as a new column in our X matrix\n",
    "X_mnist = np.c_[np.ones((X_mnist.shape[0],1)), X_mnist]\n",
    "\n",
    "# Train test split\n",
    "X_train, X_val, y_train, y_val = train_test_split(X_mnist, y_mnist, test_size=0.2, shuffle=True)\n",
    "\n",
    "# Print shape of final dataset for sanity purposes\n",
    "print(\"X_train:\", X_train.shape)\n",
    "print(\"X_val:\", X_val.shape)\n",
    "print(\"y_train:\", y_train.shape)\n",
    "print(\"y_val:\", y_val.shape)"
   ]
  },
  {
   "cell_type": "markdown",
   "metadata": {
    "colab_type": "text",
    "id": "K-vlcC1p3ePX"
   },
   "source": [
    "## Manually Processing Gradients\n",
    "\n",
    "As mentioned earlier, we will first manually derive the gradients and place the corresponding formulae into the global graph. In the code segment below, we will be running a multinomial logistic regression model (also known as **softmax regression**) using TensorFlow's built in matrix calculation functionalities. Below is a brief summary of the logic flow for our code.\n",
    "\n",
    "**Step 1: Set the values for hyperparameters**\n",
    "- We need to define some important hyperparameters including the learning rate, $m$ (i.e. the number of observations) and $n$ (i.e. the number of features).\n",
    "    \n",
    "**Step 2: Add placeholder nodes for input**\n",
    "\n",
    "- Next we need to configure placeholder nodes for both the predictor and target variates (i.e. $X$ and $\\vec{y}$). Note that in the `shape` argument, we explicitly used **`None`** to inform TensorFlow that we wish to leave the dimension as ambiguous. Doing so allows us to feed data into our graph with an arbitrary number of observations (i.e. we don't have to worry about adhering to size specifications). This becomes increasingly important when performing mini-bath gradient descent, or when we want to make predictions on new datasets with varying lengths. In this step, we also convert the y values to 'one hot encoding' using `tf.one_hot`\n",
    "    \n",
    "**Step 3: Add variable nodes for weights**\n",
    "\n",
    "- Here we configure variables for the values we wish to train (i.e. our weight parameters) and initialize them (assign initial values) using the `glorot_normal` initializer. We will cover initialization techniques in more detail in module 11, for now all you need to know is that glorot initialization is generally a good default technique for most models. Note that our variable dimensions will be `[n, n_classes]` (i.e. the number of features & the number of classes in the data) as is standard for softmax regression. \n",
    "    \n",
    "**Step 4: Calculate variables and outputs**\n",
    "\n",
    "- Now we will calculate the *logit* values (i.e.the  logarithm of the odds of an event occuring), the softmax output, and the log loss. These will all be done using TensorFlow's available arithmetic operations.\n",
    "    \n",
    "**Step 5: Gardient descent calculations**\n",
    "\n",
    "- Lastly, we will calculate the gradients and update the $W$ node (i.e. the weights vector) using `tf.assign`. Remember that a variable in TensorFlow will persist between runs so long as the session is not closed in between (the values are stored in the **session** and not the graph itself).\n",
    "    \n",
    "We now implement the algorithm presented above as follows:"
   ]
  },
  {
   "cell_type": "code",
   "execution_count": 2,
   "metadata": {
    "colab": {},
    "colab_type": "code",
    "id": "Bf7aCMss3ePY"
   },
   "outputs": [
    {
     "ename": "ImportError",
     "evalue": "cannot import name 'glorot_uniform_initializer' from 'tensorflow' (C:\\Users\\bruno.gonzalez\\Miniconda3\\envs\\tf2\\lib\\site-packages\\tensorflow\\__init__.py)",
     "output_type": "error",
     "traceback": [
      "\u001B[1;31m---------------------------------------------------------------------------\u001B[0m",
      "\u001B[1;31mImportError\u001B[0m                               Traceback (most recent call last)",
      "\u001B[1;32m<ipython-input-2-c762c20bcd3a>\u001B[0m in \u001B[0;36m<module>\u001B[1;34m\u001B[0m\n\u001B[0;32m      1\u001B[0m \u001B[1;32mimport\u001B[0m \u001B[0mtensorflow\u001B[0m \u001B[1;32mas\u001B[0m \u001B[0mtf\u001B[0m\u001B[1;33m\u001B[0m\u001B[1;33m\u001B[0m\u001B[0m\n\u001B[1;32m----> 2\u001B[1;33m \u001B[1;32mfrom\u001B[0m \u001B[0mtensorflow\u001B[0m \u001B[1;32mimport\u001B[0m \u001B[0mglorot_uniform_initializer\u001B[0m\u001B[1;33m\u001B[0m\u001B[1;33m\u001B[0m\u001B[0m\n\u001B[0m\u001B[0;32m      3\u001B[0m \u001B[0mtf\u001B[0m\u001B[1;33m.\u001B[0m\u001B[0mreset_default_graph\u001B[0m\u001B[1;33m(\u001B[0m\u001B[1;33m)\u001B[0m\u001B[1;33m\u001B[0m\u001B[1;33m\u001B[0m\u001B[0m\n\u001B[0;32m      4\u001B[0m \u001B[1;33m\u001B[0m\u001B[0m\n\u001B[0;32m      5\u001B[0m \u001B[1;31m# STEP 1: Set the values for hyperparameters\u001B[0m\u001B[1;33m\u001B[0m\u001B[1;33m\u001B[0m\u001B[1;33m\u001B[0m\u001B[0m\n",
      "\u001B[1;31mImportError\u001B[0m: cannot import name 'glorot_uniform_initializer' from 'tensorflow' (C:\\Users\\bruno.gonzalez\\Miniconda3\\envs\\tf2\\lib\\site-packages\\tensorflow\\__init__.py)"
     ]
    }
   ],
   "source": [
    "import tensorflow as tf\n",
    "from tensorflow import glorot_uniform_initializer\n",
    "tf.reset_default_graph()\n",
    "\n",
    "# STEP 1: Set the values for hyperparameters\n",
    "m, n = X_train.shape \n",
    "# number of classes based on the data\n",
    "n_classes = len(np.unique(y_train))\n",
    "# learning and epsilon will be arbitrary for now\n",
    "learning_rate = 0.01\n",
    "# epsilon is added to loss function\n",
    "epsilon = 1e-7\n",
    "\n",
    "# STEP 2: Add placeholder nodes for inputs\n",
    "X = tf.placeholder(dtype=tf.float32, shape=(None, n))\n",
    "y = tf.placeholder(dtype=tf.int32, shape=(None))\n",
    "# apply one hot encoding to the data\n",
    "y_one_hot = tf.one_hot(y, n_classes)\n",
    "\n",
    "# STEP 3: Add variable nodes for weights\n",
    "# Initial value will be based on random normal distribution\n",
    "W = tf.get_variable(name='weights', shape=(n, n_classes), initializer=glorot_uniform_initializer)\n",
    "\n",
    "# STEP 4: Calculate softmax outputs\n",
    "logits = tf.matmul(X, W)\n",
    "# use tf.reshape to convert to column vector\n",
    "y_proba = tf.exp(logits) / tf.reshape(tf.reduce_sum(tf.exp(logits), axis = -1), (-1, 1))\n",
    "log_loss = -tf.reduce_mean(tf.reduce_sum(y_one_hot * tf.log(y_proba + epsilon), axis = -1))\n",
    "\n",
    "# STEP 5: Gradient descent calculations\n",
    "error = y_proba - y_one_hot\n",
    "gradients = 1/m * tf.matmul(tf.transpose(X), error)\n",
    "training_op = tf.assign(W, W - learning_rate * gradients)\n",
    "\n",
    "# Initialize all variables\n",
    "init = tf.global_variables_initializer()"
   ]
  },
  {
   "cell_type": "markdown",
   "metadata": {
    "colab_type": "text",
    "id": "kHGysQE_3ePa"
   },
   "source": [
    "The graph constructed above is merely an implementation of the algorithm described earlier for calculating the gradients. If we were to run a few iterations of this graph, we would essentially be running our own version of **gradient descent**. Similar to what we did in the previous module, to run the graph we would have to open a session and evaluate the `training_op` variable node. Doing so will evaluate the computation graph and adjust the weight parameters accordingly.\n",
    "\n",
    "Evaluating the graph is essentially the main goal of the **execution phase**. However, we will omit the details until later. As of now, we will ensure that the implementation is indeed correct by evaluating a session run. We would expect the loss to decrease after each iteration."
   ]
  },
  {
   "cell_type": "code",
   "execution_count": 0,
   "metadata": {
    "colab": {
     "base_uri": "https://localhost:8080/",
     "height": 453
    },
    "colab_type": "code",
    "executionInfo": {
     "elapsed": 457,
     "status": "ok",
     "timestamp": 1562796921925,
     "user": {
      "displayName": "Michael Ciniello",
      "photoUrl": "https://lh4.googleusercontent.com/-Sc81UFAmWWE/AAAAAAAAAAI/AAAAAAAAInI/ccJjIOAmlUo/s64/photo.jpg",
      "userId": "09099206197539783636"
     },
     "user_tz": 240
    },
    "id": "cbrxNp_l3ePb",
    "outputId": "bac9f660-2d53-4a78-a43c-939aa2a9ad93"
   },
   "outputs": [
    {
     "name": "stdout",
     "output_type": "stream",
     "text": [
      "2.9201262\n",
      "2.8979502\n",
      "2.8759534\n",
      "2.854136\n",
      "2.8324976\n",
      "2.8110366\n",
      "2.7897544\n",
      "2.7686496\n",
      "2.7477214\n",
      "2.72697\n"
     ]
    },
    {
     "data": {
      "image/png": "[encoded data removed]",
      "text/plain": [
       "<Figure size 432x288 with 1 Axes>"
      ]
     },
     "metadata": {
      "tags": []
     },
     "output_type": "display_data"
    }
   ],
   "source": [
    "import matplotlib.pyplot as plt \n",
    "\n",
    "sess = tf.Session()\n",
    "sess.run(init)\n",
    "\n",
    "losses = []\n",
    "for i in range(10):\n",
    "    _, loss = sess.run([training_op, log_loss], feed_dict={X:X_train, y:y_train})\n",
    "    print(loss)\n",
    "    losses.append(loss)\n",
    "    \n",
    "plt.plot(losses)\n",
    "plt.xlabel('epoch')\n",
    "plt.ylabel('loss')\n",
    "plt.show()"
   ]
  },
  {
   "cell_type": "markdown",
   "metadata": {
    "colab_type": "text",
    "id": "q-E0oXBF3ePe"
   },
   "source": [
    "## Using `tf.autodiff`\n",
    "\n",
    "From the most recent example, you may notice that the loss looks to be decreasing within the first five iterations. This is the behaviour that we would expect for a correctly implemented gradient descent algorithm. In fact, deriving the gradients for specific models (i.e. softmax regression, linear regression) may prove to be simple. However, this is not the case for complex models (i.e. neural networks). In the case of a multi-layer neural network, one would consider using symbolic differentiation to automatically determine the equations for the partial derivatives. But the code involved to implement such equations directly would not necessarily be the most efficient approach. \n",
    "\n",
    "**Example of Associated Inefficiencies:**\n",
    "\n",
    "To illustrate this reasoning, consider some function $f(x) = \\exp(\\exp(\\exp(x)))$ (recall that the $\\exp(x)$ function is equivalent to $e^x$). The first derivative can easily be calculated as $f'(x) = \\exp(\\exp(\\exp(x)))\\cdot\\exp(\\exp(x))\\cdot\\exp(x)$ using the *Chain Rule*. If one were to implement $f(x)$ and $f'(x)$ exactly as they appeared in the equation, the approach will not be optimal since $f'(x)$ alone requires six separate calls to `exp(...)`. Furthermore, $f(x)$ would require three additional calls to the same function (which totals to nine calls among these two equations).\n",
    "\n",
    "A more efficient proposal would be to create a function that first calculates $\\exp(x)$. Then using that value, compute $\\exp(\\exp(x))$ and from that, compute $\\exp(\\exp(\\exp(x)))$. These three values can then be returned as a triplet. That is, we are returning $\\left(\\exp(x), \\exp(\\exp(x)), \\exp(\\exp(\\exp(x)))\\right)$. Note that the last term in this triple is our original $f(x)$. We can also easily derive $f'(x)$ by multiplying all three terms together. Hence we only require a total of three calls to `exp(...)` in this implementation as opposed to nine when directly implementing the equations.\n",
    "\n",
    "The direct approach also fails to capture the scenario when the function itself is not known, or if it is embedded within some code. For example, imagine computing the derivative for $f(x)$ defined below:\n",
    "\n",
    "    def my_func(a, b):\n",
    "        z = 0\n",
    "        for i in range(100):\n",
    "            z = a * np.cos(z + i) + z * np.sin(b - i)\n",
    "        return z\n",
    "\n",
    "This is indeed a daunting task (we don't recommend that you try!). Fortunately, the `autodiff` feature available in TensorFlow allows us to efficiently calculate the gradients of the function for us. We will update our code to accommodate for this by replacing:\n",
    "\n",
    "    error = y_proba - y_one_hot\n",
    "    gradients = 1/m * tf.matmul(tf.transpose(X),error)\n",
    "\n",
    "with the far simpler code:\n",
    "\n",
    "    gradients = tf.gradients(log_loss,W)[0] # extract gradients using autodiff\n",
    "    \n",
    "We also have the luxury of replacing the manual calculations for our probabilities and losses with the equivalent built in TensorFlow versions, which is more highly optimized (though the results should be the exact same):\n",
    "\n",
    "    y_proba = tf.nn.softmax(logits)\n",
    "    log_loss = tf.losses.log_loss(y_one_hot, y_proba)\n",
    "\n",
    "With all the changes introduced above, we will merge everything together and update our softmax model:"
   ]
  },
  {
   "cell_type": "code",
   "execution_count": 0,
   "metadata": {
    "colab": {},
    "colab_type": "code",
    "id": "nj0zXA9b3ePe"
   },
   "outputs": [],
   "source": [
    "tf.reset_default_graph()\n",
    "\n",
    "m, n = X_train.shape \n",
    "n_classes = len(np.unique(y_train))\n",
    "learning_rate = 0.01\n",
    "epsilon = 1e-7 \n",
    "\n",
    "X = tf.placeholder(dtype=tf.float32, shape=(None, n))\n",
    "y = tf.placeholder(dtype=tf.int32, shape=(None))\n",
    "y_one_hot = tf.one_hot(y, n_classes)\n",
    "\n",
    "W = tf.get_variable(name='weights', shape=(n, n_classes), initializer=random_normal)\n",
    "logits = tf.matmul(X, W)\n",
    "\n",
    "# This is the updated code segment replacing all the prior implementations\n",
    "# with the equivalent versions offered in TensorFlow\n",
    "y_proba = tf.nn.softmax(logits)\n",
    "log_loss = tf.losses.log_loss(y_one_hot, y_proba)\n",
    "gradients = tf.gradients(log_loss,W)[0]\n",
    "training_op = tf.assign(W, W - learning_rate * gradients)\n",
    "\n",
    "init = tf.global_variables_initializer() "
   ]
  },
  {
   "cell_type": "markdown",
   "metadata": {
    "colab_type": "text",
    "id": "WKi6w25P3ePg"
   },
   "source": [
    "For sanity purposes, we will rerun the algorithm again to verify that the behaviour is intact."
   ]
  },
  {
   "cell_type": "code",
   "execution_count": 0,
   "metadata": {
    "colab": {},
    "colab_type": "code",
    "id": "q0kwybrL3ePh",
    "outputId": "7d525887-3cb2-43f5-d0f7-9b4f2adfde9f"
   },
   "outputs": [
    {
     "name": "stdout",
     "output_type": "stream",
     "text": [
      "1.2968947\n",
      "1.2966384\n",
      "1.2963773\n",
      "1.2961138\n",
      "1.2958546\n"
     ]
    }
   ],
   "source": [
    "sess = tf.Session()\n",
    "sess.run(init)\n",
    "\n",
    "for i in range(5):\n",
    "    _, loss = sess.run([training_op, log_loss], feed_dict={X:X_train, y:y_train})\n",
    "    print(loss)"
   ]
  },
  {
   "cell_type": "markdown",
   "metadata": {
    "colab_type": "text",
    "id": "Vd2Gw2Fr3ePj"
   },
   "source": [
    "Evidently, computing gradients using `tf.gradients` proves to be far easier than manually deriving them.\n",
    "\n",
    "Below is a list of the **main approaches to computing gradients automatically.** As mentioned above, Tensorflow uses reverse-mode autodiff, which works best (in terms of efficiency and accuracy) when there are a high number of inputs and only few outputs (which is usually the case for most deep learning applications). Reverse-mode autodiff can compute all of the partial derivatives of the outputs with regards to all the inputs in just **n outputs + 1 graph traversals**. \n",
    "\n",
    "<div style=\"text-align:center;margin:15px;\">\n",
    "<img src='./images/c4_m9_p1_graph5.png' style=\"float:left;width:300;height:200;\">\n",
    "</div>\n",
    "\n",
    "Image Description: Overview of main differentiation techniques for neural networks\n",
    "\n",
    "Image source: Géron, A. (2017). Chapter 9: Up and Running with TensorFlow in Hands-On Machine Learning with Scikit-Learn and TensorFlow, O’Reilly Media"
   ]
  },
  {
   "cell_type": "markdown",
   "metadata": {
    "colab_type": "text",
    "id": "z775W22p3ePk"
   },
   "source": [
    "\n",
    "\n",
    "\n",
    "\n",
    "\n",
    "We won't go into the heavy details of how these techniques work, as they require a solid understanding of calculus and are somewhat out of scope for our purposes. That said, you are encouraged to dig more into these concepts yourself! \n",
    "Aurélien Geron oﬀers an excellent introduction to the topic on his Github (https://github.com/ageron/handson-ml/blob/master/extra_autodiﬀ.ipynb).\n"
   ]
  },
  {
   "cell_type": "markdown",
   "metadata": {
    "colab_type": "text",
    "id": "S47T35tz3ePk"
   },
   "source": [
    "## Using `tf.train` optimizers\n",
    "\n",
    "On top of `autodiff`, TensorFlow also offers a number of optimiziers to be used out of the box. Such optimiziers include a Gradient Descent optimizer. To use this optimizer, we would have to replace the following code:\n",
    "\n",
    "    gradients = tf.gradients(log_loss,W)[0] \n",
    "    training_op = tf.assign(W, W - learning_rate * gradients)\n",
    "    \n",
    "with the corresponding simplified version:\n",
    "\n",
    "    optimizer = tf.train.GradientDescentOptimizer(learning_rate=learning_rate)\n",
    "    training_op = optimizer.minimize(loss=log_loss)\n",
    "\n",
    "The training optimizer will trace through the computation graph associated to its input (i.e. loss) and look out for variable nodes. For every variable node that it encounters, it calculates the gradient of the loss with respect to that specific variable. From there, it computes a new value for the variable defined as\n",
    "\n",
    "$$\n",
    "\\text{new value} = \\text{current value} - \\text{gradient}\\times\\text{learning rate}\n",
    "$$\n",
    "\n",
    "Finally, it updates the variable with the new value through an assign operation. So to summarize, when you call `sess.run(training_op)`, the optimizer performs a step of gradient descent for **all** of the variables automatically. However, we would still need to provide the accommodating input and output placeholders. It is also recommended to print the calculated losses as this can help useful for debugging purposes.\n",
    "\n",
    "Notice that when initializing an optimizer, we call the `minimize` method which takes in some cost function as an argument. It is this cost function that the optimizier attempts to minimize (i.e. in this case, we passed the `log_loss` tensor as the argument).\n",
    "\n",
    "The code segment below summarizes all of our optimizations throughout this section (where we converted essentially all of our manual operations to the built-in equivalents in TensorFlow). Also note that we attempted to simplify the code by wrapping `y_proba` and `log_loss` into the single `tf.nn.softmax_cross_entropy_with_logits_v2`."
   ]
  },
  {
   "cell_type": "code",
   "execution_count": 0,
   "metadata": {
    "colab": {},
    "colab_type": "code",
    "id": "mt9gOSjr3ePl"
   },
   "outputs": [],
   "source": [
    "tf.reset_default_graph()\n",
    "m, n = X_train.shape \n",
    "n_classes = len(np.unique(y_train))\n",
    "learning_rate = 0.01\n",
    "epsilon = 0.1 # to prevent underflow\n",
    "\n",
    "X = tf.placeholder(dtype=tf.float32, shape=(None, n))\n",
    "y = tf.placeholder(dtype=tf.int32, shape=(None))\n",
    "y_one_hot = tf.one_hot(y, n_classes)\n",
    "\n",
    "W = tf.get_variable(name='weights', shape=(n, n_classes), initializer=random_normal)\n",
    "logits = tf.matmul(X, W)\n",
    "\n",
    "# Updated code using more efficient built in tf functions\n",
    "log_loss = tf.losses.softmax_cross_entropy(onehot_labels=y_one_hot, logits=logits)\n",
    "optimizer = tf.train.GradientDescentOptimizer(learning_rate=learning_rate)\n",
    "training_op = optimizer.minimize(log_loss)\n",
    "\n",
    "init = tf.global_variables_initializer() "
   ]
  },
  {
   "cell_type": "markdown",
   "metadata": {
    "colab_type": "text",
    "id": "JaGEDRMk3ePm"
   },
   "source": [
    "Now we will run five iterations of our most recent version of the model for sanity purposes."
   ]
  },
  {
   "cell_type": "code",
   "execution_count": 0,
   "metadata": {
    "colab": {},
    "colab_type": "code",
    "id": "UXamI_WZ3ePn",
    "outputId": "d641ce70-9777-4f30-8c54-c253ae74d7d4"
   },
   "outputs": [
    {
     "name": "stdout",
     "output_type": "stream",
     "text": [
      "9.930599\n",
      "9.908997\n",
      "9.887437\n",
      "9.865914\n",
      "9.844434\n"
     ]
    }
   ],
   "source": [
    "sess = tf.Session()\n",
    "sess.run(init)\n",
    "\n",
    "for i in range(5):\n",
    "    _, loss = sess.run([training_op, log_loss], feed_dict={X:X_train, y:y_train})\n",
    "    print(loss)"
   ]
  },
  {
   "cell_type": "markdown",
   "metadata": {
    "colab_type": "text",
    "id": "NTNKsC343ePp"
   },
   "source": [
    "# Model Execution"
   ]
  },
  {
   "cell_type": "markdown",
   "metadata": {
    "colab_type": "text",
    "id": "s1I2ftXB3ePq"
   },
   "source": [
    "## Batch Gradient Descent"
   ]
  },
  {
   "cell_type": "markdown",
   "metadata": {
    "colab_type": "text",
    "id": "Z4Eoscnw3ePq"
   },
   "source": [
    "From the prior section, you should be familiar with the general flow on how to proceed with developing a graph using TensorFlow's optimizers. Now we will focus more on the **execution phase** of the model development process. Recall that **batch gradient descent** involves training your model with the entire training data set at once.\n",
    "\n",
    "Model execution is as simple as **setting the number of epochs we want to run our model for**, and looping through the graph re-running the `training_op` each time. This will iteratively recalculate the gradients, and also update the `W` values, thus performing gradient descent. Once the algorithm is finished, you would ideally keep a copy of the weight tensors so you can make predictions later on if necessary.\n",
    "\n",
    "The code segment below generalizes the training portion of our model into a single function. It is ideal to segregate different stages of model development into functions not only for readibility, but to also keep your workflow organized for easy debugging and development."
   ]
  },
  {
   "cell_type": "code",
   "execution_count": 0,
   "metadata": {
    "colab": {},
    "colab_type": "code",
    "id": "kpZb9QRg3ePr"
   },
   "outputs": [],
   "source": [
    "import matplotlib.pyplot as plt\n",
    "\n",
    "def train_model(X_train, y_train, X_val, y_val, epochs=2500):\n",
    "    # Open a session\n",
    "    with tf.Session() as sess:\n",
    "        # Initialize variables\n",
    "        sess.run(init)\n",
    "        train_losses = []\n",
    "        val_losses = []\n",
    "        # Loop through the graph for n epochs\n",
    "        for epoch in range(epochs):\n",
    "            # Update weights and save W_update for later!\n",
    "            _, train_loss, W_update = sess.run([training_op, log_loss, W], feed_dict={X:X_train, y:y_train})\n",
    "            # Get validation loss\n",
    "            val_loss = sess.run(log_loss, feed_dict={X:X_val, y:y_val})\n",
    "            # Save incremental loss values for visualization\n",
    "            train_losses.append(train_loss)\n",
    "            val_losses.append(val_loss)\n",
    "            # Print results evey 100 runs\n",
    "            if epoch % 250 == 0:\n",
    "                print(\"Epoch\", epoch, \"Train Loss =\", train_loss, \"Validation Loss =\", val_loss)\n",
    "    # Plot loss values\n",
    "    plt.plot(train_losses, label='training loss')\n",
    "    plt.plot(val_losses, label='validation loss')\n",
    "    plt.legend()\n",
    "    plt.show()\n",
    "    \n",
    "    # Return updated weights\n",
    "    return W_update"
   ]
  },
  {
   "cell_type": "markdown",
   "metadata": {
    "colab_type": "text",
    "id": "tNE3JGGZ3ePs"
   },
   "source": [
    "Using the training function above, we will reconstruct our model code again to accommodate for it."
   ]
  },
  {
   "cell_type": "code",
   "execution_count": 0,
   "metadata": {
    "colab": {},
    "colab_type": "code",
    "id": "YBwlvM1X3ePt",
    "outputId": "cd668cc9-90d4-42c9-b7f9-7f001957c48d"
   },
   "outputs": [
    {
     "name": "stdout",
     "output_type": "stream",
     "text": [
      "Epoch 0 Train Loss = 11.684042 Validation Loss = 10.918069\n",
      "Epoch 250 Train Loss = 5.7501626 Validation Loss = 5.332797\n",
      "Epoch 500 Train Loss = 3.1337829 Validation Loss = 2.9330277\n",
      "Epoch 750 Train Loss = 2.132646 Validation Loss = 2.007855\n",
      "Epoch 1000 Train Loss = 1.6461794 Validation Loss = 1.5443257\n",
      "Epoch 1250 Train Loss = 1.3577276 Validation Loss = 1.2667372\n",
      "Epoch 1500 Train Loss = 1.1607339 Validation Loss = 1.0800648\n",
      "Epoch 1750 Train Loss = 1.0170166 Validation Loss = 0.94696975\n",
      "Epoch 2000 Train Loss = 0.90698147 Validation Loss = 0.8494229\n",
      "Epoch 2250 Train Loss = 0.8188884 Validation Loss = 0.7740308\n"
     ]
    },
    {
     "data": {
      "image/png": "[encoded data removed]",
      "text/plain": [
       "<Figure size 432x288 with 1 Axes>"
      ]
     },
     "metadata": {
      "needs_background": "light",
      "tags": []
     },
     "output_type": "display_data"
    }
   ],
   "source": [
    "#################################### MODEL CONSTRUCTION ####################################\n",
    "tf.reset_default_graph()\n",
    "m, n = X_train.shape \n",
    "n_classes = len(np.unique(y_train))\n",
    "learning_rate = 0.01\n",
    "epsilon = 0.1 # to prevent underflow (division by zero when values become too small)\n",
    "\n",
    "X = tf.placeholder(dtype=tf.float32, shape=(None, n))\n",
    "y = tf.placeholder(dtype=tf.int32, shape=(None))\n",
    "y_one_hot = tf.one_hot(y, n_classes)\n",
    "\n",
    "W = tf.get_variable(name='weights', shape=(n, n_classes), initializer=random_normal)\n",
    "logits = tf.matmul(X, W)\n",
    "# Add in y_proba node so it can be called to make predictions later on\n",
    "y_proba = tf.nn.softmax(logits)\n",
    "\n",
    "log_loss = tf.losses.softmax_cross_entropy(onehot_labels=y_one_hot, logits=logits)\n",
    "optimizer = tf.train.GradientDescentOptimizer(learning_rate=learning_rate)\n",
    "training_op = optimizer.minimize(log_loss)\n",
    "init = tf.global_variables_initializer() \n",
    "\n",
    "#################################### MODEL EXECUTION ####################################\n",
    "W_update = train_model(X_train, y_train, X_val, y_val)"
   ]
  },
  {
   "cell_type": "markdown",
   "metadata": {
    "colab_type": "text",
    "id": "Wbr8F6rc3ePv"
   },
   "source": [
    "Again, both the training and validation losses decrease per iteration. This is what we should expect as we are solving a simple convex optimization problem (a function is considered [convex](https://en.wikipedia.org/wiki/Convex_function),  if the line segment between any two points on the graph of the function lies above or on the graph ).\n",
    "\n",
    "Now we wish to use the trained model to make predictions. Recall that all values in a TensorFlow graph are cleared once a session is closed, and thus we cannot simply run the `y_proba` node as we would be trying to run the model using uninitialized variables. This is why we return the trained weights node $W$ in the function above. \n",
    "\n",
    "Before proceeding, we will double check to make sure the updated weight parameters have the proper dimensions:"
   ]
  },
  {
   "cell_type": "code",
   "execution_count": 0,
   "metadata": {
    "colab": {},
    "colab_type": "code",
    "id": "Ki1IjC0k3ePw",
    "outputId": "5180dddd-bef9-469e-b101-3f409e74c9fd"
   },
   "outputs": [
    {
     "name": "stdout",
     "output_type": "stream",
     "text": [
      "bias shape: (10,)\n",
      "coefficients shape: (64, 10)\n"
     ]
    }
   ],
   "source": [
    "print('bias shape:', W_update[0].shape)\n",
    "print('coefficients shape:', W_update[1:].shape)"
   ]
  },
  {
   "cell_type": "markdown",
   "metadata": {
    "colab_type": "text",
    "id": "r3g3VJfM3ePy"
   },
   "source": [
    "To proceed with predictions, we will need to first feed the most updated weight values into the graph using `tf.assign`. We will also use a confusion matrix to briefly get a sense of how the model is performing. Again, we will wrap this code in a function to easily make predictions for future models."
   ]
  },
  {
   "cell_type": "code",
   "execution_count": 0,
   "metadata": {
    "colab": {},
    "colab_type": "code",
    "id": "4kqNnsh23ePy",
    "outputId": "56c96830-dcb9-45cd-c3a0-920d73e745e1"
   },
   "outputs": [
    {
     "name": "stdout",
     "output_type": "stream",
     "text": [
      "Accuracy: 0.8497495826377296\n",
      "Confusion Matrix:\n",
      " [[164   0   1   2   0   2   5   1   3   0]\n",
      " [  0 150   5   0   6   1   4   4   6   6]\n",
      " [  2   5 155  11   1   0   1   1   1   0]\n",
      " [  0   4   0 151   0   4   0   2  12  10]\n",
      " [  2   3   0   0 169   0   1   3   1   2]\n",
      " [  2   4   2   3   0 165   0   1   1   4]\n",
      " [  1   3   0   0   2   4 170   0   1   0]\n",
      " [  3   0   1   4   3   0   0 164   4   0]\n",
      " [  0  15   5   9   2   7   4   5 112  15]\n",
      " [  5  10   0  12   3   8   2   5   8 127]]\n"
     ]
    }
   ],
   "source": [
    "from sklearn.metrics import confusion_matrix\n",
    "from sklearn.metrics import accuracy_score\n",
    "\n",
    "def make_predictions(X_test, y_test, W_update):\n",
    "    \"\"\"Use trained model weights to make predictions\"\"\"\n",
    "    with tf.Session() as sess:\n",
    "        # Note that you could also simple enter 'W:W_update' into the feed_dict argument below \n",
    "        sess.run(tf.assign(W, W_update))\n",
    "        # Feed in the test data and select the high probability as the prediction\n",
    "        predictions = sess.run(tf.argmax(y_proba, axis=-1), feed_dict={X:X_test})\n",
    "    # Show the confusion matrix\n",
    "    print(\"Accuracy:\", accuracy_score(y_test, predictions))\n",
    "    print(\"Confusion Matrix:\\n\",confusion_matrix(y_test, predictions))\n",
    "\n",
    "make_predictions(X_mnist, y_mnist, W_update)"
   ]
  },
  {
   "cell_type": "markdown",
   "metadata": {
    "colab_type": "text",
    "id": "h8qyEZmk3eP0"
   },
   "source": [
    "## Mini-Batch Gradient Descent"
   ]
  },
  {
   "cell_type": "markdown",
   "metadata": {
    "colab_type": "text",
    "id": "KPJ7-J5Z3eP1"
   },
   "source": [
    "In **mini-batch gradient descent**, we train the model repeatedly on smaller subsets of the entire training data as opposed to the full training set itself. This can easily be implemented in our code by iterating through random subsets of the training data at each epoch.\n",
    "\n",
    "For convenience, we implement the batch splitting algorithm as its own function"
   ]
  },
  {
   "cell_type": "code",
   "execution_count": 0,
   "metadata": {
    "colab": {},
    "colab_type": "code",
    "id": "Oe0Lz_iO3eP2"
   },
   "outputs": [],
   "source": [
    "def fetch_batch(batch_size):\n",
    "    indices = np.random.randint(m, size=batch_size)\n",
    "    X_batch = X_train[indices]\n",
    "    y_batch = y_train[indices]\n",
    "    return X_batch, y_batch"
   ]
  },
  {
   "cell_type": "markdown",
   "metadata": {
    "colab_type": "text",
    "id": "tGK3BChi3eP5"
   },
   "source": [
    "Now we will update our prior `train_model` function to accommodate for mini-batch training. You should expect training to take a little longer as we now have extra iterations within each epoch depending on the batch size. This will contribute to algorithmic complexity greatly depending on how large the batch sizes are relative to how large the training set is."
   ]
  },
  {
   "cell_type": "code",
   "execution_count": 0,
   "metadata": {
    "colab": {},
    "colab_type": "code",
    "id": "OId5aUMl3eP6",
    "outputId": "dda7764e-144e-4716-9d12-74c9dfd5d3d7"
   },
   "outputs": [
    {
     "name": "stdout",
     "output_type": "stream",
     "text": [
      "Epoch 0 Train Loss = 10.662371 Validation Loss = 10.924294\n",
      "Epoch 250 Train Loss = 1.4221576 Validation Loss = 1.5215482\n",
      "Epoch 500 Train Loss = 0.7077136 Validation Loss = 0.86859876\n",
      "Epoch 750 Train Loss = 0.48680604 Validation Loss = 0.671228\n",
      "Epoch 1000 Train Loss = 0.3757375 Validation Loss = 0.56824166\n",
      "Epoch 1250 Train Loss = 0.30439833 Validation Loss = 0.50459135\n",
      "Epoch 1500 Train Loss = 0.25393933 Validation Loss = 0.4627774\n",
      "Epoch 1750 Train Loss = 0.21544799 Validation Loss = 0.43260562\n",
      "Epoch 2000 Train Loss = 0.1850494 Validation Loss = 0.4095011\n",
      "Epoch 2250 Train Loss = 0.16135229 Validation Loss = 0.39164785\n"
     ]
    },
    {
     "data": {
      "image/png": "[encoded data removed]",
      "text/plain": [
       "<Figure size 432x288 with 1 Axes>"
      ]
     },
     "metadata": {
      "needs_background": "light",
      "tags": []
     },
     "output_type": "display_data"
    },
    {
     "name": "stdout",
     "output_type": "stream",
     "text": [
      "Accuracy: 0.8497495826377296\n",
      "Confusion Matrix:\n",
      " [[164   0   1   2   0   2   5   1   3   0]\n",
      " [  0 150   5   0   6   1   4   4   6   6]\n",
      " [  2   5 155  11   1   0   1   1   1   0]\n",
      " [  0   4   0 151   0   4   0   2  12  10]\n",
      " [  2   3   0   0 169   0   1   3   1   2]\n",
      " [  2   4   2   3   0 165   0   1   1   4]\n",
      " [  1   3   0   0   2   4 170   0   1   0]\n",
      " [  3   0   1   4   3   0   0 164   4   0]\n",
      " [  0  15   5   9   2   7   4   5 112  15]\n",
      " [  5  10   0  12   3   8   2   5   8 127]]\n"
     ]
    }
   ],
   "source": [
    "import matplotlib.pyplot as plt\n",
    "\n",
    "def train_model(X_train, y_train, X_val, y_val, epochs=2500, batch_size=300):\n",
    "    # Open a session\n",
    "    with tf.Session() as sess:\n",
    "        sess.run(init)\n",
    "        # Initialize loss values\n",
    "        train_losses = []\n",
    "        val_losses = []\n",
    "        # Initialize batch values\n",
    "        m = len(X_train)\n",
    "        batches = int(m/batch_size)\n",
    "        \n",
    "        # Loop through the graph for n epochs\n",
    "        for epoch in range(epochs):\n",
    "            # Loop through the mini-batches\n",
    "            for batch in range(batches):\n",
    "                # Fetch a new batch\n",
    "                X_batch, y_batch = fetch_batch(batch_size)\n",
    "                # Run the training op\n",
    "                sess.run([training_op], feed_dict={X:X_batch, y:y_batch})\n",
    "            # Get trianing/validation loss\n",
    "            train_loss = sess.run(log_loss, feed_dict={X:X_train, y:y_train})\n",
    "            val_loss = sess.run(log_loss, feed_dict={X:X_val, y:y_val})\n",
    "            # Save incremental loss values for visualization\n",
    "            train_losses.append(train_loss)\n",
    "            val_losses.append(val_loss)\n",
    "            if epoch % 250 == 0:\n",
    "                print(\"Epoch\", epoch, \"Train Loss =\", train_loss, \"Validation Loss =\", val_loss)\n",
    "    # Plot loss values\n",
    "    plt.plot(train_losses, label='training loss')\n",
    "    plt.plot(val_losses, label='validation loss')\n",
    "    plt.legend()\n",
    "    plt.show()\n",
    "    \n",
    "    # Return updated weights\n",
    "    return W_update\n",
    "\n",
    "W_update = train_model(X_train, y_train, X_val, y_val)\n",
    "make_predictions(X_mnist, y_mnist, W_update)"
   ]
  },
  {
   "cell_type": "markdown",
   "metadata": {
    "colab_type": "text",
    "id": "H8UBuzfd3eP9"
   },
   "source": [
    "## Saving and Restoring models"
   ]
  },
  {
   "cell_type": "markdown",
   "metadata": {
    "colab_type": "text",
    "id": "CmChXoSj3eP-"
   },
   "source": [
    "Recall in the previous module we briefly discussed how to save and load graphs in TensorFlow. We will extend this functionality to save our current MNIST classification model. To accomplish this, we just need to create a new `tf.train.saver()` node after we have constructed our graph (i.e. after all variable nodes are created). Once we reach the execution phase, we can then call `save()` whenever we want to save the model. Doing so will require us to pass the saver with both the session and the path of where we wish to save the model components.\n",
    "\n",
    "It is important to recognize that we ideally want to save our model at regular intervals throughout training. This ensures that our progress can be recovered in the case that something goes wrong during training. If the model is recoverable, we can proceed from when it was last saved as opposed to starting from the very beginning.\n",
    "\n",
    "Now we will update our `train_model` function to include saving (in this case, we will save after every 250 epochs or iterations)."
   ]
  },
  {
   "cell_type": "code",
   "execution_count": 0,
   "metadata": {
    "colab": {},
    "colab_type": "code",
    "id": "lMvLP3lm3eP_"
   },
   "outputs": [],
   "source": [
    "import matplotlib.pyplot as plt\n",
    "\n",
    "def train_model(X_train, y_train, X_val, y_val, saver, epochs=2500, batch_size=300, save_path='./models/my_softmax_model.model'):\n",
    "    # Open a session\n",
    "    with tf.Session() as sess:\n",
    "        sess.run(init)\n",
    "        # Initialize loss values\n",
    "        train_losses = []\n",
    "        val_losses = []\n",
    "        # Initialize batch values\n",
    "        m = len(X_train)\n",
    "        batches = int(m/batch_size)\n",
    "        \n",
    "        # Loop through the graph for n epochs\n",
    "        for epoch in range(epochs):\n",
    "            # Loop through the mini-batches\n",
    "            for batch in range(batches):\n",
    "                # Fetch a new batch\n",
    "                X_batch, y_batch = fetch_batch(batch_size)\n",
    "                # Run the training op\n",
    "                sess.run([training_op], feed_dict={X:X_batch, y:y_batch})\n",
    "            # Get training/validation loss\n",
    "            train_loss = sess.run(log_loss, feed_dict={X:X_train, y:y_train})\n",
    "            val_loss = sess.run(log_loss, feed_dict={X:X_val, y:y_val})\n",
    "            # Save incremental loss values for visualization\n",
    "            train_losses.append(train_loss)\n",
    "            val_losses.append(val_loss)\n",
    "            # Save model and print results at 250 epochs\n",
    "            if epoch % 250 == 0:\n",
    "                saver.save(sess, save_path)\n",
    "                print(\"Epoch\", epoch, \"Train Loss =\", train_loss, \"Validation Loss =\", val_loss)\n",
    "        # Save final model\n",
    "        saver.save(sess, save_path)\n",
    "    # Plot loss values\n",
    "    plt.plot(train_losses, label='training loss')\n",
    "    plt.plot(val_losses, label='validation loss')\n",
    "    plt.legend()\n",
    "    plt.show()\n",
    "    \n",
    "    # Return updated weights\n",
    "    return W_update"
   ]
  },
  {
   "cell_type": "markdown",
   "metadata": {
    "colab_type": "text",
    "id": "hvWAZSnb3eQA"
   },
   "source": [
    "With our training function modified, we now need to add a `tf.train.Saver()` object at the end of the code segment where we finish creating our model graph. Note that with our specified saved path, we save the model in ***/models/*** every 250 epochs."
   ]
  },
  {
   "cell_type": "code",
   "execution_count": 0,
   "metadata": {
    "colab": {},
    "colab_type": "code",
    "id": "1wTpSWVT3eQA",
    "outputId": "114a8331-c913-421a-cb74-2ca567770936"
   },
   "outputs": [
    {
     "name": "stdout",
     "output_type": "stream",
     "text": [
      "Epoch 0 Train Loss = 12.681422 Validation Loss = 12.972495\n",
      "Epoch 250 Train Loss = 1.6180229 Validation Loss = 1.8856086\n",
      "Epoch 500 Train Loss = 0.83298486 Validation Loss = 1.076474\n",
      "Epoch 750 Train Loss = 0.55128056 Validation Loss = 0.77666694\n",
      "Epoch 1000 Train Loss = 0.39828655 Validation Loss = 0.6214355\n",
      "Epoch 1250 Train Loss = 0.30339167 Validation Loss = 0.52774954\n",
      "Epoch 1500 Train Loss = 0.24667947 Validation Loss = 0.46829095\n",
      "Epoch 1750 Train Loss = 0.20711242 Validation Loss = 0.42745832\n",
      "Epoch 2000 Train Loss = 0.17987935 Validation Loss = 0.39824453\n",
      "Epoch 2250 Train Loss = 0.15975729 Validation Loss = 0.37596935\n"
     ]
    },
    {
     "data": {
      "image/png": "[encoded data removed]",
      "text/plain": [
       "<Figure size 432x288 with 1 Axes>"
      ]
     },
     "metadata": {
      "needs_background": "light",
      "tags": []
     },
     "output_type": "display_data"
    },
    {
     "name": "stdout",
     "output_type": "stream",
     "text": [
      "Accuracy: 0.8497495826377296\n",
      "Confusion Matrix:\n",
      " [[164   0   1   2   0   2   5   1   3   0]\n",
      " [  0 150   5   0   6   1   4   4   6   6]\n",
      " [  2   5 155  11   1   0   1   1   1   0]\n",
      " [  0   4   0 151   0   4   0   2  12  10]\n",
      " [  2   3   0   0 169   0   1   3   1   2]\n",
      " [  2   4   2   3   0 165   0   1   1   4]\n",
      " [  1   3   0   0   2   4 170   0   1   0]\n",
      " [  3   0   1   4   3   0   0 164   4   0]\n",
      " [  0  15   5   9   2   7   4   5 112  15]\n",
      " [  5  10   0  12   3   8   2   5   8 127]]\n"
     ]
    }
   ],
   "source": [
    "#################################### MODEL CONSTRUCTION ####################################\n",
    "tf.reset_default_graph()\n",
    "m, n = X_train.shape \n",
    "n_classes = len(np.unique(y_train))\n",
    "learning_rate = 0.01\n",
    "epsilon = 0.1 # to prevent underflow\n",
    "\n",
    "X = tf.placeholder(dtype=tf.float32, shape=(None, n), name='X')\n",
    "y = tf.placeholder(dtype=tf.int32, shape=(None), name='y')\n",
    "y_one_hot = tf.one_hot(y, n_classes)\n",
    "\n",
    "W = tf.get_variable(name='weights', shape=(n, n_classes), initializer=random_normal)\n",
    "logits = tf.matmul(X, W)\n",
    "y_proba = tf.nn.softmax(logits, name='predict')\n",
    "\n",
    "log_loss = tf.losses.softmax_cross_entropy(onehot_labels=y_one_hot, logits=logits)\n",
    "optimizer = tf.train.GradientDescentOptimizer(learning_rate=learning_rate)\n",
    "training_op = optimizer.minimize(log_loss)\n",
    "init = tf.global_variables_initializer() \n",
    "\n",
    "# Add the saver\n",
    "saver = tf.train.Saver() \n",
    "\n",
    "#################################### MODEL EXECUTION ####################################\n",
    "W_update = train_model(X_train, y_train, X_val, y_val, saver=saver)\n",
    "make_predictions(X_mnist, y_mnist, W_update)"
   ]
  },
  {
   "cell_type": "markdown",
   "metadata": {
    "colab_type": "text",
    "id": "suibM2sT3eQD"
   },
   "source": [
    "The saver gives us some flexibility in choosing what variables we wish to save. By default, the saver will save and restore all variables present in the graph under their respective names. To specify which variables to save and/or restore and what names to map them to, consider the following:\n",
    "\n",
    "    saver = tf.train.Saver({\"weights\": theta})\n",
    "    \n",
    "The saver above will complete save and restore operations that only correspond to `theta` and map it to the name \"weights\". You are encouraged to use this feature at your own discretion depending on what you wish to preserve. For the time being, we will attempt to reload our trained model and make some predictions!"
   ]
  },
  {
   "cell_type": "code",
   "execution_count": 0,
   "metadata": {
    "colab": {},
    "colab_type": "code",
    "id": "lfRPxgz_3eQE",
    "outputId": "ffe881c7-d253-4f35-fc05-e5d28ace3d41"
   },
   "outputs": [
    {
     "name": "stdout",
     "output_type": "stream",
     "text": [
      "INFO:tensorflow:Restoring parameters from ./models/my_softmax_model.model\n",
      "Restored weights shape: (65, 10)\n"
     ]
    },
    {
     "data": {
      "text/plain": [
       "0.9305555555555556"
      ]
     },
     "execution_count": 16,
     "metadata": {
      "tags": []
     },
     "output_type": "execute_result"
    }
   ],
   "source": [
    "tf.reset_default_graph()\n",
    "\n",
    "graph = tf.get_default_graph()\n",
    "# this loads the graph structure\n",
    "saver = tf.train.import_meta_graph('./models/my_softmax_model.model.meta')\n",
    "# get the specific tensors with corresponding name\n",
    "weights = graph.get_tensor_by_name('weights:0')\n",
    "X = graph.get_tensor_by_name('X:0')\n",
    "predict = graph.get_tensor_by_name('predict:0') \n",
    "\n",
    "with tf.Session() as sess:\n",
    "    # load the state of the model\n",
    "    saver.restore(sess, './models/my_softmax_model.model')\n",
    "    print(\"Restored weights shape:\",weights.eval().shape)\n",
    "    predictions = np.argmax(sess.run(predict, feed_dict={X:X_val}), axis=1)\n",
    "    \n",
    "# Calculate the accuracy of our predictions\n",
    "accuracy_score(y_val, predictions)"
   ]
  },
  {
   "cell_type": "markdown",
   "metadata": {
    "colab_type": "text",
    "id": "wk1QhtP53eQG",
    "toc-hr-collapsed": true
   },
   "source": [
    "## Exercise\n",
    "\n",
    "Leveraging the examples above, try building your own linear regression model using TensorFlow. You will be working with sklearn's **California housing price prediction** dataset, which we have loaded for you below. This exercise will involve 3 components:\n",
    "1. Constructing your tf graph for the linear regression\n",
    "2. Building the function to train the model\n",
    "3. Building the function to make predictions\n",
    "\n",
    "Save the functions as `train_model_linreg` and `make_predictions_linreg` so as to not overwrite our softmax model above."
   ]
  },
  {
   "cell_type": "code",
   "execution_count": 0,
   "metadata": {
    "colab": {},
    "colab_type": "code",
    "id": "8WVnHiYS3eQH",
    "outputId": "2d1718cd-da7e-4e4a-cd70-e86ca4e75c59"
   },
   "outputs": [
    {
     "name": "stdout",
     "output_type": "stream",
     "text": [
      ".. _california_housing_dataset:\n",
      "\n",
      "California Housing dataset\n",
      "--------------------------\n",
      "\n",
      "**Data Set Characteristics:**\n",
      "\n",
      "    :Number of Instances: 20640\n",
      "\n",
      "    :Number of Attributes: 8 numeric, predictive attributes and the target\n",
      "\n",
      "    :Attribute Information:\n",
      "        - MedInc        median income in block\n",
      "        - HouseAge      median house age in block\n",
      "        - AveRooms      average number of rooms\n",
      "        - AveBedrms     average number of bedrooms\n",
      "        - Population    block population\n",
      "        - AveOccup      average house occupancy\n",
      "        - Latitude      house block latitude\n",
      "        - Longitude     house block longitude\n",
      "\n",
      "    :Missing Attribute Values: None\n",
      "\n",
      "This dataset was obtained from the StatLib repository.\n",
      "http://lib.stat.cmu.edu/datasets/\n",
      "\n",
      "The target variable is the median house value for California districts.\n",
      "\n",
      "This dataset was derived from the 1990 U.S. census, using one row per census\n",
      "block group. A block group is the smallest geographical unit for which the U.S.\n",
      "Census Bureau publishes sample data (a block group typically has a population\n",
      "of 600 to 3,000 people).\n",
      "\n",
      "It can be downloaded/loaded using the\n",
      ":func:`sklearn.datasets.fetch_california_housing` function.\n",
      "\n",
      ".. topic:: References\n",
      "\n",
      "    - Pace, R. Kelley and Ronald Barry, Sparse Spatial Autoregressions,\n",
      "      Statistics and Probability Letters, 33 (1997) 291-297\n",
      "\n"
     ]
    }
   ],
   "source": [
    "from sklearn.datasets import california_housing\n",
    "housing = california_housing.fetch_california_housing()\n",
    "print(housing.DESCR)"
   ]
  },
  {
   "cell_type": "code",
   "execution_count": 0,
   "metadata": {
    "colab": {},
    "colab_type": "code",
    "id": "DKThEhRo3eQI",
    "outputId": "e3e9238c-663a-4b64-88c8-32d5d522b513"
   },
   "outputs": [
    {
     "name": "stdout",
     "output_type": "stream",
     "text": [
      "X_train: (16512, 9)\n",
      "X_val: (4128, 9)\n",
      "y_train: (16512, 1)\n",
      "y_val: (4128, 1)\n"
     ]
    }
   ],
   "source": [
    "X_housing = housing[\"data\"]\n",
    "y_housing = housing[\"target\"]\n",
    "scaler = StandardScaler()\n",
    "X_housing = scaler.fit_transform(X_housing)\n",
    "X_housing = np.c_[np.ones((X_housing.shape[0],1)), X_housing]\n",
    "X_housing_train, X_housing_val, y_housing_train, y_housing_val = train_test_split(X_housing, y_housing, test_size=0.2, shuffle=True)\n",
    "y_housing_train = y_housing_train.reshape(-1,1)\n",
    "y_housing_val= y_housing_val.reshape(-1,1)\n",
    "\n",
    "print(\"X_train:\", X_housing_train.shape)\n",
    "print(\"X_val:\", X_housing_val.shape)\n",
    "print(\"y_train:\", y_housing_train.shape)\n",
    "print(\"y_val:\", y_housing_val.shape)"
   ]
  },
  {
   "cell_type": "markdown",
   "metadata": {
    "colab_type": "text",
    "id": "TNc10gcJ3eQK"
   },
   "source": [
    "### Response"
   ]
  },
  {
   "cell_type": "code",
   "execution_count": 0,
   "metadata": {
    "colab": {},
    "colab_type": "code",
    "id": "d5nZ3oQN3eQL"
   },
   "outputs": [],
   "source": [
    "# Construct linear regression Graph\n"
   ]
  },
  {
   "cell_type": "code",
   "execution_count": 0,
   "metadata": {
    "colab": {},
    "colab_type": "code",
    "id": "x6_GOKjY3eQM"
   },
   "outputs": [],
   "source": [
    "# Build your train_model function \n"
   ]
  },
  {
   "cell_type": "code",
   "execution_count": 0,
   "metadata": {
    "colab": {},
    "colab_type": "code",
    "id": "JCiSkDWJ3eQO"
   },
   "outputs": [],
   "source": [
    "# Build you make_predictions function\n"
   ]
  },
  {
   "cell_type": "code",
   "execution_count": 0,
   "metadata": {
    "colab": {},
    "colab_type": "code",
    "id": "7zLx9_dI3eQP"
   },
   "outputs": [],
   "source": [
    "# Train your model and make predcitions\n"
   ]
  },
  {
   "cell_type": "markdown",
   "metadata": {
    "colab_type": "text",
    "id": "ghLGtW7d3eQR"
   },
   "source": [
    "### Solution"
   ]
  },
  {
   "cell_type": "code",
   "execution_count": 0,
   "metadata": {
    "colab": {},
    "colab_type": "code",
    "id": "wmcVY2sq3eQR"
   },
   "outputs": [],
   "source": [
    "import tensorflow as tf\n",
    "\n",
    "# Build graph\n",
    "tf.reset_default_graph()\n",
    "m, n = X_housing_train.shape \n",
    "learning_rate = 0.01\n",
    "epsilon = 0.1 # to prevent underflow\n",
    "\n",
    "X = tf.placeholder(dtype=tf.float32, shape=(None, n))\n",
    "y = tf.placeholder(dtype=tf.int32, shape=(None,1))\n",
    "\n",
    "W = tf.get_variable(name='weights', shape=(n,1), initializer=random_normal)\n",
    "y_pred = tf.matmul(X, W)\n",
    "\n",
    "mse = tf.losses.mean_squared_error(labels=y, predictions=y_pred)\n",
    "optimizer = tf.train.GradientDescentOptimizer(learning_rate=learning_rate)\n",
    "training_op = optimizer.minimize(mse)\n",
    "\n",
    "init = tf.global_variables_initializer() "
   ]
  },
  {
   "cell_type": "code",
   "execution_count": 0,
   "metadata": {
    "colab": {},
    "colab_type": "code",
    "id": "VKgcjm9-3eQT",
    "outputId": "a9c5ee67-8417-4d8d-af9e-7936afd12af5"
   },
   "outputs": [
    {
     "name": "stdout",
     "output_type": "stream",
     "text": [
      "Epoch 0 Train Loss = 4.6974964 Validation Loss = 4.663599\n",
      "Epoch 250 Train Loss = 0.84552336 Validation Loss = 0.9139853\n",
      "Epoch 500 Train Loss = 0.7516865 Validation Loss = 0.8118078\n",
      "Epoch 750 Train Loss = 0.7068341 Validation Loss = 0.7676641\n",
      "Epoch 1000 Train Loss = 0.68507195 Validation Loss = 0.74834657\n",
      "Epoch 1250 Train Loss = 0.67434704 Validation Loss = 0.73997986\n",
      "Epoch 1500 Train Loss = 0.6689597 Validation Loss = 0.73637414\n",
      "Epoch 1750 Train Loss = 0.6661916 Validation Loss = 0.734794\n",
      "Epoch 2000 Train Loss = 0.66473234 Validation Loss = 0.73405075\n",
      "Epoch 2250 Train Loss = 0.6639416 Validation Loss = 0.7336429\n"
     ]
    },
    {
     "data": {
      "image/png": "[encoded data removed]",
      "text/plain": [
       "<Figure size 432x288 with 1 Axes>"
      ]
     },
     "metadata": {
      "needs_background": "light",
      "tags": []
     },
     "output_type": "display_data"
    }
   ],
   "source": [
    "# Build train_model function\n",
    "import matplotlib.pyplot as plt\n",
    "def train_model_linreg(X_train, y_train, X_val, y_val, epochs=2500):\n",
    "    with tf.Session() as sess:\n",
    "        sess.run(init)\n",
    "        train_losses = []\n",
    "        val_losses = []\n",
    "        for epoch in range(epochs):\n",
    "            _, train_loss, W_update = sess.run([training_op, mse, W], feed_dict={X:X_train, y:y_train})\n",
    "            val_loss = sess.run(mse, feed_dict={X:X_val, y:y_val})\n",
    "            train_losses.append(train_loss)\n",
    "            val_losses.append(val_loss)\n",
    "            if epoch % 250 == 0:\n",
    "                print(\"Epoch\", epoch, \"Train Loss =\", train_loss, \"Validation Loss =\", val_loss)\n",
    "    plt.plot(train_losses, label='training loss')\n",
    "    plt.plot(val_losses, label='validation loss')\n",
    "    plt.legend()\n",
    "    plt.show()\n",
    "    return W_update\n",
    "\n",
    "W_trained = train_model_linreg(X_housing_train, y_housing_train, X_housing_val, y_housing_val)"
   ]
  },
  {
   "cell_type": "code",
   "execution_count": 0,
   "metadata": {
    "colab": {},
    "colab_type": "code",
    "id": "rXJbO_803eQW",
    "outputId": "5e37d25b-d2c9-476a-8f5c-c670cc4fc842"
   },
   "outputs": [
    {
     "name": "stdout",
     "output_type": "stream",
     "text": [
      "Mean squared error: 0.7846815811395077\n"
     ]
    }
   ],
   "source": [
    "from sklearn.metrics import mean_squared_error\n",
    "\n",
    "def make_predictions_linreg(X_test, y_test, W_trained):\n",
    "    \"\"\"Use trained model weights to make predictions\"\"\"\n",
    "    with tf.Session() as sess:\n",
    "        sess.run(tf.assign(W, W_trained))\n",
    "        predictions = sess.run(y_pred, feed_dict={X:X_test})\n",
    "    print(\"Mean squared error:\", mean_squared_error(y_test, predictions))\n",
    "\n",
    "make_predictions_linreg(X_housing, y_housing, W_trained)"
   ]
  },
  {
   "cell_type": "markdown",
   "metadata": {
    "colab_type": "text",
    "id": "q4I0PhTc3eQX"
   },
   "source": [
    "# Visualizing Models with Tensorboard"
   ]
  },
  {
   "cell_type": "markdown",
   "metadata": {
    "colab_type": "text",
    "id": "WPUalkYG3eQY"
   },
   "source": [
    "## Overview of Tensorboard and Logging"
   ]
  },
  {
   "cell_type": "markdown",
   "metadata": {
    "colab_type": "text",
    "id": "oPmPaa_h3eQY"
   },
   "source": [
    "As of now, we have successfully implemented a computation graph and run several training epochs for a softmax classifier using mini-batch gradient descent. Furthermore, we are saving our model at regular training intervals using the `tf.trian.saver` module. If you've gotten this far, you now know enough about TensorFlow to build your own machine learning models! You are encouraged to try running these simple TensorFlow models on new datasets, and leverage the documentation to build more diverse and sophisticated models (which we will be doing in the next module). For now, let's move on to the next topic in this module; **model visualization using Tensorboard**.\n",
    "\n",
    "TensorBoard allows the user to display interactive visualizations of a model's graph structure and its training outputs, all through a simple web browser interface. The user can easily interact with and drill down into their graph structure through intuitive visualizations, which can be incredibly helpful when trying to identify bugs or issues with your model architecture.\n",
    "\n",
    "To get started with TensorBoard, we need to make note of the following:\n",
    "- We need to tweak our `train_model` function to record training statistics (MSE, loss, train_error, val_error, etc.) at regular intervals. We will record these details in a log file using the `tf.summary.FileWriter` function.\n",
    "- Every time we run the program, we need to revert to a different log directory. Otherwise, TensorFlow will automatically merge the statistics of different runs and will ultimately corrupt the visualizations we see in TensorBoard.\n",
    "\n",
    "In order to avoid the cross-contamination of log files, we can easily append timestamps to the filenames to ensure that the statistics of each model run are saved in a unique log file. The following code segment achieves this:\n",
    "    \n",
    "        from datetime import datetime\n",
    "        now = datetime.utcnow().strftime(\"%Y%m%d%H%M%S\")\n",
    "        root_logdir = \"tf_logs\"\n",
    "        logdir = \"{}/run-{}/\".format(root_logdir, now)\n",
    "\n",
    "We would also need to add the following at the end of our model construction phase code:\n",
    "    \n",
    "        logloss_summary = tf.summary.scalar('log_loss', log_loss)\n",
    "        file_writer = tf.summary.FileWriter(logdir, tf.get_default_graph())\n",
    "    \n",
    "The first line adds a new node in the graph that is responsible for calculating the log_loss. This is then converted into a binary log string that called a **summary**, which is format readable for TensorBoard. The second line creates the corresponding FileWriter that is used to write the summaries to the log files in the directory.\n",
    "    \n",
    "**NOTE:** For the FileWriter, if the specified directory (i.e. `logdir`) does not actually exist, **it will automatically create the directory and the preceding parent directories if needed.** The directories specified in the FileWriter object are *relative* to where the current Python file is. Furthermore, the file to which the summaries are written to is also known as an **events file**.\n",
    "\n",
    "After the above modifications are made, we also need to revise the execution phase to evaluate the `logloss_summary` node during training. Again, this will result in a summary that can then in turn be written to the events file. Once all logs are recorded, it is then acceptable to close the FieWriter (i.e. at the end of the program).\n",
    "\n",
    "Let's update our code!"
   ]
  },
  {
   "cell_type": "code",
   "execution_count": 0,
   "metadata": {
    "colab": {},
    "colab_type": "code",
    "id": "m_IN-45Q3eQZ",
    "outputId": "2ac37d83-838c-42eb-c544-27beaa4693d2"
   },
   "outputs": [
    {
     "data": {
      "text/plain": [
       "'tf_logs/run-20190210041621/'"
      ]
     },
     "execution_count": 23,
     "metadata": {
      "tags": []
     },
     "output_type": "execute_result"
    }
   ],
   "source": [
    "from datetime import datetime\n",
    "\n",
    "# function to create our log directories\n",
    "def get_logdir():\n",
    "    now = datetime.utcnow().strftime(\"%Y%m%d%H%M%S\")\n",
    "    root_logdir = \"tf_logs\"\n",
    "    return  \"{}/run-{}/\".format(root_logdir, now)\n",
    "# run this cell to see how the format of our log folders read as\n",
    "get_logdir()"
   ]
  },
  {
   "cell_type": "code",
   "execution_count": 0,
   "metadata": {
    "colab": {},
    "colab_type": "code",
    "id": "0L5dyMtW3eQa"
   },
   "outputs": [],
   "source": [
    "#################################### MODEL CONSTRUCTION ####################################\n",
    "tf.reset_default_graph()\n",
    "m, n = X_train.shape \n",
    "n_classes = len(np.unique(y_train))\n",
    "learning_rate = 0.01\n",
    "epsilon = 0.1 # to prevent underflow\n",
    "\n",
    "X = tf.placeholder(dtype=tf.float32, shape=(None, n), name='X')\n",
    "y = tf.placeholder(dtype=tf.int32, shape=(None), name='y')\n",
    "y_one_hot = tf.one_hot(y, n_classes)\n",
    "\n",
    "W = tf.get_variable(name='weights', shape=[n, n_classes], initializer=random_normal)\n",
    "logits = tf.matmul(X, W)\n",
    "y_proba = tf.nn.softmax(logits, name='predict')\n",
    "\n",
    "log_loss = tf.losses.softmax_cross_entropy(onehot_labels=y_one_hot, logits=logits)\n",
    "optimizer = tf.train.GradientDescentOptimizer(learning_rate=learning_rate)\n",
    "training_op = optimizer.minimize(log_loss)\n",
    "init = tf.global_variables_initializer() \n",
    "saver = tf.train.Saver() \n",
    "\n",
    "# Add lines to write model to file\n",
    "logdir = get_logdir()\n",
    "loss_summary = tf.summary.scalar('log_loss', log_loss) \n",
    "file_writer = tf.summary.FileWriter(logdir, tf.get_default_graph())"
   ]
  },
  {
   "cell_type": "markdown",
   "metadata": {
    "colab_type": "text",
    "id": "HyUzWGDa3eQb"
   },
   "source": [
    "Upon instantiation of `tf.summary.FileWriter`, we can see that TensorFlow immediately creates a file to the directory specified (i.e. in this case the directory is the out of the `get_logdir()` function). This is because on creation, the FileWriter object will create the **\"file stream\"** and continually write to it as the `save()` function is called. Thus, **it is important that you reset the graph on every new session to force a new file (i.e. log directory file) to be created. If not, multiple session runs will result in duplicate event files which is not what we want.**\n",
    "\n",
    "With this in mind, we will now run the model."
   ]
  },
  {
   "cell_type": "code",
   "execution_count": 0,
   "metadata": {
    "colab": {},
    "colab_type": "code",
    "id": "m_OhOesm3eQc",
    "outputId": "5415836f-d5e2-4f1d-ad22-96ebb7603783"
   },
   "outputs": [
    {
     "name": "stdout",
     "output_type": "stream",
     "text": [
      "Epoch 0 Train Loss = 12.2022295 Validation Loss = 12.394914\n",
      "Epoch 250 Train Loss = 1.7059025 Validation Loss = 1.867842\n",
      "Epoch 500 Train Loss = 0.78918654 Validation Loss = 0.98245394\n",
      "Epoch 750 Train Loss = 0.49671638 Validation Loss = 0.7289132\n",
      "Epoch 1000 Train Loss = 0.36092353 Validation Loss = 0.6212871\n",
      "Epoch 1250 Train Loss = 0.28416026 Validation Loss = 0.5610999\n",
      "Epoch 1500 Train Loss = 0.23513268 Validation Loss = 0.5230874\n",
      "Epoch 1750 Train Loss = 0.20198353 Validation Loss = 0.4957424\n",
      "Epoch 2000 Train Loss = 0.17804828 Validation Loss = 0.47562137\n",
      "Epoch 2250 Train Loss = 0.15993229 Validation Loss = 0.4586993\n"
     ]
    },
    {
     "data": {
      "image/png": "[encoded data removed]",
      "text/plain": [
       "<Figure size 432x288 with 1 Axes>"
      ]
     },
     "metadata": {
      "needs_background": "light",
      "tags": []
     },
     "output_type": "display_data"
    },
    {
     "name": "stdout",
     "output_type": "stream",
     "text": [
      "Accuracy: 0.8497495826377296\n",
      "Confusion Matrix:\n",
      " [[164   0   1   2   0   2   5   1   3   0]\n",
      " [  0 150   5   0   6   1   4   4   6   6]\n",
      " [  2   5 155  11   1   0   1   1   1   0]\n",
      " [  0   4   0 151   0   4   0   2  12  10]\n",
      " [  2   3   0   0 169   0   1   3   1   2]\n",
      " [  2   4   2   3   0 165   0   1   1   4]\n",
      " [  1   3   0   0   2   4 170   0   1   0]\n",
      " [  3   0   1   4   3   0   0 164   4   0]\n",
      " [  0  15   5   9   2   7   4   5 112  15]\n",
      " [  5  10   0  12   3   8   2   5   8 127]]\n"
     ]
    }
   ],
   "source": [
    "# MAKE SURE YOU RUN MODEL CONSTRUCTION CELL BEFORE RUNNING THIS CELL\n",
    "def train_model(X_train, y_train, X_val, y_val, epochs=2500, batch_size=300, save_path='./models/my_softmax_model.model'):\n",
    "    # Open a session\n",
    "    with tf.Session() as sess:\n",
    "        sess.run(init)\n",
    "        # Initialize loss values\n",
    "        train_losses = []\n",
    "        val_losses = []\n",
    "        # Initialize batch vALUES\n",
    "        m = len(X_train)\n",
    "        batches = int(m/batch_size)\n",
    "        \n",
    "        # Loop through the graph for n epochs\n",
    "        for epoch in range(epochs):\n",
    "            # Loop through the mini-batches\n",
    "            for batch in range(batches):\n",
    "                # Fetch a new batch\n",
    "                X_batch, y_batch = fetch_batch(batch_size)\n",
    "                # Run the training op\n",
    "                sess.run([training_op], feed_dict={X:X_batch, y:y_batch})\n",
    "                # Save outputs at every batch\n",
    "                summary_str = loss_summary.eval(feed_dict={X: X_batch, y: y_batch})\n",
    "                step = (epoch+1) * (batch + 1)\n",
    "                file_writer.add_summary(summary_str, step)\n",
    "            # Get trianing/validation loss\n",
    "            train_loss = sess.run(log_loss, feed_dict={X:X_train, y:y_train})\n",
    "            val_loss = sess.run(log_loss, feed_dict={X:X_val, y:y_val})\n",
    "            # Save incremental loss values for visualization\n",
    "            train_losses.append(train_loss)\n",
    "            val_losses.append(val_loss)\n",
    "            # Save model and print results at 250 epochs\n",
    "            if epoch % 250 == 0:\n",
    "                saver.save(sess, save_path)\n",
    "                print(\"Epoch\", epoch, \"Train Loss =\", train_loss, \"Validation Loss =\", val_loss)\n",
    "        # Save final model\n",
    "        saver.save(sess, save_path)\n",
    "    # Plot loss values\n",
    "    plt.plot(train_losses, label='training loss')\n",
    "    plt.plot(val_losses, label='validation loss')\n",
    "    plt.legend()\n",
    "    plt.show()\n",
    "    \n",
    "    # Return updated weights\n",
    "    return W_update\n",
    "\n",
    "W_update = train_model(X_train, y_train, X_val, y_val)\n",
    "make_predictions(X_mnist, y_mnist, W_update)"
   ]
  },
  {
   "cell_type": "markdown",
   "metadata": {
    "colab_type": "text",
    "id": "5teUNcKv3eQe"
   },
   "source": [
    "## Accessing Tensorboard\n",
    "\n",
    "To begin, enter this code into the command line (make sure you are in the correct directory first):\n",
    "    \n",
    "    dir tf_logs\n",
    "    \n",
    "The code should give you a list of log file names in tf_logs, and each file should represent a unique model run (assuming you re-ran the construction phase of the code before running the training phase each time)! Now, to open Tensorboard all you have to do is enter the following code in your command line, entering 'tf_logs' directory as the '--logdir' argument:\n",
    "    \n",
    "    tensorboard --logdir tf_logs/\n",
    "    \n",
    "You should see something like this returned:\n",
    "    \n",
    "    TensorBoard 1.12.2 at http://CA47496-MCINI06:6006 (Press CTRL+C to quit)\n",
    "\n",
    "To open TensorBoard, all you have to do is copy and pase the linke provided into your browser.\n",
    "\n",
    "The **graphs** tab should look as follows:\n",
    "\n",
    "<img src='Module 9 images/c4_m9_p2_tb1.png' style=\"float:left;width:1000px;height:600;\">\n",
    "\n"
   ]
  },
  {
   "cell_type": "markdown",
   "metadata": {
    "colab_type": "text",
    "id": "0JHc9ydZ3eQf"
   },
   "source": [
    "The **scalers** tab should look as follows:\n",
    "\n",
    "<img src='Module 9 images/c4_m9_p2_tb2.png' style=\"float:left;width:1000px;height:600;\">\n"
   ]
  },
  {
   "cell_type": "markdown",
   "metadata": {
    "colab_type": "text",
    "id": "QmjphDub3eQf"
   },
   "source": [
    "## Improving you TensorBoard Output\n",
    "\n",
    "Lastly, we can improve upon our TensorBoard output by using name scopes. Using name scopes not only makes your code more readable, it also make the corresponding TensorBoard visualizations easier to follow. Tensorboard will essentially group all of the nodes from a single name scope into a bucket, which can make navigating a models architecture much simpler. See the code below for an example of what this could look like. "
   ]
  },
  {
   "cell_type": "code",
   "execution_count": 0,
   "metadata": {
    "colab": {},
    "colab_type": "code",
    "id": "PoLl3WLx3eQg",
    "outputId": "69ffbcb0-71d7-440f-c74c-05acee27939b"
   },
   "outputs": [
    {
     "name": "stdout",
     "output_type": "stream",
     "text": [
      "Epoch 0 Train Loss = 12.4131365 Validation Loss = 12.572943\n",
      "Epoch 250 Train Loss = 1.5963033 Validation Loss = 1.7275982\n",
      "Epoch 500 Train Loss = 0.8345398 Validation Loss = 0.9931069\n",
      "Epoch 750 Train Loss = 0.55881095 Validation Loss = 0.7114693\n",
      "Epoch 1000 Train Loss = 0.41240004 Validation Loss = 0.5624761\n",
      "Epoch 1250 Train Loss = 0.32239437 Validation Loss = 0.46463266\n",
      "Epoch 1500 Train Loss = 0.26140845 Validation Loss = 0.39910907\n",
      "Epoch 1750 Train Loss = 0.2166153 Validation Loss = 0.35269657\n",
      "Epoch 2000 Train Loss = 0.18503301 Validation Loss = 0.32287103\n",
      "Epoch 2250 Train Loss = 0.16419493 Validation Loss = 0.30122072\n"
     ]
    },
    {
     "data": {
      "image/png": "[encoded data removed]",
      "text/plain": [
       "<Figure size 432x288 with 1 Axes>"
      ]
     },
     "metadata": {
      "needs_background": "light",
      "tags": []
     },
     "output_type": "display_data"
    },
    {
     "name": "stdout",
     "output_type": "stream",
     "text": [
      "Accuracy: 0.8497495826377296\n",
      "Confusion Matrix:\n",
      " [[164   0   1   2   0   2   5   1   3   0]\n",
      " [  0 150   5   0   6   1   4   4   6   6]\n",
      " [  2   5 155  11   1   0   1   1   1   0]\n",
      " [  0   4   0 151   0   4   0   2  12  10]\n",
      " [  2   3   0   0 169   0   1   3   1   2]\n",
      " [  2   4   2   3   0 165   0   1   1   4]\n",
      " [  1   3   0   0   2   4 170   0   1   0]\n",
      " [  3   0   1   4   3   0   0 164   4   0]\n",
      " [  0  15   5   9   2   7   4   5 112  15]\n",
      " [  5  10   0  12   3   8   2   5   8 127]]\n"
     ]
    }
   ],
   "source": [
    "#################################### MODEL CONSTRUCTION ####################################\n",
    "tf.reset_default_graph()\n",
    "m, n = X_train.shape \n",
    "n_classes = len(np.unique(y_train))\n",
    "learning_rate = 0.01\n",
    "epsilon = 0.1 # to prevent underflow\n",
    "\n",
    "with tf.variable_scope('INPUTS'):\n",
    "    X = tf.placeholder(dtype=tf.float32, shape=(None, n), name='X')\n",
    "    y = tf.placeholder(dtype=tf.int32, shape=(None), name='y')\n",
    "    y_one_hot = tf.one_hot(y, n_classes)\n",
    "\n",
    "with tf.variable_scope('LINEAR_FORWARD'):\n",
    "    W = tf.get_variable(name='weights', shape=[n, n_classes], initializer=random_normal)\n",
    "    logits = tf.matmul(X, W, name='logits')\n",
    "    y_proba = tf.nn.softmax(logits, name='predictions') # Add in y_pred node so it can be called to make predictions\n",
    "\n",
    "with tf.variable_scope('LOSS_CALC'):\n",
    "    log_loss = tf.losses.softmax_cross_entropy(onehot_labels=y_one_hot, logits=logits)\n",
    "    optimizer = tf.train.GradientDescentOptimizer(learning_rate=learning_rate)\n",
    "    training_op = optimizer.minimize(log_loss)\n",
    "\n",
    "logdir = get_logdir()\n",
    "with tf.variable_scope('SAVE'):\n",
    "    loss_summary = tf.summary.scalar('log_loss', log_loss) \n",
    "    file_writer = tf.summary.FileWriter(logdir, tf.get_default_graph())\n",
    "    saver = tf.train.Saver() \n",
    "\n",
    "init = tf.global_variables_initializer() \n",
    "\n",
    "#################################### MODEL EXECUTION ####################################\n",
    "def train_model(X_train, y_train, X_val, y_val, epochs=2500, batch_size=300, save_path='./models/my_softmax_model.model'):\n",
    "    # Open a session\n",
    "    with tf.Session() as sess:\n",
    "        sess.run(init)\n",
    "        # Initialize loss values\n",
    "        train_losses = []\n",
    "        val_losses = []\n",
    "        # Initialize batch vALUES\n",
    "        m = len(X_train)\n",
    "        batches = int(m/batch_size)\n",
    "        \n",
    "        # Loop through the graph for n epochs\n",
    "        for epoch in range(epochs):\n",
    "            # Loop through the mini-batches\n",
    "            for batch in range(batches):\n",
    "                # Fetch a new batch\n",
    "                X_batch, y_batch = fetch_batch(batch_size)\n",
    "                # Run the training op\n",
    "                sess.run([training_op], feed_dict={X:X_batch, y:y_batch})\n",
    "                # Save outputs at every batch\n",
    "                summary_str = loss_summary.eval(feed_dict={X: X_batch, y: y_batch})\n",
    "                step = (epoch+1) * (batch + 1)\n",
    "                file_writer.add_summary(summary_str, step)\n",
    "            # Get trianing/validation loss\n",
    "            train_loss = sess.run(log_loss, feed_dict={X:X_train, y:y_train})\n",
    "            val_loss = sess.run(log_loss, feed_dict={X:X_val, y:y_val})\n",
    "            # Save incremental loss values for visualization\n",
    "            train_losses.append(train_loss)\n",
    "            val_losses.append(val_loss)\n",
    "            # Save model and print results at 250 epochs\n",
    "            if epoch % 250 == 0:\n",
    "                saver.save(sess, save_path)\n",
    "                print(\"Epoch\", epoch, \"Train Loss =\", train_loss, \"Validation Loss =\", val_loss)\n",
    "        # Save final model\n",
    "        saver.save(sess, save_path)\n",
    "    # Plot loss values\n",
    "    plt.plot(train_losses, label='training loss')\n",
    "    plt.plot(val_losses, label='validation loss')\n",
    "    plt.legend()\n",
    "    plt.show()\n",
    "    \n",
    "    # Return updated weights\n",
    "    return W_update\n",
    "\n",
    "W_update = train_model(X_train, y_train, X_val, y_val)\n",
    "make_predictions(X_mnist, y_mnist, W_update)"
   ]
  },
  {
   "cell_type": "markdown",
   "metadata": {
    "colab_type": "text",
    "id": "igJJKzcz3eQi"
   },
   "source": [
    "The **graphs** tab should look like after we added variable scopes to our code:\n",
    "\n",
    "<img src='Module 9 images/c4_m9_p2_tb3.png' style=\"float:left;width:1000px;height:600;\">\n"
   ]
  },
  {
   "cell_type": "markdown",
   "metadata": {},
   "source": [
    "**End of Module.** \n",
    "\n",
    "You have reached the end of this module.\n",
    "If you have any questions, please reach out to your peers using the discussion boards. If you and your peers are unable to come to a suitable conclusion, do not hesitate to reach out to your instructor on the designated discussion board.\n",
    "When you are comfortable with the content, and have practiced to your satisfaction, you may proceed to any related assignments, and to the next module."
   ]
  },
  {
   "cell_type": "markdown",
   "metadata": {
    "colab_type": "text",
    "id": "2-3PExnk3eQj"
   },
   "source": [
    "# References\n",
    "\n",
    "Géron, A. (2017). Chapter 9: Up and Running with TensorFlow and Chapter 10: Introduction to Artificial Neural Networks in Hands-On Machine Learning with Scikit-Learn and TensorFlow O’Reilly Media http://shop.oreilly.com/product/0636920052289.do![image.png](attachment:image.png)\n",
    "\n",
    "TensorFlow documentation and tutorials: https://www.tensorflow.org/tutorials\n",
    "\n"
   ]
  },
  {
   "attachments": {},
   "cell_type": "markdown",
   "metadata": {},
   "source": [
    "# Supplemental Material - TensorFlow2.0\n",
    "\n",
    "As the materials for this course were being created, the team at TensorFlow released **TensorFlow 2.0 (TF2)**, the second version of the package. \n",
    "\n",
    "Your knowledge of TensorFlow 1.0 (TF1) will still remain very important; nearly all TensorFlow models are still running on stable TF1 code, and much of the TensorFlow codebase remains that same. That said, there are some exciting updates in TF2 that can vastly improve the model building process and will likely become industry standard relatively quickly, so it’s important that you begin to understand these changes.\n",
    "\n",
    "Some of the major changes include:\n",
    "\n",
    "* **API cleanup**: Many APIs like tf.gans, tf.app, tf.contrib, tf.flags are either gone or moved to separate repositories.\n",
    "* **Eager Execution**: As you might recall, to build a Neural Net in TF1, we needed to define this abstract data structure called a Graph, and then to actually run the graph we needed to use an encapsulation called a Session. With eager execution, this changes. Now, TensorFlow code can be run like normal Python code. Meaning that operations are created and evaluated at once.\n",
    "* **Functions, not sessions**: A session.run() call is almost like a function call: You specify the inputs and the function to be called, and you get back a set of outputs. In TensorFlow 2.0, you can decorate a Python function using tf.function() to mark it for JIT compilation so that TensorFlow runs it as a single graph. That’s right, no more sessions!\n",
    "* **No more globals**: TensorFlow 1.0 relied heavily on implicitly global namespaces. When you called tf.Variable(), it would be put into the default graph, and it would remain there, even if you lost track of the Python variable pointing to it. You could then recover that tf.Variable, but only if you knew the name that it had been created with (which was often a huge pain). TensorFlow 2.0 eliminates all of these mechanisms in favor of the default mechanism: Keep track of your variables! If you lose track of a tf.Variable, it gets garbage collected (essentially erased from memory). The requirement to track variables creates some extra work for the user, but with Keras objects, the burden is minimized.\n",
    "* **Tight integration with Keras**: Keras is now the default and recommended high-level API for TensorFlow. The easiest way to train a model in TF 2.0 is by using the .fit() method on a Keras Sequential or Functional model (we cover Keras in more detail in the next module). This method is ideal for rapid prototyping for any type of model, and saves the user from having to tediously construct complicated model construction and execution pipelines.\n",
    "\n",
    "\n",
    "There are many more exciting changes in TF2, and you are encouraged to take a deep dive into all of them. To get started, take a look at the following sources:\n",
    "* TensorFlow 2.0 documentation: https://www.tensorflow.org/versions/r2.0/api_docs/python/tf\n",
    "* The ‘Effective TensorFlow 2.0 Guide’, produced by the TensorFlow team: https://github.com/tensorflow/docs/blob/master/site/en/r2/guide/effective_tf2.md\n",
    "* Thalles Silva’s very thorough overview of the major changes in this HackerNoon article: https://hackernoon.com/everything-you-need-to-know-about-tensorflow-2-0-b0856960c074\n"
   ]
  },
  {
   "cell_type": "code",
   "execution_count": null,
   "metadata": {},
   "outputs": [],
   "source": []
  }
 ],
 "metadata": {
  "colab": {
   "collapsed_sections": [
    "TNc10gcJ3eQK",
    "ghLGtW7d3eQR"
   ],
   "name": "Module09_Part2_edited_by_ML_MC.ipynb",
   "provenance": [],
   "toc_visible": true,
   "version": "0.3.2"
  },
  "kernelspec": {
   "display_name": "Python 3",
   "language": "python",
   "name": "python3"
  },
  "language_info": {
   "codemirror_mode": {
    "name": "ipython",
    "version": 3
   },
   "file_extension": ".py",
   "mimetype": "text/x-python",
   "name": "python",
   "nbconvert_exporter": "python",
   "pygments_lexer": "ipython3",
   "version": "3.6.8"
  }
 },
 "nbformat": 4,
 "nbformat_minor": 1
}