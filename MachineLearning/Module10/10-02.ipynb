{
 "cells": [
  {
   "cell_type": "markdown",
   "metadata": {
    "colab_type": "text",
    "id": "mWVS9tj6T854",
    "toc-hr-collapsed": true
   },
   "source": [
    "# Module 10 Part 2: Introduction to Neural Networks"
   ]
  },
  {
   "cell_type": "markdown",
   "metadata": {},
   "source": [
    "This module consists of 2 parts:\n",
    "\n",
    "- **Part 1** - Focuses on the fundamentals (including a custom implementation of a feedforward neural network from scratch using NumPy)\n",
    "\n",
    "- **Part 2** - Focuses on using packages like TensorFlow and Keras to rapidly develop and train deep neural network models\n",
    "\n",
    "Each part is provided in a separate notebook file. It is recommended that you follow the order of the notebooks.\n",
    "\n",
    "In the last section, we built a custom neural network model from scratch using NumPy, which was a lot of hard work. Fortunately, we can leverage the power of TensorFlow and Keras to build these models in a much easier fashion. \n",
    "\n",
    "We will build a model using Keras, a high level API that is built on top of TensorFlow which can greatly simplify the model development and testing process."
   ]
  },
  {
   "cell_type": "markdown",
   "metadata": {
    "colab_type": "text",
    "id": "-Vlr3k-kT855"
   },
   "source": [
    "<h1>Table of Contents<span class=\"tocSkip\"></span></h1>\n",
    "<br>\n",
    "<div class=\"toc\">\n",
    "<ul class=\"toc-item\">\n",
    "<li><span><a href=\"#Module-10-Part-2:-Introduction-to-Neural-Networks\" data-toc-modified-id=\"Module-10-Part-2:-Introduction-to-Neural-Networks\">Module 10 Part 2: Introduction to Neural Networks</a></span>\n",
    "</li>\n",
    "<li><span><a href=\"#Table-of-Contents\" data-toc-modified-id=\"Table-of-Contents\">Table of Contents</a></span>\n",
    "</li>\n",
    "<li><span><a href=\"#Neural-Nets-with-Keras\" data-toc-modified-id=\"Neural-Nets-with-Keras\">Neural Nets with Keras</a></span>\n",
    "<ul class=\"toc-item\">\n",
    "<li><span><a href=\"#Load-the-Dataset\" data-toc-modified-id=\"Load-the-Dataset\">Load the Dataset</a></span>\n",
    "</li>\n",
    "<li><span><a href=\"#Keras\" data-toc-modified-id=\"Keras\">Keras</a></span>\n",
    "</li>\n",
    "<li><span><a href=\"#Sequential-Models\" data-toc-modified-id=\"Sequential-Models\">Sequential Models</a></span>\n",
    "</li>\n",
    "<li><span><a href=\"#Functional-API\" data-toc-modified-id=\"Functional-API\">Functional API</a></span>\n",
    "</li>\n",
    "<li><span><a href=\"#Compile-and-Train\" data-toc-modified-id=\"Compile-and-Train\">Compile and Train</a></span>\n",
    "</li>\n",
    "<li><span><a href=\"#Evaluate-and-Predict\" data-toc-modified-id=\"Evaluate-and-Predict\">Evaluate and Predict</a></span>\n",
    "</li>\n",
    "<li><span><a href=\"#Saving-and-Restoring\" data-toc-modified-id=\"Saving-and-Restoring\">Saving and Restoring</a></span>\n",
    "</li>\n",
    "</ul>\n",
    "</li>\n",
    "<li><span><a href=\"#Basic-Fine-Tuning-of-Neural-Networks\" data-toc-modified-id=\"Basic-Fine-Tuning-of-Neural-Networks\">Basic Fine-Tuning of Neural Networks</a></span>\n",
    "<ul class=\"toc-item\">\n",
    "<li><span><a href=\"#Choosing-the-Number-of-Hidden-Layers\" data-toc-modified-id=\"Choosing-the-Number-of-Hidden-Layers\">Choosing the Number of Hidden Layers</a></span>\n",
    "</li>\n",
    "<li><span><a href=\"#Choosing-the-Number-of-Neurons\" data-toc-modified-id=\"Choosing-the-Number-of-Neurons\">Choosing the Number of Neurons</a></span>\n",
    "</li>\n",
    "</ul>\n",
    "</li>\n",
    "<li><span><a href=\"#References\" data-toc-modified-id=\"References\">References</a></span>\n",
    "</li>\n",
    "</ul>\n",
    "</div>"
   ]
  },
  {
   "cell_type": "markdown",
   "metadata": {
    "colab_type": "text",
    "id": "aSHyo8fUT856"
   },
   "source": [
    "# Neural Nets with Keras"
   ]
  },
  {
   "cell_type": "markdown",
   "metadata": {
    "colab_type": "text",
    "id": "KNR6naYwT857"
   },
   "source": [
    "## Load the Dataset"
   ]
  },
  {
   "cell_type": "markdown",
   "metadata": {
    "colab_type": "text",
    "id": "F28Wxt2VT858"
   },
   "source": [
    "Before we dig into model development, we will load our dataset. We will be working with the **Forest CoverType** dataset, available through sklearn's `datasets` API. We have printed the description below. However, for our purposes, all you really need to know is that it is a multi-class problem with 7 classes and 54 features. We will load, normalize, and split the data into training and test sets below."
   ]
  },
  {
   "cell_type": "code",
   "execution_count": 1,
   "metadata": {
    "colab": {
     "base_uri": "https://localhost:8080/",
     "height": 510
    },
    "colab_type": "code",
    "executionInfo": {
     "elapsed": 1200,
     "status": "ok",
     "timestamp": 1565547694816,
     "user": {
      "displayName": "Michael Ciniello",
      "photoUrl": "https://lh4.googleusercontent.com/-Sc81UFAmWWE/AAAAAAAAAAI/AAAAAAAAInI/ccJjIOAmlUo/s64/photo.jpg",
      "userId": "09099206197539783636"
     },
     "user_tz": 240
    },
    "id": "kud4fQ2AT858",
    "outputId": "5a1020e1-4cbc-4f82-ea1c-b0acc7c3eb53"
   },
   "outputs": [
    {
     "name": "stdout",
     "output_type": "stream",
     "text": [
      ".. _covtype_dataset:\n",
      "\n",
      "Forest covertypes\n",
      "-----------------\n",
      "\n",
      "The samples in this dataset correspond to 30×30m patches of forest in the US,\n",
      "collected for the task of predicting each patch's cover type,\n",
      "i.e. the dominant species of tree.\n",
      "There are seven covertypes, making this a multiclass classification problem.\n",
      "Each sample has 54 features, described on the\n",
      "`dataset's homepage <https://archive.ics.uci.edu/ml/datasets/Covertype>`__.\n",
      "Some of the features are boolean indicators,\n",
      "while others are discrete or continuous measurements.\n",
      "\n",
      "**Data Set Characteristics:**\n",
      "\n",
      "    =================   ============\n",
      "    Classes                        7\n",
      "    Samples total             581012\n",
      "    Dimensionality                54\n",
      "    Features                     int\n",
      "    =================   ============\n",
      "\n",
      ":func:`sklearn.datasets.fetch_covtype` will load the covertype dataset;\n",
      "it returns a dictionary-like 'Bunch' object\n",
      "with the feature matrix in the ``data`` member\n",
      "and the target values in ``target``. If optional argument 'as_frame' is\n",
      "set to 'True', it will return ``data`` and ``target`` as pandas\n",
      "data frame, and there will be an additional member ``frame`` as well.\n",
      "The dataset will be downloaded from the web if necessary.\n",
      "\n"
     ]
    }
   ],
   "source": [
    "from sklearn import datasets\n",
    "data = datasets.fetch_covtype()\n",
    "print(data['DESCR'])"
   ]
  },
  {
   "cell_type": "code",
   "execution_count": 2,
   "metadata": {
    "colab": {
     "base_uri": "https://localhost:8080/",
     "height": 119
    },
    "colab_type": "code",
    "executionInfo": {
     "elapsed": 2552,
     "status": "ok",
     "timestamp": 1565547696177,
     "user": {
      "displayName": "Michael Ciniello",
      "photoUrl": "https://lh4.googleusercontent.com/-Sc81UFAmWWE/AAAAAAAAAAI/AAAAAAAAInI/ccJjIOAmlUo/s64/photo.jpg",
      "userId": "09099206197539783636"
     },
     "user_tz": 240
    },
    "id": "YwptICzUT86A",
    "outputId": "4340cca3-d207-4a08-8efd-225805905bbc"
   },
   "outputs": [
    {
     "name": "stdout",
     "output_type": "stream",
     "text": [
      "X_train shape: (435759, 54)\n",
      "X_test shape: (145253, 54)\n",
      "y_train shape: (435759, 7)\n",
      "y_test shape: (145253, 7)\n",
      "n_inputs: 54\n",
      "n_classes: 7\n"
     ]
    }
   ],
   "source": [
    "from sklearn.preprocessing import StandardScaler\n",
    "from sklearn.model_selection import train_test_split\n",
    "from sklearn.preprocessing import OneHotEncoder\n",
    "import matplotlib.pyplot as plt\n",
    "from datetime import datetime\n",
    "from time import time\n",
    "import numpy as np\n",
    "import os\n",
    "\n",
    "X_raw = data['data']\n",
    "X_raw_scaled = StandardScaler().fit_transform(X_raw)\n",
    "y_raw = data['target']\n",
    "y_raw_oh = OneHotEncoder(categories='auto', sparse=False).fit_transform(y_raw.reshape(-1,1))\n",
    "\n",
    "X_train, X_test, y_train, y_test = train_test_split(X_raw_scaled, y_raw_oh, shuffle=True)\n",
    "n_classes = len(np.unique(y_raw))\n",
    "n_inputs = X_train.shape[1]\n",
    "\n",
    "print(\"X_train shape:\", X_train.shape)\n",
    "print(\"X_test shape:\", X_test.shape)\n",
    "print(\"y_train shape:\", y_train.shape)\n",
    "print(\"y_test shape:\", y_test.shape)\n",
    "print(\"n_inputs:\", n_inputs)\n",
    "print(\"n_classes:\", n_classes)"
   ]
  },
  {
   "cell_type": "markdown",
   "metadata": {
    "colab_type": "text",
    "id": "fxacdR9ET86f"
   },
   "source": [
    "## Keras "
   ]
  },
  {
   "cell_type": "markdown",
   "metadata": {
    "colab_type": "text",
    "id": "NxLIy6fxT86g"
   },
   "source": [
    "**Keras** is a high-level API used for quickly developing and testing neural network models, and can leverage lower level graph-based architectures on the backend (e.g. TensorFlow or Theano). To clarify, it is important to understand that most deep learning frameworks operate at 2 levels of abstraction:\n",
    "\n",
    "1. **Lower Level:** This is where frameworks like Tensorflow, MXNet, Theano, and PyTorch sit. This is the level where mathematical operations like matrix multiplication and convolutional operations are implemented.<br><br>\n",
    "\n",
    "2. **Higher Level:** This is where frameworks like Keras sit. At this level, the lower level functions are used to implement neural network abstractions such as layers and models. Generally, at this level other helpful APIs like model saving and model training are also implemented.\n",
    "\n",
    "As noted, Keras can be used with multiple backends. In fact, if you install Keras and import it as is, you should automatically get a message stating that it is running Keras \"Using TensorFlow backend\" (this will only display the first time you import the Keras module). If you plan to actively maintain framework-agnostic code (e.g. if you want to run your models using Theano or PyTorch as well), using Keras-only code is your only choice.\n",
    "\n",
    "That said, the implementation we will be working with is called `tf.keras`, which is an implementation of Keras **implemented exclusively with/for TensorFlow**. Although `tf.keras` and `Keras` have separate code bases, they are tightly coupled. With updated documentation and programmer guides, `tf.keras` is clearly the high level API to look for when building neural networks with TensorFlow. As a rule of thumb, you should try not to mix base `tf` code with `tf.keras` code. Most things in TensorFlow will have a corresponding `tf.keras` implementation (though the level of customization may be lower). So, unless you need something very custom and specific, try to stick with the `tf.keras` code\n",
    "\n",
    "**NOTE**: When we refer to Keras henceforth, we will be referring strictly to `tf.keras` (though much of the implementation would look the same either way)."
   ]
  },
  {
   "cell_type": "markdown",
   "metadata": {
    "colab_type": "text",
    "id": "ZLgqFaFwT86h"
   },
   "source": [
    "With Keras there are two main methods for building models:\n",
    "\n",
    "1. **Sequential API:** Which allows you to stack layers in a linear fashion, one after the other. This doesn't allow for flexible model architectures, but is great for building simple models very quickly.<br><br>\n",
    "\n",
    "2. **Functional API**: Which allows for more flexibility in your model architecture (multiple inputs/outputs, reusing parameters, etc). This requires a bit more finesse, but can be very useful for advanced and complex architectures.\n",
    "\n",
    "We will go through both of these strategies now."
   ]
  },
  {
   "cell_type": "code",
   "execution_count": 3,
   "metadata": {
    "colab": {
     "base_uri": "https://localhost:8080/",
     "height": 34
    },
    "colab_type": "code",
    "executionInfo": {
     "elapsed": 82570,
     "status": "ok",
     "timestamp": 1565547776271,
     "user": {
      "displayName": "Michael Ciniello",
      "photoUrl": "https://lh4.googleusercontent.com/-Sc81UFAmWWE/AAAAAAAAAAI/AAAAAAAAInI/ccJjIOAmlUo/s64/photo.jpg",
      "userId": "09099206197539783636"
     },
     "user_tz": 240
    },
    "id": "zKH015bxT86i",
    "outputId": "87aee4ac-4813-45de-f501-d62bdddec245"
   },
   "outputs": [
    {
     "name": "stdout",
     "output_type": "stream",
     "text": [
      "2.4.0\n"
     ]
    }
   ],
   "source": [
    "# Loading tf.keras (TensorFlow specific implementation of Keras) \n",
    "import tensorflow as tf\n",
    "from tensorflow import keras \n",
    "import tensorflow.keras.backend as K\n",
    "print(tf.keras.__version__)"
   ]
  },
  {
   "cell_type": "markdown",
   "metadata": {
    "colab_type": "text",
    "id": "i6xAY26AT86l"
   },
   "source": [
    "## Sequential Models"
   ]
  },
  {
   "cell_type": "markdown",
   "metadata": {
    "colab_type": "text",
    "id": "G9vLZVdET86l"
   },
   "source": [
    "With the `Sequential` method, you assemble your model one layer at a time. To build a simple, fully-connected network we would do the following:"
   ]
  },
  {
   "cell_type": "code",
   "execution_count": 4,
   "metadata": {
    "colab": {
     "base_uri": "https://localhost:8080/",
     "height": 255
    },
    "colab_type": "code",
    "executionInfo": {
     "elapsed": 82563,
     "status": "ok",
     "timestamp": 1565547776271,
     "user": {
      "displayName": "Michael Ciniello",
      "photoUrl": "https://lh4.googleusercontent.com/-Sc81UFAmWWE/AAAAAAAAAAI/AAAAAAAAInI/ccJjIOAmlUo/s64/photo.jpg",
      "userId": "09099206197539783636"
     },
     "user_tz": 240
    },
    "id": "OVrb0YbGT86m",
    "outputId": "3fa44b23-6443-46ff-cb2c-be39022a4502"
   },
   "outputs": [
    {
     "name": "stdout",
     "output_type": "stream",
     "text": [
      "Model: \"sequential\"\n",
      "_________________________________________________________________\n",
      "Layer (type)                 Output Shape              Param #   \n",
      "=================================================================\n",
      "dense (Dense)                (None, 32)                1760      \n",
      "_________________________________________________________________\n",
      "dense_1 (Dense)              (None, 32)                1056      \n",
      "_________________________________________________________________\n",
      "dense_2 (Dense)              (None, 7)                 231       \n",
      "=================================================================\n",
      "Total params: 3,047\n",
      "Trainable params: 3,047\n",
      "Non-trainable params: 0\n",
      "_________________________________________________________________\n"
     ]
    }
   ],
   "source": [
    "# Clear the session (similar to tf.reset_default_graph)\n",
    "K.clear_session()\n",
    "\n",
    "# Initialize model\n",
    "model = keras.Sequential()\n",
    "# Adds a densely-connected layer with 32 units to the model. Specify the input_shape for the first layer!\n",
    "model.add(keras.layers.Dense(units=32, activation='relu', input_shape=(54,)))\n",
    "# Add another:\n",
    "model.add(keras.layers.Dense(units=32, activation='relu'))\n",
    "# Add a softmax layer with 10 output units:\n",
    "model.add(keras.layers.Dense(units=7, activation='softmax'))\n",
    "\n",
    "# Print model summary\n",
    "model.summary()"
   ]
  },
  {
   "cell_type": "markdown",
   "metadata": {
    "colab_type": "text",
    "id": "38JijGEBT86r"
   },
   "source": [
    "There are a few main components to explain here:\n",
    "\n",
    "- `tf.keras.Sequential()`: This initializes our model. You can think of this as setting up a blank graph, to which we will simply add layers one at a time.\n",
    "\n",
    "\n",
    "- `model.add()`: Once we have initialized our model, we can simply add layers to it with the `.add` method, through which we pass the layer type we want to add.\n",
    "\n",
    "\n",
    "- `keras.layers.Dense()`: We use this function to tell `model.add()` that we'd like to add a fully-connected dense layer to our model. In this function we specify the number of neurons (`inputs`), and the activation function. Note that the first time we add a layer, we must specify the `input_shape` so the model knows what to expect for our `X` values.\n",
    "\n",
    "\n",
    "- `model.summary()`: This method gives us a quick and simple summary of our model layers, with the output layer type, output shape, and number of parameters in each layer.\n",
    "\n",
    "We use `tf.keras.layers.Dense` to sequentially add layers to the model. `tf.keras.layers.Dense` is a \"tensorflow-keras\" layer while `tf.layers.Dense` is a TensorFlow \"native layer\". However, the arguments for both are almost identical (again, we won't go into the details of most of these arguments for now, as you will only need the `units`, `activation`, `use_bias`, and `kernel_initializer` for our purposes).\n",
    "\n",
    "\n",
    "**`tf.layers.Dense` arguments:**\n",
    "- `(['units', 'activation=None', 'use_bias=True', 'kernel_initializer=None', 'bias_initializer=<tensorflow.python.ops.init_ops.Zeros object at 0x0000014437E068D0>', 'kernel_regularizer=None', 'bias_regularizer=None', 'activity_regularizer=None', 'kernel_constraint=None', 'bias_constraint=None', 'trainable=True', 'name=None', '**kwargs'])`\n",
    "\n",
    "**`tf.keras.layers.Dense` arguments:**\n",
    "- `(['units', 'activation=None', 'use_bias=True', \"kernel_initializer='glorot_uniform'\", \"bias_initializer='zeros'\", 'kernel_regularizer=None', 'bias_regularizer=None', 'activity_regularizer=None', 'kernel_constraint=None', 'bias_constraint=None', '**kwargs'])`\n",
    ")\n",
    "\n",
    "The `tf.layers` module is Tensorflow's attempt at creating a Keras-like API (as mentioned, Keras can be run with various neural net frameworks other than TensorFlow), whereas `tf.keras.layers` is simply a compatibility wrapper that leverages the underlying TensorFlow architecture. In fact, most of the `tf.keras.layers` implementation refers back to `tf.layers`, for example `tf.keras.layers.Dense` inherits the [core TensorFlow implementation](https://github.com/tensorflow/tensorflow/blob/23c218785eac5bfe737eec4f8081fd0ef8e0684d/tensorflow/python/keras/_impl/keras/layers/core.py#L728).\n",
    "\n",
    "\n",
    "**Note that you cannot use a native TensorFlow layer directly within a Keras model, as it will be missing certain attributes required by the Keras API &mdash; give it a try above, and you will get some funky errors!** However, it is possible to use a TensorFlow native layer if it is wrapped within a `tf.keras` [Lambda layer](https://www.tensorflow.org/api_docs/python/tf/keras/layers/Lambda). It is recommended that you stick to one or the other as mixing them can create some unexpected compatibility issues."
   ]
  },
  {
   "cell_type": "markdown",
   "metadata": {
    "colab_type": "text",
    "id": "0uAREZjyT86r"
   },
   "source": [
    "We can also build our model by passing in a list of layers into the actual `tf.keras.Sequential` class. From here we can continue to add layers as we please, just as we did above. We have also added some code to explore the \"model configuration\" using the `.get_config()` attribute."
   ]
  },
  {
   "cell_type": "code",
   "execution_count": 5,
   "metadata": {
    "colab": {
     "base_uri": "https://localhost:8080/",
     "height": 255
    },
    "colab_type": "code",
    "executionInfo": {
     "elapsed": 82845,
     "status": "ok",
     "timestamp": 1565547776559,
     "user": {
      "displayName": "Michael Ciniello",
      "photoUrl": "https://lh4.googleusercontent.com/-Sc81UFAmWWE/AAAAAAAAAAI/AAAAAAAAInI/ccJjIOAmlUo/s64/photo.jpg",
      "userId": "09099206197539783636"
     },
     "user_tz": 240
    },
    "id": "JaOvWjJGT86s",
    "outputId": "80be4ab6-834d-4d63-d005-081ce662f37f"
   },
   "outputs": [
    {
     "name": "stdout",
     "output_type": "stream",
     "text": [
      "Model: \"sequential\"\n",
      "_________________________________________________________________\n",
      "Layer (type)                 Output Shape              Param #   \n",
      "=================================================================\n",
      "dense (Dense)                (None, 32)                1760      \n",
      "_________________________________________________________________\n",
      "dense_1 (Dense)              (None, 32)                1056      \n",
      "_________________________________________________________________\n",
      "dense_2 (Dense)              (None, 7)                 231       \n",
      "=================================================================\n",
      "Total params: 3,047\n",
      "Trainable params: 3,047\n",
      "Non-trainable params: 0\n",
      "_________________________________________________________________\n"
     ]
    }
   ],
   "source": [
    "K.clear_session()\n",
    "model = keras.Sequential([\n",
    "        # Adds a densely-connected layer with 64 units to the model:\n",
    "        keras.layers.Dense(32, activation='relu', input_shape=(54,)),\n",
    "        # Add another:\n",
    "        keras.layers.Dense(32, activation='relu')])\n",
    "# Add a final softmax layer\n",
    "model.add(keras.layers.Dense(7, activation='softmax'))\n",
    "model.summary()"
   ]
  },
  {
   "cell_type": "code",
   "execution_count": 6,
   "metadata": {
    "colab": {
     "base_uri": "https://localhost:8080/",
     "height": 139
    },
    "colab_type": "code",
    "executionInfo": {
     "elapsed": 82839,
     "status": "ok",
     "timestamp": 1565547776560,
     "user": {
      "displayName": "Michael Ciniello",
      "photoUrl": "https://lh4.googleusercontent.com/-Sc81UFAmWWE/AAAAAAAAAAI/AAAAAAAAInI/ccJjIOAmlUo/s64/photo.jpg",
      "userId": "09099206197539783636"
     },
     "user_tz": 240
    },
    "id": "8QZcCeZCT86t",
    "outputId": "23997548-23b2-4a81-b79f-ea1f5cf1984b"
   },
   "outputs": [
    {
     "name": "stdout",
     "output_type": "stream",
     "text": [
      "name\n",
      "sequential \n",
      "\n",
      "layers\n",
      "[{'class_name': 'InputLayer', 'config': {'batch_input_shape': (None, 54), 'dtype': 'float32', 'sparse': False, 'ragged': False, 'name': 'dense_input'}}, {'class_name': 'Dense', 'config': {'name': 'dense', 'trainable': True, 'batch_input_shape': (None, 54), 'dtype': 'float32', 'units': 32, 'activation': 'relu', 'use_bias': True, 'kernel_initializer': {'class_name': 'GlorotUniform', 'config': {'seed': None}}, 'bias_initializer': {'class_name': 'Zeros', 'config': {}}, 'kernel_regularizer': None, 'bias_regularizer': None, 'activity_regularizer': None, 'kernel_constraint': None, 'bias_constraint': None}}, {'class_name': 'Dense', 'config': {'name': 'dense_1', 'trainable': True, 'dtype': 'float32', 'units': 32, 'activation': 'relu', 'use_bias': True, 'kernel_initializer': {'class_name': 'GlorotUniform', 'config': {'seed': None}}, 'bias_initializer': {'class_name': 'Zeros', 'config': {}}, 'kernel_regularizer': None, 'bias_regularizer': None, 'activity_regularizer': None, 'kernel_constraint': None, 'bias_constraint': None}}, {'class_name': 'Dense', 'config': {'name': 'dense_2', 'trainable': True, 'dtype': 'float32', 'units': 7, 'activation': 'softmax', 'use_bias': True, 'kernel_initializer': {'class_name': 'GlorotUniform', 'config': {'seed': None}}, 'bias_initializer': {'class_name': 'Zeros', 'config': {}}, 'kernel_regularizer': None, 'bias_regularizer': None, 'activity_regularizer': None, 'kernel_constraint': None, 'bias_constraint': None}}] \n",
      "\n"
     ]
    }
   ],
   "source": [
    "# Check out model config\n",
    "for key, val in model.get_config().items():\n",
    "    print(key)\n",
    "    print(val, \"\\n\")"
   ]
  },
  {
   "cell_type": "markdown",
   "metadata": {
    "colab_type": "text",
    "id": "CjZMSDigT86w"
   },
   "source": [
    "## Functional API\n",
    "\n",
    "The `tf.keras.Sequential` model is a simple stack of layers that cannot represent arbitrary models. However, we often want to construct models with more complex topologies, including:\n",
    " \n",
    "- Multi-input models\n",
    "- Multi-output models\n",
    "- Models with shared layers (the same layer called several times)\n",
    "- Models with non-sequential data flows (e.g. residual connections)\n",
    "\n",
    "For these kinds of models, we use the [Keras functional API](https://keras.io/getting-started/functional-api-guide/). The development process is slightly different, but most of the functionality will remain the same. Let's reconstruct our simple classification model using the functional API."
   ]
  },
  {
   "cell_type": "code",
   "execution_count": 7,
   "metadata": {
    "colab": {
     "base_uri": "https://localhost:8080/",
     "height": 289
    },
    "colab_type": "code",
    "executionInfo": {
     "elapsed": 82832,
     "status": "ok",
     "timestamp": 1565547776560,
     "user": {
      "displayName": "Michael Ciniello",
      "photoUrl": "https://lh4.googleusercontent.com/-Sc81UFAmWWE/AAAAAAAAAAI/AAAAAAAAInI/ccJjIOAmlUo/s64/photo.jpg",
      "userId": "09099206197539783636"
     },
     "user_tz": 240
    },
    "id": "0ehAjj33T86x",
    "outputId": "089a1273-d3b1-441b-a057-eda626722ba8"
   },
   "outputs": [
    {
     "name": "stdout",
     "output_type": "stream",
     "text": [
      "Model: \"my_functional_model\"\n",
      "_________________________________________________________________\n",
      "Layer (type)                 Output Shape              Param #   \n",
      "=================================================================\n",
      "X_Inputs (InputLayer)        [(None, 54)]              0         \n",
      "_________________________________________________________________\n",
      "Layer_1 (Dense)              (None, 32)                1760      \n",
      "_________________________________________________________________\n",
      "Layer_2 (Dense)              (None, 32)                1056      \n",
      "_________________________________________________________________\n",
      "Y_Outputs (Dense)            (None, 7)                 231       \n",
      "=================================================================\n",
      "Total params: 3,047\n",
      "Trainable params: 3,047\n",
      "Non-trainable params: 0\n",
      "_________________________________________________________________\n"
     ]
    }
   ],
   "source": [
    "K.clear_session()\n",
    "# Declare input layer\n",
    "X = keras.Input(shape=(54,), name='X_Inputs')  # Returns a placeholder tensor\n",
    "\n",
    "# Feed layers into one another sequentially\n",
    "L1 = keras.layers.Dense(32, activation='relu', kernel_initializer='random_uniform', name='Layer_1')(inputs=X)\n",
    "L2 = keras.layers.Dense(32, activation='relu', kernel_initializer='random_uniform', name='Layer_2')(inputs=L1)\n",
    "y_proba = keras.layers.Dense(7, activation='softmax', kernel_initializer='random_uniform', name='Y_Outputs')(inputs=L2)\n",
    "\n",
    "# Feed X and y_proba into keras.Model class\n",
    "model = tf.keras.Model(inputs=[X], outputs=[y_proba], name='my_functional_model')\n",
    "\n",
    "model.summary()"
   ]
  },
  {
   "cell_type": "code",
   "execution_count": 8,
   "metadata": {
    "colab": {
     "base_uri": "https://localhost:8080/",
     "height": 241
    },
    "colab_type": "code",
    "executionInfo": {
     "elapsed": 82826,
     "status": "ok",
     "timestamp": 1565547776561,
     "user": {
      "displayName": "Michael Ciniello",
      "photoUrl": "https://lh4.googleusercontent.com/-Sc81UFAmWWE/AAAAAAAAAAI/AAAAAAAAInI/ccJjIOAmlUo/s64/photo.jpg",
      "userId": "09099206197539783636"
     },
     "user_tz": 240
    },
    "id": "qp1ta1xwT86y",
    "outputId": "882c07e4-fa72-4f68-ef35-61ea996f3c77"
   },
   "outputs": [
    {
     "name": "stdout",
     "output_type": "stream",
     "text": [
      "name\n",
      "my_functional_model \n",
      "\n",
      "layers\n",
      "[{'class_name': 'InputLayer', 'config': {'batch_input_shape': (None, 54), 'dtype': 'float32', 'sparse': False, 'ragged': False, 'name': 'X_Inputs'}, 'name': 'X_Inputs', 'inbound_nodes': []}, {'class_name': 'Dense', 'config': {'name': 'Layer_1', 'trainable': True, 'dtype': 'float32', 'units': 32, 'activation': 'relu', 'use_bias': True, 'kernel_initializer': {'class_name': 'RandomUniform', 'config': {'minval': -0.05, 'maxval': 0.05, 'seed': None}}, 'bias_initializer': {'class_name': 'Zeros', 'config': {}}, 'kernel_regularizer': None, 'bias_regularizer': None, 'activity_regularizer': None, 'kernel_constraint': None, 'bias_constraint': None}, 'name': 'Layer_1', 'inbound_nodes': [[['X_Inputs', 0, 0, {}]]]}, {'class_name': 'Dense', 'config': {'name': 'Layer_2', 'trainable': True, 'dtype': 'float32', 'units': 32, 'activation': 'relu', 'use_bias': True, 'kernel_initializer': {'class_name': 'RandomUniform', 'config': {'minval': -0.05, 'maxval': 0.05, 'seed': None}}, 'bias_initializer': {'class_name': 'Zeros', 'config': {}}, 'kernel_regularizer': None, 'bias_regularizer': None, 'activity_regularizer': None, 'kernel_constraint': None, 'bias_constraint': None}, 'name': 'Layer_2', 'inbound_nodes': [[['Layer_1', 0, 0, {}]]]}, {'class_name': 'Dense', 'config': {'name': 'Y_Outputs', 'trainable': True, 'dtype': 'float32', 'units': 7, 'activation': 'softmax', 'use_bias': True, 'kernel_initializer': {'class_name': 'RandomUniform', 'config': {'minval': -0.05, 'maxval': 0.05, 'seed': None}}, 'bias_initializer': {'class_name': 'Zeros', 'config': {}}, 'kernel_regularizer': None, 'bias_regularizer': None, 'activity_regularizer': None, 'kernel_constraint': None, 'bias_constraint': None}, 'name': 'Y_Outputs', 'inbound_nodes': [[['Layer_2', 0, 0, {}]]]}] \n",
      "\n",
      "input_layers\n",
      "[['X_Inputs', 0, 0]] \n",
      "\n",
      "output_layers\n",
      "[['Y_Outputs', 0, 0]] \n",
      "\n"
     ]
    }
   ],
   "source": [
    "# Check out model config\n",
    "for key, val in model.get_config().items():\n",
    "    print(key)\n",
    "    print(val, \"\\n\")"
   ]
  },
  {
   "cell_type": "markdown",
   "metadata": {
    "colab_type": "text",
    "id": "niWBQ8rWT860"
   },
   "source": [
    "There are a couple of major differences to take note of here:\n",
    "\n",
    "1. Instead of passing in an `input_shape` argument into our first layer as we did with the Sequential model, we instead must define a `tf.keras.Input` class, which is then then fed into the `tf.keras.Model` class. Setting up our model this way allows us to specify multiple inputs and outputs, and gives us more flexibility when designing our model structures. Note that we feed in `y_proba` (the last layer of our model) to the `outputs` argument of `tf.keras.Model`.<br><br>\n",
    "\n",
    "2. Just as we did with the `tf.layers` model in the TensorFlow implementation section, when using the functional API we have to sequentially pass the layers into one another. In this way, the functional API combines the flexibility of TensorFlow, with the ease of development of the Keras high level API. \n",
    "\n",
    "Once we have defined our layers and passed the input and output tensors (or rather, the variables that reference the tensors) into a `tf.keras.Model` class, everything else stays the same as with the Sequential API. We can call the usual methods `.fit`, `.evaluate`, and `.predict` (as we will discuss shortly) on all of the above `tf.keras` models.\n",
    "\n",
    "**NOTE**: The `.get_config()` output is slightly different for functional API models. This is because the flexible architecture requires a slightly more complex configuration. You are encouraged to compare the config output above with that of the previous model."
   ]
  },
  {
   "cell_type": "markdown",
   "metadata": {
    "colab_type": "text",
    "id": "tVctgMlgT862"
   },
   "source": [
    "## Compile and Train"
   ]
  },
  {
   "cell_type": "markdown",
   "metadata": {
    "colab_type": "text",
    "id": "wVgt-tn-T862"
   },
   "source": [
    "After the model is constructed, we can configure its learning process by calling the `tf.keras.Model.compile` method. The compile method takes three important arguments:\n",
    "\n",
    "1. **`optimizer`**: This object specifies the training procedure. You can pass it optimizer instances from the `tf.keras.optimizers` module, such as `tf.keras.optimizers.SGD` (Stochastic Gradient Descent), `tf.keras.optimizers.RMSprop`, or `tf.keras.optimizers.Adam`. Note that you must call these optimizers first, passing in the required parameters (see below for an example).<br><br>\n",
    "\n",
    "2. **`loss`**: The function to minimize during optimization. Common choices include mean square error (MSE), `categorical_crossentropy`, and `binary_crossentropy`. Loss functions are specified by name (string) or by passing a callable object from the `tf.keras.losses` module.<br><br>\n",
    "\n",
    "3. **`metrics`**: Used to monitor training. These are string names or callables from the `tf.keras.metrics` module.\n",
    "\n",
    "The `compile` method essentially sets up our model so that it is ready for training. In the next cell, we create a model and compile it with a gradient descent optimizer using categorical cross-entropy as the loss function."
   ]
  },
  {
   "cell_type": "code",
   "execution_count": 9,
   "metadata": {
    "colab": {
     "base_uri": "https://localhost:8080/",
     "height": 289
    },
    "colab_type": "code",
    "executionInfo": {
     "elapsed": 82817,
     "status": "ok",
     "timestamp": 1565547776561,
     "user": {
      "displayName": "Michael Ciniello",
      "photoUrl": "https://lh4.googleusercontent.com/-Sc81UFAmWWE/AAAAAAAAAAI/AAAAAAAAInI/ccJjIOAmlUo/s64/photo.jpg",
      "userId": "09099206197539783636"
     },
     "user_tz": 240
    },
    "id": "OHO-LVikT864",
    "outputId": "3bd27bb4-c6a5-497d-e981-14d97862a6b3"
   },
   "outputs": [
    {
     "name": "stdout",
     "output_type": "stream",
     "text": [
      "[<KerasTensor: shape=(None, 54) dtype=float32 (created by layer 'dense_input')>]\n",
      "[<KerasTensor: shape=(None, 7) dtype=float32 (created by layer 'dense_2')>]\n",
      "Model: \"sequential\"\n",
      "_________________________________________________________________\n",
      "Layer (type)                 Output Shape              Param #   \n",
      "=================================================================\n",
      "dense (Dense)                (None, 32)                1760      \n",
      "_________________________________________________________________\n",
      "dense_1 (Dense)              (None, 32)                1056      \n",
      "_________________________________________________________________\n",
      "dense_2 (Dense)              (None, 7)                 231       \n",
      "=================================================================\n",
      "Total params: 3,047\n",
      "Trainable params: 3,047\n",
      "Non-trainable params: 0\n",
      "_________________________________________________________________\n"
     ]
    }
   ],
   "source": [
    "K.clear_session()\n",
    "model = keras.Sequential([keras.layers.Dense(32, activation='relu', input_shape=(54,)),\n",
    "                             keras.layers.Dense(32, activation='relu'),\n",
    "                             keras.layers.Dense(7, activation='softmax')]) # 7 classes \n",
    "\n",
    "# Compile the model using Gradient Descent\n",
    "optimizer = tf.keras.optimizers.SGD(lr=0.01)\n",
    "model.compile(optimizer=optimizer, loss='categorical_crossentropy', metrics=['accuracy'])\n",
    "\n",
    "print(model.inputs)\n",
    "print(model.outputs)\n",
    "model.summary()"
   ]
  },
  {
   "cell_type": "markdown",
   "metadata": {
    "colab_type": "text",
    "id": "RusQt0E3T866"
   },
   "source": [
    "Training (or fitting) a model with Keras is extremely simple, and very much resembles the simple `.fit` methodology used by Scikit-learn. To fit a Keras model, all you have to do is call `tf.keras.Model.fit`, which takes in three important arguments:\n",
    "\n",
    "1. **`epochs`**: An epoch is one iteration over the entire input dataset.<br><br>\n",
    "\n",
    "2. **`batch_size`**: When passed NumPy data, the model slices the data into smaller batches and iterates over these batches during training. This integer specifies the size of each batch. Be aware that the last batch may be smaller if the total number of samples is not divisible by the batch size.<br><br>\n",
    "\n",
    "3. **`validation_data`**: When prototyping a model, you want to be able to easily monitor its performance on some validation data. Passing this argument &mdash; a tuple of inputs and labels &mdash; allows the model to display the loss and metrics in inference mode for the passed data, at the end of each epoch.\n",
    "\n",
    "Let's train with a batch size of 3,200 for 30 epochs.\n",
    "\n",
    "**NOTE**: Keras produces a progress bar to track the model training. You can change how much training information you want to see with the `verbose` argument."
   ]
  },
  {
   "cell_type": "code",
   "execution_count": 11,
   "metadata": {
    "colab": {
     "base_uri": "https://localhost:8080/",
     "height": 1000
    },
    "colab_type": "code",
    "executionInfo": {
     "elapsed": 157646,
     "status": "ok",
     "timestamp": 1565547851398,
     "user": {
      "displayName": "Michael Ciniello",
      "photoUrl": "https://lh4.googleusercontent.com/-Sc81UFAmWWE/AAAAAAAAAAI/AAAAAAAAInI/ccJjIOAmlUo/s64/photo.jpg",
      "userId": "09099206197539783636"
     },
     "user_tz": 240
    },
    "id": "br6dNEIaT867",
    "outputId": "8d0ef63f-ed68-439b-ae5f-2f2b9fb5e003"
   },
   "outputs": [
    {
     "name": "stdout",
     "output_type": "stream",
     "text": [
      "Model: \"sequential\"\n",
      "_________________________________________________________________\n",
      "Layer (type)                 Output Shape              Param #   \n",
      "=================================================================\n",
      "dense (Dense)                (None, 32)                1760      \n",
      "_________________________________________________________________\n",
      "dense_1 (Dense)              (None, 32)                1056      \n",
      "_________________________________________________________________\n",
      "dense_2 (Dense)              (None, 7)                 231       \n",
      "=================================================================\n",
      "Total params: 3,047\n",
      "Trainable params: 3,047\n",
      "Non-trainable params: 0\n",
      "_________________________________________________________________\n",
      "Epoch 1/50\n",
      "137/137 [==============================] - 1s 5ms/step - loss: 1.8711 - accuracy: 0.4697 - val_loss: 1.6794 - val_accuracy: 0.4869\n",
      "Epoch 2/50\n",
      "137/137 [==============================] - 0s 3ms/step - loss: 1.6307 - accuracy: 0.4865 - val_loss: 1.5087 - val_accuracy: 0.4869\n",
      "Epoch 3/50\n",
      "137/137 [==============================] - 0s 3ms/step - loss: 1.4760 - accuracy: 0.4887 - val_loss: 1.4012 - val_accuracy: 0.4869\n",
      "Epoch 4/50\n",
      "137/137 [==============================] - 0s 3ms/step - loss: 1.3791 - accuracy: 0.4879 - val_loss: 1.3328 - val_accuracy: 0.4869\n",
      "Epoch 5/50\n",
      "137/137 [==============================] - 0s 3ms/step - loss: 1.3181 - accuracy: 0.4888 - val_loss: 1.2886 - val_accuracy: 0.4869\n",
      "Epoch 6/50\n",
      "137/137 [==============================] - 1s 4ms/step - loss: 1.2757 - accuracy: 0.4888 - val_loss: 1.2597 - val_accuracy: 0.4869\n",
      "Epoch 7/50\n",
      "137/137 [==============================] - 0s 3ms/step - loss: 1.2514 - accuracy: 0.4890 - val_loss: 1.2401 - val_accuracy: 0.4869\n",
      "Epoch 8/50\n",
      "137/137 [==============================] - 0s 4ms/step - loss: 1.2324 - accuracy: 0.4882 - val_loss: 1.2260 - val_accuracy: 0.4869\n",
      "Epoch 9/50\n",
      "137/137 [==============================] - 1s 4ms/step - loss: 1.2226 - accuracy: 0.4868 - val_loss: 1.2147 - val_accuracy: 0.4869\n",
      "Epoch 10/50\n",
      "137/137 [==============================] - 0s 4ms/step - loss: 1.2086 - accuracy: 0.4881 - val_loss: 1.2039 - val_accuracy: 0.4869\n",
      "Epoch 11/50\n",
      "137/137 [==============================] - 1s 4ms/step - loss: 1.1968 - accuracy: 0.4883 - val_loss: 1.1913 - val_accuracy: 0.4869\n",
      "Epoch 12/50\n",
      "137/137 [==============================] - 0s 3ms/step - loss: 1.1847 - accuracy: 0.4882 - val_loss: 1.1745 - val_accuracy: 0.4869\n",
      "Epoch 13/50\n",
      "137/137 [==============================] - 0s 3ms/step - loss: 1.1649 - accuracy: 0.4884 - val_loss: 1.1560 - val_accuracy: 0.4869\n",
      "Epoch 14/50\n",
      "137/137 [==============================] - 1s 4ms/step - loss: 1.1489 - accuracy: 0.4876 - val_loss: 1.1380 - val_accuracy: 0.4869\n",
      "Epoch 15/50\n",
      "137/137 [==============================] - 0s 3ms/step - loss: 1.1327 - accuracy: 0.4876 - val_loss: 1.1194 - val_accuracy: 0.4869\n",
      "Epoch 16/50\n",
      "137/137 [==============================] - 0s 3ms/step - loss: 1.1137 - accuracy: 0.4872 - val_loss: 1.1010 - val_accuracy: 0.4869\n",
      "Epoch 17/50\n",
      "137/137 [==============================] - 0s 3ms/step - loss: 1.0935 - accuracy: 0.4876 - val_loss: 1.0814 - val_accuracy: 0.4869\n",
      "Epoch 18/50\n",
      "137/137 [==============================] - 0s 3ms/step - loss: 1.0732 - accuracy: 0.4882 - val_loss: 1.0577 - val_accuracy: 0.4869\n",
      "Epoch 19/50\n",
      "137/137 [==============================] - 0s 3ms/step - loss: 1.0492 - accuracy: 0.4877 - val_loss: 1.0279 - val_accuracy: 0.4905\n",
      "Epoch 20/50\n",
      "137/137 [==============================] - 0s 4ms/step - loss: 1.0215 - accuracy: 0.5009 - val_loss: 0.9969 - val_accuracy: 0.5198\n",
      "Epoch 21/50\n",
      "137/137 [==============================] - 1s 4ms/step - loss: 0.9887 - accuracy: 0.5248 - val_loss: 0.9748 - val_accuracy: 0.5312\n",
      "Epoch 22/50\n",
      "137/137 [==============================] - 1s 4ms/step - loss: 0.9700 - accuracy: 0.5297 - val_loss: 0.9607 - val_accuracy: 0.5299\n",
      "Epoch 23/50\n",
      "137/137 [==============================] - 0s 3ms/step - loss: 0.9587 - accuracy: 0.5282 - val_loss: 0.9497 - val_accuracy: 0.5296\n",
      "Epoch 24/50\n",
      "137/137 [==============================] - 1s 4ms/step - loss: 0.9451 - accuracy: 0.5291 - val_loss: 0.9399 - val_accuracy: 0.5298\n",
      "Epoch 25/50\n",
      "137/137 [==============================] - 1s 4ms/step - loss: 0.9355 - accuracy: 0.5302 - val_loss: 0.9301 - val_accuracy: 0.5301\n",
      "Epoch 26/50\n",
      "137/137 [==============================] - 0s 3ms/step - loss: 0.9281 - accuracy: 0.5295 - val_loss: 0.9194 - val_accuracy: 0.5338\n",
      "Epoch 27/50\n",
      "137/137 [==============================] - 0s 3ms/step - loss: 0.9149 - accuracy: 0.5428 - val_loss: 0.9072 - val_accuracy: 0.5739\n",
      "Epoch 28/50\n",
      "137/137 [==============================] - 0s 3ms/step - loss: 0.9024 - accuracy: 0.5814 - val_loss: 0.8929 - val_accuracy: 0.5956\n",
      "Epoch 29/50\n",
      "137/137 [==============================] - 0s 3ms/step - loss: 0.8881 - accuracy: 0.5993 - val_loss: 0.8766 - val_accuracy: 0.6226\n",
      "Epoch 30/50\n",
      "137/137 [==============================] - 0s 3ms/step - loss: 0.8735 - accuracy: 0.6356 - val_loss: 0.8588 - val_accuracy: 0.6587\n",
      "Epoch 31/50\n",
      "137/137 [==============================] - 0s 3ms/step - loss: 0.8553 - accuracy: 0.6644 - val_loss: 0.8410 - val_accuracy: 0.6722\n",
      "Epoch 32/50\n",
      "137/137 [==============================] - 0s 3ms/step - loss: 0.8371 - accuracy: 0.6731 - val_loss: 0.8249 - val_accuracy: 0.6750\n",
      "Epoch 33/50\n",
      "137/137 [==============================] - 0s 3ms/step - loss: 0.8212 - accuracy: 0.6775 - val_loss: 0.8119 - val_accuracy: 0.6782\n",
      "Epoch 34/50\n",
      "137/137 [==============================] - 0s 3ms/step - loss: 0.8087 - accuracy: 0.6793 - val_loss: 0.8011 - val_accuracy: 0.6822\n",
      "Epoch 35/50\n",
      "137/137 [==============================] - 0s 3ms/step - loss: 0.7997 - accuracy: 0.6827 - val_loss: 0.7917 - val_accuracy: 0.6867\n",
      "Epoch 36/50\n",
      "137/137 [==============================] - 0s 3ms/step - loss: 0.7914 - accuracy: 0.6869 - val_loss: 0.7832 - val_accuracy: 0.6898\n",
      "Epoch 37/50\n",
      "137/137 [==============================] - 0s 3ms/step - loss: 0.7788 - accuracy: 0.6921 - val_loss: 0.7755 - val_accuracy: 0.6929\n",
      "Epoch 38/50\n",
      "137/137 [==============================] - 0s 3ms/step - loss: 0.7732 - accuracy: 0.6937 - val_loss: 0.7683 - val_accuracy: 0.6956\n",
      "Epoch 39/50\n",
      "137/137 [==============================] - 0s 4ms/step - loss: 0.7653 - accuracy: 0.6971 - val_loss: 0.7614 - val_accuracy: 0.6979\n",
      "Epoch 40/50\n",
      "137/137 [==============================] - 1s 4ms/step - loss: 0.7578 - accuracy: 0.6999 - val_loss: 0.7549 - val_accuracy: 0.6994\n",
      "Epoch 41/50\n",
      "137/137 [==============================] - 0s 3ms/step - loss: 0.7506 - accuracy: 0.7013 - val_loss: 0.7486 - val_accuracy: 0.7007\n",
      "Epoch 42/50\n",
      "137/137 [==============================] - 0s 3ms/step - loss: 0.7436 - accuracy: 0.7026 - val_loss: 0.7424 - val_accuracy: 0.7019\n",
      "Epoch 43/50\n",
      "137/137 [==============================] - 0s 3ms/step - loss: 0.7378 - accuracy: 0.7051 - val_loss: 0.7363 - val_accuracy: 0.7031\n",
      "Epoch 44/50\n",
      "137/137 [==============================] - 0s 3ms/step - loss: 0.7324 - accuracy: 0.7056 - val_loss: 0.7303 - val_accuracy: 0.7044\n",
      "Epoch 45/50\n",
      "137/137 [==============================] - 0s 3ms/step - loss: 0.7259 - accuracy: 0.7060 - val_loss: 0.7244 - val_accuracy: 0.7056\n",
      "Epoch 46/50\n",
      "137/137 [==============================] - 0s 3ms/step - loss: 0.7212 - accuracy: 0.7074 - val_loss: 0.7186 - val_accuracy: 0.7070\n",
      "Epoch 47/50\n",
      "137/137 [==============================] - 0s 3ms/step - loss: 0.7157 - accuracy: 0.7080 - val_loss: 0.7130 - val_accuracy: 0.7077\n",
      "Epoch 48/50\n",
      "137/137 [==============================] - 0s 3ms/step - loss: 0.7071 - accuracy: 0.7101 - val_loss: 0.7079 - val_accuracy: 0.7082\n",
      "Epoch 49/50\n",
      "137/137 [==============================] - 0s 3ms/step - loss: 0.7053 - accuracy: 0.7109 - val_loss: 0.7032 - val_accuracy: 0.7094\n",
      "Epoch 50/50\n",
      "137/137 [==============================] - 0s 3ms/step - loss: 0.6998 - accuracy: 0.7115 - val_loss: 0.6990 - val_accuracy: 0.7103\n"
     ]
    },
    {
     "data": {
      "text/plain": [
       "<tensorflow.python.keras.callbacks.History at 0x17f4cd3a0>"
      ]
     },
     "execution_count": 11,
     "metadata": {},
     "output_type": "execute_result"
    }
   ],
   "source": [
    "K.clear_session()\n",
    "model = keras.Sequential([keras.layers.Dense(32, activation='relu', input_shape=(54,), kernel_initializer='random_uniform'),\n",
    "                             keras.layers.Dense(32, activation='relu', kernel_initializer='random_uniform'),\n",
    "                             keras.layers.Dense(7, activation='softmax',kernel_initializer='random_uniform')])\n",
    "model.compile(optimizer=optimizer, loss='categorical_crossentropy', metrics=['accuracy'])\n",
    "model.summary()\n",
    "\n",
    "# Fit the model\n",
    "model.fit(X_train, y_train, epochs=50, batch_size=3200, validation_data=(X_test, y_test), verbose=1)"
   ]
  },
  {
   "cell_type": "markdown",
   "metadata": {
    "colab_type": "text",
    "id": "kn7kG1HgT869"
   },
   "source": [
    "There's one last thing to mention here. You may have noticed that at the end of training Keras returned a `keras.callbacks.History` object. This essentially stores results from our training process. It can be accessed as follows:"
   ]
  },
  {
   "cell_type": "code",
   "execution_count": 12,
   "metadata": {
    "colab": {
     "base_uri": "https://localhost:8080/",
     "height": 34
    },
    "colab_type": "code",
    "executionInfo": {
     "elapsed": 157640,
     "status": "ok",
     "timestamp": 1565547851399,
     "user": {
      "displayName": "Michael Ciniello",
      "photoUrl": "https://lh4.googleusercontent.com/-Sc81UFAmWWE/AAAAAAAAAAI/AAAAAAAAInI/ccJjIOAmlUo/s64/photo.jpg",
      "userId": "09099206197539783636"
     },
     "user_tz": 240
    },
    "id": "CkPEofgwT86-",
    "outputId": "285145c1-1b16-4fb0-a45d-2b482f9bd348"
   },
   "outputs": [
    {
     "data": {
      "text/plain": [
       "dict_keys(['loss', 'accuracy', 'val_loss', 'val_accuracy'])"
      ]
     },
     "execution_count": 12,
     "metadata": {},
     "output_type": "execute_result"
    }
   ],
   "source": [
    "results  = model.history.history\n",
    "results.keys()"
   ]
  },
  {
   "cell_type": "markdown",
   "metadata": {
    "colab_type": "text",
    "id": "ny8GCIrGT86_"
   },
   "source": [
    "As you can see, the model automatically stores the loss and accuracy values for both the training and test sets at every epoch. We can also ask Keras to store more metrics when we compile the model with the `metrics` argument. Let's plot the results below."
   ]
  },
  {
   "cell_type": "code",
   "execution_count": 13,
   "metadata": {
    "colab": {
     "base_uri": "https://localhost:8080/",
     "height": 283
    },
    "colab_type": "code",
    "executionInfo": {
     "elapsed": 157817,
     "status": "ok",
     "timestamp": 1565547851583,
     "user": {
      "displayName": "Michael Ciniello",
      "photoUrl": "https://lh4.googleusercontent.com/-Sc81UFAmWWE/AAAAAAAAAAI/AAAAAAAAInI/ccJjIOAmlUo/s64/photo.jpg",
      "userId": "09099206197539783636"
     },
     "user_tz": 240
    },
    "id": "SmuetxITT87A",
    "outputId": "dc10e510-bb11-4e57-818f-aa7fbf542e56"
   },
   "outputs": [
    {
     "data": {
      "image/png": "[encoded data removed]",
      "text/plain": [
       "<Figure size 432x288 with 1 Axes>"
      ]
     },
     "metadata": {
      "needs_background": "light"
     },
     "output_type": "display_data"
    }
   ],
   "source": [
    "# Plot loss values\n",
    "plt.plot(results['loss'], label='training loss')\n",
    "plt.plot(results['val_loss'], label='validation loss')\n",
    "plt.xlabel('Epoch')\n",
    "plt.ylabel('Loss')\n",
    "plt.legend()\n",
    "plt.show()\n"
   ]
  },
  {
   "cell_type": "markdown",
   "metadata": {
    "colab_type": "text",
    "id": "XEXkbFI8T87C"
   },
   "source": [
    "**NOTE:** If you don't see the training and validation loss lines, its likely because they are overlapping. Try running the model again to see if you get a slightly different result."
   ]
  },
  {
   "cell_type": "markdown",
   "metadata": {
    "colab_type": "text",
    "id": "ba2_joZhT87D"
   },
   "source": [
    "## Evaluate and Predict"
   ]
  },
  {
   "cell_type": "markdown",
   "metadata": {
    "colab_type": "text",
    "id": "QJGfPsT0T87D"
   },
   "source": [
    "Evaluating your models and making predictions is also simple using Keras. Again, all you have to do is call the `.evaluate` and `.predict` methods on your model, and pass in the testing data you would like to use.\n",
    "\n",
    "- `tf.keras.Model.evaluate` returns a list of two values: `[loss, accuracy_score]` (this may change based on what scoring metric you are using for your model).\n",
    "\n",
    "\n",
    "- `tf.keras.Model.predict` returns a NumPy array, the shape of which is determined by the structure of the model and the loss function you specified. For instance, in our model, `.predict` will return the probability scores for each class in the shape of `(n_observations, n_classes)`.\n",
    "\n",
    "Instead of having to save the model, reload it, and restore the weights, Keras stores the trained model variables and makes them readily accessible for you. This makes testing and making predictions much easier."
   ]
  },
  {
   "cell_type": "code",
   "execution_count": 14,
   "metadata": {
    "colab": {
     "base_uri": "https://localhost:8080/",
     "height": 51
    },
    "colab_type": "code",
    "executionInfo": {
     "elapsed": 161131,
     "status": "ok",
     "timestamp": 1565547854904,
     "user": {
      "displayName": "Michael Ciniello",
      "photoUrl": "https://lh4.googleusercontent.com/-Sc81UFAmWWE/AAAAAAAAAAI/AAAAAAAAInI/ccJjIOAmlUo/s64/photo.jpg",
      "userId": "09099206197539783636"
     },
     "user_tz": 240
    },
    "id": "EQAB_65vT87D",
    "outputId": "e3541bda-d5f5-4841-f021-ded3f50432b1"
   },
   "outputs": [
    {
     "name": "stdout",
     "output_type": "stream",
     "text": [
      "4540/4540 [==============================] - 2s 513us/step - loss: 0.6990 - accuracy: 0.7103\n"
     ]
    },
    {
     "data": {
      "text/plain": [
       "[0.699042558670044, 0.7102985978126526]"
      ]
     },
     "execution_count": 14,
     "metadata": {},
     "output_type": "execute_result"
    }
   ],
   "source": [
    "model.evaluate(X_test, y_test, batch_size=32)"
   ]
  },
  {
   "cell_type": "code",
   "execution_count": 15,
   "metadata": {
    "colab": {
     "base_uri": "https://localhost:8080/",
     "height": 204
    },
    "colab_type": "code",
    "executionInfo": {
     "elapsed": 163121,
     "status": "ok",
     "timestamp": 1565547856900,
     "user": {
      "displayName": "Michael Ciniello",
      "photoUrl": "https://lh4.googleusercontent.com/-Sc81UFAmWWE/AAAAAAAAAAI/AAAAAAAAInI/ccJjIOAmlUo/s64/photo.jpg",
      "userId": "09099206197539783636"
     },
     "user_tz": 240
    },
    "id": "iNLLjh-cT87F",
    "outputId": "a7eda285-4f49-4707-bba3-6d2bce11b38f"
   },
   "outputs": [
    {
     "name": "stdout",
     "output_type": "stream",
     "text": [
      "(145253, 7)\n"
     ]
    },
    {
     "data": {
      "text/plain": [
       "array([[6.9662708e-01, 2.6919577e-01, 5.4339424e-04, 4.0215359e-04,\n",
       "        5.5236751e-03, 1.0010714e-03, 2.6706874e-02],\n",
       "       [5.4932821e-01, 4.3938294e-01, 8.1884791e-05, 6.6983004e-05,\n",
       "        2.1623524e-03, 2.0401221e-04, 8.7736277e-03],\n",
       "       [4.5108137e-01, 5.2948439e-01, 3.1530851e-04, 2.2538479e-04,\n",
       "        4.4310545e-03, 6.3967938e-04, 1.3822753e-02],\n",
       "       [6.5991992e-01, 3.1385604e-01, 3.8822502e-04, 2.8312631e-04,\n",
       "        4.7426247e-03, 7.7033456e-04, 2.0039763e-02],\n",
       "       [7.4131697e-01, 2.4970689e-01, 2.5262527e-05, 2.4109075e-05,\n",
       "        1.1111184e-03, 7.3573734e-05, 7.7420869e-03]], dtype=float32)"
      ]
     },
     "execution_count": 15,
     "metadata": {},
     "output_type": "execute_result"
    }
   ],
   "source": [
    "result = model.predict(X_test, batch_size=32)\n",
    "print(result.shape)\n",
    "result[0:5]"
   ]
  },
  {
   "cell_type": "markdown",
   "metadata": {
    "colab_type": "text",
    "id": "e9iWmCDhT87G"
   },
   "source": [
    "## Saving and Restoring\n",
    "\n",
    "With `tf.keras`, we can save just the weights of our model, or the configuration, or both! By default, this saves the model's weights in the\n",
    "[TensorFlow checkpoint](https://www.tensorflow.org/guide/checkpoints) file format. Weights can also be saved to the Keras HDF5 format (the default for the multi-backend\n",
    "implementation of Keras):"
   ]
  },
  {
   "cell_type": "code",
   "execution_count": 16,
   "metadata": {
    "colab": {
     "base_uri": "https://localhost:8080/",
     "height": 34
    },
    "colab_type": "code",
    "executionInfo": {
     "elapsed": 163115,
     "status": "ok",
     "timestamp": 1565547856901,
     "user": {
      "displayName": "Michael Ciniello",
      "photoUrl": "https://lh4.googleusercontent.com/-Sc81UFAmWWE/AAAAAAAAAAI/AAAAAAAAInI/ccJjIOAmlUo/s64/photo.jpg",
      "userId": "09099206197539783636"
     },
     "user_tz": 240
    },
    "id": "fbtzglZyT87G",
    "outputId": "31567aae-0635-47b2-83bf-2594f0e53e94"
   },
   "outputs": [
    {
     "data": {
      "text/plain": [
       "<tensorflow.python.training.tracking.util.CheckpointLoadStatus at 0x17f5098e0>"
      ]
     },
     "execution_count": 16,
     "metadata": {},
     "output_type": "execute_result"
    }
   ],
   "source": [
    "# Save weights to a TensorFlow Checkpoint file\n",
    "model.save_weights('./weights/my_model')\n",
    "\n",
    "# Restore the model's state,\n",
    "# this requires a model with the same architecture.\n",
    "model.load_weights('./weights/my_model')"
   ]
  },
  {
   "cell_type": "markdown",
   "metadata": {
    "colab_type": "text",
    "id": "Pt-1nrEjT87J"
   },
   "source": [
    "You can also save a model's configuration by serializing the model architecture without any weights. A saved configuration can recreate and initialize the same model, even without the code that defined the original model. Keras supports JSON and YAML serialization formats."
   ]
  },
  {
   "cell_type": "code",
   "execution_count": 17,
   "metadata": {
    "colab": {
     "base_uri": "https://localhost:8080/",
     "height": 1000
    },
    "colab_type": "code",
    "executionInfo": {
     "elapsed": 163252,
     "status": "ok",
     "timestamp": 1565547857044,
     "user": {
      "displayName": "Michael Ciniello",
      "photoUrl": "https://lh4.googleusercontent.com/-Sc81UFAmWWE/AAAAAAAAAAI/AAAAAAAAInI/ccJjIOAmlUo/s64/photo.jpg",
      "userId": "09099206197539783636"
     },
     "user_tz": 240
    },
    "id": "rlzYjqoAT87J",
    "outputId": "cbfcceb4-b2e3-4220-d207-893464ebad00"
   },
   "outputs": [
    {
     "name": "stdout",
     "output_type": "stream",
     "text": [
      "{'backend': 'tensorflow',\n",
      " 'class_name': 'Sequential',\n",
      " 'config': {'layers': [{'class_name': 'InputLayer',\n",
      "                        'config': {'batch_input_shape': [None, 54],\n",
      "                                   'dtype': 'float32',\n",
      "                                   'name': 'dense_input',\n",
      "                                   'ragged': False,\n",
      "                                   'sparse': False}},\n",
      "                       {'class_name': 'Dense',\n",
      "                        'config': {'activation': 'relu',\n",
      "                                   'activity_regularizer': None,\n",
      "                                   'batch_input_shape': [None, 54],\n",
      "                                   'bias_constraint': None,\n",
      "                                   'bias_initializer': {'class_name': 'Zeros',\n",
      "                                                        'config': {}},\n",
      "                                   'bias_regularizer': None,\n",
      "                                   'dtype': 'float32',\n",
      "                                   'kernel_constraint': None,\n",
      "                                   'kernel_initializer': {'class_name': 'RandomUniform',\n",
      "                                                          'config': {'maxval': 0.05,\n",
      "                                                                     'minval': -0.05,\n",
      "                                                                     'seed': None}},\n",
      "                                   'kernel_regularizer': None,\n",
      "                                   'name': 'dense',\n",
      "                                   'trainable': True,\n",
      "                                   'units': 32,\n",
      "                                   'use_bias': True}},\n",
      "                       {'class_name': 'Dense',\n",
      "                        'config': {'activation': 'relu',\n",
      "                                   'activity_regularizer': None,\n",
      "                                   'bias_constraint': None,\n",
      "                                   'bias_initializer': {'class_name': 'Zeros',\n",
      "                                                        'config': {}},\n",
      "                                   'bias_regularizer': None,\n",
      "                                   'dtype': 'float32',\n",
      "                                   'kernel_constraint': None,\n",
      "                                   'kernel_initializer': {'class_name': 'RandomUniform',\n",
      "                                                          'config': {'maxval': 0.05,\n",
      "                                                                     'minval': -0.05,\n",
      "                                                                     'seed': None}},\n",
      "                                   'kernel_regularizer': None,\n",
      "                                   'name': 'dense_1',\n",
      "                                   'trainable': True,\n",
      "                                   'units': 32,\n",
      "                                   'use_bias': True}},\n",
      "                       {'class_name': 'Dense',\n",
      "                        'config': {'activation': 'softmax',\n",
      "                                   'activity_regularizer': None,\n",
      "                                   'bias_constraint': None,\n",
      "                                   'bias_initializer': {'class_name': 'Zeros',\n",
      "                                                        'config': {}},\n",
      "                                   'bias_regularizer': None,\n",
      "                                   'dtype': 'float32',\n",
      "                                   'kernel_constraint': None,\n",
      "                                   'kernel_initializer': {'class_name': 'RandomUniform',\n",
      "                                                          'config': {'maxval': 0.05,\n",
      "                                                                     'minval': -0.05,\n",
      "                                                                     'seed': None}},\n",
      "                                   'kernel_regularizer': None,\n",
      "                                   'name': 'dense_2',\n",
      "                                   'trainable': True,\n",
      "                                   'units': 7,\n",
      "                                   'use_bias': True}}],\n",
      "            'name': 'sequential'},\n",
      " 'keras_version': '2.4.0'}\n"
     ]
    }
   ],
   "source": [
    "import json\n",
    "import pprint\n",
    "\n",
    "# Serialize a model to JSON format\n",
    "json_string = model.to_json()\n",
    "json_string\n",
    "\n",
    "pprint.pprint(json.loads(json_string))"
   ]
  },
  {
   "cell_type": "code",
   "execution_count": 18,
   "metadata": {
    "colab": {
     "base_uri": "https://localhost:8080/",
     "height": 255
    },
    "colab_type": "code",
    "executionInfo": {
     "elapsed": 163246,
     "status": "ok",
     "timestamp": 1565547857045,
     "user": {
      "displayName": "Michael Ciniello",
      "photoUrl": "https://lh4.googleusercontent.com/-Sc81UFAmWWE/AAAAAAAAAAI/AAAAAAAAInI/ccJjIOAmlUo/s64/photo.jpg",
      "userId": "09099206197539783636"
     },
     "user_tz": 240
    },
    "id": "YZ68lLVDT87L",
    "outputId": "df173ba5-3f5c-4cc6-cf1a-7d96a7ba0884"
   },
   "outputs": [
    {
     "name": "stdout",
     "output_type": "stream",
     "text": [
      "Model: \"sequential\"\n",
      "_________________________________________________________________\n",
      "Layer (type)                 Output Shape              Param #   \n",
      "=================================================================\n",
      "dense (Dense)                (None, 32)                1760      \n",
      "_________________________________________________________________\n",
      "dense_1 (Dense)              (None, 32)                1056      \n",
      "_________________________________________________________________\n",
      "dense_2 (Dense)              (None, 7)                 231       \n",
      "=================================================================\n",
      "Total params: 3,047\n",
      "Trainable params: 3,047\n",
      "Non-trainable params: 0\n",
      "_________________________________________________________________\n"
     ]
    }
   ],
   "source": [
    "# Reload the model from json\n",
    "fresh_model = tf.keras.models.model_from_json(json_string)\n",
    "fresh_model.summary()"
   ]
  },
  {
   "cell_type": "markdown",
   "metadata": {
    "colab_type": "text",
    "id": "AlGuPBL9T87M"
   },
   "source": [
    "# Basic Fine-Tuning of Neural Networks\n",
    "\n",
    "Alright, now that we can quickly whip up a fancy neural network using `tf.keras` with just a few lines of code, this raises the question: How do we decide on the proper model architecture for our task? Indeed, the flexibility of neural nets can be one their main drawbacks as there are tons of hyperparameters to tweak. Not only can you use any imaginable network topology (how neurons are interconnected), but even with a simple feedforward network you can change the number of layers, the number of neurons per layer, the type of activation function to use in each layer, the weight initialization logic, and much more!\n",
    "\n",
    "Of course, you can use grid search with cross-validation, but this will take a lot of time with neural nets, and you will only be able to explore a tiny part of the hyperparameter space. Fortunately, there are some pretty basic rules to follow when developing your model that will help guide you. We will go over many of these rules in the next module when we talk about optimizing deep neural networks. For now, we'll cover a couple basic tips to get you started."
   ]
  },
  {
   "cell_type": "markdown",
   "metadata": {
    "colab_type": "text",
    "id": "Qa_oy6I_T87N"
   },
   "source": [
    "## Choosing the Number of Hidden Layers\n",
    "\n",
    "For many problems, a single hidden layer will get you reasonable results. It has actually been shown that a simple feedforward network with just one hidden layer can model even the most complex functions provided it has enough neurons. While this might be a decent approach for some problems, the fact is that deep networks have a much higher \"parameter efficiency\" than shallow ones &mdash; they can model complex functions using exponentially fewer neurons than shallow nets, making them much faster to train. The reason for this is that **real-world data is often structured in a hierarchical fashion**, and deep neural networks can take advantage of this by modeling increasing levels of granularity at each layer. Take an image classification deep neural net, for example:\n",
    "\n",
    "- lower hidden layers are able to model low-level structures (e.g. line segments of various shapes and orientations),\n",
    "- intermediate hidden layers combine these low-level structures to model intermediate-level structures (e.g. squares, circles), \n",
    "- and the highest hidden layers and the output layer combine these intermediate structures to model high-level structures (e.g. faces). \n",
    "\n",
    "This hierarchical architecture also helps deep neural networks converge faster to a good solution, and improves their ability to generalize to new datasets. So in general, for many problems you can start with just one or two hidden layers and it will work just fine. But for more complex problems, you can gradually ramp up the number of hidden layers, until you start overfitting the training set. Very complex tasks, such as large image classification or speech recognition, typically require networks with dozens of layers, and they need a huge amount of training data. However, you will rarely have to train such networks from scratch &mdash; it is much more common to reuse parts of a pre-trained network that performs a similar task. This is called **transfer learning**, and is a very common practice in image recognition tasks. "
   ]
  },
  {
   "cell_type": "markdown",
   "metadata": {
    "colab_type": "text",
    "id": "AZmU46mIT87N"
   },
   "source": [
    "## Choosing the Number of Neurons\n",
    "\n",
    "The number of neurons in the input and output layers is determined by the type of inputs and outputs your task requires. For example, the MNIST task, for which your model tries to classify images of size 28x28 into 10 classes, requires:\n",
    "\n",
    "- $28 \\cdot 28 = 784$ input neurons\n",
    "\n",
    "\n",
    "- $10$ output neurons\n",
    "\n",
    "However, for the hidden layers, the process is not as simple. In general, you will need to experiment to find the best approach for your model. A good place to start is somewhere **between 32 and 128 neurons per layer**. Anything outside of that range and you risk underfitting or overfitting the the training set. One strategy for choosing the number of neurons per hidden layer is to make all layers have same number of neurons, and then gradually increase them until the model starts overfitting the training data. In general, it's better to increase the number of layers rather than the number of neurons per layer. But again, this is still an art, and will always depend on the dataset you are using. \n",
    "\n",
    "A simpler approach is to pick a model with more layers and neurons than you actually need, then use early stopping to prevent it from overfitting (and other regularization techniques &mdash; especially dropout, as we will see in the next module)."
   ]
  },
  {
   "cell_type": "markdown",
   "metadata": {},
   "source": [
    "**End of Module**\n",
    "\n",
    "You have reached the end of this module.\n",
    "\n",
    "If you have any questions, please reach out to your peers using the discussion boards. If you\n",
    "and your peers are unable to come to a suitable conclusion, do not hesitate to reach out to\n",
    "your instructor on the designated discussion board.\n",
    "\n",
    "When you are comfortable with the content, you may proceed to the next module."
   ]
  },
  {
   "cell_type": "markdown",
   "metadata": {
    "colab_type": "text",
    "id": "wU7AbnwhT87O"
   },
   "source": [
    "# References\n",
    "\n",
    "- Google, (n.d.). tf.layers. Tensorflow core 1.13 Python. *Tensorflow documentation.* Retrieved from https://www.tensorflow.org/api_docs/python/tf/layers\n",
    "\n",
    "\n",
    "- Google, (n.d.). tf.GraphKeys. Tensorflow core 1.13 Python. *Tensorflow documentation.* Retrieved from https://www.tensorflow.org/api_docs/python/tf/GraphKeys\n",
    "\n",
    "\n",
    "- Google, (n.d.). tf.keras.layers.Lambda.  Tensorflow core 1.13 Python. *Tensorflow documentation.* Retrieved from https://www.tensorflow.org/api_docs/python/tf/keras/layers/Lambda\n",
    "\n",
    "\n",
    "- Keras contributors, (n.d.). Getting started with the Keras Functional API. *Keras documentation.* Retrieved from https://keras.io/getting-started/functional-api-guide/"
   ]
  }
 ],
 "metadata": {
  "colab": {
   "collapsed_sections": [],
   "name": "Module10_Part2_Edited_by_ML_MC.ipynb",
   "provenance": [],
   "toc_visible": true,
   "version": "0.3.2"
  },
  "kernelspec": {
   "display_name": "Python 3",
   "language": "python",
   "name": "python3"
  },
  "language_info": {
   "codemirror_mode": {
    "name": "ipython",
    "version": 3
   },
   "file_extension": ".py",
   "mimetype": "text/x-python",
   "name": "python",
   "nbconvert_exporter": "python",
   "pygments_lexer": "ipython3",
   "version": "3.8.3"
  },
  "toc-autonumbering": true
 },
 "nbformat": 4,
 "nbformat_minor": 1
}
