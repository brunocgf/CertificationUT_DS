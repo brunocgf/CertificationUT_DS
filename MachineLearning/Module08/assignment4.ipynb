{
 "cells": [
  {
   "cell_type": "markdown",
   "metadata": {
    "colab_type": "text",
    "id": "9OBvBOCkPrga"
   },
   "source": [
    "## Assignment 4"
   ]
  },
  {
   "cell_type": "markdown",
   "metadata": {
    "colab_type": "text",
    "id": "bEmSTWZSPrgb"
   },
   "source": [
    "This assignment is based on content discussed in module 8 and using Decision Trees and Ensemble Models in classification and regression problems."
   ]
  },
  {
   "cell_type": "markdown",
   "metadata": {
    "colab_type": "text",
    "id": "1cUoTzQLPrgc"
   },
   "source": [
    "## Learning outcomes "
   ]
  },
  {
   "cell_type": "markdown",
   "metadata": {
    "colab_type": "text",
    "id": "Q1ygYVo_Prgc"
   },
   "source": [
    "- Understand how to use decision trees on a Dataset to make a prediction\n",
    "- Learning hyper-parameters tuning for decision trees by using RandomGrid \n",
    "- Learning the effectiveness of ensemble algorithms (Random Forest, Adaboost, Extra trees classifier, Gradient Boosted Tree)"
   ]
  },
  {
   "cell_type": "markdown",
   "metadata": {
    "colab_type": "text",
    "id": "9hjVbQlVPrgd"
   },
   "source": [
    "In the first part of this assignment, you will use Classification Trees for predicting if a user has a default payment option active or not. You can find the necessary data for performing this assignment [here](https://archive.ics.uci.edu/ml/datasets/default+of+credit+card+clients) \n",
    "\n",
    "This dataset is aimed at the case of customer default payments in Taiwan. From the perspective of risk management, the result of predictive accuracy of the estimated probability of default will be more valuable than the binary result of classification - credible or not credible clients. Because the real probability of default is unknown, this study presented the novel Sorting Smoothing Method to estimate the real probability of default.\n",
    "\n",
    "Required imports for this project are given below. Make sure you have all libraries required for this project installed. You may use conda or pip based on your set up.\n",
    "\n",
    "__NOTE:__ Since data is in Excel format you need to install `xlrd` in order to read the excel file inside your pandas dataframe. You can run `pip install xlrd` to install "
   ]
  },
  {
   "cell_type": "code",
   "execution_count": 1,
   "metadata": {
    "colab": {},
    "colab_type": "code",
    "id": "R376ZBnBPrge"
   },
   "outputs": [],
   "source": [
    "#required imports\n",
    "import matplotlib.pyplot as plt\n",
    "import numpy as np\n",
    "import pandas as pd"
   ]
  },
  {
   "cell_type": "markdown",
   "metadata": {
    "colab_type": "text",
    "id": "ddF9R5pdPrgi"
   },
   "source": [
    "After installing the necessary libraries, proceed to download the data. Since reading the excel file won't create headers by default, we added two more operations to substitute the columns."
   ]
  },
  {
   "cell_type": "code",
   "execution_count": 12,
   "metadata": {
    "colab": {},
    "colab_type": "code",
    "id": "CtNCjjr7Prgj"
   },
   "outputs": [],
   "source": [
    "#loading the data\n",
    "dataset = pd.read_excel(\"https://archive.ics.uci.edu/ml/machine-learning-databases/00350/default%20of%20credit%20card%20clients.xls\",\n",
    "                        index_col=0)\n",
    "dataset.columns = dataset.iloc[0]\n",
    "dataset.drop(['ID'], inplace=True)"
   ]
  },
  {
   "cell_type": "markdown",
   "metadata": {
    "colab_type": "text",
    "id": "cMh-sEIdPrgl"
   },
   "source": [
    "In the following, you can take a look into the dataset."
   ]
  },
  {
   "cell_type": "code",
   "execution_count": 14,
   "metadata": {
    "colab": {},
    "colab_type": "code",
    "id": "E0lAPOXQPrgl",
    "outputId": "ea66ba57-f32c-4b39-c60a-e52402acbca1"
   },
   "outputs": [
    {
     "data": {
      "text/plain": "ID LIMIT_BAL SEX EDUCATION MARRIAGE AGE PAY_0 PAY_2 PAY_3 PAY_4 PAY_5  ...  \\\n1      20000   2         2        1  24     2     2    -1    -1    -2  ...   \n2     120000   2         2        2  26    -1     2     0     0     0  ...   \n3      90000   2         2        2  34     0     0     0     0     0  ...   \n4      50000   2         2        1  37     0     0     0     0     0  ...   \n5      50000   1         2        1  57    -1     0    -1     0     0  ...   \n6      50000   1         1        2  37     0     0     0     0     0  ...   \n7     500000   1         1        2  29     0     0     0     0     0  ...   \n8     100000   2         2        2  23     0    -1    -1     0     0  ...   \n9     140000   2         3        1  28     0     0     2     0     0  ...   \n10     20000   1         3        2  35    -2    -2    -2    -2    -1  ...   \n\nID BILL_AMT4 BILL_AMT5 BILL_AMT6 PAY_AMT1 PAY_AMT2 PAY_AMT3 PAY_AMT4 PAY_AMT5  \\\n1          0         0         0        0      689        0        0        0   \n2       3272      3455      3261        0     1000     1000     1000        0   \n3      14331     14948     15549     1518     1500     1000     1000     1000   \n4      28314     28959     29547     2000     2019     1200     1100     1069   \n5      20940     19146     19131     2000    36681    10000     9000      689   \n6      19394     19619     20024     2500     1815      657     1000     1000   \n7     542653    483003    473944    55000    40000    38000    20239    13750   \n8        221      -159       567      380      601        0      581     1687   \n9      12211     11793      3719     3329        0      432     1000     1000   \n10         0     13007     13912        0        0        0    13007     1122   \n\nID PAY_AMT6 default payment next month  \n1         0                          1  \n2      2000                          1  \n3      5000                          0  \n4      1000                          0  \n5       679                          0  \n6       800                          0  \n7     13770                          0  \n8      1542                          0  \n9      1000                          0  \n10        0                          0  \n\n[10 rows x 24 columns]",
      "text/html": "<div>\n<style scoped>\n    .dataframe tbody tr th:only-of-type {\n        vertical-align: middle;\n    }\n\n    .dataframe tbody tr th {\n        vertical-align: top;\n    }\n\n    .dataframe thead th {\n        text-align: right;\n    }\n</style>\n<table border=\"1\" class=\"dataframe\">\n  <thead>\n    <tr style=\"text-align: right;\">\n      <th>ID</th>\n      <th>LIMIT_BAL</th>\n      <th>SEX</th>\n      <th>EDUCATION</th>\n      <th>MARRIAGE</th>\n      <th>AGE</th>\n      <th>PAY_0</th>\n      <th>PAY_2</th>\n      <th>PAY_3</th>\n      <th>PAY_4</th>\n      <th>PAY_5</th>\n      <th>...</th>\n      <th>BILL_AMT4</th>\n      <th>BILL_AMT5</th>\n      <th>BILL_AMT6</th>\n      <th>PAY_AMT1</th>\n      <th>PAY_AMT2</th>\n      <th>PAY_AMT3</th>\n      <th>PAY_AMT4</th>\n      <th>PAY_AMT5</th>\n      <th>PAY_AMT6</th>\n      <th>default payment next month</th>\n    </tr>\n  </thead>\n  <tbody>\n    <tr>\n      <th>1</th>\n      <td>20000</td>\n      <td>2</td>\n      <td>2</td>\n      <td>1</td>\n      <td>24</td>\n      <td>2</td>\n      <td>2</td>\n      <td>-1</td>\n      <td>-1</td>\n      <td>-2</td>\n      <td>...</td>\n      <td>0</td>\n      <td>0</td>\n      <td>0</td>\n      <td>0</td>\n      <td>689</td>\n      <td>0</td>\n      <td>0</td>\n      <td>0</td>\n      <td>0</td>\n      <td>1</td>\n    </tr>\n    <tr>\n      <th>2</th>\n      <td>120000</td>\n      <td>2</td>\n      <td>2</td>\n      <td>2</td>\n      <td>26</td>\n      <td>-1</td>\n      <td>2</td>\n      <td>0</td>\n      <td>0</td>\n      <td>0</td>\n      <td>...</td>\n      <td>3272</td>\n      <td>3455</td>\n      <td>3261</td>\n      <td>0</td>\n      <td>1000</td>\n      <td>1000</td>\n      <td>1000</td>\n      <td>0</td>\n      <td>2000</td>\n      <td>1</td>\n    </tr>\n    <tr>\n      <th>3</th>\n      <td>90000</td>\n      <td>2</td>\n      <td>2</td>\n      <td>2</td>\n      <td>34</td>\n      <td>0</td>\n      <td>0</td>\n      <td>0</td>\n      <td>0</td>\n      <td>0</td>\n      <td>...</td>\n      <td>14331</td>\n      <td>14948</td>\n      <td>15549</td>\n      <td>1518</td>\n      <td>1500</td>\n      <td>1000</td>\n      <td>1000</td>\n      <td>1000</td>\n      <td>5000</td>\n      <td>0</td>\n    </tr>\n    <tr>\n      <th>4</th>\n      <td>50000</td>\n      <td>2</td>\n      <td>2</td>\n      <td>1</td>\n      <td>37</td>\n      <td>0</td>\n      <td>0</td>\n      <td>0</td>\n      <td>0</td>\n      <td>0</td>\n      <td>...</td>\n      <td>28314</td>\n      <td>28959</td>\n      <td>29547</td>\n      <td>2000</td>\n      <td>2019</td>\n      <td>1200</td>\n      <td>1100</td>\n      <td>1069</td>\n      <td>1000</td>\n      <td>0</td>\n    </tr>\n    <tr>\n      <th>5</th>\n      <td>50000</td>\n      <td>1</td>\n      <td>2</td>\n      <td>1</td>\n      <td>57</td>\n      <td>-1</td>\n      <td>0</td>\n      <td>-1</td>\n      <td>0</td>\n      <td>0</td>\n      <td>...</td>\n      <td>20940</td>\n      <td>19146</td>\n      <td>19131</td>\n      <td>2000</td>\n      <td>36681</td>\n      <td>10000</td>\n      <td>9000</td>\n      <td>689</td>\n      <td>679</td>\n      <td>0</td>\n    </tr>\n    <tr>\n      <th>6</th>\n      <td>50000</td>\n      <td>1</td>\n      <td>1</td>\n      <td>2</td>\n      <td>37</td>\n      <td>0</td>\n      <td>0</td>\n      <td>0</td>\n      <td>0</td>\n      <td>0</td>\n      <td>...</td>\n      <td>19394</td>\n      <td>19619</td>\n      <td>20024</td>\n      <td>2500</td>\n      <td>1815</td>\n      <td>657</td>\n      <td>1000</td>\n      <td>1000</td>\n      <td>800</td>\n      <td>0</td>\n    </tr>\n    <tr>\n      <th>7</th>\n      <td>500000</td>\n      <td>1</td>\n      <td>1</td>\n      <td>2</td>\n      <td>29</td>\n      <td>0</td>\n      <td>0</td>\n      <td>0</td>\n      <td>0</td>\n      <td>0</td>\n      <td>...</td>\n      <td>542653</td>\n      <td>483003</td>\n      <td>473944</td>\n      <td>55000</td>\n      <td>40000</td>\n      <td>38000</td>\n      <td>20239</td>\n      <td>13750</td>\n      <td>13770</td>\n      <td>0</td>\n    </tr>\n    <tr>\n      <th>8</th>\n      <td>100000</td>\n      <td>2</td>\n      <td>2</td>\n      <td>2</td>\n      <td>23</td>\n      <td>0</td>\n      <td>-1</td>\n      <td>-1</td>\n      <td>0</td>\n      <td>0</td>\n      <td>...</td>\n      <td>221</td>\n      <td>-159</td>\n      <td>567</td>\n      <td>380</td>\n      <td>601</td>\n      <td>0</td>\n      <td>581</td>\n      <td>1687</td>\n      <td>1542</td>\n      <td>0</td>\n    </tr>\n    <tr>\n      <th>9</th>\n      <td>140000</td>\n      <td>2</td>\n      <td>3</td>\n      <td>1</td>\n      <td>28</td>\n      <td>0</td>\n      <td>0</td>\n      <td>2</td>\n      <td>0</td>\n      <td>0</td>\n      <td>...</td>\n      <td>12211</td>\n      <td>11793</td>\n      <td>3719</td>\n      <td>3329</td>\n      <td>0</td>\n      <td>432</td>\n      <td>1000</td>\n      <td>1000</td>\n      <td>1000</td>\n      <td>0</td>\n    </tr>\n    <tr>\n      <th>10</th>\n      <td>20000</td>\n      <td>1</td>\n      <td>3</td>\n      <td>2</td>\n      <td>35</td>\n      <td>-2</td>\n      <td>-2</td>\n      <td>-2</td>\n      <td>-2</td>\n      <td>-1</td>\n      <td>...</td>\n      <td>0</td>\n      <td>13007</td>\n      <td>13912</td>\n      <td>0</td>\n      <td>0</td>\n      <td>0</td>\n      <td>13007</td>\n      <td>1122</td>\n      <td>0</td>\n      <td>0</td>\n    </tr>\n  </tbody>\n</table>\n<p>10 rows × 24 columns</p>\n</div>"
     },
     "execution_count": 14,
     "metadata": {},
     "output_type": "execute_result"
    }
   ],
   "source": [
    "dataset.head(10)"
   ]
  },
  {
   "cell_type": "code",
   "execution_count": 24,
   "outputs": [],
   "source": [
    "dataset = dataset.apply(pd.to_numeric)"
   ],
   "metadata": {
    "collapsed": false,
    "pycharm": {
     "name": "#%%\n"
    }
   }
  },
  {
   "cell_type": "code",
   "execution_count": 37,
   "outputs": [
    {
     "data": {
      "text/plain": "(30000, 24)"
     },
     "execution_count": 37,
     "metadata": {},
     "output_type": "execute_result"
    }
   ],
   "source": [
    "dataset.shape"
   ],
   "metadata": {
    "collapsed": false,
    "pycharm": {
     "name": "#%%\n"
    }
   }
  },
  {
   "cell_type": "markdown",
   "metadata": {
    "colab_type": "text",
    "id": "r4jchSRoPrgr"
   },
   "source": [
    "## Questions (15 points total)\n",
    "\n",
    "#### Question 1 (2 pts)\n",
    "Build a classifier by using decision tree and calculate the confusion matrix. Try different hyper-parameters (at least two) and discuss the result."
   ]
  },
  {
   "cell_type": "code",
   "execution_count": 122,
   "metadata": {
    "colab": {},
    "colab_type": "code",
    "id": "1Qr1SPGlPrgr"
   },
   "outputs": [],
   "source": [
    "# YOUR CODE HERE\n",
    "from sklearn.tree import DecisionTreeClassifier\n",
    "from sklearn.model_selection import train_test_split\n",
    "from sklearn.metrics import confusion_matrix\n",
    "from sklearn.metrics import classification_report\n",
    "\n",
    "X = dataset.loc[:,'LIMIT_BAL':'PAY_AMT6']\n",
    "y = dataset['default payment next month']\n",
    "X_train, X_test, y_train, y_test = train_test_split(X, y)"
   ]
  },
  {
   "cell_type": "code",
   "execution_count": null,
   "outputs": [],
   "source": [],
   "metadata": {
    "collapsed": false,
    "pycharm": {
     "name": "#%%\n"
    }
   }
  },
  {
   "cell_type": "code",
   "execution_count": 86,
   "outputs": [
    {
     "data": {
      "text/plain": "array([[4726, 1069],\n       [1020,  685]], dtype=int64)"
     },
     "execution_count": 86,
     "metadata": {},
     "output_type": "execute_result"
    }
   ],
   "source": [
    "# First model, default parameters\n",
    "tree_clf = DecisionTreeClassifier()\n",
    "tree_clf.fit(X_train, y_train)\n",
    "y_pred = tree_clf.predict(X_test)\n",
    "confusion_matrix(y_test, y_pred)"
   ],
   "metadata": {
    "collapsed": false,
    "pycharm": {
     "name": "#%%\n"
    }
   }
  },
  {
   "cell_type": "code",
   "execution_count": 68,
   "outputs": [
    {
     "name": "stdout",
     "output_type": "stream",
     "text": [
      "              precision    recall  f1-score   support\n",
      "\n",
      "           0       0.77      0.87      0.82      5795\n",
      "           1       0.23      0.13      0.17      1705\n",
      "\n",
      "    accuracy                           0.70      7500\n",
      "   macro avg       0.50      0.50      0.49      7500\n",
      "weighted avg       0.65      0.70      0.67      7500\n",
      "\n"
     ]
    }
   ],
   "source": [
    "print(classification_report(y_test, y_pred))"
   ],
   "metadata": {
    "collapsed": false,
    "pycharm": {
     "name": "#%%\n"
    }
   }
  },
  {
   "cell_type": "code",
   "execution_count": 87,
   "outputs": [
    {
     "data": {
      "text/plain": "44"
     },
     "execution_count": 87,
     "metadata": {},
     "output_type": "execute_result"
    }
   ],
   "source": [
    "tree_clf.tree_.max_depth"
   ],
   "metadata": {
    "collapsed": false,
    "pycharm": {
     "name": "#%%\n"
    }
   }
  },
  {
   "cell_type": "code",
   "execution_count": null,
   "outputs": [],
   "source": [],
   "metadata": {
    "collapsed": false,
    "pycharm": {
     "name": "#%%\n"
    }
   }
  },
  {
   "cell_type": "code",
   "execution_count": 69,
   "outputs": [
    {
     "data": {
      "text/plain": "array([[4715, 1080],\n       [1015,  690]], dtype=int64)"
     },
     "execution_count": 69,
     "metadata": {},
     "output_type": "execute_result"
    }
   ],
   "source": [
    "# Second model, entropy criterion\n",
    "tree_clf = DecisionTreeClassifier(criterion='entropy')\n",
    "tree_clf.fit(X_train, y_train)\n",
    "y_pred = tree_clf.predict(X_test)\n",
    "confusion_matrix(y_test, y_pred)"
   ],
   "metadata": {
    "collapsed": false,
    "pycharm": {
     "name": "#%%\n"
    }
   }
  },
  {
   "cell_type": "code",
   "execution_count": 70,
   "outputs": [
    {
     "name": "stdout",
     "output_type": "stream",
     "text": [
      "              precision    recall  f1-score   support\n",
      "\n",
      "           0       0.82      0.81      0.82      5795\n",
      "           1       0.39      0.40      0.40      1705\n",
      "\n",
      "    accuracy                           0.72      7500\n",
      "   macro avg       0.61      0.61      0.61      7500\n",
      "weighted avg       0.72      0.72      0.72      7500\n",
      "\n"
     ]
    }
   ],
   "source": [
    "print(classification_report(y_test, y_pred))"
   ],
   "metadata": {
    "collapsed": false,
    "pycharm": {
     "name": "#%%\n"
    }
   }
  },
  {
   "cell_type": "code",
   "execution_count": null,
   "outputs": [],
   "source": [],
   "metadata": {
    "collapsed": false,
    "pycharm": {
     "name": "#%%\n"
    }
   }
  },
  {
   "cell_type": "code",
   "execution_count": 71,
   "outputs": [
    {
     "data": {
      "text/plain": "array([[5551,  244],\n       [1165,  540]], dtype=int64)"
     },
     "execution_count": 71,
     "metadata": {},
     "output_type": "execute_result"
    }
   ],
   "source": [
    "# Third model, min_samples_leaf as percentage\n",
    "tree_clf = DecisionTreeClassifier(min_samples_leaf=0.1)\n",
    "tree_clf.fit(X_train, y_train)\n",
    "y_pred = tree_clf.predict(X_test)\n",
    "confusion_matrix(y_test, y_pred)"
   ],
   "metadata": {
    "collapsed": false,
    "pycharm": {
     "name": "#%%\n"
    }
   }
  },
  {
   "cell_type": "code",
   "execution_count": 72,
   "outputs": [
    {
     "name": "stdout",
     "output_type": "stream",
     "text": [
      "              precision    recall  f1-score   support\n",
      "\n",
      "           0       0.83      0.96      0.89      5795\n",
      "           1       0.69      0.32      0.43      1705\n",
      "\n",
      "    accuracy                           0.81      7500\n",
      "   macro avg       0.76      0.64      0.66      7500\n",
      "weighted avg       0.80      0.81      0.78      7500\n",
      "\n"
     ]
    }
   ],
   "source": [
    "print(classification_report(y_test, y_pred))"
   ],
   "metadata": {
    "collapsed": false,
    "pycharm": {
     "name": "#%%\n"
    }
   }
  },
  {
   "cell_type": "markdown",
   "source": [
    "Changing the criterion improves the results. However, changing parameters related to the depth of the tree, in this case minimum number of samples required in a leaf, changes drastically the performance, which possibly avoids overfitting."
   ],
   "metadata": {
    "collapsed": false
   }
  },
  {
   "cell_type": "markdown",
   "metadata": {
    "colab_type": "text",
    "id": "QwcecRukPrgw"
   },
   "source": [
    "#### Question 2 (4 pts)\n",
    "\n",
    "Try to build the decision tree which you built for the previous question, but this time by RandomizedSearchCV over hyper-parameters. Compare the results."
   ]
  },
  {
   "cell_type": "code",
   "execution_count": 82,
   "metadata": {
    "colab": {},
    "colab_type": "code",
    "id": "4XHRmsWOPrgx"
   },
   "outputs": [
    {
     "data": {
      "text/plain": "RandomizedSearchCV(estimator=DecisionTreeClassifier(),\n                   param_distributions={'criterion': ['gini', 'entropy'],\n                                        'max_depth': [3, 5, None],\n                                        'min_samples_split': [10, 20, 50]},\n                   random_state=0)"
     },
     "execution_count": 82,
     "metadata": {},
     "output_type": "execute_result"
    }
   ],
   "source": [
    "# YOUR CODE HERE\n",
    "from sklearn.model_selection import RandomizedSearchCV\n",
    "params = {'criterion': ['gini', 'entropy'],\n",
    "          'max_depth': [3, 5, None],\n",
    "          'min_samples_split': [10,20,50]}\n",
    "\n",
    "clf = RandomizedSearchCV(DecisionTreeClassifier(),\n",
    "                         params,\n",
    "                         random_state=0)\n",
    "clf.fit(X_train,y_train)"
   ]
  },
  {
   "cell_type": "code",
   "execution_count": 83,
   "outputs": [
    {
     "data": {
      "text/plain": "{'min_samples_split': 20, 'max_depth': 3, 'criterion': 'gini'}"
     },
     "execution_count": 83,
     "metadata": {},
     "output_type": "execute_result"
    }
   ],
   "source": [
    "clf.best_params_"
   ],
   "metadata": {
    "collapsed": false,
    "pycharm": {
     "name": "#%%\n"
    }
   }
  },
  {
   "cell_type": "code",
   "execution_count": 100,
   "outputs": [
    {
     "data": {
      "text/plain": "           Importance\nPAY_0        0.774630\nPAY_2        0.146630\nPAY_AMT2     0.047399\nPAY_6        0.016879\nPAY_3        0.010077\nBILL_AMT1    0.004384\nBILL_AMT4    0.000000\nPAY_AMT5     0.000000\nPAY_AMT4     0.000000\nPAY_AMT3     0.000000\nPAY_AMT1     0.000000\nBILL_AMT6    0.000000\nBILL_AMT5    0.000000\nLIMIT_BAL    0.000000\nBILL_AMT3    0.000000\nBILL_AMT2    0.000000\nSEX          0.000000\nPAY_5        0.000000\nPAY_4        0.000000\nAGE          0.000000\nMARRIAGE     0.000000\nEDUCATION    0.000000\nPAY_AMT6     0.000000",
      "text/html": "<div>\n<style scoped>\n    .dataframe tbody tr th:only-of-type {\n        vertical-align: middle;\n    }\n\n    .dataframe tbody tr th {\n        vertical-align: top;\n    }\n\n    .dataframe thead th {\n        text-align: right;\n    }\n</style>\n<table border=\"1\" class=\"dataframe\">\n  <thead>\n    <tr style=\"text-align: right;\">\n      <th></th>\n      <th>Importance</th>\n    </tr>\n  </thead>\n  <tbody>\n    <tr>\n      <th>PAY_0</th>\n      <td>0.774630</td>\n    </tr>\n    <tr>\n      <th>PAY_2</th>\n      <td>0.146630</td>\n    </tr>\n    <tr>\n      <th>PAY_AMT2</th>\n      <td>0.047399</td>\n    </tr>\n    <tr>\n      <th>PAY_6</th>\n      <td>0.016879</td>\n    </tr>\n    <tr>\n      <th>PAY_3</th>\n      <td>0.010077</td>\n    </tr>\n    <tr>\n      <th>BILL_AMT1</th>\n      <td>0.004384</td>\n    </tr>\n    <tr>\n      <th>BILL_AMT4</th>\n      <td>0.000000</td>\n    </tr>\n    <tr>\n      <th>PAY_AMT5</th>\n      <td>0.000000</td>\n    </tr>\n    <tr>\n      <th>PAY_AMT4</th>\n      <td>0.000000</td>\n    </tr>\n    <tr>\n      <th>PAY_AMT3</th>\n      <td>0.000000</td>\n    </tr>\n    <tr>\n      <th>PAY_AMT1</th>\n      <td>0.000000</td>\n    </tr>\n    <tr>\n      <th>BILL_AMT6</th>\n      <td>0.000000</td>\n    </tr>\n    <tr>\n      <th>BILL_AMT5</th>\n      <td>0.000000</td>\n    </tr>\n    <tr>\n      <th>LIMIT_BAL</th>\n      <td>0.000000</td>\n    </tr>\n    <tr>\n      <th>BILL_AMT3</th>\n      <td>0.000000</td>\n    </tr>\n    <tr>\n      <th>BILL_AMT2</th>\n      <td>0.000000</td>\n    </tr>\n    <tr>\n      <th>SEX</th>\n      <td>0.000000</td>\n    </tr>\n    <tr>\n      <th>PAY_5</th>\n      <td>0.000000</td>\n    </tr>\n    <tr>\n      <th>PAY_4</th>\n      <td>0.000000</td>\n    </tr>\n    <tr>\n      <th>AGE</th>\n      <td>0.000000</td>\n    </tr>\n    <tr>\n      <th>MARRIAGE</th>\n      <td>0.000000</td>\n    </tr>\n    <tr>\n      <th>EDUCATION</th>\n      <td>0.000000</td>\n    </tr>\n    <tr>\n      <th>PAY_AMT6</th>\n      <td>0.000000</td>\n    </tr>\n  </tbody>\n</table>\n</div>"
     },
     "execution_count": 100,
     "metadata": {},
     "output_type": "execute_result"
    }
   ],
   "source": [
    "pd.DataFrame(clf.best_estimator_.feature_importances_, index=clf.best_estimator_.feature_names_in_, columns=['Importance']) \\\n",
    "    .sort_values('Importance', ascending=False)"
   ],
   "metadata": {
    "collapsed": false,
    "pycharm": {
     "name": "#%%\n"
    }
   }
  },
  {
   "cell_type": "code",
   "execution_count": 84,
   "outputs": [
    {
     "data": {
      "text/plain": "array([[5478,  317],\n       [1079,  626]], dtype=int64)"
     },
     "execution_count": 84,
     "metadata": {},
     "output_type": "execute_result"
    }
   ],
   "source": [
    "y_pred = clf.predict(X_test)\n",
    "confusion_matrix(y_test, y_pred)"
   ],
   "metadata": {
    "collapsed": false,
    "pycharm": {
     "name": "#%%\n"
    }
   }
  },
  {
   "cell_type": "code",
   "execution_count": 85,
   "outputs": [
    {
     "name": "stdout",
     "output_type": "stream",
     "text": [
      "              precision    recall  f1-score   support\n",
      "\n",
      "           0       0.84      0.95      0.89      5795\n",
      "           1       0.66      0.37      0.47      1705\n",
      "\n",
      "    accuracy                           0.81      7500\n",
      "   macro avg       0.75      0.66      0.68      7500\n",
      "weighted avg       0.80      0.81      0.79      7500\n",
      "\n"
     ]
    }
   ],
   "source": [
    "print(classification_report(y_test, y_pred))"
   ],
   "metadata": {
    "collapsed": false,
    "pycharm": {
     "name": "#%%\n"
    }
   }
  },
  {
   "cell_type": "code",
   "execution_count": null,
   "outputs": [],
   "source": [],
   "metadata": {
    "collapsed": false,
    "pycharm": {
     "name": "#%%\n"
    }
   }
  },
  {
   "cell_type": "markdown",
   "source": [
    "Randomized search make possible to improve the model even more. The best max depth is only three, the original tree had a depth of 44, which confirms the hypothesis that that model was overfitting.\n"
   ],
   "metadata": {
    "collapsed": false
   }
  },
  {
   "cell_type": "markdown",
   "metadata": {
    "colab_type": "text",
    "id": "dEvsYwiXPrg3"
   },
   "source": [
    "#### Question 3 (6 pts)\n",
    "\n",
    "Try to build the same classifier by using following ensemble models. For each of these models calculate accuracy and at least for two in the list below, plot the learning curves.\n",
    "\n",
    "* Random Forest \n",
    "* AdaBoost\n",
    "* Extra Trees Classifier \n",
    "* Gradient Boosted Trees \n"
   ]
  },
  {
   "cell_type": "code",
   "execution_count": 135,
   "outputs": [],
   "source": [
    "import matplotlib.pyplot as plt\n",
    "import seaborn as sns\n",
    "\n",
    "from sklearn.decomposition import PCA"
   ],
   "metadata": {
    "collapsed": false,
    "pycharm": {
     "name": "#%%\n"
    }
   }
  },
  {
   "cell_type": "code",
   "execution_count": 101,
   "metadata": {
    "colab": {},
    "colab_type": "code",
    "id": "J8S4UaKdPrg3"
   },
   "outputs": [
    {
     "data": {
      "text/plain": "array([[5455,  340],\n       [1094,  611]], dtype=int64)"
     },
     "execution_count": 101,
     "metadata": {},
     "output_type": "execute_result"
    }
   ],
   "source": [
    "# Random Forest\n",
    "from sklearn.ensemble import RandomForestClassifier\n",
    "\n",
    "rff = RandomForestClassifier()\n",
    "rff.fit(X_train,y_train)\n",
    "\n",
    "y_pred = rff.predict(X_test)\n",
    "confusion_matrix(y_test, y_pred)"
   ]
  },
  {
   "cell_type": "code",
   "execution_count": 102,
   "outputs": [
    {
     "name": "stdout",
     "output_type": "stream",
     "text": [
      "              precision    recall  f1-score   support\n",
      "\n",
      "           0       0.83      0.94      0.88      5795\n",
      "           1       0.64      0.36      0.46      1705\n",
      "\n",
      "    accuracy                           0.81      7500\n",
      "   macro avg       0.74      0.65      0.67      7500\n",
      "weighted avg       0.79      0.81      0.79      7500\n",
      "\n"
     ]
    }
   ],
   "source": [
    "print(classification_report(y_test, y_pred))"
   ],
   "metadata": {
    "collapsed": false,
    "pycharm": {
     "name": "#%%\n"
    }
   }
  },
  {
   "cell_type": "markdown",
   "source": [
    "To be able to plot the learning curves, I reduced the independent variables to one using PCA, plotting the resultant as x-axis, and the label as y-axis. The predicted label is shown as the color."
   ],
   "metadata": {
    "collapsed": false
   }
  },
  {
   "cell_type": "code",
   "execution_count": 178,
   "outputs": [
    {
     "data": {
      "text/plain": "<Figure size 720x360 with 1 Axes>",
      "image/png": "[encoded data removed]"
     },
     "metadata": {
      "needs_background": "light"
     },
     "output_type": "display_data"
    }
   ],
   "source": [
    "pca = PCA(n_components=1)\n",
    "df_plot = pd.DataFrame(\n",
    "    {'X': pca.fit_transform(X).reshape(1,-1).tolist()[0],\n",
    "     'y': y.tolist(),\n",
    "     'y_predict': rff.predict(X)}\n",
    ")\n",
    "\n",
    "fig, ax = plt.subplots(figsize=(10,5))\n",
    "sns.scatterplot(x='X', y='y', data=df_plot, hue = 'y_predict', alpha=0.5, ax=ax)\n",
    "plt.show()"
   ],
   "metadata": {
    "collapsed": false,
    "pycharm": {
     "name": "#%%\n"
    }
   }
  },
  {
   "cell_type": "code",
   "execution_count": null,
   "outputs": [],
   "source": [],
   "metadata": {
    "collapsed": false,
    "pycharm": {
     "name": "#%%\n"
    }
   }
  },
  {
   "cell_type": "code",
   "execution_count": 194,
   "outputs": [
    {
     "data": {
      "text/plain": "array([[5450,  376],\n       [1043,  631]], dtype=int64)"
     },
     "execution_count": 194,
     "metadata": {},
     "output_type": "execute_result"
    }
   ],
   "source": [
    "# Ada Boost\n",
    "from sklearn.ensemble import AdaBoostClassifier\n",
    "\n",
    "rff = RandomForestClassifier()\n",
    "rff.fit(X_train,y_train)\n",
    "\n",
    "ada_clf = AdaBoostClassifier(\n",
    "    DecisionTreeClassifier(max_depth=2), n_estimators=200)\n",
    "\n",
    "ada_clf.fit(X_train,y_train)\n",
    "\n",
    "y_pred = ada_clf.predict(X_test)\n",
    "confusion_matrix(y_test, y_pred)"
   ],
   "metadata": {
    "collapsed": false,
    "pycharm": {
     "name": "#%%\n"
    }
   }
  },
  {
   "cell_type": "code",
   "execution_count": 195,
   "outputs": [
    {
     "name": "stdout",
     "output_type": "stream",
     "text": [
      "              precision    recall  f1-score   support\n",
      "\n",
      "           0       0.84      0.94      0.88      5826\n",
      "           1       0.63      0.38      0.47      1674\n",
      "\n",
      "    accuracy                           0.81      7500\n",
      "   macro avg       0.73      0.66      0.68      7500\n",
      "weighted avg       0.79      0.81      0.79      7500\n",
      "\n"
     ]
    }
   ],
   "source": [
    "print(classification_report(y_test, y_pred))"
   ],
   "metadata": {
    "collapsed": false,
    "pycharm": {
     "name": "#%%\n"
    }
   }
  },
  {
   "cell_type": "code",
   "execution_count": 185,
   "outputs": [
    {
     "data": {
      "text/plain": "<Figure size 720x360 with 1 Axes>",
      "image/png": "[encoded data removed]"
     },
     "metadata": {
      "needs_background": "light"
     },
     "output_type": "display_data"
    }
   ],
   "source": [
    "pca = PCA(n_components=1)\n",
    "df_plot = pd.DataFrame(\n",
    "    {'X': pca.fit_transform(X).reshape(1,-1).tolist()[0],\n",
    "     'y': y.tolist(),\n",
    "     'y_predict': ada_clf.predict(X)}\n",
    ")\n",
    "\n",
    "fig, ax = plt.subplots(figsize=(10,5))\n",
    "sns.scatterplot(x='X', y='y', data=df_plot, hue = 'y_predict', alpha=0.5, ax=ax)\n",
    "plt.show()"
   ],
   "metadata": {
    "collapsed": false,
    "pycharm": {
     "name": "#%%\n"
    }
   }
  },
  {
   "cell_type": "code",
   "execution_count": 185,
   "outputs": [],
   "source": [],
   "metadata": {
    "collapsed": false,
    "pycharm": {
     "name": "#%%\n"
    }
   }
  },
  {
   "cell_type": "code",
   "execution_count": 186,
   "outputs": [
    {
     "data": {
      "text/plain": "array([[5474,  352],\n       [1061,  613]], dtype=int64)"
     },
     "execution_count": 186,
     "metadata": {},
     "output_type": "execute_result"
    }
   ],
   "source": [
    "# Extra Trees\n",
    "from sklearn.ensemble import ExtraTreesClassifier\n",
    "\n",
    "rff = RandomForestClassifier()\n",
    "rff.fit(X_train,y_train)\n",
    "\n",
    "ecl = ExtraTreesClassifier()\n",
    "\n",
    "ecl.fit(X_train,y_train)\n",
    "\n",
    "y_pred = ecl.predict(X_test)\n",
    "confusion_matrix(y_test, y_pred)"
   ],
   "metadata": {
    "collapsed": false,
    "pycharm": {
     "name": "#%%\n"
    }
   }
  },
  {
   "cell_type": "code",
   "execution_count": 187,
   "outputs": [
    {
     "name": "stdout",
     "output_type": "stream",
     "text": [
      "              precision    recall  f1-score   support\n",
      "\n",
      "           0       0.84      0.94      0.89      5826\n",
      "           1       0.64      0.37      0.46      1674\n",
      "\n",
      "    accuracy                           0.81      7500\n",
      "   macro avg       0.74      0.65      0.68      7500\n",
      "weighted avg       0.79      0.81      0.79      7500\n",
      "\n"
     ]
    }
   ],
   "source": [
    "print(classification_report(y_test, y_pred))"
   ],
   "metadata": {
    "collapsed": false,
    "pycharm": {
     "name": "#%%\n"
    }
   }
  },
  {
   "cell_type": "code",
   "execution_count": 188,
   "outputs": [
    {
     "data": {
      "text/plain": "<Figure size 720x360 with 1 Axes>",
      "image/png": "[encoded data removed]"
     },
     "metadata": {
      "needs_background": "light"
     },
     "output_type": "display_data"
    }
   ],
   "source": [
    "pca = PCA(n_components=1)\n",
    "df_plot = pd.DataFrame(\n",
    "    {'X': pca.fit_transform(X).reshape(1,-1).tolist()[0],\n",
    "     'y': y.tolist(),\n",
    "     'y_predict': ecl.predict(X)}\n",
    ")\n",
    "\n",
    "fig, ax = plt.subplots(figsize=(10,5))\n",
    "sns.scatterplot(x='X', y='y', data=df_plot, hue = 'y_predict', alpha=0.5, ax=ax)\n",
    "plt.show()"
   ],
   "metadata": {
    "collapsed": false,
    "pycharm": {
     "name": "#%%\n"
    }
   }
  },
  {
   "cell_type": "code",
   "execution_count": null,
   "outputs": [],
   "source": [],
   "metadata": {
    "collapsed": false,
    "pycharm": {
     "name": "#%%\n"
    }
   }
  },
  {
   "cell_type": "code",
   "execution_count": 189,
   "outputs": [
    {
     "data": {
      "text/plain": "array([[5477,  349],\n       [1057,  617]], dtype=int64)"
     },
     "execution_count": 189,
     "metadata": {},
     "output_type": "execute_result"
    }
   ],
   "source": [
    "# Gradient Boosting\n",
    "from sklearn.ensemble import GradientBoostingClassifier\n",
    "\n",
    "gcl = GradientBoostingClassifier()\n",
    "gcl.fit(X_train,y_train)\n",
    "\n",
    "gcl = ExtraTreesClassifier()\n",
    "\n",
    "gcl.fit(X_train,y_train)\n",
    "\n",
    "y_pred = gcl.predict(X_test)\n",
    "confusion_matrix(y_test, y_pred)"
   ],
   "metadata": {
    "collapsed": false,
    "pycharm": {
     "name": "#%%\n"
    }
   }
  },
  {
   "cell_type": "code",
   "execution_count": 190,
   "outputs": [
    {
     "name": "stdout",
     "output_type": "stream",
     "text": [
      "              precision    recall  f1-score   support\n",
      "\n",
      "           0       0.84      0.94      0.89      5826\n",
      "           1       0.64      0.37      0.47      1674\n",
      "\n",
      "    accuracy                           0.81      7500\n",
      "   macro avg       0.74      0.65      0.68      7500\n",
      "weighted avg       0.79      0.81      0.79      7500\n",
      "\n"
     ]
    }
   ],
   "source": [
    "print(classification_report(y_test, y_pred))"
   ],
   "metadata": {
    "collapsed": false,
    "pycharm": {
     "name": "#%%\n"
    }
   }
  },
  {
   "cell_type": "code",
   "execution_count": 191,
   "outputs": [
    {
     "data": {
      "text/plain": "<Figure size 720x360 with 1 Axes>",
      "image/png": "[encoded data removed]"
     },
     "metadata": {
      "needs_background": "light"
     },
     "output_type": "display_data"
    }
   ],
   "source": [
    "pca = PCA(n_components=1)\n",
    "df_plot = pd.DataFrame(\n",
    "    {'X': pca.fit_transform(X).reshape(1,-1).tolist()[0],\n",
    "     'y': y.tolist(),\n",
    "     'y_predict': gcl.predict(X)}\n",
    ")\n",
    "\n",
    "fig, ax = plt.subplots(figsize=(10,5))\n",
    "sns.scatterplot(x='X', y='y', data=df_plot, hue = 'y_predict', alpha=0.5, ax=ax)\n",
    "plt.show()"
   ],
   "metadata": {
    "collapsed": false,
    "pycharm": {
     "name": "#%%\n"
    }
   }
  },
  {
   "cell_type": "markdown",
   "metadata": {
    "colab_type": "text",
    "id": "qwyr2ulhPrg8"
   },
   "source": [
    "#### Question 4 (3 pts)\n",
    "\n",
    "Discuss and compare the results for the all past three questions. \n",
    "\n",
    "* How does changing hyperparms effect model performance? \n",
    "* Why do you think certain models performed better/worse? \n",
    "* How does this performance line up with known strengths/weakness of these models?"
   ]
  },
  {
   "cell_type": "markdown",
   "source": [
    "Changing the hyperparameters improves significantly the performance for the Tree Decision model, in particular the parameters related to the depth of the tree, which avoids overfitting.\n",
    "\n",
    "The ensemble models perform better than the simple Decision Tree, that's because they avoids overfiting without the necessity of tuning hyperparameters. In the case when the Decision Tree is tuned with a Randomized Search, the performance between the tuned model and the ensemble models are similar.\n",
    "\n",
    "Both, Decision Trees and Ensamble Models performs as the way is expected due each model's characteristics. Ensemble models tends to have a better performance. Between the Ensamble Models, Gradient Boosting is slightly better than the rest."
   ],
   "metadata": {
    "collapsed": false,
    "pycharm": {
     "name": "#%% md\n"
    }
   }
  },
  {
   "cell_type": "code",
   "execution_count": null,
   "outputs": [],
   "source": [],
   "metadata": {
    "collapsed": false,
    "pycharm": {
     "name": "#%%\n"
    }
   }
  }
 ],
 "metadata": {
  "colab": {
   "collapsed_sections": [],
   "name": "Assignment 4_modified.ipynb",
   "provenance": [],
   "version": "0.3.2"
  },
  "kernelspec": {
   "display_name": "Python 3",
   "language": "python",
   "name": "python3"
  },
  "language_info": {
   "codemirror_mode": {
    "name": "ipython",
    "version": 3
   },
   "file_extension": ".py",
   "mimetype": "text/x-python",
   "name": "python",
   "nbconvert_exporter": "python",
   "pygments_lexer": "ipython3",
   "version": "3.7.4"
  }
 },
 "nbformat": 4,
 "nbformat_minor": 1
}