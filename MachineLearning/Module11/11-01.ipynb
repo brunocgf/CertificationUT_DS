{
 "cells": [
  {
   "cell_type": "markdown",
   "metadata": {
    "colab_type": "text",
    "id": "UTFMTTd7l9qH"
   },
   "source": [
    "# Module 11 Part 1: Optimizing Deep Neural Networks - Vanishing/Exploding Gradient Problem"
   ]
  },
  {
   "cell_type": "markdown",
   "metadata": {},
   "source": [
    "# Introduction"
   ]
  },
  {
   "cell_type": "markdown",
   "metadata": {
    "colab_type": "text",
    "id": "wzJXPBCbl9qI"
   },
   "source": [
    "At some point, you will need to train a much deeper neural network with many layers, each containing hundreds of neurons, connected by hundreds of thousands of connections. Inevitably, you will face several problems throughout this process:\n",
    "\n",
    "- The **vanishing gradients problem** or the related **exploding gradient problem** &mdash; these problems make it very hard to train lower layers.\n",
    "\n",
    "\n",
    "- With such a large network, training will be extremely slow and take up a great deal of computing power.\n",
    "\n",
    "\n",
    "- A model with millions of parameters will severely risk overfitting the training set and thus reduce the accuracy of the model.\n",
    "\n",
    "Here we will go through each of these problems and present techniques to solve them.\n",
    "\n",
    "This module consists of 3 parts:\n",
    "\n",
    "- **Part 1** - Vanishing/Exploding Gradient Problem\n",
    "\n",
    "- **Part 2** - Using Faster Optimizers\n",
    "\n",
    "- **Part 3** - Avoiding Overfitting through Regularization\n",
    "\n",
    "Each part is provided in a separate notebook file. It is recommended that you follow the order of the notebooks."
   ]
  },
  {
   "cell_type": "markdown",
   "metadata": {},
   "source": [
    "# Learning Outcomes"
   ]
  },
  {
   "cell_type": "markdown",
   "metadata": {},
   "source": [
    "In this module, you will:\n",
    "\n",
    "* Explore the vanishing gradient problem and some of the most popular solutions to this problem\n",
    "* Become familiar with various optimizers that can speed up the training of large models tremendously compared to basic gradient descent\n",
    "* Be introduced to a few popular regularization techniques for large neural networks"
   ]
  },
  {
   "cell_type": "markdown",
   "metadata": {
    "colab_type": "text",
    "id": "4zrDAo_pl9qJ"
   },
   "source": [
    "# Readings and Resources"
   ]
  },
  {
   "cell_type": "markdown",
   "metadata": {
    "colab_type": "text",
    "id": "WJr1AcIgl9qK"
   },
   "source": [
    "We invite you to further supplement this notebook with the following recommended texts/resources.\n",
    "\n",
    "- Géron, A. (2019). Chapter 11: Training Deep Neural Nets in *Hands-On Machine Learning with Scikit-Learn, Keras, and TensorFlow* (2nd ed.). O’Reilly Media. https://www.oreilly.com/library/view/hands-on-machine-learning/9781492032632/\n",
    "\n",
    "\n",
    "- TensorFlow documentation and tutorials: https://www.tensorflow.org/tutorials\n",
    "\n",
    "\n",
    "- Kathuria, A. (2018). Paperspace blog: Intro to optimization in deep learning: Vanishing gradients and choosing the right activation function. https://blog.paperspace.com/vanishing-gradients-activation-function/"
   ]
  },
  {
   "cell_type": "markdown",
   "metadata": {},
   "source": [
    "<h1>Table of Contents<span class=\"tocSkip\"></span></h1>\n",
    "<br>\n",
    "<div class=\"toc\">\n",
    "<ul class=\"toc-item\">\n",
    "<li><span><a href=\"#Module-11-Part-1:-Optimizing-Deep-Neural-Networks---Vanishing/Exploding-Gradient-Problem\" data-toc-modified-id=\"Module-11-Part-1:-Optimizing-Deep-Neural-Networks---Vanishing/Exploding-Gradient-Problem\">Module 11 Part 1: Optimizing Deep Neural Networks - Vanishing/Exploding Gradient Problem</a></span>\n",
    "</li>\n",
    "<li><span><a href=\"#Introduction\" data-toc-modified-id=\"Introduction\">Introduction</a></span>\n",
    "</li>\n",
    "<li><span><a href=\"#Learning-Outcomes\" data-toc-modified-id=\"Learning-Outcomes\">Learning Outcomes</a></span>\n",
    "</li>\n",
    "<li><span><a href=\"#Readings-and-Resources\" data-toc-modified-id=\"Readings-and-Resources\">Readings and Resources</a></span>\n",
    "</li>\n",
    "<li><span><a href=\"#Table-of-Contents\" data-toc-modified-id=\"Table-of-Contents\">Table of Contents</a></span>\n",
    "</li>\n",
    "<li><span><a href=\"#Vanishing/Exploding-Gradient-Problem\" data-toc-modified-id=\"Vanishing/Exploding-Gradient-Problem\">Vanishing/Exploding Gradient Problem</a></span>\n",
    "<ul class=\"toc-item\">\n",
    "<li><span><a href=\"#Overview-of-the-problem\" data-toc-modified-id=\"Overview-of-the-problem\">Overview of the problem</a></span>\n",
    "</li>\n",
    "<li><span><a href=\"#Xavier-and-He-Initialization\" data-toc-modified-id=\"Xavier-and-He-Initialization\">Xavier and He Initialization</a></span>\n",
    "</li>\n",
    "<li><span><a href=\"#Nonsaturating-Activation-Functions\" data-toc-modified-id=\"Nonsaturating-Activation-Functions\">Nonsaturating Activation Functions</a></span>\n",
    "<ul class=\"toc-item\">\n",
    "<li><span><a href=\"#Advanced-Activations\" data-toc-modified-id=\"Advanced-Activations\">Advanced Activations</a></span>\n",
    "</li>\n",
    "<li><span><a href=\"#Choosing-an-Activation-Function\" data-toc-modified-id=\"Choosing-an-Activation-Function\">Choosing an Activation Function</a></span>\n",
    "</li>\n",
    "</ul>\n",
    "</li>\n",
    "<li><span><a href=\"#Batch-Normalization\" data-toc-modified-id=\"Batch-Normalization\">Batch Normalization</a></span>\n",
    "</li>\n",
    "</ul>\n",
    "</li>\n",
    "<li><span><a href=\"#References\" data-toc-modified-id=\"References\">References</a></span>\n",
    "</li>\n",
    "</ul>\n",
    "</div>"
   ]
  },
  {
   "cell_type": "markdown",
   "metadata": {
    "colab_type": "text",
    "id": "IDH-Ttenl9qL",
    "toc-hr-collapsed": false
   },
   "source": [
    "# Vanishing/Exploding Gradient Problem\n",
    "\n",
    "We will start by explaining the vanishing gradients problem and exploring some of the most popular solutions to this problem."
   ]
  },
  {
   "cell_type": "markdown",
   "metadata": {
    "colab_type": "text",
    "id": "GnZjGxH9l9qM"
   },
   "source": [
    "## Overview of the problem\n",
    "\n",
    "As we know from the previous module, the backpropagation algorithm works by going from the output layer to the input layer, propagating the gradients along the way. By the chain rule, the derivatives of each layer are multiplied down the network (from the final layer to the initial) to compute the derivatives of the weight parameters of initial layers. Once the algorithm has computed the gradient of the cost function with regards to each parameter in the network, it uses these gradients to update each parameter with a gradient descent step. \n",
    "\n",
    "This is fairly straightforward. However, the gradients often get smaller and smaller as the algorithm progresses down to the lower layers. As a result, the gradient descent update leaves the lower layer connection weights virtually unchanged, and training never converges. This is called the **vanishing gradients problem**. For a shallow network with only a few layers, this isn't a huge problem. However, when more layers are used, it can cause the gradient to be too small for training to work effectively. In some cases, the opposite can happen: the gradients get so big that the algorithm diverges. This is called **exploding gradients**, which mostly occurs in recurrent neural networks (which are not covered in this course).\n",
    "\n",
    "More generally, distributed neural networks (DNNs) suffer from unstable gradients and different layers may learn at widely different rates.\n",
    "\n",
    "To dig into this phenomenon, let's quickly explore two very common neural network activation functions: the **sigmoid function** and the **tanh function**. In the plots below, we show the output of both of these functions along with their gradients."
   ]
  },
  {
   "cell_type": "code",
   "execution_count": 1,
   "metadata": {
    "colab": {},
    "colab_type": "code",
    "id": "HD5RFLm-l9qN"
   },
   "outputs": [],
   "source": [
    "# Basic setup\n",
    "import numpy as np\n",
    "import matplotlib.pyplot as plt"
   ]
  },
  {
   "cell_type": "code",
   "execution_count": 2,
   "metadata": {
    "colab": {
     "base_uri": "https://localhost:8080/",
     "height": 296
    },
    "colab_type": "code",
    "executionInfo": {
     "elapsed": 1156,
     "status": "ok",
     "timestamp": 1563490038155,
     "user": {
      "displayName": "Michael Ciniello",
      "photoUrl": "https://lh4.googleusercontent.com/-Sc81UFAmWWE/AAAAAAAAAAI/AAAAAAAAInI/ccJjIOAmlUo/s64/photo.jpg",
      "userId": "09099206197539783636"
     },
     "user_tz": 240
    },
    "id": "tsA6c1_Cl9qP",
    "outputId": "b1476282-65e4-408c-f609-c266ad493ae0"
   },
   "outputs": [
    {
     "data": {
      "image/png": "[encoded data removed]",
      "text/plain": [
       "<Figure size 432x288 with 1 Axes>"
      ]
     },
     "metadata": {
      "needs_background": "light"
     },
     "output_type": "display_data"
    }
   ],
   "source": [
    "# Plot the sigmoid function\n",
    "z = np.linspace(-5, 5, 200)\n",
    "\n",
    "def sigmoid(z):\n",
    "    return 1 / (1 + np.exp(-z))\n",
    "\n",
    "def sigmoid_gradient(z):\n",
    "    return sigmoid(z) * (1-sigmoid(z))\n",
    "\n",
    "plt.plot([-5, 5], [1, 1], 'k--')\n",
    "plt.plot([-5, 5], [0, 0], 'k--')\n",
    "plt.plot(z, sigmoid(z), \"b-\", linewidth=2, label='Activation')\n",
    "plt.plot(z, sigmoid_gradient(z), \"g-\", linewidth=2, label='Derivative')\n",
    "plt.legend()\n",
    "plt.grid(True)\n",
    "plt.title(\"Sigmoid Activation & Derivative\", fontsize=14)\n",
    "plt.axis([-5, 5, -0.2, 1.2])\n",
    "plt.xlabel('WX+b')\n",
    "plt.ylabel('Activation & Derivative')\n",
    "plt.show()"
   ]
  },
  {
   "cell_type": "code",
   "execution_count": 3,
   "metadata": {
    "colab": {
     "base_uri": "https://localhost:8080/",
     "height": 296
    },
    "colab_type": "code",
    "executionInfo": {
     "elapsed": 1304,
     "status": "ok",
     "timestamp": 1563490038323,
     "user": {
      "displayName": "Michael Ciniello",
      "photoUrl": "https://lh4.googleusercontent.com/-Sc81UFAmWWE/AAAAAAAAAAI/AAAAAAAAInI/ccJjIOAmlUo/s64/photo.jpg",
      "userId": "09099206197539783636"
     },
     "user_tz": 240
    },
    "id": "T1HHJ-T1l9qS",
    "outputId": "d3540263-3a16-4760-aaaa-1848c7a80958"
   },
   "outputs": [
    {
     "data": {
      "image/png": "[encoded data removed]",
      "text/plain": [
       "<Figure size 432x288 with 1 Axes>"
      ]
     },
     "metadata": {
      "needs_background": "light"
     },
     "output_type": "display_data"
    }
   ],
   "source": [
    "# Plot the tanh function\n",
    "def tanh(z):\n",
    "    num = np.exp(z) - np.exp(-z)\n",
    "    denom = np.exp(z) + np.exp(-z)\n",
    "    return num/denom\n",
    "\n",
    "def tanh_gradient(z):\n",
    "    num = (np.exp(z) - np.exp(-z))**2\n",
    "    denom = (np.exp(z) + np.exp(-z))**2\n",
    "    return 1- num/denom\n",
    "\n",
    "plt.plot([-5, 5], [1, 1], 'k--')\n",
    "plt.plot([-5, 5], [-1, -1], 'k--')\n",
    "plt.plot(z, tanh(z), \"b-\", linewidth=2, label='Activation')\n",
    "plt.plot(z, tanh_gradient(z), \"g-\", linewidth=2, label='Derivative')\n",
    "plt.legend()\n",
    "plt.grid(True)\n",
    "plt.title(\"Tanh Activation & Derivative\", fontsize=14)\n",
    "plt.axis([-5, 5, -1.2, 1.2])\n",
    "plt.xlabel('WX+b')\n",
    "plt.ylabel('Activation & Derivative')\n",
    "\n",
    "plt.show()"
   ]
  },
  {
   "cell_type": "markdown",
   "metadata": {
    "colab_type": "text",
    "id": "cEs-WFsbl9qU"
   },
   "source": [
    "Looking at the sigmoid activation function, you can see that when inputs become large (negative or positive), the function saturates at 0 or 1 (becomes very close to either value), with a derivative (or gradient) extremely close to 0. The same goes for the tanh function. As the activation outputs get close to either 1 or -1, the value of the function derivative gets closer and closer to zero. This is called **saturation**.\n",
    "\n",
    "Thus, when backpropagation kicks in, it has virtually no gradient to propagate back through the network, and what little gradient exists keeps getting diluted as backpropagation progresses through the top layers, leaving nothing for the lower layers. This is a huge problem, as initial layers are often crucial to recognizing the core elements of the input data and can lead to overall inaccuracy of the whole network."
   ]
  },
  {
   "cell_type": "markdown",
   "metadata": {
    "colab_type": "text",
    "id": "9Fra6BwEl9qV"
   },
   "source": [
    "To further illustrate this problem, we have developed a simple model that takes in a `layer` parameter, and dynamically updates the graph with the specified number of dense layers. We then extract the value of the weight gradients at the *first layer*. As you will see, when the number of layers gets larger, the value of the gradients at the *first* layer gets smaller and smaller.\n",
    "\n",
    "To change the activation function for our hidden labels, all we have to do is change the `activation` parameter of the `tf.keras.layers.Dense` function. We will implement a function called `layer1_gradients` to wrap all of the model development into a single line of code so we can rapidly test the effect of multiple activation functions. The arguments of the function will include:\n",
    "\n",
    " - **`layers`**: Number of layers in the deep neural network.\n",
    " \n",
    " \n",
    " - **`n_neurons`**: Number of neurons in each hidden layer (defaults to 5).\n",
    " \n",
    " \n",
    " - **`n_inputs`**: Number of input features in the first layer (defaults to 784 for MNIST).\n",
    " \n",
    " \n",
    " - **`n_outputs`**: Number of model outputs (defaults to 10 for MNIST).\n",
    " \n",
    " \n",
    " - **`iterations`**: Number of iterations to run each model, as we will want to extract an average of the gradients (defaults to 10).\n",
    " \n",
    " \n",
    " - **`activate`**: The activation function to use in the hidden layers (defaults to sigmoid). Here we simply pass the name of the function we want to use (a string value), but we can also explicitly pass a `tf.keras.activations` function.\n",
    " \n",
    " \n",
    " - **`init`**: The initialization strategy to use in the hidden layers (defaults to `random_normal`). Here we simply pass the name of the initialization strategy we want to use (a string value), but we can also explicitly pass a `tf.keras.initializers` function.\n",
    " \n",
    " \n",
    " - **`print_`**: Whether or not to print the outputs.\n",
    "\n",
    "**NOTE:** We have taken the L2 norm of the gradients here (as there will be some negative and positive gradients) and re-executed the code over 10 iterations to get an average."
   ]
  },
  {
   "cell_type": "code",
   "execution_count": null,
   "metadata": {
    "colab": {},
    "colab_type": "code",
    "id": "udJYjZxpl9qW"
   },
   "outputs": [],
   "source": [
    "from time import time\n",
    "import tensorflow as tf\n",
    "\n",
    "# Create the run_model function\n",
    "tf.logging.set_verbosity(tf.logging.ERROR)\n",
    "\n",
    "def layer1_gradients(layers, n_neurons=5, n_inputs=784, n_outputs=10, iterations=10, activate='sigmoid', init='random_normal', print_=True):\n",
    "    tf.reset_default_graph()\n",
    "    # Inputs (use same data for each iteration)\n",
    "    X = tf.constant(X_train)\n",
    "    y = tf.constant(y_train)\n",
    "    # Build layers\n",
    "    L = tf.keras.layers.Dense(units=n_neurons, activation=activate, kernel_initializer=init)(X)\n",
    "    for layer in range(layers-1):\n",
    "        L = tf.keras.layers.Dense(units=n_neurons, activation=activate, kernel_initializer=init)(L)\n",
    "    logits = tf.keras.layers.Dense(units=n_outputs, activation='softmax', kernel_initializer=init)(L)\n",
    "    # Loss \n",
    "    cce = tf.keras.losses.CategoricalCrossentropy(from_logits=False)\n",
    "    loss = cce(y, logits)\n",
    "    # Extract first layer weights and gradients with respect to loss\n",
    "    first_W = tf.get_default_graph().get_collection('trainable_variables')[0]\n",
    "    grads_1 = tf.keras.backend.gradients(loss, first_W)\n",
    "    # Run model!\n",
    "    init = tf.global_variables_initializer()\n",
    "    outputs = []\n",
    "    t0 = time()\n",
    "    # Run multiple iterations to get average as we are using random initialization\n",
    "    for i in range(iterations):\n",
    "        with tf.Session() as sess:\n",
    "            sess.run(init)\n",
    "            raw_grad = sess.run(grads_1)\n",
    "            grads_norm = np.linalg.norm(raw_grad)\n",
    "            outputs.append(grads_norm)\n",
    "    t1 = time()\n",
    "    if print_:\n",
    "        # Summarize outputs\n",
    "        string = \"{} layers: L2Norm of L1 gradients ({} iterations) = {:.10f}, Runtime = {:.2f} min\"\n",
    "        print(string.format(layers, iterations, np.average(outputs), (t1-t0)/60))\n",
    "    return np.average(outputs)"
   ]
  },
  {
   "cell_type": "markdown",
   "metadata": {
    "colab_type": "text",
    "id": "oi_tPrq0l9qX"
   },
   "source": [
    "You can test out the function below on any dataset, but we will try it with the classic MNIST dataset, which we have loaded and prepped for you below."
   ]
  },
  {
   "cell_type": "code",
   "execution_count": 0,
   "metadata": {
    "colab": {
     "base_uri": "https://localhost:8080/",
     "height": 153
    },
    "colab_type": "code",
    "executionInfo": {
     "elapsed": 1823,
     "status": "ok",
     "timestamp": 1563490038868,
     "user": {
      "displayName": "Michael Ciniello",
      "photoUrl": "https://lh4.googleusercontent.com/-Sc81UFAmWWE/AAAAAAAAAAI/AAAAAAAAInI/ccJjIOAmlUo/s64/photo.jpg",
      "userId": "09099206197539783636"
     },
     "user_tz": 240
    },
    "id": "fhyXa1MXl9qY",
    "outputId": "58aa3452-3a8b-458e-c843-7d8d1dae1ef5"
   },
   "outputs": [
    {
     "name": "stdout",
     "output_type": "stream",
     "text": [
      "X_train: (1000, 784)\n",
      "y_train: (1000, 10)\n",
      "X_test: (1000, 784)\n",
      "y_test: (1000, 10)\n",
      "Min: -1.2835412806432598\n",
      "Max: 31.606961258559007\n",
      "X dtype: float64\n",
      "y dtype: float64\n"
     ]
    }
   ],
   "source": [
    "# First load in the data\n",
    "from sklearn.preprocessing import StandardScaler\n",
    "from sklearn.preprocessing import OneHotEncoder\n",
    "\n",
    "def load_mnist_clean(train_size, test_size):\n",
    "    # Load data\n",
    "    train, test = tf.keras.datasets.mnist.load_data()        \n",
    "\n",
    "    # Take sample\n",
    "    train_idx = np.random.randint(low=0, high=train[0].shape[0], size=train_size)\n",
    "    test_idx = np.random.randint(low=0, high=test[0].shape[0], size=test_size)\n",
    "    X_train = train[0][train_idx].reshape(-1,28*28)\n",
    "    y_train = train[1][train_idx].reshape(-1,1)\n",
    "    X_test = test[0][test_idx].reshape(-1,28*28)\n",
    "    y_test = test[1][test_idx].reshape(-1,1)\n",
    "\n",
    "    # As always, scale the data before running it throught the model\n",
    "    scaler = StandardScaler()\n",
    "    X_train = scaler.fit_transform(X_train)\n",
    "    X_test = scaler.transform(X_test) # Use scaler fit on training data\n",
    "\n",
    "    # Covert to onehot\n",
    "    oh = OneHotEncoder(categories='auto', sparse=False)\n",
    "    y_train = oh.fit_transform(y_train)\n",
    "    y_test = oh.transform(y_test)\n",
    "\n",
    "    # Check shapes\n",
    "    print('X_train:',X_train.shape)\n",
    "    print('y_train:',y_train.shape)\n",
    "    print('X_test:',X_test.shape)\n",
    "    print('y_test:',y_test.shape)\n",
    "    # Check scales\n",
    "    print('Min:',X_train.min())\n",
    "    print('Max:',X_train.max())\n",
    "    # Check data types\n",
    "    print(\"X dtype:\", X_train.dtype)\n",
    "    print(\"y dtype:\", y_train.dtype)\n",
    "    \n",
    "    return X_train, X_test, y_train, y_test\n",
    "\n",
    "X_train, X_test, y_train, y_test = load_mnist_clean(1000,1000)"
   ]
  },
  {
   "cell_type": "markdown",
   "metadata": {
    "colab_type": "text",
    "id": "tAdWSbpGl9qb"
   },
   "source": [
    "Let's run it over multiple iterations with an increasing number of iterations, using different activation functions. We will also plot the function outputs (the average L2 norm of layer 1 gradients) of the different models."
   ]
  },
  {
   "cell_type": "code",
   "execution_count": 0,
   "metadata": {
    "colab": {
     "base_uri": "https://localhost:8080/",
     "height": 589
    },
    "colab_type": "code",
    "executionInfo": {
     "elapsed": 26317,
     "status": "ok",
     "timestamp": 1563490063376,
     "user": {
      "displayName": "Michael Ciniello",
      "photoUrl": "https://lh4.googleusercontent.com/-Sc81UFAmWWE/AAAAAAAAAAI/AAAAAAAAInI/ccJjIOAmlUo/s64/photo.jpg",
      "userId": "09099206197539783636"
     },
     "user_tz": 240
    },
    "id": "A7eSWL1Fl9qc",
    "outputId": "0c73b425-f767-4668-d3e2-fdfcfb8e3867"
   },
   "outputs": [
    {
     "name": "stdout",
     "output_type": "stream",
     "text": [
      "Running models with sigmoid activations and random initialization\n",
      "2 layers: L2Norm of L1 gradients (10 iterations) = 0.0016843699, Runtime = 0.02 min\n",
      "4 layers: L2Norm of L1 gradients (10 iterations) = 0.0000016756, Runtime = 0.02 min\n",
      "6 layers: L2Norm of L1 gradients (10 iterations) = 0.0000000011, Runtime = 0.02 min\n",
      "8 layers: L2Norm of L1 gradients (10 iterations) = 0.0000000000, Runtime = 0.02 min\n",
      "10 layers: L2Norm of L1 gradients (10 iterations) = 0.0000000000, Runtime = 0.03 min\n",
      "Running models with tanh activations and random initialization\n",
      "2 layers: L2Norm of L1 gradients (10 iterations) = 0.0200520237, Runtime = 0.02 min\n",
      "4 layers: L2Norm of L1 gradients (10 iterations) = 0.0002763347, Runtime = 0.02 min\n",
      "6 layers: L2Norm of L1 gradients (10 iterations) = 0.0000027835, Runtime = 0.02 min\n",
      "8 layers: L2Norm of L1 gradients (10 iterations) = 0.0000000271, Runtime = 0.03 min\n",
      "10 layers: L2Norm of L1 gradients (10 iterations) = 0.0000000004, Runtime = 0.03 min\n",
      "Running models with ReLU activations and random initialization\n",
      "2 layers: L2Norm of L1 gradients (10 iterations) = 0.0125409648, Runtime = 0.02 min\n",
      "4 layers: L2Norm of L1 gradients (10 iterations) = 0.0000646084, Runtime = 0.02 min\n",
      "6 layers: L2Norm of L1 gradients (10 iterations) = 0.0000002060, Runtime = 0.02 min\n",
      "8 layers: L2Norm of L1 gradients (10 iterations) = 0.0000000023, Runtime = 0.03 min\n",
      "10 layers: L2Norm of L1 gradients (10 iterations) = 0.0000000000, Runtime = 0.03 min\n"
     ]
    },
    {
     "data": {
      "image/png": "[encoded data removed]",
      "text/plain": [
       "<Figure size 432x288 with 1 Axes>"
      ]
     },
     "metadata": {
      "tags": []
     },
     "output_type": "display_data"
    }
   ],
   "source": [
    "# Run the 5 different models (using sigmoid & tanh), each with a greater number of layers\n",
    "layers = list(range(2,12,2))\n",
    "\n",
    "sig_grads = []\n",
    "tanh_grads = []\n",
    "relu_grads = []\n",
    "\n",
    "\n",
    "print(\"Running models with sigmoid activations and random initialization\")\n",
    "for i in layers:\n",
    "    sig_grads.append(layer1_gradients(i, activate='sigmoid'))\n",
    "\n",
    "print(\"Running models with tanh activations and random initialization\")\n",
    "for i in layers:\n",
    "    tanh_grads.append(layer1_gradients(i, activate='tanh'))\n",
    "    \n",
    "print(\"Running models with ReLU activations and random initialization\")\n",
    "for i in layers:\n",
    "    relu_grads.append(layer1_gradients(i, activate='relu'))\n",
    "\n",
    "plt.plot(layers, sig_grads, label='sigmoid with random init')\n",
    "plt.plot(layers, tanh_grads, label='tanh with random init')\n",
    "plt.plot(layers, relu_grads, label='relu with random init')\n",
    "plt.legend()\n",
    "plt.xlabel('Epoch')\n",
    "plt.ylabel('L2 Norm of Layer1 Gradients')\n",
    "plt.show()"
   ]
  },
  {
   "cell_type": "markdown",
   "metadata": {
    "colab_type": "text",
    "id": "L38oTDc-l9qe"
   },
   "source": [
    "As expected, the L2 norm of the gradients decreases significantly as we add more layers to our model. This is the vanishing gradient problem, and there are multiple ways to solve it, many of which we will discuss now."
   ]
  },
  {
   "cell_type": "markdown",
   "metadata": {
    "colab_type": "text",
    "id": "vL2a5JA_l9qf"
   },
   "source": [
    "## Xavier and He Initialization\n",
    "\n",
    "Significant progress on solving the vanishing gradient problem was made with the 2010 paper \"Understanding the Difficulty of Training Deep Feedforward Neural Networks\": http://proceedings.mlr.press/v9/glorot10a/glorot10a.pdf (Glorot & Bengio, 2010). The authors of the paper narrowed down the problem to two main issues:\n",
    "\n",
    "1. The popular logistic sigmoid activation function (when it is used as an activation function in hidden layers).<br><br>\n",
    "\n",
    "2. The random weight initialization technique (using a normal distribution with a mean of 0 and a standard deviation of 1).\n",
    "\n",
    "In short, they illustrated that these two configurations combined caused the variance of the outputs of each layer to be MUCH greater than the variance of its inputs. In other words, as you go forward through the network, the larger variances saturate the outputs, and the gradients get super small. This is actually made worse by the fact that the logistic function has a mean of 0.5, not 0 like the tanh function (which is why we see slightly better results above with the tanh function!). \n",
    "\n",
    "To address this issue, Glorot and Bengio proposed two solutions:\n",
    "\n",
    "1. The variance of the outputs of each layer should be equal to the variance of its inputs<br><br>\n",
    "\n",
    "2. The gradients should have equal variance before and after flowing through a layer in reverse direction\n",
    "\n",
    "It is actually not possible to guarantee both unless the layer has an equal number of input and output connections, but they proposed a good compromise that has proven to work very well in practice: \n",
    "\n",
    "- The connection weights must be initialized randomly as described in the equation below, where `n_inputs` and `n_outputs` are the number of input and output connections for the layer whose weights are being initialized.\n",
    "\n",
    "This is called **Xavier initialization or Glorot initialization**:\n",
    "\n",
    "- *Normal distribution* with mean of 0 and standard deviation of  $\\sigma=\\sqrt{\\frac{2}{\\text{n_inputs + n_outputs}}}$\n",
    "\n",
    "or\n",
    "\n",
    "- *Uniform distribution* with between $-r$ and $r$ where $r=\\sqrt{\\frac{6}{\\text{n_inputs + n_outputs}}}$\n",
    "\n",
    "\n",
    "Using the Xavier initialization strategy can speed up training considerably, and it is one of the tricks that has led to the current success of deep learning. Some recent papers have provided similar strategies for different activation functions, as shown in the table below. The initialization strategy for the ReLU activation function (and its variants, including the ELU activation described shortly) is sometimes called **He initialization** (after the last name of its author).\n",
    "\n",
    "| **Activation Function** | &nbsp;&nbsp;&nbsp;&nbsp;**Uniform distribution $[-r,r]$**&nbsp;&nbsp;&nbsp;&nbsp; | &nbsp;&nbsp;&nbsp;**Normal distribution**&nbsp;&nbsp;&nbsp; | \n",
    "| ------- | ------- | ------- |\n",
    "| sigmoid | $r=\\sqrt{\\frac{6}{\\text{n_inputs + n_outputs}}}$ | $\\sigma=\\sqrt{\\frac{2}{\\text{n_inputs + n_outputs}}}$ |\n",
    "| tanh | $r=4\\sqrt{\\frac{6}{\\text{n_inputs + n_outputs}}}$ | $\\sigma=4\\sqrt{\\frac{2}{\\text{n_inputs + n_outputs}}}$ |\n",
    "| ReLU (he_init) | $r=\\sqrt{2}\\sqrt{\\frac{6}{\\text{n_inputs + n_outputs}}}$ | $\\sigma=\\sqrt{2}\\sqrt{\\frac{2}{\\text{n_inputs + n_outputs}}}$ |"
   ]
  },
  {
   "cell_type": "markdown",
   "metadata": {
    "colab_type": "text",
    "id": "1-yJV3ual9qg"
   },
   "source": [
    "In our `layer1_gradients` models above, we used the `random_normal` initialization. Below we will re-run these models using Glorot (Xavier) initialization (uniformly distributed). \n",
    "\n",
    "To do so, all we have to do is replace the `random_normal` string with our desired activation function. As noted above, we can also directly call the Keras Glorot initializer function with the `tf.keras.initializers.glorot_normal` class and pass it into our function."
   ]
  },
  {
   "cell_type": "code",
   "execution_count": 0,
   "metadata": {
    "colab": {
     "base_uri": "https://localhost:8080/",
     "height": 589
    },
    "colab_type": "code",
    "executionInfo": {
     "elapsed": 52115,
     "status": "ok",
     "timestamp": 1563490089190,
     "user": {
      "displayName": "Michael Ciniello",
      "photoUrl": "https://lh4.googleusercontent.com/-Sc81UFAmWWE/AAAAAAAAAAI/AAAAAAAAInI/ccJjIOAmlUo/s64/photo.jpg",
      "userId": "09099206197539783636"
     },
     "user_tz": 240
    },
    "id": "9u4_vJk3l9qh",
    "outputId": "16098de0-6eb1-4538-897a-12874f0ae7f8"
   },
   "outputs": [
    {
     "name": "stdout",
     "output_type": "stream",
     "text": [
      "Running models with sigmoid activations and glorot initialization\n",
      "2 layers: L2Norm of L1 gradients (10 iterations) = 0.1065135752, Runtime = 0.02 min\n",
      "4 layers: L2Norm of L1 gradients (10 iterations) = 0.0056932152, Runtime = 0.02 min\n",
      "6 layers: L2Norm of L1 gradients (10 iterations) = 0.0002770446, Runtime = 0.02 min\n",
      "8 layers: L2Norm of L1 gradients (10 iterations) = 0.0000187530, Runtime = 0.03 min\n",
      "10 layers: L2Norm of L1 gradients (10 iterations) = 0.0000007224, Runtime = 0.03 min\n",
      "Running models with tanh activations and glorot initialization\n",
      "2 layers: L2Norm of L1 gradients (10 iterations) = 1.1149827830, Runtime = 0.02 min\n",
      "4 layers: L2Norm of L1 gradients (10 iterations) = 0.7459900304, Runtime = 0.02 min\n",
      "6 layers: L2Norm of L1 gradients (10 iterations) = 0.5390352670, Runtime = 0.03 min\n",
      "8 layers: L2Norm of L1 gradients (10 iterations) = 0.4773369563, Runtime = 0.03 min\n",
      "10 layers: L2Norm of L1 gradients (10 iterations) = 0.2956322305, Runtime = 0.03 min\n",
      "Running models with ReLU activations and glorot initialization\n",
      "2 layers: L2Norm of L1 gradients (10 iterations) = 0.8449760870, Runtime = 0.02 min\n",
      "4 layers: L2Norm of L1 gradients (10 iterations) = 0.3679980804, Runtime = 0.02 min\n",
      "6 layers: L2Norm of L1 gradients (10 iterations) = 0.1006506844, Runtime = 0.02 min\n",
      "8 layers: L2Norm of L1 gradients (10 iterations) = 0.0099196385, Runtime = 0.03 min\n",
      "10 layers: L2Norm of L1 gradients (10 iterations) = 0.0111339243, Runtime = 0.03 min\n"
     ]
    },
    {
     "data": {
      "image/png": "[encoded data removed]",
      "text/plain": [
       "<Figure size 432x288 with 1 Axes>"
      ]
     },
     "metadata": {
      "tags": []
     },
     "output_type": "display_data"
    }
   ],
   "source": [
    "# Run the 5 different models (using sigmoid & tanh), each with a greater number of layers\n",
    "layers = list(range(2,12,2))\n",
    "init = tf.keras.initializers.glorot_uniform\n",
    "\n",
    "sig_grads_glor = []\n",
    "tanh_grads_glor = []\n",
    "relu_grads_glor = []\n",
    "\n",
    "print(\"Running models with sigmoid activations and glorot initialization\")\n",
    "for i in layers:\n",
    "    sig_grads_glor.append(layer1_gradients(i, activate='sigmoid', init=init))\n",
    "\n",
    "print(\"Running models with tanh activations and glorot initialization\")\n",
    "for i in layers:\n",
    "    tanh_grads_glor.append(layer1_gradients(i, activate='tanh', init=init))\n",
    "    \n",
    "print(\"Running models with ReLU activations and glorot initialization\")\n",
    "for i in layers:\n",
    "    relu_grads_glor.append(layer1_gradients(i, activate='relu', init=init))\n",
    "    \n",
    "\n",
    "plt.plot(layers, sig_grads, label='sigmoid with random init')\n",
    "plt.plot(layers, tanh_grads, label='tanh with random init')\n",
    "plt.plot(layers, relu_grads, label='relu with random init')\n",
    "plt.plot(layers, sig_grads_glor, label='sigmoid with glorot init')\n",
    "plt.plot(layers, tanh_grads_glor, label='tanh with glorot init')\n",
    "plt.plot(layers, relu_grads_glor, label='relu with glorot init')\n",
    "plt.legend()\n",
    "plt.xlabel('Epoch')\n",
    "plt.ylabel('L2 Norm of Layer1 Gradients')\n",
    "plt.show()"
   ]
  },
  {
   "cell_type": "markdown",
   "metadata": {
    "colab_type": "text",
    "id": "V1Von8nvl9ql"
   },
   "source": [
    "As we can see, the layer 1 gradients suffer from saturation to a much lesser degree when Glorot initialization is applied. Again, this affect will change based on the data and activation function you choose, but in general Glorot is the best place to start (or He initialization if you are using ReLU or ReLU relatives).\n",
    "\n",
    "In addition, we want to stress that the reason this issue is so important is that vanishing gradients can exponentially slow down training or prevent convergence all together.\n",
    "\n",
    "Below we will train a bunch of models using different initialization strategies and observe how the accuracy changes on each iteration (using ReLU as our base activation function). \n",
    "\n",
    "To do this, we create a wrapper function that creates a simple feedforward network with 5 layers. We will include `activation` and `initializer` parameters so we can test multiple models. Below we also load a larger MNIST sample to make the training more interesting."
   ]
  },
  {
   "cell_type": "code",
   "execution_count": 0,
   "metadata": {
    "colab": {},
    "colab_type": "code",
    "id": "t0jh42aOl9qm"
   },
   "outputs": [],
   "source": [
    "from tensorflow.keras import layers\n",
    "\n",
    "# Initialize simple_model function\n",
    "def simple_model(initializer, activation='relu'): # Use relu as base activation function\n",
    "    return tf.keras.Sequential([layers.Dense(32, activation, input_shape=(784,), kernel_initializer=initializer),\n",
    "                                layers.Dense(32, activation, kernel_initializer=initializer),\n",
    "                                layers.Dense(32, activation, kernel_initializer=initializer),\n",
    "                                layers.Dense(32, activation, kernel_initializer=initializer),\n",
    "                                layers.Dense(10, activation='softmax', kernel_initializer=tf.keras.initializers.glorot_normal())])"
   ]
  },
  {
   "cell_type": "code",
   "execution_count": 0,
   "metadata": {
    "colab": {
     "base_uri": "https://localhost:8080/",
     "height": 153
    },
    "colab_type": "code",
    "executionInfo": {
     "elapsed": 53903,
     "status": "ok",
     "timestamp": 1563490090990,
     "user": {
      "displayName": "Michael Ciniello",
      "photoUrl": "https://lh4.googleusercontent.com/-Sc81UFAmWWE/AAAAAAAAAAI/AAAAAAAAInI/ccJjIOAmlUo/s64/photo.jpg",
      "userId": "09099206197539783636"
     },
     "user_tz": 240
    },
    "id": "U6-Hms6Pl9qr",
    "outputId": "1a2fe3af-fcfd-4e51-ee52-6e86e182f8fc"
   },
   "outputs": [
    {
     "name": "stdout",
     "output_type": "stream",
     "text": [
      "X_train: (60000, 784)\n",
      "y_train: (60000, 10)\n",
      "X_test: (10000, 784)\n",
      "y_test: (10000, 10)\n",
      "Min: -1.2730298647380967\n",
      "Max: 244.94693302850283\n",
      "X dtype: float64\n",
      "y dtype: float64\n"
     ]
    }
   ],
   "source": [
    "# First load in larger dataset\n",
    "X_train, X_test, y_train, y_test = load_mnist_clean(60000,10000) # take full dataset"
   ]
  },
  {
   "cell_type": "markdown",
   "metadata": {
    "colab_type": "text",
    "id": "pHKtc1rol9qu"
   },
   "source": [
    "**Zeros initialization** "
   ]
  },
  {
   "cell_type": "code",
   "execution_count": 0,
   "metadata": {
    "colab": {
     "base_uri": "https://localhost:8080/",
     "height": 391
    },
    "colab_type": "code",
    "executionInfo": {
     "elapsed": 61092,
     "status": "ok",
     "timestamp": 1563490098187,
     "user": {
      "displayName": "Michael Ciniello",
      "photoUrl": "https://lh4.googleusercontent.com/-Sc81UFAmWWE/AAAAAAAAAAI/AAAAAAAAInI/ccJjIOAmlUo/s64/photo.jpg",
      "userId": "09099206197539783636"
     },
     "user_tz": 240
    },
    "id": "1BGFV00nl9qv",
    "outputId": "241e8a05-3e9d-4aae-ed9a-3bc7d1ae67da"
   },
   "outputs": [
    {
     "name": "stdout",
     "output_type": "stream",
     "text": [
      "Train on 60000 samples, validate on 10000 samples\n",
      "Epoch 1/10\n",
      "60000/60000 [==============================] - 1s 14us/sample - loss: 2.3026 - acc: 0.1114 - val_loss: 2.3025 - val_acc: 0.1102\n",
      "Epoch 2/10\n",
      "60000/60000 [==============================] - 1s 11us/sample - loss: 2.3025 - acc: 0.1120 - val_loss: 2.3025 - val_acc: 0.1102\n",
      "Epoch 3/10\n",
      "60000/60000 [==============================] - 1s 11us/sample - loss: 2.3025 - acc: 0.1120 - val_loss: 2.3024 - val_acc: 0.1102\n",
      "Epoch 4/10\n",
      "60000/60000 [==============================] - 1s 11us/sample - loss: 2.3024 - acc: 0.1120 - val_loss: 2.3024 - val_acc: 0.1102\n",
      "Epoch 5/10\n",
      "60000/60000 [==============================] - 1s 11us/sample - loss: 2.3024 - acc: 0.1120 - val_loss: 2.3024 - val_acc: 0.1102\n",
      "Epoch 6/10\n",
      "60000/60000 [==============================] - 1s 11us/sample - loss: 2.3023 - acc: 0.1120 - val_loss: 2.3023 - val_acc: 0.1102\n",
      "Epoch 7/10\n",
      "60000/60000 [==============================] - 1s 11us/sample - loss: 2.3023 - acc: 0.1120 - val_loss: 2.3023 - val_acc: 0.1102\n",
      "Epoch 8/10\n",
      "60000/60000 [==============================] - 1s 11us/sample - loss: 2.3022 - acc: 0.1120 - val_loss: 2.3022 - val_acc: 0.1102\n",
      "Epoch 9/10\n",
      "60000/60000 [==============================] - 1s 11us/sample - loss: 2.3022 - acc: 0.1120 - val_loss: 2.3022 - val_acc: 0.1102\n",
      "Epoch 10/10\n",
      "60000/60000 [==============================] - 1s 11us/sample - loss: 2.3021 - acc: 0.1120 - val_loss: 2.3022 - val_acc: 0.1102\n"
     ]
    },
    {
     "data": {
      "text/plain": [
       "<tensorflow.python.keras.callbacks.History at 0x7fa983f5ecf8>"
      ]
     },
     "execution_count": 21,
     "metadata": {
      "tags": []
     },
     "output_type": "execute_result"
    }
   ],
   "source": [
    "# Set params\n",
    "init = tf.initializers.zeros()\n",
    "activate = 'relu'\n",
    "\n",
    "# Run model\n",
    "optimizer = tf.keras.optimizers.SGD(0.01)\n",
    "model_ze = simple_model(init, activate)\n",
    "model_ze.compile(optimizer=optimizer, loss='categorical_crossentropy', metrics=['accuracy'])\n",
    "model_ze.fit(X_train, y_train, epochs=10, batch_size=3200, validation_data=(X_test, y_test))"
   ]
  },
  {
   "cell_type": "markdown",
   "metadata": {
    "colab_type": "text",
    "id": "GMRpwTU9l9qx"
   },
   "source": [
    "**Random Normal Initialization**"
   ]
  },
  {
   "cell_type": "code",
   "execution_count": 0,
   "metadata": {
    "colab": {
     "base_uri": "https://localhost:8080/",
     "height": 391
    },
    "colab_type": "code",
    "executionInfo": {
     "elapsed": 68271,
     "status": "ok",
     "timestamp": 1563490105378,
     "user": {
      "displayName": "Michael Ciniello",
      "photoUrl": "https://lh4.googleusercontent.com/-Sc81UFAmWWE/AAAAAAAAAAI/AAAAAAAAInI/ccJjIOAmlUo/s64/photo.jpg",
      "userId": "09099206197539783636"
     },
     "user_tz": 240
    },
    "id": "HFMPxPaSl9qx",
    "outputId": "d32df6d7-e7d6-4242-c5cb-178440c6d2ce"
   },
   "outputs": [
    {
     "name": "stdout",
     "output_type": "stream",
     "text": [
      "Train on 60000 samples, validate on 10000 samples\n",
      "Epoch 1/10\n",
      "60000/60000 [==============================] - 1s 13us/sample - loss: 980.3213 - acc: 0.1266 - val_loss: 6.1785 - val_acc: 0.1202\n",
      "Epoch 2/10\n",
      "60000/60000 [==============================] - 1s 11us/sample - loss: 4.3937 - acc: 0.1211 - val_loss: 4.0267 - val_acc: 0.1252\n",
      "Epoch 3/10\n",
      "60000/60000 [==============================] - 1s 11us/sample - loss: 3.2194 - acc: 0.1228 - val_loss: 3.4587 - val_acc: 0.1229\n",
      "Epoch 4/10\n",
      "60000/60000 [==============================] - 1s 11us/sample - loss: 2.8541 - acc: 0.1217 - val_loss: 3.1750 - val_acc: 0.1117\n",
      "Epoch 5/10\n",
      "60000/60000 [==============================] - 1s 12us/sample - loss: 2.6760 - acc: 0.1205 - val_loss: 3.0280 - val_acc: 0.1209\n",
      "Epoch 6/10\n",
      "60000/60000 [==============================] - 1s 11us/sample - loss: 2.5739 - acc: 0.1170 - val_loss: 2.9284 - val_acc: 0.1211\n",
      "Epoch 7/10\n",
      "60000/60000 [==============================] - 1s 11us/sample - loss: 2.5115 - acc: 0.1181 - val_loss: 2.8654 - val_acc: 0.1212\n",
      "Epoch 8/10\n",
      "60000/60000 [==============================] - 1s 11us/sample - loss: 2.4727 - acc: 0.1181 - val_loss: 2.8277 - val_acc: 0.1213\n",
      "Epoch 9/10\n",
      "60000/60000 [==============================] - 1s 11us/sample - loss: 2.4455 - acc: 0.1174 - val_loss: 2.8053 - val_acc: 0.1245\n",
      "Epoch 10/10\n",
      "60000/60000 [==============================] - 1s 11us/sample - loss: 2.4229 - acc: 0.1182 - val_loss: 2.7857 - val_acc: 0.1206\n"
     ]
    },
    {
     "data": {
      "text/plain": [
       "<tensorflow.python.keras.callbacks.History at 0x7fa97f06c8d0>"
      ]
     },
     "execution_count": 22,
     "metadata": {
      "tags": []
     },
     "output_type": "execute_result"
    }
   ],
   "source": [
    "# Set params\n",
    "init = tf.initializers.random_normal()\n",
    "activate = 'relu'\n",
    "\n",
    "# Run model\n",
    "optimizer = tf.keras.optimizers.SGD(0.01)\n",
    "model_rn = simple_model(init, activate)\n",
    "model_rn.compile(optimizer=optimizer, loss='categorical_crossentropy', metrics=['accuracy'])\n",
    "model_rn.fit(X_train, y_train, epochs=10, batch_size=3200, validation_data=(X_test, y_test))"
   ]
  },
  {
   "cell_type": "markdown",
   "metadata": {
    "colab_type": "text",
    "id": "lL2xkAeRl9q0"
   },
   "source": [
    "**Glorot Normal Initialization (Xavier Initialization)**"
   ]
  },
  {
   "cell_type": "code",
   "execution_count": 0,
   "metadata": {
    "colab": {
     "base_uri": "https://localhost:8080/",
     "height": 391
    },
    "colab_type": "code",
    "executionInfo": {
     "elapsed": 75464,
     "status": "ok",
     "timestamp": 1563490112583,
     "user": {
      "displayName": "Michael Ciniello",
      "photoUrl": "https://lh4.googleusercontent.com/-Sc81UFAmWWE/AAAAAAAAAAI/AAAAAAAAInI/ccJjIOAmlUo/s64/photo.jpg",
      "userId": "09099206197539783636"
     },
     "user_tz": 240
    },
    "id": "vdPfOJ8Vl9q1",
    "outputId": "2d17d5c3-486c-41e0-dfd9-07791a5bac14"
   },
   "outputs": [
    {
     "name": "stdout",
     "output_type": "stream",
     "text": [
      "Train on 60000 samples, validate on 10000 samples\n",
      "Epoch 1/10\n",
      "60000/60000 [==============================] - 1s 13us/sample - loss: 2.3295 - acc: 0.1097 - val_loss: 2.3101 - val_acc: 0.1311\n",
      "Epoch 2/10\n",
      "60000/60000 [==============================] - 1s 11us/sample - loss: 2.2984 - acc: 0.1352 - val_loss: 2.2831 - val_acc: 0.1569\n",
      "Epoch 3/10\n",
      "60000/60000 [==============================] - 1s 11us/sample - loss: 2.2714 - acc: 0.1686 - val_loss: 2.2579 - val_acc: 0.2042\n",
      "Epoch 4/10\n",
      "60000/60000 [==============================] - 1s 11us/sample - loss: 2.2450 - acc: 0.2157 - val_loss: 2.2320 - val_acc: 0.2564\n",
      "Epoch 5/10\n",
      "60000/60000 [==============================] - 1s 11us/sample - loss: 2.2169 - acc: 0.2637 - val_loss: 2.2032 - val_acc: 0.2954\n",
      "Epoch 6/10\n",
      "60000/60000 [==============================] - 1s 11us/sample - loss: 2.1855 - acc: 0.3068 - val_loss: 2.1704 - val_acc: 0.3309\n",
      "Epoch 7/10\n",
      "60000/60000 [==============================] - 1s 11us/sample - loss: 2.1497 - acc: 0.3402 - val_loss: 2.1327 - val_acc: 0.3587\n",
      "Epoch 8/10\n",
      "60000/60000 [==============================] - 1s 11us/sample - loss: 2.1082 - acc: 0.3685 - val_loss: 2.0884 - val_acc: 0.3864\n",
      "Epoch 9/10\n",
      "60000/60000 [==============================] - 1s 11us/sample - loss: 2.0595 - acc: 0.3962 - val_loss: 2.0361 - val_acc: 0.4107\n",
      "Epoch 10/10\n",
      "60000/60000 [==============================] - 1s 12us/sample - loss: 2.0027 - acc: 0.4195 - val_loss: 1.9751 - val_acc: 0.4303\n"
     ]
    },
    {
     "data": {
      "text/plain": [
       "<tensorflow.python.keras.callbacks.History at 0x7fa97f5b44e0>"
      ]
     },
     "execution_count": 23,
     "metadata": {
      "tags": []
     },
     "output_type": "execute_result"
    }
   ],
   "source": [
    "# Set params\n",
    "init = tf.keras.initializers.glorot_uniform()\n",
    "activate = 'relu'\n",
    "\n",
    "# Run model\n",
    "optimizer = tf.keras.optimizers.SGD(0.01)\n",
    "model_xa = simple_model(init, activate)\n",
    "model_xa.compile(optimizer=optimizer, loss='categorical_crossentropy', metrics=['accuracy'])\n",
    "model_xa.fit(X_train, y_train, epochs=10, batch_size=3200, validation_data=(X_test, y_test))"
   ]
  },
  {
   "cell_type": "markdown",
   "metadata": {
    "colab_type": "text",
    "id": "-5-Q4eeUl9q3"
   },
   "source": [
    "**He Initialization**"
   ]
  },
  {
   "cell_type": "code",
   "execution_count": 0,
   "metadata": {
    "colab": {
     "base_uri": "https://localhost:8080/",
     "height": 391
    },
    "colab_type": "code",
    "executionInfo": {
     "elapsed": 82749,
     "status": "ok",
     "timestamp": 1563490119877,
     "user": {
      "displayName": "Michael Ciniello",
      "photoUrl": "https://lh4.googleusercontent.com/-Sc81UFAmWWE/AAAAAAAAAAI/AAAAAAAAInI/ccJjIOAmlUo/s64/photo.jpg",
      "userId": "09099206197539783636"
     },
     "user_tz": 240
    },
    "id": "Qk-z713Al9q3",
    "outputId": "a4efb8f1-7761-400a-e550-69ff9c984a79"
   },
   "outputs": [
    {
     "name": "stdout",
     "output_type": "stream",
     "text": [
      "Train on 60000 samples, validate on 10000 samples\n",
      "Epoch 1/10\n",
      "60000/60000 [==============================] - 1s 13us/sample - loss: 2.6259 - acc: 0.1666 - val_loss: 2.2384 - val_acc: 0.2611\n",
      "Epoch 2/10\n",
      "60000/60000 [==============================] - 1s 11us/sample - loss: 2.1061 - acc: 0.3140 - val_loss: 1.9705 - val_acc: 0.3720\n",
      "Epoch 3/10\n",
      "60000/60000 [==============================] - 1s 11us/sample - loss: 1.8716 - acc: 0.4010 - val_loss: 1.7670 - val_acc: 0.4352\n",
      "Epoch 4/10\n",
      "60000/60000 [==============================] - 1s 11us/sample - loss: 1.6853 - acc: 0.4615 - val_loss: 1.6020 - val_acc: 0.4886\n",
      "Epoch 5/10\n",
      "60000/60000 [==============================] - 1s 11us/sample - loss: 1.5339 - acc: 0.5092 - val_loss: 1.4652 - val_acc: 0.5327\n",
      "Epoch 6/10\n",
      "60000/60000 [==============================] - 1s 11us/sample - loss: 1.4051 - acc: 0.5510 - val_loss: 1.3450 - val_acc: 0.5740\n",
      "Epoch 7/10\n",
      "60000/60000 [==============================] - 1s 11us/sample - loss: 1.2913 - acc: 0.5921 - val_loss: 1.2373 - val_acc: 0.6189\n",
      "Epoch 8/10\n",
      "60000/60000 [==============================] - 1s 11us/sample - loss: 1.1899 - acc: 0.6324 - val_loss: 1.1411 - val_acc: 0.6552\n",
      "Epoch 9/10\n",
      "60000/60000 [==============================] - 1s 11us/sample - loss: 1.0993 - acc: 0.6665 - val_loss: 1.0554 - val_acc: 0.6891\n",
      "Epoch 10/10\n",
      "60000/60000 [==============================] - 1s 11us/sample - loss: 1.0191 - acc: 0.6946 - val_loss: 0.9805 - val_acc: 0.7138\n"
     ]
    },
    {
     "data": {
      "text/plain": [
       "<tensorflow.python.keras.callbacks.History at 0x7fa987260ef0>"
      ]
     },
     "execution_count": 24,
     "metadata": {
      "tags": []
     },
     "output_type": "execute_result"
    }
   ],
   "source": [
    "# Set params\n",
    "init = tf.keras.initializers.he_uniform()\n",
    "activate = 'relu'\n",
    "\n",
    "# Run model\n",
    "optimizer = tf.keras.optimizers.SGD(0.01)\n",
    "model_he = simple_model(init, activate)\n",
    "model_he.compile(optimizer=optimizer, loss='categorical_crossentropy', metrics=['accuracy'])\n",
    "model_he.fit(X_train, y_train, epochs=10, batch_size=3200, validation_data=(X_test, y_test))"
   ]
  },
  {
   "cell_type": "code",
   "execution_count": 0,
   "metadata": {
    "colab": {
     "base_uri": "https://localhost:8080/",
     "height": 283
    },
    "colab_type": "code",
    "executionInfo": {
     "elapsed": 83145,
     "status": "ok",
     "timestamp": 1563490120283,
     "user": {
      "displayName": "Michael Ciniello",
      "photoUrl": "https://lh4.googleusercontent.com/-Sc81UFAmWWE/AAAAAAAAAAI/AAAAAAAAInI/ccJjIOAmlUo/s64/photo.jpg",
      "userId": "09099206197539783636"
     },
     "user_tz": 240
    },
    "id": "kGgsc6aSl9q5",
    "outputId": "d76a5ebf-7f6e-494f-c0ad-cbd1ecd3ff98"
   },
   "outputs": [
    {
     "data": {
      "image/png": "[encoded data removed]",
      "text/plain": [
       "<Figure size 432x288 with 1 Axes>"
      ]
     },
     "metadata": {
      "tags": []
     },
     "output_type": "display_data"
    }
   ],
   "source": [
    "for model in [model_ze, model_rn, model_xa, model_he]:\n",
    "    plt.plot(model.history.history['val_acc'], label=model.get_config()['layers'][0]['config']['kernel_initializer']['class_name'])\n",
    "\n",
    "plt.legend()\n",
    "plt.xlabel('Epoch')\n",
    "plt.ylabel('Validation Accuracy')\n",
    "plt.show()"
   ]
  },
  {
   "cell_type": "markdown",
   "metadata": {
    "colab_type": "text",
    "id": "-oUE_zXWl9q8"
   },
   "source": [
    "**NOTE:** `VarianceScaling` is another name for He initialization.\n",
    "\n",
    "Our model accuracy after 10 epochs actually goes up significantly from epoch to epoch when we use the \"Glorot uniform\" and \"He uniform\" initializations. This makes sense, as the gradient updates are more effectively transferred through to the initial layers, thus speeding up training. `VarianceScaling` (He initialization) is optimized specifically for ReLU activation functions, which explains why it performs the best here.\n",
    "\n",
    "You are encouraged to experiment with different activation functions and initialization strategies to see if you can improve training accuracy even more.\n",
    "\n",
    "You may even want to train for more epochs and see how that affects the model."
   ]
  },
  {
   "cell_type": "markdown",
   "metadata": {
    "colab_type": "text",
    "id": "LXn4vW0Pl9q_"
   },
   "source": [
    "## Nonsaturating Activation Functions\n",
    "\n",
    "Proper initialization strategies are incredibly important when addressing the vanishing gradient problem, but we can do more! The next technique involves tweaking the activation functions themselves.\n",
    "\n",
    "As mentioned above, one of the insights in the 2010 paper by Xavier and Glorot was that the vanishing/exploding gradients problems was in part due a poor choice of activation function, namely the sigmoid activation function. As we demonstrated above, the ReLU or tanh activation functions present excellent alternatives to the sigmoid function. Of particular interest is the ReLU activation function, mostly because it does not saturate for positive values, and also because it is super fast to compute.\n",
    "\n",
    "However, ReLU activation is not perfect, as it suffers from what is called the **dying ReLU problem**: during training some neurons effectively die, meaning they stop outputting anything other than 0. This is because the gradient of the ReLU function is 0 when its input is negative. In some cases, you may find that half of your network's neurons are dead, especially if you used a large learning rate. "
   ]
  },
  {
   "cell_type": "markdown",
   "metadata": {
    "colab_type": "text",
    "id": "ajzRbo9Kl9rB"
   },
   "source": [
    "### Advanced Activations"
   ]
  },
  {
   "cell_type": "markdown",
   "metadata": {
    "colab_type": "text",
    "id": "3cqRXVNWl9rC"
   },
   "source": [
    "**Leaky ReLU:**\n",
    "\n",
    "To solve the dying neuron problem outlined above, researchers came up with a clever variant of the ReLU function called the **leaky ReLU function**. \n",
    "\n",
    "Leaky ReLU is defined as $\\alpha(z) = max(\\alpha z, z)$:\n",
    "\n",
    "- Hyperparameter $\\alpha$ defines how much the function \"leaks\": it is the slope of the function where $z$ is less than 0 and is typically set to 0.01, though larger leaks (e.g. $\\alpha$ = 0.2) can sometimes lead to even better results.\n",
    "\n",
    "\n",
    "- The small slope ensures that leaky ReLU neurons never die. They can go into a long coma, but they have a chance to eventually wake up (as the activation output will likely never become exactly zero, though it may be very small).\n",
    "\n",
    "Recent papers have showed that leaky ReLUs often outperform strict ReLU functions. The **randomized leaky ReLU (RReLU)**, where $\\alpha$ is picked randomly in a given range during training (and is fixed to an average value during testing), as well as the **parametric leaky ReLU (PReLU)**, where $\\alpha$ is authorized to be learned during training, have also both been shown to produce strong results. The RReLU in particular seems to act as a regularizer (reducing the risk of overfitting the training set), while the parametric leaky ReLU (PReLU) tends to outperform ReLU on large image datasets, but on smaller datasets it runs the risk of overfitting the training set.\n",
    "\n",
    "Below we we have plotted the activation output and derivative of a basic leaky ReLU implementation."
   ]
  },
  {
   "cell_type": "code",
   "execution_count": 0,
   "metadata": {
    "colab": {
     "base_uri": "https://localhost:8080/",
     "height": 296
    },
    "colab_type": "code",
    "executionInfo": {
     "elapsed": 83400,
     "status": "ok",
     "timestamp": 1563490120549,
     "user": {
      "displayName": "Michael Ciniello",
      "photoUrl": "https://lh4.googleusercontent.com/-Sc81UFAmWWE/AAAAAAAAAAI/AAAAAAAAInI/ccJjIOAmlUo/s64/photo.jpg",
      "userId": "09099206197539783636"
     },
     "user_tz": 240
    },
    "id": "Ggy3IABYl9rD",
    "outputId": "f5422074-d4fb-4730-e03e-c3f2b2d48be5"
   },
   "outputs": [
    {
     "data": {
      "image/png": "[encoded data removed]",
      "text/plain": [
       "<Figure size 432x288 with 1 Axes>"
      ]
     },
     "metadata": {
      "tags": []
     },
     "output_type": "display_data"
    }
   ],
   "source": [
    "# Plot the sigmoid function\n",
    "z = np.linspace(-5, 5, 200)\n",
    "\n",
    "# high alpha for visualization purposes\n",
    "def leaky_relu(z, alpha=0.1):\n",
    "    return np.where(z < 0, alpha*z,z)\n",
    "\n",
    "def leaky_relu_gradient(z, alpha=0.1):\n",
    "    return np.where(z < 0, alpha,1)\n",
    "\n",
    "\n",
    "plt.plot([0, 0], [-5, 5], 'k--')\n",
    "plt.plot([-5, 5], [0, 0], 'k--')\n",
    "plt.plot(z, leaky_relu(z), \"b-\", linewidth=2, label='Activation')\n",
    "plt.plot(z, leaky_relu_gradient(z), \"g-\", linewidth=2, label='Derivative')\n",
    "plt.legend()\n",
    "plt.grid(True)\n",
    "plt.title(\"Leaky ReLU (α=0.1) Activation & Derivative\", fontsize=14)\n",
    "plt.axis([-5,5, -0.5, 3])\n",
    "plt.xlabel('WX+b')\n",
    "plt.ylabel('Activation & Derivative')\n",
    "plt.show()"
   ]
  },
  {
   "cell_type": "markdown",
   "metadata": {
    "colab_type": "text",
    "id": "m9Ith3AEl9rF"
   },
   "source": [
    "**Exponential Linear Unit (ELU):**\n",
    "\n",
    "Soon after ReLU was proposed, a 2015 paper by Djork-Arné Clevert et al. proposed a new activation function called the **exponential linear unit (ELU)** that outperformed all the ReLU variants in their experiments (training time was reduced and the neural network performed better on the test set). It is shown below.\n",
    "\n",
    "$$f(x) = \\left \\{\t\\begin{array}{rcl}\t\\alpha (exp(x) - 1) & \\mbox{for} & x \\le 0\\\\\tx & \\mbox{for} & x > 0\\end{array} \\right.$$\n",
    "\n",
    "We have plotted the function as well as its derivative below."
   ]
  },
  {
   "cell_type": "code",
   "execution_count": 0,
   "metadata": {
    "colab": {
     "base_uri": "https://localhost:8080/",
     "height": 296
    },
    "colab_type": "code",
    "executionInfo": {
     "elapsed": 83687,
     "status": "ok",
     "timestamp": 1563490120845,
     "user": {
      "displayName": "Michael Ciniello",
      "photoUrl": "https://lh4.googleusercontent.com/-Sc81UFAmWWE/AAAAAAAAAAI/AAAAAAAAInI/ccJjIOAmlUo/s64/photo.jpg",
      "userId": "09099206197539783636"
     },
     "user_tz": 240
    },
    "id": "VHn1k58cl9rG",
    "outputId": "439095dc-1bf9-466c-cb9b-2d0a50e1b2c0"
   },
   "outputs": [
    {
     "data": {
      "image/png": "[encoded data removed]",
      "text/plain": [
       "<Figure size 432x288 with 1 Axes>"
      ]
     },
     "metadata": {
      "tags": []
     },
     "output_type": "display_data"
    }
   ],
   "source": [
    "# Plot the sigmoid function\n",
    "z = np.linspace(-5, 5, 200)\n",
    "\n",
    "# high alpha for visualization purposes\n",
    "def elu(z, alpha=1):\n",
    "    return np.where(z < 0, alpha*np.exp(z)-1,z)\n",
    "\n",
    "def elu_gradient(z, alpha=1):\n",
    "    return np.where(z < 0, alpha*np.exp(z),1)\n",
    "\n",
    "plt.plot([0, 0], [-5, 5], 'k--')\n",
    "plt.plot([-5, 5], [0, 0], 'k--')\n",
    "plt.plot(z, elu(z), \"b-\", linewidth=2, label='Activation')\n",
    "plt.plot(z, elu_gradient(z), \"g-\", linewidth=2, label='Derivative')\n",
    "plt.legend()\n",
    "plt.grid(True)\n",
    "plt.title(\"ELU (α=1) Activation & Derivative\", fontsize=14)\n",
    "plt.axis([-5,5, -2, 3])\n",
    "plt.xlabel('WX+b')\n",
    "plt.ylabel('Activation & Derivative')\n",
    "plt.show()"
   ]
  },
  {
   "cell_type": "markdown",
   "metadata": {
    "colab_type": "text",
    "id": "naViu_3Al9rI"
   },
   "source": [
    "### Choosing an Activation Function\n",
    "\n",
    "So, which activation functions should you use for the **hidden layers** of your deep neural network?\n",
    "\n",
    "The short answer is it will usually vary from dataset to dataset and the type of architecture you choose. However, this trend generally holds:\n",
    "\n",
    "- $\\text{ELU} > \\text{Leaky ReLU} > \\text{ReLU} > \\text{tanh} > \\text{sigmoid}$\n",
    "\n",
    "\n",
    "- If you don’t want to tweak yet another hyperparameter, you may just use the default $\\alpha$ values suggested earlier (0.01 for Leaky ReLU, and 1 for ELU)."
   ]
  },
  {
   "cell_type": "markdown",
   "metadata": {
    "colab_type": "text",
    "id": "gXQrHqA8l9rK"
   },
   "source": [
    "**Exercise 1**\n",
    "\n",
    "Let's try and put the `elu` function to the test and see how it compares to our results above. Start with He initialization, but feel free to try out other combinations to get the best accuracy within 10 epochs. Leverage the existing `simple_model` function to perform your tests. You can also try out the `layer1_gradients` function using the `elu` activation function to see how it affects L1 gradients *(make sure to load a smaller dataset with this function, as it will take too long with the full MNSIT dataset).*"
   ]
  },
  {
   "cell_type": "code",
   "execution_count": 0,
   "metadata": {
    "colab": {},
    "colab_type": "code",
    "id": "jYCxScKXKS8v"
   },
   "outputs": [],
   "source": [
    "# Your work here"
   ]
  },
  {
   "cell_type": "code",
   "execution_count": 0,
   "metadata": {
    "colab": {},
    "colab_type": "code",
    "id": "kIqZ_RTpKS8x"
   },
   "outputs": [],
   "source": [
    "# Your work here"
   ]
  },
  {
   "cell_type": "code",
   "execution_count": 0,
   "metadata": {
    "colab": {},
    "colab_type": "code",
    "id": "HS2w1fG7KS8z"
   },
   "outputs": [],
   "source": [
    "# Your work here"
   ]
  },
  {
   "cell_type": "markdown",
   "metadata": {
    "colab_type": "text",
    "id": "M056yNI6l9rQ"
   },
   "source": [
    "**Exercise 1 Solution**"
   ]
  },
  {
   "cell_type": "code",
   "execution_count": 0,
   "metadata": {
    "colab": {
     "base_uri": "https://localhost:8080/",
     "height": 391
    },
    "colab_type": "code",
    "executionInfo": {
     "elapsed": 91309,
     "status": "ok",
     "timestamp": 1563490128482,
     "user": {
      "displayName": "Michael Ciniello",
      "photoUrl": "https://lh4.googleusercontent.com/-Sc81UFAmWWE/AAAAAAAAAAI/AAAAAAAAInI/ccJjIOAmlUo/s64/photo.jpg",
      "userId": "09099206197539783636"
     },
     "user_tz": 240
    },
    "id": "4dJMtVcEl9rQ",
    "outputId": "ce42f98b-2b05-4c9a-811a-a850afc94f35"
   },
   "outputs": [
    {
     "name": "stdout",
     "output_type": "stream",
     "text": [
      "Train on 60000 samples, validate on 10000 samples\n",
      "Epoch 1/10\n",
      "60000/60000 [==============================] - 1s 15us/sample - loss: 2.4182 - acc: 0.2516 - val_loss: 1.8265 - val_acc: 0.4173\n",
      "Epoch 2/10\n",
      "60000/60000 [==============================] - 1s 12us/sample - loss: 1.6384 - acc: 0.4859 - val_loss: 1.4182 - val_acc: 0.5551\n",
      "Epoch 3/10\n",
      "60000/60000 [==============================] - 1s 12us/sample - loss: 1.3323 - acc: 0.5844 - val_loss: 1.1937 - val_acc: 0.6279\n",
      "Epoch 4/10\n",
      "60000/60000 [==============================] - 1s 12us/sample - loss: 1.1463 - acc: 0.6458 - val_loss: 1.0409 - val_acc: 0.6872\n",
      "Epoch 5/10\n",
      "60000/60000 [==============================] - 1s 12us/sample - loss: 1.0141 - acc: 0.6936 - val_loss: 0.9266 - val_acc: 0.7367\n",
      "Epoch 6/10\n",
      "60000/60000 [==============================] - 1s 12us/sample - loss: 0.9130 - acc: 0.7330 - val_loss: 0.8374 - val_acc: 0.7669\n",
      "Epoch 7/10\n",
      "60000/60000 [==============================] - 1s 12us/sample - loss: 0.8328 - acc: 0.7618 - val_loss: 0.7664 - val_acc: 0.7887\n",
      "Epoch 8/10\n",
      "60000/60000 [==============================] - 1s 12us/sample - loss: 0.7681 - acc: 0.7817 - val_loss: 0.7091 - val_acc: 0.8069\n",
      "Epoch 9/10\n",
      "60000/60000 [==============================] - 1s 11us/sample - loss: 0.7152 - acc: 0.7971 - val_loss: 0.6621 - val_acc: 0.8195\n",
      "Epoch 10/10\n",
      "60000/60000 [==============================] - 1s 12us/sample - loss: 0.6715 - acc: 0.8090 - val_loss: 0.6236 - val_acc: 0.8290\n"
     ]
    },
    {
     "data": {
      "text/plain": [
       "<tensorflow.python.keras.callbacks.History at 0x7fa97f088358>"
      ]
     },
     "execution_count": 31,
     "metadata": {
      "tags": []
     },
     "output_type": "execute_result"
    }
   ],
   "source": [
    "# Set params\n",
    "activate = 'elu'\n",
    "init = tf.keras.initializers.he_uniform()\n",
    "\n",
    "# Run model\n",
    "optimizer = tf.keras.optimizers.SGD(0.01)\n",
    "model_he_elu = simple_model(init, activate)\n",
    "model_he_elu.compile(optimizer=optimizer, loss='categorical_crossentropy', metrics=['accuracy'])\n",
    "model_he_elu.fit(X_train, y_train, epochs=10, batch_size=3200, validation_data=(X_test, y_test))"
   ]
  },
  {
   "cell_type": "code",
   "execution_count": 0,
   "metadata": {
    "colab": {
     "base_uri": "https://localhost:8080/",
     "height": 283
    },
    "colab_type": "code",
    "executionInfo": {
     "elapsed": 91725,
     "status": "ok",
     "timestamp": 1563490128908,
     "user": {
      "displayName": "Michael Ciniello",
      "photoUrl": "https://lh4.googleusercontent.com/-Sc81UFAmWWE/AAAAAAAAAAI/AAAAAAAAInI/ccJjIOAmlUo/s64/photo.jpg",
      "userId": "09099206197539783636"
     },
     "user_tz": 240
    },
    "id": "TLsbb-qGl9rS",
    "outputId": "5e5c2aa9-1f38-47a1-cb6e-d89a5fcf100e"
   },
   "outputs": [
    {
     "data": {
      "image/png": "[encoded data removed]",
      "text/plain": [
       "<Figure size 432x288 with 1 Axes>"
      ]
     },
     "metadata": {
      "tags": []
     },
     "output_type": "display_data"
    }
   ],
   "source": [
    "for model in [model_ze, model_rn, model_xa, model_he, model_he_elu]:\n",
    "    init = model.get_config()['layers'][0]['config']['kernel_initializer']['class_name']\n",
    "    act = model.get_config()['layers'][0]['config']['activation']\n",
    "    plt.plot(model.history.history['val_acc'], label = init+\"_\"+act)\n",
    "\n",
    "plt.legend()\n",
    "plt.xlabel('Epoch')\n",
    "plt.ylabel('Validation Accuracy')\n",
    "plt.show()"
   ]
  },
  {
   "cell_type": "markdown",
   "metadata": {
    "colab_type": "text",
    "id": "2iuRCPWFl9rU"
   },
   "source": [
    "It looks like when using He initialization (`VarianceScaling`) the `elu` activation function produces better results!\n",
    "\n",
    "Again, **the combination will always vary based on the dataset you are running your model on**, so there is no hard and fast rule for choosing the right initialization and activation parameters. The only option is to experiment!"
   ]
  },
  {
   "cell_type": "markdown",
   "metadata": {
    "colab_type": "text",
    "id": "0QEfUXTMl9rV",
    "toc-hr-collapsed": true
   },
   "source": [
    "## Batch Normalization"
   ]
  },
  {
   "cell_type": "markdown",
   "metadata": {
    "colab_type": "text",
    "id": "iDUEp0oul9rW"
   },
   "source": [
    "While using He initialization along with ELU can reduce vanishing/exploding gradient issues at the beginning of training, it doesn't guarantee that these won't come back at a later point in the training process. This is largely because as the training process progresses from epoch to epoch, the distribution of each layer's inputs can change significantly as the parameters of the previous layers change. This is called the **internal covariate shift problem**. To address this issue, researches came up with a technique called **batch normalization**.\n",
    "\n",
    "Batch normalization layers are added in the model just before the activation function of each layer. The operation consists of two main steps:\n",
    "\n",
    "1. **Zero-centering the inputs:** In order to zero-center and normalize the inputs the algorithm needs to estimate the mean and standard deviation of the inputs. It does so by evaluating the mean and standard deviation of the inputs over the current mini-batch (hence the name “batch normalization”).<br><br>\n",
    " \n",
    "2. **Scaling and shifting:** The zero-centered inputs are then scaled and shifted using two new learnable parameters per layer (one for scaling and one for shifting). In other words, batch normalization lets the model learn the optimal scale and mean of the inputs for each layer. \n",
    "\n",
    "Mathematically, these steps can be broken down as follows:\n",
    "\n",
    "1. **Calculate Mean**: $\\mu_B=\\frac{1}{m_B} \\sum\\limits_{i=1}^{m_B}X^i$<br><br>\n",
    "\n",
    "2. **Calculate StDev**: $\\sigma_B^2=\\frac{1}{m_B} \\sum\\limits_{i=1}^{m_B}(X^i-\\mu_B)^2$<br><br>\n",
    "\n",
    "3. **Zero Centre**: $X^i=\\frac{X^i-\\mu_B}{\\sqrt{\\sigma_B^2 + \\epsilon}}$<br><br>\n",
    "\n",
    "4. **Scale & Shift**: $Z^i=\\gamma X^i + \\beta$\n",
    "\n",
    "\n",
    "where:\n",
    "- $\\mu_B$ is the empirical mean, evaluated over the entire mini-batch.\n",
    "- $\\sigma_B$ is the empirical standard deviation, also evaluated over the entire mini-batch.\n",
    "- $m_B$ is the number of instances in the mini-batch.\n",
    "- $X^i$ is the zero-centred and normalized input.\n",
    "- $\\gamma$ is the trainable scaling parameter for the layer.\n",
    "- $\\beta$ is the trainable shifting parameter (offset) for the layer.\n",
    "- $\\epsilon$ is a tiny number to avoid division by zero (typically $10^{-3}$). This is called a *smoothing term.*\n",
    "- $Z^i$ is the output of the batch normalization operation: a scaled and shifted version of the inputs.\n",
    "\n",
    "If this process looks familiar, that is because we are simply performing a standard scaling operation that we typically perform on our input data (plus the scaling and shifting component). Essentially we are taking the standard scaling methods we would normally apply to our raw data, and applying it to the inputs at each layer."
   ]
  },
  {
   "cell_type": "markdown",
   "metadata": {
    "colab_type": "text",
    "id": "5Ik1aHVgl9rW"
   },
   "source": [
    "To add batch normalization to our model, all we have to do is add a `tensorflow.keras.layers.BatchNormalization` layer in between our dense layers. Here is the \"init signature\" for the Keras batch normalization layer:\n",
    "\n",
    "    layers.BatchNormalization(\n",
    "        ['axis=-1', 'momentum=0.99', 'epsilon=0.001', 'center=True', 'scale=True', \"beta_initializer='zeros'\", \"gamma_initializer='ones'\", \n",
    "        \"moving_mean_initializer='zeros'\", \"moving_variance_initializer='ones'\", 'beta_regularizer=None', 'gamma_regularizer=None', \n",
    "        'beta_constraint=None', 'gamma_constraint=None', 'renorm=False', 'renorm_clipping=None', 'renorm_momentum=0.99', 'fused=None', \n",
    "        'trainable=True', 'virtual_batch_size=None', 'adjustment=None', 'name=None', '**kwargs'],)\n",
    "\n",
    "The default batch normalization arguments work for most cases &mdash; however, you are encouraged to dig into the documentation for more clarity. For our purposes, it is most important to note that that each batch layer creates 4 new parameters per layer:\n",
    "\n",
    "- Two trainable parameters:\n",
    "    - γ (scale) turned on via the `scale` argument\n",
    "    - β (offset) turned on via the `center` argument\n",
    "- And two non-trainable parameters:\n",
    "    - μ (mean)\n",
    "    - σ (standard deviation)\n",
    "\n",
    "Note that we want to perform batch normalization before the activation function at each layer in order to avoid the vanishing gradient problem. To do so, we have to set the `Dense` layer activation parameter to `None` (which is actually the default parameter), and then explicitly add a `tf.layers.Activation` function after our `BatchNormalization` layer. We implement this structure below."
   ]
  },
  {
   "cell_type": "code",
   "execution_count": 0,
   "metadata": {
    "colab": {
     "base_uri": "https://localhost:8080/",
     "height": 612
    },
    "colab_type": "code",
    "executionInfo": {
     "elapsed": 92084,
     "status": "ok",
     "timestamp": 1563490129277,
     "user": {
      "displayName": "Michael Ciniello",
      "photoUrl": "https://lh4.googleusercontent.com/-Sc81UFAmWWE/AAAAAAAAAAI/AAAAAAAAInI/ccJjIOAmlUo/s64/photo.jpg",
      "userId": "09099206197539783636"
     },
     "user_tz": 240
    },
    "id": "5ZHet4qxl9ra",
    "outputId": "4c5a8acc-f20d-42b4-991d-a239bfdda364"
   },
   "outputs": [
    {
     "name": "stdout",
     "output_type": "stream",
     "text": [
      "Model WITH BatchNorm\n",
      "Model: \"sequential_5\"\n",
      "_________________________________________________________________\n",
      "Layer (type)                 Output Shape              Param #   \n",
      "=================================================================\n",
      "dense_36 (Dense)             (None, 32)                25120     \n",
      "_________________________________________________________________\n",
      "batch_normalization (BatchNo (None, 32)                128       \n",
      "_________________________________________________________________\n",
      "activation (Activation)      (None, 32)                0         \n",
      "_________________________________________________________________\n",
      "dense_37 (Dense)             (None, 32)                1056      \n",
      "_________________________________________________________________\n",
      "batch_normalization_1 (Batch (None, 32)                128       \n",
      "_________________________________________________________________\n",
      "activation_1 (Activation)    (None, 32)                0         \n",
      "_________________________________________________________________\n",
      "dense_38 (Dense)             (None, 32)                1056      \n",
      "_________________________________________________________________\n",
      "batch_normalization_2 (Batch (None, 32)                128       \n",
      "_________________________________________________________________\n",
      "activation_2 (Activation)    (None, 32)                0         \n",
      "_________________________________________________________________\n",
      "dense_39 (Dense)             (None, 32)                1056      \n",
      "_________________________________________________________________\n",
      "batch_normalization_3 (Batch (None, 32)                128       \n",
      "_________________________________________________________________\n",
      "activation_3 (Activation)    (None, 32)                0         \n",
      "_________________________________________________________________\n",
      "dense_40 (Dense)             (None, 10)                330       \n",
      "=================================================================\n",
      "Total params: 29,130\n",
      "Trainable params: 28,874\n",
      "Non-trainable params: 256\n",
      "_________________________________________________________________\n"
     ]
    }
   ],
   "source": [
    "# Initialize simple_model function\n",
    "def simple_model_bn(initializer='he_normal', activation='relu'): # Use relu as base activation function\n",
    "    return tf.keras.Sequential([layers.Dense(32, activation=None, input_shape=(784,), kernel_initializer=initializer),\n",
    "                                layers.BatchNormalization(trainable=True, scale=True, center=True), # Add BatchNorm\n",
    "                                layers.Activation(activation), # Add relu activation layer\n",
    "                                layers.Dense(32, activation=None, kernel_initializer=initializer),\n",
    "                                layers.BatchNormalization(trainable=True, scale=True, center=True), # Add BatchNorm                \n",
    "                                layers.Activation(activation), # Add relu activation layer\n",
    "                                layers.Dense(32, activation=None, kernel_initializer=initializer),\n",
    "                                layers.BatchNormalization(trainable=True, scale=True, center=True), # Add BatchNorm\n",
    "                                layers.Activation(activation), # Add relu activation layer\n",
    "                                layers.Dense(32, activation=None, kernel_initializer=initializer),\n",
    "                                layers.BatchNormalization(trainable=True, scale=True, center=True), # Add BatchNorm\n",
    "                                layers.Activation(activation), # Add relu activation layer\n",
    "                                layers.Dense(10, activation='softmax', kernel_initializer=tf.keras.initializers.glorot_normal())])\n",
    "print(\"Model WITH BatchNorm\")\n",
    "simple_model_bn().summary()"
   ]
  },
  {
   "cell_type": "markdown",
   "metadata": {
    "colab_type": "text",
    "id": "boi9lRczl9rd"
   },
   "source": [
    "As we see above, we have 128 parameters per batch normalization layer (32 neurons $\\cdot$ 4), and only half of those are trainable (hence the 256 non-trainable parameters). It is important to note that the parameters are treated slightly different during training and testing.\n",
    "\n",
    "- **Batch normalization during training**: The training data mean and standard deviation values for each mini-batch are typically calculated efficiently during training using a moving average (this is what the `momentum`, `moving_mean_initializer`, and `moving_variance_initializer` parameters in the `tf.keras.layers.BatchNormalization` function are used for).\n",
    "\n",
    "\n",
    "- **Batch normalization during testing:** There is no mini batch to compute the empirical mean and standard deviation during testing, so instead you simply use the whole training set's mean and standard deviation. That makes sense, as you want to scale and shift the testing data the exact same way you scale and shift the training data."
   ]
  },
  {
   "cell_type": "markdown",
   "metadata": {
    "colab_type": "text",
    "id": "tfIl2BPRl9rd"
   },
   "source": [
    "Batch normalization has been demonstrated to considerably improve the training performance of deep neural networks. Some of the highlights from the research using various model architectures include:\n",
    "\n",
    "- The vanishing gradients problem is strongly reduced, to the point that even saturating activation functions such as the tanh and even the sigmoid activation function could be used in hidden layers\n",
    "\n",
    "\n",
    "- Models become much less sensitive to the weight initialization\n",
    "\n",
    "\n",
    "- Larger learning rates can be used, which can significantly speed up the training process\n",
    "\n",
    "\n",
    "- Batch normalization also acts like a regularizer, reducing the need for other regularization techniques (such as dropout)\n",
    "\n",
    "As we can see from the above implementation, batch normalization can certainly add some complexity to the model, but it also **removes the need for normalizing the input data** since the first hidden layer will take care of that provided it is batch normalized. Moreover, there is a runtime penalty: the neural network makes slower predictions due to the extra computations required at each layer. So, if you need predictions to be lightning-fast, you may want to check how well plain ELU + He initialization performs before playing with batch normalization.\n",
    "\n",
    "Now, let's try to implement batch normalization using a heavily saturating activation function (the sigmoid function, for example), and see how it affects our model accuracy."
   ]
  },
  {
   "cell_type": "code",
   "execution_count": 0,
   "metadata": {
    "colab": {
     "base_uri": "https://localhost:8080/",
     "height": 391
    },
    "colab_type": "code",
    "executionInfo": {
     "elapsed": 11105,
     "status": "ok",
     "timestamp": 1563490158977,
     "user": {
      "displayName": "Michael Ciniello",
      "photoUrl": "https://lh4.googleusercontent.com/-Sc81UFAmWWE/AAAAAAAAAAI/AAAAAAAAInI/ccJjIOAmlUo/s64/photo.jpg",
      "userId": "09099206197539783636"
     },
     "user_tz": 240
    },
    "id": "3s9WYRJKl9re",
    "outputId": "791bd521-da61-4178-b171-82df1c5640db"
   },
   "outputs": [
    {
     "name": "stdout",
     "output_type": "stream",
     "text": [
      "Train on 60000 samples, validate on 10000 samples\n",
      "Epoch 1/10\n",
      "60000/60000 [==============================] - 1s 24us/sample - loss: 2.2933 - acc: 0.1465 - val_loss: 2.2984 - val_acc: 0.2064\n",
      "Epoch 2/10\n",
      "60000/60000 [==============================] - 1s 14us/sample - loss: 1.8694 - acc: 0.3808 - val_loss: 2.2926 - val_acc: 0.2043\n",
      "Epoch 3/10\n",
      "60000/60000 [==============================] - 1s 15us/sample - loss: 1.5731 - acc: 0.5514 - val_loss: 2.2834 - val_acc: 0.2230\n",
      "Epoch 4/10\n",
      "60000/60000 [==============================] - 1s 14us/sample - loss: 1.3540 - acc: 0.6276 - val_loss: 2.2698 - val_acc: 0.2748\n",
      "Epoch 5/10\n",
      "60000/60000 [==============================] - 1s 14us/sample - loss: 1.1969 - acc: 0.6759 - val_loss: 2.2510 - val_acc: 0.3353\n",
      "Epoch 6/10\n",
      "60000/60000 [==============================] - 1s 15us/sample - loss: 1.0764 - acc: 0.7165 - val_loss: 2.2253 - val_acc: 0.4310\n",
      "Epoch 7/10\n",
      "60000/60000 [==============================] - 1s 15us/sample - loss: 0.9796 - acc: 0.7499 - val_loss: 2.1908 - val_acc: 0.4696\n",
      "Epoch 8/10\n",
      "60000/60000 [==============================] - 1s 14us/sample - loss: 0.8987 - acc: 0.7751 - val_loss: 2.1459 - val_acc: 0.4983\n",
      "Epoch 9/10\n",
      "60000/60000 [==============================] - 1s 14us/sample - loss: 0.8294 - acc: 0.7968 - val_loss: 2.0884 - val_acc: 0.5422\n",
      "Epoch 10/10\n",
      "60000/60000 [==============================] - 1s 14us/sample - loss: 0.7711 - acc: 0.8139 - val_loss: 2.0175 - val_acc: 0.5962\n"
     ]
    },
    {
     "data": {
      "text/plain": [
       "<tensorflow.python.keras.callbacks.History at 0x7fa97d072cf8>"
      ]
     },
     "execution_count": 35,
     "metadata": {
      "tags": []
     },
     "output_type": "execute_result"
    }
   ],
   "source": [
    "# Set params\n",
    "init = tf.keras.initializers.random_normal()\n",
    "activate = 'relu'\n",
    "\n",
    "# Run model\n",
    "optimizer = tf.keras.optimizers.SGD(0.01)\n",
    "model_rn = simple_model_bn(init, activate)\n",
    "model_rn.compile(optimizer=optimizer, loss='categorical_crossentropy', metrics=['accuracy'])\n",
    "model_rn.fit(X_train, y_train, epochs=10, batch_size=3200, validation_data=(X_test, y_test))"
   ]
  },
  {
   "cell_type": "markdown",
   "metadata": {
    "colab_type": "text",
    "id": "M17o8iLpl9rg"
   },
   "source": [
    "Interesting! Using `random_normal` initialization and `relu`, we typically only get up to around ~20% accuracy after 10 epochs. However, with our new batch normalization model, we hit ~81%, which is pretty good considering we are using a simple initialization function. "
   ]
  },
  {
   "cell_type": "markdown",
   "metadata": {
    "colab_type": "text",
    "id": "xZu6IKT0l9rh"
   },
   "source": [
    "**Exercise 2**\n",
    "\n",
    "Try playing with the model above, using different activation as well as initialization functions and see how high you can get the 10 epoch accuracy. You could even try opening up the `simple_model_bn` function and tweaking some of the `BatchNormalization` parameters if you like (though the defaults should be fine for this relatively simple model). "
   ]
  },
  {
   "cell_type": "code",
   "execution_count": 0,
   "metadata": {
    "colab": {},
    "colab_type": "code",
    "id": "5rM5QFLoKS9K"
   },
   "outputs": [],
   "source": [
    "# Your work here"
   ]
  },
  {
   "cell_type": "code",
   "execution_count": 0,
   "metadata": {
    "colab": {},
    "colab_type": "code",
    "id": "kwXN9GavKS9M"
   },
   "outputs": [],
   "source": [
    "# Your work here"
   ]
  },
  {
   "cell_type": "code",
   "execution_count": 0,
   "metadata": {
    "colab": {},
    "colab_type": "code",
    "id": "rBvLXJexKS9N"
   },
   "outputs": [],
   "source": [
    "# Your work here"
   ]
  },
  {
   "cell_type": "markdown",
   "metadata": {
    "colab_type": "text",
    "id": "XYWw0E7tl9rh"
   },
   "source": [
    "**Exercise 2 Solution**"
   ]
  },
  {
   "cell_type": "code",
   "execution_count": 0,
   "metadata": {
    "colab": {},
    "colab_type": "code",
    "id": "tcUy5F8ml9ri",
    "outputId": "9e484597-9e7e-4e70-9d00-118d4e79c486"
   },
   "outputs": [
    {
     "name": "stdout",
     "output_type": "stream",
     "text": [
      "Train on 60000 samples, validate on 10000 samples\n",
      "Epoch 1/10\n",
      "60000/60000 [==============================] - 3s 50us/sample - loss: 2.4650 - acc: 0.1286 - val_loss: 2.4624 - val_acc: 0.1760\n",
      "Epoch 2/10\n",
      "60000/60000 [==============================] - 1s 16us/sample - loss: 2.1846 - acc: 0.2370 - val_loss: 2.2383 - val_acc: 0.2411\n",
      "Epoch 3/10\n",
      "60000/60000 [==============================] - 1s 13us/sample - loss: 2.0082 - acc: 0.3154 - val_loss: 2.0699 - val_acc: 0.3198\n",
      "Epoch 4/10\n",
      "60000/60000 [==============================] - 1s 13us/sample - loss: 1.8768 - acc: 0.3825 - val_loss: 1.9282 - val_acc: 0.3982\n",
      "Epoch 5/10\n",
      "60000/60000 [==============================] - 1s 16us/sample - loss: 1.7713 - acc: 0.4405 - val_loss: 1.8072 - val_acc: 0.4579\n",
      "Epoch 6/10\n",
      "60000/60000 [==============================] - 1s 14us/sample - loss: 1.6819 - acc: 0.4881 - val_loss: 1.7033 - val_acc: 0.5075\n",
      "Epoch 7/10\n",
      "60000/60000 [==============================] - 1s 18us/sample - loss: 1.6036 - acc: 0.5264 - val_loss: 1.6131 - val_acc: 0.5480\n",
      "Epoch 8/10\n",
      "60000/60000 [==============================] - 1s 14us/sample - loss: 1.5325 - acc: 0.5595 - val_loss: 1.5335 - val_acc: 0.5803\n",
      "Epoch 9/10\n",
      "60000/60000 [==============================] - 1s 17us/sample - loss: 1.4675 - acc: 0.5891 - val_loss: 1.4617 - val_acc: 0.6065\n",
      "Epoch 10/10\n",
      "60000/60000 [==============================] - 1s 14us/sample - loss: 1.4078 - acc: 0.6147 - val_loss: 1.3964 - val_acc: 0.6292\n"
     ]
    },
    {
     "data": {
      "text/plain": [
       "<tensorflow.python.keras.callbacks.History at 0x1a605e1eb8>"
      ]
     },
     "execution_count": 21,
     "metadata": {
      "tags": []
     },
     "output_type": "execute_result"
    }
   ],
   "source": [
    "# Set params\n",
    "init = tf.keras.initializers.he_normal()\n",
    "activate = 'relu'\n",
    "\n",
    "# Run model\n",
    "optimizer = tf.keras.optimizers.SGD(0.01)\n",
    "model_rn = simple_model_bn(init, activate)\n",
    "model_rn.compile(optimizer=optimizer, loss='categorical_crossentropy', metrics=['accuracy'])\n",
    "model_rn.fit(X_train, y_train, epochs=10, batch_size=3200, validation_data=(X_test, y_test))"
   ]
  },
  {
   "cell_type": "code",
   "execution_count": 0,
   "metadata": {
    "colab": {},
    "colab_type": "code",
    "id": "E4tjHSADl9rj",
    "outputId": "bb8b62da-92df-4947-dbd2-62d6cbf76f4b"
   },
   "outputs": [
    {
     "name": "stdout",
     "output_type": "stream",
     "text": [
      "Train on 60000 samples, validate on 10000 samples\n",
      "Epoch 1/10\n",
      "60000/60000 [==============================] - 3s 51us/sample - loss: 2.5580 - acc: 0.1078 - val_loss: 2.4084 - val_acc: 0.1344\n",
      "Epoch 2/10\n",
      "60000/60000 [==============================] - 1s 13us/sample - loss: 2.2661 - acc: 0.2022 - val_loss: 2.1996 - val_acc: 0.1992\n",
      "Epoch 3/10\n",
      "60000/60000 [==============================] - 1s 13us/sample - loss: 2.0804 - acc: 0.2709 - val_loss: 2.0466 - val_acc: 0.2727\n",
      "Epoch 4/10\n",
      "60000/60000 [==============================] - 1s 17us/sample - loss: 1.9566 - acc: 0.3256 - val_loss: 1.9252 - val_acc: 0.3417\n",
      "Epoch 5/10\n",
      "60000/60000 [==============================] - 1s 14us/sample - loss: 1.8582 - acc: 0.3751 - val_loss: 1.8249 - val_acc: 0.3946\n",
      "Epoch 6/10\n",
      "60000/60000 [==============================] - 1s 17us/sample - loss: 1.7749 - acc: 0.4196 - val_loss: 1.7384 - val_acc: 0.4438\n",
      "Epoch 7/10\n",
      "60000/60000 [==============================] - 1s 14us/sample - loss: 1.6987 - acc: 0.4615 - val_loss: 1.6594 - val_acc: 0.4882\n",
      "Epoch 8/10\n",
      "60000/60000 [==============================] - 1s 17us/sample - loss: 1.6278 - acc: 0.5006 - val_loss: 1.5850 - val_acc: 0.5326\n",
      "Epoch 9/10\n",
      "60000/60000 [==============================] - 1s 14us/sample - loss: 1.5614 - acc: 0.5385 - val_loss: 1.5148 - val_acc: 0.5708\n",
      "Epoch 10/10\n",
      "60000/60000 [==============================] - 1s 18us/sample - loss: 1.4974 - acc: 0.5749 - val_loss: 1.4483 - val_acc: 0.6025\n"
     ]
    },
    {
     "data": {
      "text/plain": [
       "<tensorflow.python.keras.callbacks.History at 0x1a71b1f860>"
      ]
     },
     "execution_count": 22,
     "metadata": {
      "tags": []
     },
     "output_type": "execute_result"
    }
   ],
   "source": [
    "# Set params\n",
    "init = tf.keras.initializers.he_uniform()\n",
    "activate = 'relu'\n",
    "\n",
    "# Run model\n",
    "optimizer = tf.keras.optimizers.SGD(0.01)\n",
    "model_rn = simple_model_bn(init, activate)\n",
    "model_rn.compile(optimizer=optimizer, loss='categorical_crossentropy', metrics=['accuracy'])\n",
    "model_rn.fit(X_train, y_train, epochs=10, batch_size=3200, validation_data=(X_test, y_test))"
   ]
  },
  {
   "cell_type": "markdown",
   "metadata": {
    "colab_type": "text",
    "id": "bWowfZ0BKS9a"
   },
   "source": [
    "**End of Part 1**\n",
    "\n",
    "This notebook makes up one part of this module. Now that you have completed this part, please proceed to the next notebook in this module.\n",
    "\n",
    "If you have any questions, please reach out to your peers using the discussion boards. If you and your peers are unable to come to a suitable conclusion, do not hesitate to reach out to your instructor on the designated discussion board."
   ]
  },
  {
   "cell_type": "markdown",
   "metadata": {},
   "source": [
    "# References\n",
    "\n",
    "- Clevert, D., Unterthiner, T., & Hochreiter, S. (2015). *Fast and Accurate Deep Network Learning by Exponential Linear Unites (ELUs)*. Cornell University. Published as a conference paper at ICLR 2016.\n",
    "\n",
    "\n",
    "- Glorot, X., & Bengio, Y. (2010). Understanding the difficulty of training deep feedforward neural networks in *Volume 9: Proceedings of the Thirteenth International Conference on Artificial Intelligence and Statistics, 13-15 May 2010, Chia Laguna Resort, Sardinia, Italy* http://proceedings.mlr.press/v9/glorot10a/glorot10a.pdf\n",
    "\n",
    "\n",
    "- PMLR. (2010). *Volume 9: Proceedings of the Thirteenth International Conference on Artificial Intelligence and Statistics, 13-15 May 2010, Chia Laguna Resort, Sardinia, Italy.* http://proceedings.mlr.press/v9/"
   ]
  },
  {
   "cell_type": "code",
   "execution_count": 0,
   "metadata": {
    "colab": {},
    "colab_type": "code",
    "id": "qabDriMqKS9b"
   },
   "outputs": [],
   "source": []
  }
 ],
 "metadata": {
  "colab": {
   "collapsed_sections": [],
   "name": "Module11_Part1_edited_by_ML_MC.ipynb",
   "provenance": [],
   "toc_visible": true,
   "version": "0.3.2"
  },
  "kernelspec": {
   "display_name": "Python 3",
   "language": "python",
   "name": "python3"
  },
  "language_info": {
   "codemirror_mode": {
    "name": "ipython",
    "version": 3
   },
   "file_extension": ".py",
   "mimetype": "text/x-python",
   "name": "python",
   "nbconvert_exporter": "python",
   "pygments_lexer": "ipython3",
   "version": "3.8.3"
  }
 },
 "nbformat": 4,
 "nbformat_minor": 1
}
